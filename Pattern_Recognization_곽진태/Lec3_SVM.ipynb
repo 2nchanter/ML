{
  "cells": [
    {
      "cell_type": "markdown",
      "metadata": {
        "id": "_k-bRbF5wmjd"
      },
      "source": [
        "# **Support Vector Machine (SVM)**"
      ]
    },
    {
      "cell_type": "markdown",
      "metadata": {
        "id": "3MIglx9_3Ltr"
      },
      "source": [
        "Import Libraries"
      ]
    },
    {
      "cell_type": "code",
      "execution_count": 1,
      "metadata": {
        "id": "mZF-7e0gYHca"
      },
      "outputs": [],
      "source": [
        "import numpy as np\n",
        "from sklearn import svm\n",
        "import matplotlib.pyplot as plt"
      ]
    },
    {
      "cell_type": "code",
      "execution_count": 2,
      "metadata": {
        "id": "bExXkCVYXhwO"
      },
      "outputs": [
        {
          "data": {
            "image/png": "[encoded data removed]",
            "text/plain": [
              "<Figure size 432x288 with 1 Axes>"
            ]
          },
          "metadata": {
            "needs_background": "light"
          },
          "output_type": "display_data"
        }
      ],
      "source": [
        "data = np.array([[1, -1], [2, -2], [0, 1], [-1, 2]])\n",
        "label = np.array([1, 1, -1, -1])\n",
        "\n",
        "plt.scatter(data[:,0], data[:,1], c=label, s=50, cmap='spring')\n",
        "plt.show()"
      ]
    },
    {
      "cell_type": "code",
      "execution_count": 4,
      "metadata": {
        "id": "aUvIjchxX_yi"
      },
      "outputs": [
        {
          "data": {
            "text/plain": [
              "SVC(kernel='linear')"
            ]
          },
          "execution_count": 4,
          "metadata": {},
          "output_type": "execute_result"
        }
      ],
      "source": [
        "svmmodel = svm.SVC(kernel='linear')\n",
        "svmmodel.fit(data, label)"
      ]
    },
    {
      "cell_type": "code",
      "execution_count": 5,
      "metadata": {
        "id": "Of0f2oX7Ygo-"
      },
      "outputs": [
        {
          "data": {
            "text/plain": [
              "array([2, 0], dtype=int32)"
            ]
          },
          "execution_count": 5,
          "metadata": {},
          "output_type": "execute_result"
        }
      ],
      "source": [
        "svmmodel.support_    # indices of support vectors, 어느 인덱스가 서포트 벡터인지"
      ]
    },
    {
      "cell_type": "code",
      "execution_count": 6,
      "metadata": {
        "id": "Znes4gLWbwyJ"
      },
      "outputs": [
        {
          "data": {
            "text/plain": [
              "array([[ 0.,  1.],\n",
              "       [ 1., -1.]])"
            ]
          },
          "execution_count": 6,
          "metadata": {},
          "output_type": "execute_result"
        }
      ],
      "source": [
        "svmmodel.support_vectors_    # support vectors"
      ]
    },
    {
      "cell_type": "code",
      "execution_count": 7,
      "metadata": {
        "id": "3TP44Y82aALQ"
      },
      "outputs": [
        {
          "data": {
            "text/plain": [
              "array([[ 0.4, -0.8]])"
            ]
          },
          "execution_count": 7,
          "metadata": {},
          "output_type": "execute_result"
        }
      ],
      "source": [
        "svmmodel.coef_    # a weight vector w (size: # of features)"
      ]
    },
    {
      "cell_type": "code",
      "execution_count": 8,
      "metadata": {
        "id": "G_Mq169aaCOp"
      },
      "outputs": [
        {
          "data": {
            "text/plain": [
              "array([-0.2])"
            ]
          },
          "execution_count": 8,
          "metadata": {},
          "output_type": "execute_result"
        }
      ],
      "source": [
        "svmmodel.intercept_    # bias (w0)"
      ]
    },
    {
      "cell_type": "code",
      "execution_count": 9,
      "metadata": {
        "id": "v4IULTDDaIEf"
      },
      "outputs": [
        {
          "name": "stdout",
          "output_type": "stream",
          "text": [
            "(50,)\n",
            "(50,)\n"
          ]
        },
        {
          "data": {
            "image/png": "[encoded data removed]",
            "text/plain": [
              "<Figure size 432x288 with 1 Axes>"
            ]
          },
          "metadata": {
            "needs_background": "light"
          },
          "output_type": "display_data"
        }
      ],
      "source": [
        "w = svmmodel.coef_[0]\n",
        "slope = -w[0] / w[1]\n",
        "margin = 1 / np.sqrt(np.sum(w ** 2))\n",
        "\n",
        "xx = np.linspace(-5,5)\n",
        "yy = slope * xx - svmmodel.intercept_[0] / w[1]        # decisoin boundary\n",
        "yy1 = slope * xx - svmmodel.intercept_[0] / w[1] + margin    # margin\n",
        "yy2 = slope * xx - svmmodel.intercept_[0] / w[1] - margin    # margin\n",
        "\n",
        "print(xx.shape)\n",
        "print(yy.shape)\n",
        "\n",
        "plt.scatter(data[:,0], data[:,1], c=label, s=50, cmap='spring')\n",
        "plt.plot(xx, yy, 'r')\n",
        "plt.plot(xx, yy1, 'r--')\n",
        "plt.plot(xx, yy2, 'r--')\n",
        "plt.show()"
      ]
    },
    {
      "cell_type": "markdown",
      "metadata": {
        "id": "if9MUnMLXd7X"
      },
      "source": [
        "Import Libraries"
      ]
    },
    {
      "cell_type": "code",
      "execution_count": 10,
      "metadata": {
        "id": "UZbZi3wc3RAi"
      },
      "outputs": [],
      "source": [
        "from sklearn import datasets\n",
        "from sklearn import svm\n",
        "from sklearn.model_selection import train_test_split\n",
        "import matplotlib.pyplot as plt"
      ]
    },
    {
      "cell_type": "markdown",
      "metadata": {
        "id": "5cfQ_gpT36uR"
      },
      "source": [
        "Generate some (random) data"
      ]
    },
    {
      "cell_type": "code",
      "execution_count": 11,
      "metadata": {
        "id": "sisrHl7twnlF"
      },
      "outputs": [
        {
          "data": {
            "image/png": "[encoded data removed]",
            "text/plain": [
              "<Figure size 432x288 with 1 Axes>"
            ]
          },
          "metadata": {
            "needs_background": "light"
          },
          "output_type": "display_data"
        }
      ],
      "source": [
        "X, Y = datasets.make_blobs(400, 2, centers=2, random_state=3, cluster_std=1.0)\n",
        "TrainX, TestX, TrainY, TestY = train_test_split(X, Y, test_size=0.3, random_state=0)\n",
        "\n",
        "plt.scatter(TrainX[:,0], TrainX[:,1], c=TrainY, s=50, cmap='spring')\n",
        "plt.show()"
      ]
    },
    {
      "cell_type": "markdown",
      "metadata": {
        "id": "cULytnQXxNab"
      },
      "source": [
        "**Train SVM**"
      ]
    },
    {
      "cell_type": "code",
      "execution_count": 12,
      "metadata": {
        "id": "fIumMW_PxTun"
      },
      "outputs": [
        {
          "data": {
            "text/plain": [
              "SVC(kernel='linear')"
            ]
          },
          "execution_count": 12,
          "metadata": {},
          "output_type": "execute_result"
        }
      ],
      "source": [
        "svmmodel = svm.SVC(kernel='linear')\n",
        "svmmodel.fit(TrainX, TrainY)"
      ]
    },
    {
      "cell_type": "markdown",
      "metadata": {
        "id": "h-hnWfg5zYR7"
      },
      "source": [
        "Let's check out the parameters of SVM"
      ]
    },
    {
      "cell_type": "code",
      "execution_count": 13,
      "metadata": {
        "id": "Ou5fNamYY29s"
      },
      "outputs": [
        {
          "data": {
            "text/plain": [
              "array([187, 223, 171, 190], dtype=int32)"
            ]
          },
          "execution_count": 13,
          "metadata": {},
          "output_type": "execute_result"
        }
      ],
      "source": [
        "svmmodel.support_    # indices of support vectors"
      ]
    },
    {
      "cell_type": "code",
      "execution_count": 14,
      "metadata": {
        "id": "utDZBO7LdOLN"
      },
      "outputs": [
        {
          "data": {
            "text/plain": [
              "array([[-1.66056331,  3.73285585],\n",
              "       [-1.66915063,  4.18137725],\n",
              "       [-2.66398896,  3.53085634],\n",
              "       [-1.87715618,  0.77166551]])"
            ]
          },
          "execution_count": 14,
          "metadata": {},
          "output_type": "execute_result"
        }
      ],
      "source": [
        "svmmodel.support_vectors_    # support vectors"
      ]
    },
    {
      "cell_type": "code",
      "execution_count": 15,
      "metadata": {
        "id": "3BLAjf9GyVgq"
      },
      "outputs": [
        {
          "data": {
            "text/plain": [
              "array([[-1.02307797, -0.52414831]])"
            ]
          },
          "execution_count": 15,
          "metadata": {},
          "output_type": "execute_result"
        }
      ],
      "source": [
        "svmmodel.coef_    # a weight vector w (size: # of features)"
      ]
    },
    {
      "cell_type": "code",
      "execution_count": 16,
      "metadata": {
        "id": "p2MIVEr1xJOD"
      },
      "outputs": [
        {
          "data": {
            "text/plain": [
              "array([-0.51600961])"
            ]
          },
          "execution_count": 16,
          "metadata": {},
          "output_type": "execute_result"
        }
      ],
      "source": [
        "svmmodel.intercept_    # bias (w0)"
      ]
    },
    {
      "cell_type": "code",
      "execution_count": 17,
      "metadata": {
        "id": "XPGiELcvyxHZ"
      },
      "outputs": [
        {
          "name": "stdout",
          "output_type": "stream",
          "text": [
            "(50,)\n",
            "(50,)\n"
          ]
        },
        {
          "data": {
            "image/png": "[encoded data removed]",
            "text/plain": [
              "<Figure size 576x432 with 1 Axes>"
            ]
          },
          "metadata": {
            "needs_background": "light"
          },
          "output_type": "display_data"
        }
      ],
      "source": [
        "w = svmmodel.coef_[0]\n",
        "slope = -w[0] / w[1]\n",
        "margin = 1 / np.sqrt(np.sum(w ** 2))\n",
        "\n",
        "xx = np.linspace(-5,5)\n",
        "yy = slope * xx - svmmodel.intercept_[0] / w[1]        # decisoin boundary\n",
        "yy1 = slope * xx - svmmodel.intercept_[0] / w[1] + margin    # margin\n",
        "yy2 = slope * xx - svmmodel.intercept_[0] / w[1] - margin    # margin\n",
        "\n",
        "print(xx.shape)\n",
        "print(yy.shape)\n",
        "\n",
        "plt.figure(figsize=(8,6))\n",
        "plt.scatter(TrainX[:,0], TrainX[:,1], c=TrainY, s=50, cmap='spring')\n",
        "plt.scatter(TestX[:,0], TestX[:,1], c=TestY, marker='d', s=50, cmap='RdYlBu')\n",
        "plt.plot(xx, yy, 'r')\n",
        "plt.plot(xx, yy1, 'r--')\n",
        "plt.plot(xx, yy2, 'r--')\n",
        "plt.show()"
      ]
    },
    {
      "cell_type": "markdown",
      "metadata": {
        "id": "O2ejMI3px8XA"
      },
      "source": [
        "**Performance Evaluation**"
      ]
    },
    {
      "cell_type": "code",
      "execution_count": 18,
      "metadata": {
        "id": "Upk_thRex_Lt"
      },
      "outputs": [],
      "source": [
        "from sklearn import metrics"
      ]
    },
    {
      "cell_type": "markdown",
      "metadata": {
        "id": "9w8syPGa1RlQ"
      },
      "source": [
        "Accuracy"
      ]
    },
    {
      "cell_type": "code",
      "execution_count": 19,
      "metadata": {
        "id": "FukVNmH3xbeK"
      },
      "outputs": [
        {
          "name": "stdout",
          "output_type": "stream",
          "text": [
            "Training Accuracy :  1.0\n",
            "Test Accuracy :  1.0\n"
          ]
        }
      ],
      "source": [
        "tr_pred = svmmodel.predict(TrainX)\n",
        "tr_acc = metrics.accuracy_score(TrainY, tr_pred)\n",
        "\n",
        "ts_pred = svmmodel.predict(TestX)\n",
        "ts_acc = metrics.accuracy_score(TestY, ts_pred)\n",
        "\n",
        "print('Training Accuracy : ', tr_acc)\n",
        "print('Test Accuracy : ', ts_acc)"
      ]
    },
    {
      "cell_type": "markdown",
      "metadata": {
        "id": "KHZoBW0dKCcr"
      },
      "source": [
        "Confusion Matrix"
      ]
    },
    {
      "cell_type": "code",
      "execution_count": 20,
      "metadata": {
        "id": "x3jBumimJs7B"
      },
      "outputs": [
        {
          "name": "stdout",
          "output_type": "stream",
          "text": [
            "[[141   0]\n",
            " [  0 139]]\n",
            "[[59  0]\n",
            " [ 0 61]]\n"
          ]
        }
      ],
      "source": [
        "tr_cmat = metrics.confusion_matrix(TrainY, tr_pred)\n",
        "print(tr_cmat)\n",
        "\n",
        "ts_cmat = metrics.confusion_matrix(TestY, ts_pred)\n",
        "print(ts_cmat)"
      ]
    },
    {
      "cell_type": "markdown",
      "metadata": {
        "id": "W5jZUibFO6AV"
      },
      "source": [
        "ROC Analysis"
      ]
    },
    {
      "cell_type": "code",
      "execution_count": 21,
      "metadata": {
        "id": "L0pHJRkyazrL"
      },
      "outputs": [],
      "source": [
        "svmmodel = svm.SVC(kernel='linear', probability=True)\n",
        "svmmodel.fit(TrainX, TrainY)\n",
        "\n",
        "tr_score = svmmodel.predict_proba(TrainX)\n",
        "ts_score = svmmodel.predict_proba(TestX)"
      ]
    },
    {
      "cell_type": "code",
      "execution_count": 22,
      "metadata": {
        "id": "kivKb6Z6J0Mq"
      },
      "outputs": [
        {
          "data": {
            "image/png": "[encoded data removed]",
            "text/plain": [
              "<Figure size 432x288 with 1 Axes>"
            ]
          },
          "metadata": {
            "needs_background": "light"
          },
          "output_type": "display_data"
        }
      ],
      "source": [
        "tr_fpr, tr_tpr, tr_th = metrics.roc_curve(TrainY, tr_score[:,1], pos_label=1)\n",
        "ts_fpr, ts_tpr, ts_th = metrics.roc_curve(TestY, ts_score[:,1], pos_label=1)\n",
        "\n",
        "plt.plot(tr_fpr, tr_tpr, 'b:', linewidth=10, label='Train')\n",
        "plt.plot(ts_fpr, ts_tpr, 'r--', linewidth=5, label='Test')\n",
        "plt.xlim([0.0, 1.0])\n",
        "plt.ylim([0.0, 1.0])\n",
        "plt.legend(loc='best')\n",
        "plt.show()"
      ]
    },
    {
      "cell_type": "code",
      "execution_count": 23,
      "metadata": {
        "id": "J6Pw32kKQDD3"
      },
      "outputs": [
        {
          "name": "stdout",
          "output_type": "stream",
          "text": [
            "Training AUC :  1.0\n",
            "Test AUC :  1.0\n"
          ]
        }
      ],
      "source": [
        "tr_auc = metrics.roc_auc_score(TrainY, tr_score[:,1])\n",
        "print('Training AUC : ', tr_auc)\n",
        "\n",
        "ts_auc = metrics.roc_auc_score(TestY, ts_score[:,1])\n",
        "print('Test AUC : ', ts_auc)"
      ]
    },
    {
      "cell_type": "markdown",
      "metadata": {
        "id": "cHAFIK0Cn3Q2"
      },
      "source": [
        "# **Breast Cancer Wisconsin (Diagnostic) Dataset**\n",
        "*   569 instances (212 Malignant, 357 Benign)\n",
        "*   30 numerical features (computed from a digitized image of a breast mass)\n",
        "*   2 classes (Malignant, Benign)\n"
      ]
    },
    {
      "cell_type": "markdown",
      "metadata": {
        "id": "BbN_bZpT4Zhv"
      },
      "source": [
        "Import Libraries"
      ]
    },
    {
      "cell_type": "code",
      "execution_count": 24,
      "metadata": {
        "id": "9Afk-9gTn8kr"
      },
      "outputs": [],
      "source": [
        "from sklearn import datasets\n",
        "from sklearn.model_selection import train_test_split\n",
        "from sklearn import svm\n",
        "from sklearn import metrics\n",
        "import matplotlib.pyplot as plt"
      ]
    },
    {
      "cell_type": "markdown",
      "metadata": {
        "id": "Dfw1yYfkoyVM"
      },
      "source": [
        "**Prepare Data**"
      ]
    },
    {
      "cell_type": "code",
      "execution_count": 25,
      "metadata": {
        "id": "4i1qnWDAo1hV"
      },
      "outputs": [],
      "source": [
        "wisconsin = datasets.load_breast_cancer()\n",
        "TrainX, TestX, TrainY, TestY = train_test_split(wisconsin.data, wisconsin.target, test_size=0.7, random_state=0)"
      ]
    },
    {
      "cell_type": "markdown",
      "metadata": {
        "id": "s5FrakxRo6KC"
      },
      "source": [
        "**Train SVM**"
      ]
    },
    {
      "cell_type": "code",
      "execution_count": 26,
      "metadata": {
        "id": "nZbXbS6HpBag"
      },
      "outputs": [
        {
          "data": {
            "text/plain": [
              "SVC(kernel='linear', probability=True)"
            ]
          },
          "execution_count": 26,
          "metadata": {},
          "output_type": "execute_result"
        }
      ],
      "source": [
        "# svmmodel = svm.SVC(kernel=\"linear\")\n",
        "svmmodel = svm.SVC(kernel=\"linear\", probability=True)\n",
        "svmmodel.fit(TrainX, TrainY)"
      ]
    },
    {
      "cell_type": "markdown",
      "metadata": {
        "id": "Tt4xP2EJpNJb"
      },
      "source": [
        "**Performance Evaluation**"
      ]
    },
    {
      "cell_type": "markdown",
      "metadata": {
        "id": "tADa3oXgkzdD"
      },
      "source": [
        "Accuracy"
      ]
    },
    {
      "cell_type": "code",
      "execution_count": 27,
      "metadata": {
        "id": "0V7yReVlkzdE"
      },
      "outputs": [
        {
          "name": "stdout",
          "output_type": "stream",
          "text": [
            "Training Accuracy :  0.9823529411764705\n",
            "Test Accuracy :  0.9548872180451128\n"
          ]
        }
      ],
      "source": [
        "tr_pred = svmmodel.predict(TrainX)\n",
        "tr_acc = metrics.accuracy_score(TrainY, tr_pred)\n",
        "\n",
        "ts_pred = svmmodel.predict(TestX)\n",
        "ts_acc = metrics.accuracy_score(TestY, ts_pred)\n",
        "\n",
        "print('Training Accuracy : ', tr_acc)\n",
        "print('Test Accuracy : ', ts_acc)"
      ]
    },
    {
      "cell_type": "markdown",
      "metadata": {
        "id": "JRxmOqi7P8B9"
      },
      "source": [
        "Confusion Matrix"
      ]
    },
    {
      "cell_type": "code",
      "execution_count": 28,
      "metadata": {
        "id": "uBzdyo3VP9Pz"
      },
      "outputs": [
        {
          "name": "stdout",
          "output_type": "stream",
          "text": [
            "[[ 64   2]\n",
            " [  1 103]]\n",
            "[[137   9]\n",
            " [  9 244]]\n"
          ]
        }
      ],
      "source": [
        "tr_cmat = metrics.confusion_matrix(TrainY, tr_pred)\n",
        "print(tr_cmat)\n",
        "\n",
        "ts_cmat = metrics.confusion_matrix(TestY, ts_pred)\n",
        "print(ts_cmat)"
      ]
    },
    {
      "cell_type": "markdown",
      "metadata": {
        "id": "9veYhl0yuYA3"
      },
      "source": [
        "ROC Analysis"
      ]
    },
    {
      "cell_type": "code",
      "execution_count": 29,
      "metadata": {
        "id": "giWtPJbypUN7"
      },
      "outputs": [
        {
          "data": {
            "image/png": "[encoded data removed]",
            "text/plain": [
              "<Figure size 432x288 with 1 Axes>"
            ]
          },
          "metadata": {
            "needs_background": "light"
          },
          "output_type": "display_data"
        }
      ],
      "source": [
        "tr_score = svmmodel.predict_proba(TrainX)\n",
        "ts_score = svmmodel.predict_proba(TestX)\n",
        "\n",
        "tr_fpr, tr_tpr, tr_th = metrics.roc_curve(TrainY, tr_score[:,1], pos_label=1)\n",
        "ts_fpr, ts_tpr, ts_th = metrics.roc_curve(TestY, ts_score[:,1], pos_label=1)\n",
        "\n",
        "plt.plot(tr_fpr, tr_tpr, 'b:', linewidth=5, label='Train')\n",
        "plt.plot(ts_fpr, ts_tpr, 'r--', linewidth=5, label='Test')\n",
        "plt.xlim([0.0, 0.3])\n",
        "plt.ylim([0.7, 1.0])\n",
        "plt.legend(loc='best')\n",
        "plt.show()"
      ]
    },
    {
      "cell_type": "code",
      "execution_count": 30,
      "metadata": {
        "id": "hGrsFkJ_ucRV"
      },
      "outputs": [
        {
          "name": "stdout",
          "output_type": "stream",
          "text": [
            "Training AUC :  0.9972319347319347\n",
            "Test AUC :  0.9924468027505551\n"
          ]
        }
      ],
      "source": [
        "tr_auc = metrics.roc_auc_score(TrainY, tr_score[:,1])\n",
        "print('Training AUC : ', tr_auc)\n",
        "\n",
        "ts_auc = metrics.roc_auc_score(TestY, ts_score[:,1])\n",
        "print('Test AUC : ', ts_auc)"
      ]
    },
    {
      "cell_type": "markdown",
      "metadata": {
        "id": "jGLc5QpCXIST"
      },
      "source": [
        "# **Parkinson's Disease Dataset**\n",
        "\n",
        "*   Speech dataset from Parkinson's Disease (PD) patients and healthy subjects\n",
        "*   26 features computed from speech recordings\n",
        "*   Training dataset: 300 instances (150 PD, 150 healthy)\n",
        "*   Test dataset: 300 instances (150 PD, 150 healthy)\n",
        "\n",
        "*   Training dataset: 'PD_train_smalldata.csv'\n",
        "*   Test dataset: 'PD_test_smalldata.csv'\n"
      ]
    },
    {
      "cell_type": "code",
      "execution_count": 31,
      "metadata": {
        "id": "hjVmIndyWj-7"
      },
      "outputs": [],
      "source": [
        "from sklearn import datasets\n",
        "from sklearn import svm\n",
        "from sklearn import metrics\n",
        "import matplotlib.pyplot as plt\n",
        "import numpy as np\n",
        "import pandas as pd"
      ]
    },
    {
      "cell_type": "code",
      "execution_count": null,
      "metadata": {
        "id": "s_lwD4DiWk9W"
      },
      "outputs": [],
      "source": [
        "# from google.colab import drive\n",
        "# drive.mount('/content/gdrive')"
      ]
    },
    {
      "cell_type": "markdown",
      "metadata": {
        "id": "g599UM271McK"
      },
      "source": [
        "Prepare Data"
      ]
    },
    {
      "cell_type": "code",
      "execution_count": 33,
      "metadata": {
        "id": "-6-JXp6xYHJa"
      },
      "outputs": [
        {
          "data": {
            "text/html": [
              "<div>\n",
              "<style scoped>\n",
              "    .dataframe tbody tr th:only-of-type {\n",
              "        vertical-align: middle;\n",
              "    }\n",
              "\n",
              "    .dataframe tbody tr th {\n",
              "        vertical-align: top;\n",
              "    }\n",
              "\n",
              "    .dataframe thead th {\n",
              "        text-align: right;\n",
              "    }\n",
              "</style>\n",
              "<table border=\"1\" class=\"dataframe\">\n",
              "  <thead>\n",
              "    <tr style=\"text-align: right;\">\n",
              "      <th></th>\n",
              "      <th>F1</th>\n",
              "      <th>F2</th>\n",
              "      <th>F3</th>\n",
              "      <th>F4</th>\n",
              "      <th>F5</th>\n",
              "      <th>F6</th>\n",
              "      <th>F7</th>\n",
              "      <th>F8</th>\n",
              "      <th>F9</th>\n",
              "      <th>F10</th>\n",
              "      <th>...</th>\n",
              "      <th>F18</th>\n",
              "      <th>F19</th>\n",
              "      <th>F20</th>\n",
              "      <th>F21</th>\n",
              "      <th>F22</th>\n",
              "      <th>F23</th>\n",
              "      <th>F24</th>\n",
              "      <th>F25</th>\n",
              "      <th>F26</th>\n",
              "      <th>Class</th>\n",
              "    </tr>\n",
              "  </thead>\n",
              "  <tbody>\n",
              "    <tr>\n",
              "      <th>0</th>\n",
              "      <td>1.420</td>\n",
              "      <td>0.000129</td>\n",
              "      <td>0.684</td>\n",
              "      <td>0.579</td>\n",
              "      <td>2.051</td>\n",
              "      <td>14.412</td>\n",
              "      <td>1.248</td>\n",
              "      <td>5.833</td>\n",
              "      <td>6.005</td>\n",
              "      <td>7.968</td>\n",
              "      <td>...</td>\n",
              "      <td>106.450</td>\n",
              "      <td>121.70</td>\n",
              "      <td>37</td>\n",
              "      <td>34</td>\n",
              "      <td>0.009057</td>\n",
              "      <td>0.000280</td>\n",
              "      <td>30.435</td>\n",
              "      <td>2</td>\n",
              "      <td>22.014</td>\n",
              "      <td>0</td>\n",
              "    </tr>\n",
              "    <tr>\n",
              "      <th>1</th>\n",
              "      <td>1.304</td>\n",
              "      <td>0.000065</td>\n",
              "      <td>0.589</td>\n",
              "      <td>0.473</td>\n",
              "      <td>1.766</td>\n",
              "      <td>7.492</td>\n",
              "      <td>0.763</td>\n",
              "      <td>3.021</td>\n",
              "      <td>4.152</td>\n",
              "      <td>7.474</td>\n",
              "      <td>...</td>\n",
              "      <td>172.690</td>\n",
              "      <td>214.28</td>\n",
              "      <td>54</td>\n",
              "      <td>52</td>\n",
              "      <td>0.005004</td>\n",
              "      <td>0.000397</td>\n",
              "      <td>24.390</td>\n",
              "      <td>1</td>\n",
              "      <td>6.745</td>\n",
              "      <td>0</td>\n",
              "    </tr>\n",
              "    <tr>\n",
              "      <th>2</th>\n",
              "      <td>1.749</td>\n",
              "      <td>0.000076</td>\n",
              "      <td>0.721</td>\n",
              "      <td>0.832</td>\n",
              "      <td>2.164</td>\n",
              "      <td>24.909</td>\n",
              "      <td>1.986</td>\n",
              "      <td>13.968</td>\n",
              "      <td>24.141</td>\n",
              "      <td>7.321</td>\n",
              "      <td>...</td>\n",
              "      <td>175.940</td>\n",
              "      <td>400.61</td>\n",
              "      <td>188</td>\n",
              "      <td>171</td>\n",
              "      <td>0.004322</td>\n",
              "      <td>0.001113</td>\n",
              "      <td>38.667</td>\n",
              "      <td>3</td>\n",
              "      <td>30.562</td>\n",
              "      <td>0</td>\n",
              "    </tr>\n",
              "    <tr>\n",
              "      <th>3</th>\n",
              "      <td>1.329</td>\n",
              "      <td>0.000119</td>\n",
              "      <td>0.625</td>\n",
              "      <td>0.842</td>\n",
              "      <td>1.875</td>\n",
              "      <td>11.607</td>\n",
              "      <td>1.105</td>\n",
              "      <td>4.752</td>\n",
              "      <td>7.551</td>\n",
              "      <td>9.709</td>\n",
              "      <td>...</td>\n",
              "      <td>106.010</td>\n",
              "      <td>115.46</td>\n",
              "      <td>54</td>\n",
              "      <td>52</td>\n",
              "      <td>0.008979</td>\n",
              "      <td>0.000222</td>\n",
              "      <td>5.882</td>\n",
              "      <td>1</td>\n",
              "      <td>4.157</td>\n",
              "      <td>0</td>\n",
              "    </tr>\n",
              "    <tr>\n",
              "      <th>4</th>\n",
              "      <td>1.062</td>\n",
              "      <td>0.000054</td>\n",
              "      <td>0.276</td>\n",
              "      <td>0.332</td>\n",
              "      <td>0.827</td>\n",
              "      <td>15.524</td>\n",
              "      <td>1.436</td>\n",
              "      <td>7.513</td>\n",
              "      <td>10.797</td>\n",
              "      <td>22.976</td>\n",
              "      <td>...</td>\n",
              "      <td>157.840</td>\n",
              "      <td>213.64</td>\n",
              "      <td>40</td>\n",
              "      <td>39</td>\n",
              "      <td>0.005117</td>\n",
              "      <td>0.000538</td>\n",
              "      <td>37.500</td>\n",
              "      <td>0</td>\n",
              "      <td>0.000</td>\n",
              "      <td>0</td>\n",
              "    </tr>\n",
              "    <tr>\n",
              "      <th>...</th>\n",
              "      <td>...</td>\n",
              "      <td>...</td>\n",
              "      <td>...</td>\n",
              "      <td>...</td>\n",
              "      <td>...</td>\n",
              "      <td>...</td>\n",
              "      <td>...</td>\n",
              "      <td>...</td>\n",
              "      <td>...</td>\n",
              "      <td>...</td>\n",
              "      <td>...</td>\n",
              "      <td>...</td>\n",
              "      <td>...</td>\n",
              "      <td>...</td>\n",
              "      <td>...</td>\n",
              "      <td>...</td>\n",
              "      <td>...</td>\n",
              "      <td>...</td>\n",
              "      <td>...</td>\n",
              "      <td>...</td>\n",
              "      <td>...</td>\n",
              "    </tr>\n",
              "    <tr>\n",
              "      <th>295</th>\n",
              "      <td>2.312</td>\n",
              "      <td>0.000165</td>\n",
              "      <td>1.034</td>\n",
              "      <td>0.948</td>\n",
              "      <td>3.103</td>\n",
              "      <td>12.389</td>\n",
              "      <td>1.175</td>\n",
              "      <td>5.041</td>\n",
              "      <td>7.285</td>\n",
              "      <td>14.282</td>\n",
              "      <td>...</td>\n",
              "      <td>132.610</td>\n",
              "      <td>159.01</td>\n",
              "      <td>68</td>\n",
              "      <td>66</td>\n",
              "      <td>0.007155</td>\n",
              "      <td>0.000375</td>\n",
              "      <td>37.662</td>\n",
              "      <td>1</td>\n",
              "      <td>7.620</td>\n",
              "      <td>1</td>\n",
              "    </tr>\n",
              "    <tr>\n",
              "      <th>296</th>\n",
              "      <td>3.191</td>\n",
              "      <td>0.000305</td>\n",
              "      <td>1.194</td>\n",
              "      <td>1.175</td>\n",
              "      <td>3.582</td>\n",
              "      <td>13.615</td>\n",
              "      <td>1.282</td>\n",
              "      <td>6.705</td>\n",
              "      <td>7.990</td>\n",
              "      <td>13.992</td>\n",
              "      <td>...</td>\n",
              "      <td>97.607</td>\n",
              "      <td>120.03</td>\n",
              "      <td>37</td>\n",
              "      <td>35</td>\n",
              "      <td>0.009561</td>\n",
              "      <td>0.000874</td>\n",
              "      <td>30.769</td>\n",
              "      <td>1</td>\n",
              "      <td>6.193</td>\n",
              "      <td>1</td>\n",
              "    </tr>\n",
              "    <tr>\n",
              "      <th>297</th>\n",
              "      <td>0.395</td>\n",
              "      <td>0.000034</td>\n",
              "      <td>0.223</td>\n",
              "      <td>0.233</td>\n",
              "      <td>0.669</td>\n",
              "      <td>8.957</td>\n",
              "      <td>0.786</td>\n",
              "      <td>5.278</td>\n",
              "      <td>4.991</td>\n",
              "      <td>6.684</td>\n",
              "      <td>...</td>\n",
              "      <td>115.090</td>\n",
              "      <td>120.44</td>\n",
              "      <td>119</td>\n",
              "      <td>118</td>\n",
              "      <td>0.008493</td>\n",
              "      <td>0.000093</td>\n",
              "      <td>0.000</td>\n",
              "      <td>0</td>\n",
              "      <td>0.000</td>\n",
              "      <td>1</td>\n",
              "    </tr>\n",
              "    <tr>\n",
              "      <th>298</th>\n",
              "      <td>4.238</td>\n",
              "      <td>0.000273</td>\n",
              "      <td>2.022</td>\n",
              "      <td>1.933</td>\n",
              "      <td>6.067</td>\n",
              "      <td>16.509</td>\n",
              "      <td>1.514</td>\n",
              "      <td>6.857</td>\n",
              "      <td>11.132</td>\n",
              "      <td>19.486</td>\n",
              "      <td>...</td>\n",
              "      <td>76.326</td>\n",
              "      <td>209.55</td>\n",
              "      <td>66</td>\n",
              "      <td>65</td>\n",
              "      <td>0.006433</td>\n",
              "      <td>0.002622</td>\n",
              "      <td>21.818</td>\n",
              "      <td>0</td>\n",
              "      <td>0.000</td>\n",
              "      <td>1</td>\n",
              "    </tr>\n",
              "    <tr>\n",
              "      <th>299</th>\n",
              "      <td>1.746</td>\n",
              "      <td>0.000169</td>\n",
              "      <td>0.664</td>\n",
              "      <td>0.938</td>\n",
              "      <td>1.992</td>\n",
              "      <td>12.828</td>\n",
              "      <td>1.266</td>\n",
              "      <td>4.892</td>\n",
              "      <td>7.387</td>\n",
              "      <td>11.653</td>\n",
              "      <td>...</td>\n",
              "      <td>93.994</td>\n",
              "      <td>139.05</td>\n",
              "      <td>45</td>\n",
              "      <td>44</td>\n",
              "      <td>0.009659</td>\n",
              "      <td>0.000697</td>\n",
              "      <td>18.868</td>\n",
              "      <td>0</td>\n",
              "      <td>0.000</td>\n",
              "      <td>1</td>\n",
              "    </tr>\n",
              "  </tbody>\n",
              "</table>\n",
              "<p>300 rows × 27 columns</p>\n",
              "</div>"
            ],
            "text/plain": [
              "        F1        F2     F3     F4     F5      F6     F7      F8      F9  \\\n",
              "0    1.420  0.000129  0.684  0.579  2.051  14.412  1.248   5.833   6.005   \n",
              "1    1.304  0.000065  0.589  0.473  1.766   7.492  0.763   3.021   4.152   \n",
              "2    1.749  0.000076  0.721  0.832  2.164  24.909  1.986  13.968  24.141   \n",
              "3    1.329  0.000119  0.625  0.842  1.875  11.607  1.105   4.752   7.551   \n",
              "4    1.062  0.000054  0.276  0.332  0.827  15.524  1.436   7.513  10.797   \n",
              "..     ...       ...    ...    ...    ...     ...    ...     ...     ...   \n",
              "295  2.312  0.000165  1.034  0.948  3.103  12.389  1.175   5.041   7.285   \n",
              "296  3.191  0.000305  1.194  1.175  3.582  13.615  1.282   6.705   7.990   \n",
              "297  0.395  0.000034  0.223  0.233  0.669   8.957  0.786   5.278   4.991   \n",
              "298  4.238  0.000273  2.022  1.933  6.067  16.509  1.514   6.857  11.132   \n",
              "299  1.746  0.000169  0.664  0.938  1.992  12.828  1.266   4.892   7.387   \n",
              "\n",
              "        F10  ...      F18     F19  F20  F21       F22       F23     F24  F25  \\\n",
              "0     7.968  ...  106.450  121.70   37   34  0.009057  0.000280  30.435    2   \n",
              "1     7.474  ...  172.690  214.28   54   52  0.005004  0.000397  24.390    1   \n",
              "2     7.321  ...  175.940  400.61  188  171  0.004322  0.001113  38.667    3   \n",
              "3     9.709  ...  106.010  115.46   54   52  0.008979  0.000222   5.882    1   \n",
              "4    22.976  ...  157.840  213.64   40   39  0.005117  0.000538  37.500    0   \n",
              "..      ...  ...      ...     ...  ...  ...       ...       ...     ...  ...   \n",
              "295  14.282  ...  132.610  159.01   68   66  0.007155  0.000375  37.662    1   \n",
              "296  13.992  ...   97.607  120.03   37   35  0.009561  0.000874  30.769    1   \n",
              "297   6.684  ...  115.090  120.44  119  118  0.008493  0.000093   0.000    0   \n",
              "298  19.486  ...   76.326  209.55   66   65  0.006433  0.002622  21.818    0   \n",
              "299  11.653  ...   93.994  139.05   45   44  0.009659  0.000697  18.868    0   \n",
              "\n",
              "        F26  Class  \n",
              "0    22.014      0  \n",
              "1     6.745      0  \n",
              "2    30.562      0  \n",
              "3     4.157      0  \n",
              "4     0.000      0  \n",
              "..      ...    ...  \n",
              "295   7.620      1  \n",
              "296   6.193      1  \n",
              "297   0.000      1  \n",
              "298   0.000      1  \n",
              "299   0.000      1  \n",
              "\n",
              "[300 rows x 27 columns]"
            ]
          },
          "execution_count": 33,
          "metadata": {},
          "output_type": "execute_result"
        }
      ],
      "source": [
        "tr_dataset = pd.read_csv(\"./PD_train_smalldata.csv\")\n",
        "tr_dataset"
      ]
    },
    {
      "cell_type": "code",
      "execution_count": 34,
      "metadata": {
        "id": "WHJ23Sx5t1OD"
      },
      "outputs": [
        {
          "data": {
            "text/plain": [
              "150"
            ]
          },
          "execution_count": 34,
          "metadata": {},
          "output_type": "execute_result"
        }
      ],
      "source": [
        "sum(tr_dataset.Class == 0)"
      ]
    },
    {
      "cell_type": "code",
      "execution_count": 35,
      "metadata": {
        "id": "SYu882mIdqYr"
      },
      "outputs": [],
      "source": [
        "TrainX = tr_dataset.iloc[:, :-1]\n",
        "TrainY = tr_dataset.Class"
      ]
    },
    {
      "cell_type": "code",
      "execution_count": 36,
      "metadata": {
        "id": "lXAk_LZ5xz8I"
      },
      "outputs": [],
      "source": [
        "ts_dataset = pd.read_csv(\"./PD_test_smalldata.csv\")\n",
        "ts_dataset\n",
        "\n",
        "TestX = ts_dataset.iloc[:, :-1]\n",
        "TestY = ts_dataset.Class"
      ]
    },
    {
      "cell_type": "markdown",
      "metadata": {
        "id": "2Jegn1fS0wvL"
      },
      "source": [
        "Normalize Data : Rescale the range of the values\n",
        "*   0-1 range : rescale the values between 0 and 1\n",
        ">$x_{new} = \\frac{x-x_{min}}{x_{max}-x_{min}}$"
      ]
    },
    {
      "cell_type": "code",
      "execution_count": 37,
      "metadata": {
        "id": "uQE-lxqv0zYY"
      },
      "outputs": [
        {
          "data": {
            "image/png": "[encoded data removed]",
            "text/plain": [
              "<Figure size 432x288 with 1 Axes>"
            ]
          },
          "metadata": {
            "needs_background": "light"
          },
          "output_type": "display_data"
        }
      ],
      "source": [
        "plt.plot(np.arange(0,26), TrainX.min(), 'b')\n",
        "plt.plot(np.arange(0,26), TrainX.max(), 'r')\n",
        "plt.show()"
      ]
    },
    {
      "cell_type": "code",
      "execution_count": 40,
      "metadata": {
        "id": "pwLzlifRflCR"
      },
      "outputs": [],
      "source": [
        "TrainXmin = TrainX.min()\n",
        "TrainXmax = TrainX.max()\n",
        "\n",
        "TrainX = (TrainX - TrainXmin) / (TrainXmax - TrainXmin)\n",
        "TestX = (TestX - TrainXmin) / (TrainXmax - TrainXmin)"
      ]
    },
    {
      "cell_type": "code",
      "execution_count": 41,
      "metadata": {
        "id": "rhS_4MiQb3uH"
      },
      "outputs": [
        {
          "data": {
            "image/png": "[encoded data removed]",
            "text/plain": [
              "<Figure size 432x288 with 1 Axes>"
            ]
          },
          "metadata": {
            "needs_background": "light"
          },
          "output_type": "display_data"
        }
      ],
      "source": [
        "plt.plot(np.arange(0,26), TrainX.min(), 'b')\n",
        "plt.plot(np.arange(0,26), TrainX.max(), 'r')\n",
        "plt.show()"
      ]
    },
    {
      "cell_type": "markdown",
      "metadata": {
        "id": "elLiZ7Gkk-8V"
      },
      "source": [
        "**Train SVM**"
      ]
    },
    {
      "cell_type": "code",
      "execution_count": 42,
      "metadata": {
        "id": "bHvCZi-ifdvh"
      },
      "outputs": [
        {
          "data": {
            "text/plain": [
              "SVC(kernel='linear', probability=True)"
            ]
          },
          "execution_count": 42,
          "metadata": {},
          "output_type": "execute_result"
        }
      ],
      "source": [
        "svmmodel = svm.SVC(kernel=\"linear\", probability=True)\n",
        "svmmodel.fit(TrainX, TrainY)"
      ]
    },
    {
      "cell_type": "markdown",
      "metadata": {
        "id": "Xb-WAHfUk7vu"
      },
      "source": [
        "**Performance Evaluation**"
      ]
    },
    {
      "cell_type": "markdown",
      "metadata": {
        "id": "qM-gNxn_kwVO"
      },
      "source": [
        "Accuracy"
      ]
    },
    {
      "cell_type": "code",
      "execution_count": 43,
      "metadata": {
        "id": "hRSrYyUgkwVZ"
      },
      "outputs": [
        {
          "name": "stdout",
          "output_type": "stream",
          "text": [
            "Training Accuracy :  0.6833333333333333\n",
            "Test Accuracy :  0.6266666666666667\n"
          ]
        }
      ],
      "source": [
        "tr_pred = svmmodel.predict(TrainX)\n",
        "tr_acc = metrics.accuracy_score(TrainY, tr_pred)\n",
        "\n",
        "ts_pred = svmmodel.predict(TestX)\n",
        "ts_acc = metrics.accuracy_score(TestY, ts_pred)\n",
        "\n",
        "print('Training Accuracy : ', tr_acc)\n",
        "print('Test Accuracy : ', ts_acc)"
      ]
    },
    {
      "cell_type": "markdown",
      "metadata": {
        "id": "GVgs9dIZlCT8"
      },
      "source": [
        "Confusion Matrix"
      ]
    },
    {
      "cell_type": "code",
      "execution_count": 44,
      "metadata": {
        "id": "nsu8AGOjlCT9"
      },
      "outputs": [
        {
          "name": "stdout",
          "output_type": "stream",
          "text": [
            "[[ 99  51]\n",
            " [ 44 106]]\n",
            "[[110  40]\n",
            " [ 72  78]]\n"
          ]
        }
      ],
      "source": [
        "tr_cmat = metrics.confusion_matrix(TrainY, tr_pred)\n",
        "print(tr_cmat)\n",
        "\n",
        "ts_cmat = metrics.confusion_matrix(TestY, ts_pred)\n",
        "print(ts_cmat)"
      ]
    },
    {
      "cell_type": "markdown",
      "metadata": {
        "id": "_30vDtwklIzm"
      },
      "source": [
        "ROC Analysis"
      ]
    },
    {
      "cell_type": "code",
      "execution_count": 45,
      "metadata": {
        "id": "BrJICofnkJBf"
      },
      "outputs": [
        {
          "data": {
            "image/png": "[encoded data removed]",
            "text/plain": [
              "<Figure size 432x288 with 1 Axes>"
            ]
          },
          "metadata": {
            "needs_background": "light"
          },
          "output_type": "display_data"
        }
      ],
      "source": [
        "tr_score = svmmodel.predict_proba(TrainX)\n",
        "ts_score = svmmodel.predict_proba(TestX)\n",
        "\n",
        "tr_fpr, tr_tpr, tr_th = metrics.roc_curve(TrainY, tr_score[:,1], pos_label=1)\n",
        "ts_fpr, ts_tpr, ts_th = metrics.roc_curve(TestY, ts_score[:,1], pos_label=1)\n",
        "\n",
        "plt.plot(tr_fpr, tr_tpr, 'b:', linewidth=5, label='Train')\n",
        "plt.plot(ts_fpr, ts_tpr, 'r--', linewidth=5, label='Test')\n",
        "plt.legend(loc='best')\n",
        "plt.show()"
      ]
    },
    {
      "cell_type": "code",
      "execution_count": 46,
      "metadata": {
        "id": "xUO0Jmq-kJBt"
      },
      "outputs": [
        {
          "name": "stdout",
          "output_type": "stream",
          "text": [
            "Training AUC :  0.7485777777777777\n",
            "Test AUC :  0.6773777777777777\n"
          ]
        }
      ],
      "source": [
        "tr_auc = metrics.roc_auc_score(TrainY, tr_score[:,1])\n",
        "print('Training AUC : ', tr_auc)\n",
        "\n",
        "ts_auc = metrics.roc_auc_score(TestY, ts_score[:,1])\n",
        "print('Test AUC : ', ts_auc)"
      ]
    },
    {
      "cell_type": "code",
      "execution_count": 48,
      "metadata": {
        "id": "BbPm4LpzcA-P"
      },
      "outputs": [],
      "source": [
        "def SVMmodel(TrainX, TrainY, TestX, TestY, kernel=\"rbf\"):\n",
        "  svmmodel = svm.SVC(kernel=kernel, probability=True)\n",
        "  svmmodel.fit(TrainX, TrainY)\n",
        "\n",
        "  tr_pred = svmmodel.predict(TrainX)\n",
        "  tr_acc = metrics.accuracy_score(TrainY, tr_pred)\n",
        "\n",
        "  ts_pred = svmmodel.predict(TestX)\n",
        "  ts_acc = metrics.accuracy_score(TestY, ts_pred)\n",
        "\n",
        "  print('Training Accuracy : ', tr_acc)\n",
        "  print('Test Accuracy : ', ts_acc)\n",
        "\n",
        "  tr_score = svmmodel.predict_proba(TrainX)\n",
        "  ts_score = svmmodel.predict_proba(TestX)\n",
        "\n",
        "  tr_fpr, tr_tpr, tr_th = metrics.roc_curve(TrainY, tr_score[:,1], pos_label=1)\n",
        "  ts_fpr, ts_tpr, ts_th = metrics.roc_curve(TestY, ts_score[:,1], pos_label=1)\n",
        "\n",
        "  plt.plot(tr_fpr, tr_tpr, 'b:', linewidth=5, label='Train')\n",
        "  plt.plot(ts_fpr, ts_tpr, 'r--', linewidth=5, label='Test')\n",
        "  plt.legend(loc='best')\n",
        "  plt.show()\n",
        "\n",
        "  tr_auc = metrics.roc_auc_score(TrainY, tr_score[:,1])\n",
        "  print('Training AUC : ', tr_auc)\n",
        "\n",
        "  ts_auc = metrics.roc_auc_score(TestY, ts_score[:,1])\n",
        "  print('Test AUC : ', ts_auc)\n"
      ]
    },
    {
      "cell_type": "code",
      "execution_count": 49,
      "metadata": {
        "id": "DaFOpvMfcXyV"
      },
      "outputs": [
        {
          "name": "stdout",
          "output_type": "stream",
          "text": [
            "Training Accuracy :  0.6833333333333333\n",
            "Test Accuracy :  0.6266666666666667\n"
          ]
        },
        {
          "data": {
            "image/png": "[encoded data removed]",
            "text/plain": [
              "<Figure size 432x288 with 1 Axes>"
            ]
          },
          "metadata": {
            "needs_background": "light"
          },
          "output_type": "display_data"
        },
        {
          "name": "stdout",
          "output_type": "stream",
          "text": [
            "Training AUC :  0.7485999999999999\n",
            "Test AUC :  0.6774\n"
          ]
        }
      ],
      "source": [
        "SVMmodel(TrainX, TrainY, TestX, TestY, kernel=\"linear\")"
      ]
    },
    {
      "cell_type": "code",
      "execution_count": 50,
      "metadata": {
        "id": "UxswQcpHch5M"
      },
      "outputs": [
        {
          "name": "stdout",
          "output_type": "stream",
          "text": [
            "Training Accuracy :  0.7433333333333333\n",
            "Test Accuracy :  0.6833333333333333\n"
          ]
        },
        {
          "data": {
            "image/png": "[encoded data removed]",
            "text/plain": [
              "<Figure size 432x288 with 1 Axes>"
            ]
          },
          "metadata": {
            "needs_background": "light"
          },
          "output_type": "display_data"
        },
        {
          "name": "stdout",
          "output_type": "stream",
          "text": [
            "Training AUC :  0.8215111111111111\n",
            "Test AUC :  0.7221555555555556\n"
          ]
        }
      ],
      "source": [
        "SVMmodel(TrainX, TrainY, TestX, TestY, kernel=\"rbf\")\n"
      ]
    },
    {
      "cell_type": "code",
      "execution_count": 53,
      "metadata": {
        "id": "qNwYnUrSc7rM"
      },
      "outputs": [
        {
          "name": "stdout",
          "output_type": "stream",
          "text": [
            "Training Accuracy :  0.77\n",
            "Test Accuracy :  0.7133333333333334\n"
          ]
        },
        {
          "data": {
            "image/png": "[encoded data removed]",
            "text/plain": [
              "<Figure size 432x288 with 1 Axes>"
            ]
          },
          "metadata": {
            "needs_background": "light"
          },
          "output_type": "display_data"
        },
        {
          "name": "stdout",
          "output_type": "stream",
          "text": [
            "Training AUC :  0.8762666666666666\n",
            "Test AUC :  0.7736444444444444\n"
          ]
        }
      ],
      "source": [
        "SVMmodel(TrainX, TrainY, TestX, TestY, kernel=\"poly\")"
      ]
    }
  ],
  "metadata": {
    "colab": {
      "collapsed_sections": [],
      "name": "SVM.ipynb",
      "provenance": []
    },
    "interpreter": {
      "hash": "53e118947077c4ac14cd9b5bd8ffefe9287941f870ede6c6d93932b2f5dedd6a"
    },
    "kernelspec": {
      "display_name": "Python 3.7.0 64-bit ('test1': conda)",
      "name": "python3"
    },
    "language_info": {
      "codemirror_mode": {
        "name": "ipython",
        "version": 3
      },
      "file_extension": ".py",
      "mimetype": "text/x-python",
      "name": "python",
      "nbconvert_exporter": "python",
      "pygments_lexer": "ipython3",
      "version": "3.7.0"
    }
  },
  "nbformat": 4,
  "nbformat_minor": 2
}
