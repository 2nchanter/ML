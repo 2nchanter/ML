{
  "cells": [
    {
      "cell_type": "markdown",
      "metadata": {
        "id": "_k-bRbF5wmjd"
      },
      "source": [
        "# **Support Vector Machine (SVM)**"
      ]
    },
    {
      "cell_type": "markdown",
      "metadata": {
        "id": "3MIglx9_3Ltr"
      },
      "source": [
        "Import Libraries"
      ]
    },
    {
      "cell_type": "code",
      "execution_count": null,
      "metadata": {
        "id": "mZF-7e0gYHca"
      },
      "outputs": [],
      "source": [
        "import numpy as np\n",
        "from sklearn import svm\n",
        "import matplotlib.pyplot as plt"
      ]
    },
    {
      "cell_type": "code",
      "execution_count": null,
      "metadata": {
        "id": "bExXkCVYXhwO"
      },
      "outputs": [],
      "source": [
        "data = np.array([[1, -1], [2, -2], [0, 1], [-1, 2]])\n",
        "label = np.array([1, 1, -1, -1])\n",
        "\n",
        "plt.scatter(data[:,0], data[:,1], c=label, s=50, cmap='spring')\n",
        "plt.show()"
      ]
    },
    {
      "cell_type": "code",
      "execution_count": null,
      "metadata": {
        "id": "aUvIjchxX_yi"
      },
      "outputs": [],
      "source": [
        "svmmodel = svm.SVC(kernel='linear')\n",
        "svmmodel.fit(data, label)"
      ]
    },
    {
      "cell_type": "code",
      "execution_count": null,
      "metadata": {
        "id": "Of0f2oX7Ygo-"
      },
      "outputs": [],
      "source": [
        "svmmodel.support_    # indices of support vectors, 어느 인덱스가 서포트 벡터인지"
      ]
    },
    {
      "cell_type": "code",
      "execution_count": null,
      "metadata": {
        "id": "Znes4gLWbwyJ"
      },
      "outputs": [],
      "source": [
        "svmmodel.support_vectors_    # support vectors"
      ]
    },
    {
      "cell_type": "code",
      "execution_count": null,
      "metadata": {
        "id": "3TP44Y82aALQ"
      },
      "outputs": [],
      "source": [
        "svmmodel.coef_    # a weight vector w (size: # of features)"
      ]
    },
    {
      "cell_type": "code",
      "execution_count": null,
      "metadata": {
        "id": "G_Mq169aaCOp"
      },
      "outputs": [],
      "source": [
        "svmmodel.intercept_    # bias (w0)"
      ]
    },
    {
      "cell_type": "code",
      "execution_count": null,
      "metadata": {
        "id": "v4IULTDDaIEf"
      },
      "outputs": [],
      "source": [
        "w = svmmodel.coef_[0]\n",
        "slope = -w[0] / w[1]\n",
        "margin = 1 / np.sqrt(np.sum(w ** 2))\n",
        "\n",
        "xx = np.linspace(-5,5)\n",
        "yy = slope * xx - svmmodel.intercept_[0] / w[1]        # decisoin boundary\n",
        "yy1 = slope * xx - svmmodel.intercept_[0] / w[1] + margin    # margin\n",
        "yy2 = slope * xx - svmmodel.intercept_[0] / w[1] - margin    # margin\n",
        "\n",
        "print(xx.shape)\n",
        "print(yy.shape)\n",
        "\n",
        "plt.scatter(data[:,0], data[:,1], c=label, s=50, cmap='spring')\n",
        "plt.plot(xx, yy, 'r')\n",
        "plt.plot(xx, yy1, 'r--')\n",
        "plt.plot(xx, yy2, 'r--')\n",
        "plt.show()"
      ]
    },
    {
      "cell_type": "markdown",
      "metadata": {
        "id": "if9MUnMLXd7X"
      },
      "source": [
        "Import Libraries"
      ]
    },
    {
      "cell_type": "code",
      "execution_count": null,
      "metadata": {
        "id": "UZbZi3wc3RAi"
      },
      "outputs": [],
      "source": [
        "from sklearn import datasets\n",
        "from sklearn import svm\n",
        "from sklearn.model_selection import train_test_split\n",
        "import matplotlib.pyplot as plt"
      ]
    },
    {
      "cell_type": "markdown",
      "metadata": {
        "id": "5cfQ_gpT36uR"
      },
      "source": [
        "Generate some (random) data"
      ]
    },
    {
      "cell_type": "code",
      "execution_count": null,
      "metadata": {
        "id": "sisrHl7twnlF"
      },
      "outputs": [],
      "source": [
        "X, Y = datasets.make_blobs(400, 2, centers=2, random_state=3, cluster_std=1.0)\n",
        "TrainX, TestX, TrainY, TestY = train_test_split(X, Y, test_size=0.3, random_state=0)\n",
        "\n",
        "plt.scatter(TrainX[:,0], TrainX[:,1], c=TrainY, s=50, cmap='spring')\n",
        "plt.show()"
      ]
    },
    {
      "cell_type": "markdown",
      "metadata": {
        "id": "cULytnQXxNab"
      },
      "source": [
        "**Train SVM**"
      ]
    },
    {
      "cell_type": "code",
      "execution_count": null,
      "metadata": {
        "id": "fIumMW_PxTun"
      },
      "outputs": [],
      "source": [
        "svmmodel = svm.SVC(kernel='linear')\n",
        "svmmodel.fit(TrainX, TrainY)"
      ]
    },
    {
      "cell_type": "markdown",
      "metadata": {
        "id": "h-hnWfg5zYR7"
      },
      "source": [
        "Let's check out the parameters of SVM"
      ]
    },
    {
      "cell_type": "code",
      "execution_count": null,
      "metadata": {
        "id": "Ou5fNamYY29s"
      },
      "outputs": [],
      "source": [
        "svmmodel.support_    # indices of support vectors"
      ]
    },
    {
      "cell_type": "code",
      "execution_count": null,
      "metadata": {
        "id": "utDZBO7LdOLN"
      },
      "outputs": [],
      "source": [
        "svmmodel.support_vectors_    # support vectors"
      ]
    },
    {
      "cell_type": "code",
      "execution_count": null,
      "metadata": {
        "id": "3BLAjf9GyVgq"
      },
      "outputs": [],
      "source": [
        "svmmodel.coef_    # a weight vector w (size: # of features)"
      ]
    },
    {
      "cell_type": "code",
      "execution_count": null,
      "metadata": {
        "id": "p2MIVEr1xJOD"
      },
      "outputs": [],
      "source": [
        "svmmodel.intercept_    # bias (w0)"
      ]
    },
    {
      "cell_type": "code",
      "execution_count": null,
      "metadata": {
        "id": "XPGiELcvyxHZ"
      },
      "outputs": [],
      "source": [
        "w = svmmodel.coef_[0]\n",
        "slope = -w[0] / w[1]\n",
        "margin = 1 / np.sqrt(np.sum(w ** 2))\n",
        "\n",
        "xx = np.linspace(-5,5)\n",
        "yy = slope * xx - svmmodel.intercept_[0] / w[1]        # decisoin boundary\n",
        "yy1 = slope * xx - svmmodel.intercept_[0] / w[1] + margin    # margin\n",
        "yy2 = slope * xx - svmmodel.intercept_[0] / w[1] - margin    # margin\n",
        "\n",
        "print(xx.shape)\n",
        "print(yy.shape)\n",
        "\n",
        "plt.figure(figsize=(8,6))\n",
        "plt.scatter(TrainX[:,0], TrainX[:,1], c=TrainY, s=50, cmap='spring')\n",
        "plt.scatter(TestX[:,0], TestX[:,1], c=TestY, marker='d', s=50, cmap='RdYlBu')\n",
        "plt.plot(xx, yy, 'r')\n",
        "plt.plot(xx, yy1, 'r--')\n",
        "plt.plot(xx, yy2, 'r--')\n",
        "plt.show()"
      ]
    },
    {
      "cell_type": "markdown",
      "metadata": {
        "id": "O2ejMI3px8XA"
      },
      "source": [
        "**Performance Evaluation**"
      ]
    },
    {
      "cell_type": "code",
      "execution_count": null,
      "metadata": {
        "id": "Upk_thRex_Lt"
      },
      "outputs": [],
      "source": [
        "from sklearn import metrics"
      ]
    },
    {
      "cell_type": "markdown",
      "metadata": {
        "id": "9w8syPGa1RlQ"
      },
      "source": [
        "Accuracy"
      ]
    },
    {
      "cell_type": "code",
      "execution_count": null,
      "metadata": {
        "id": "FukVNmH3xbeK"
      },
      "outputs": [],
      "source": [
        "tr_pred = svmmodel.predict(TrainX)\n",
        "tr_acc = metrics.accuracy_score(TrainY, tr_pred)\n",
        "\n",
        "ts_pred = svmmodel.predict(TestX)\n",
        "ts_acc = metrics.accuracy_score(TestY, ts_pred)\n",
        "\n",
        "print('Training Accuracy : ', tr_acc)\n",
        "print('Test Accuracy : ', ts_acc)"
      ]
    },
    {
      "cell_type": "markdown",
      "metadata": {
        "id": "KHZoBW0dKCcr"
      },
      "source": [
        "Confusion Matrix"
      ]
    },
    {
      "cell_type": "code",
      "execution_count": null,
      "metadata": {
        "id": "x3jBumimJs7B"
      },
      "outputs": [],
      "source": [
        "tr_cmat = metrics.confusion_matrix(TrainY, tr_pred)\n",
        "print(tr_cmat)\n",
        "\n",
        "ts_cmat = metrics.confusion_matrix(TestY, ts_pred)\n",
        "print(ts_cmat)"
      ]
    },
    {
      "cell_type": "markdown",
      "metadata": {
        "id": "W5jZUibFO6AV"
      },
      "source": [
        "ROC Analysis"
      ]
    },
    {
      "cell_type": "code",
      "execution_count": null,
      "metadata": {
        "id": "L0pHJRkyazrL"
      },
      "outputs": [],
      "source": [
        "svmmodel = svm.SVC(kernel='linear', probability=True)\n",
        "svmmodel.fit(TrainX, TrainY)\n",
        "\n",
        "tr_score = svmmodel.predict_proba(TrainX)\n",
        "ts_score = svmmodel.predict_proba(TestX)"
      ]
    },
    {
      "cell_type": "code",
      "execution_count": null,
      "metadata": {
        "id": "kivKb6Z6J0Mq"
      },
      "outputs": [],
      "source": [
        "tr_fpr, tr_tpr, tr_th = metrics.roc_curve(TrainY, tr_score[:,1], pos_label=1)\n",
        "ts_fpr, ts_tpr, ts_th = metrics.roc_curve(TestY, ts_score[:,1], pos_label=1)\n",
        "\n",
        "plt.plot(tr_fpr, tr_tpr, 'b:', linewidth=10, label='Train')\n",
        "plt.plot(ts_fpr, ts_tpr, 'r--', linewidth=5, label='Test')\n",
        "plt.xlim([0.0, 1.0])\n",
        "plt.ylim([0.0, 1.0])\n",
        "plt.legend(loc='best')\n",
        "plt.show()"
      ]
    },
    {
      "cell_type": "code",
      "execution_count": null,
      "metadata": {
        "id": "J6Pw32kKQDD3"
      },
      "outputs": [],
      "source": [
        "tr_auc = metrics.roc_auc_score(TrainY, tr_score[:,1])\n",
        "print('Training AUC : ', tr_auc)\n",
        "\n",
        "ts_auc = metrics.roc_auc_score(TestY, ts_score[:,1])\n",
        "print('Test AUC : ', ts_auc)"
      ]
    },
    {
      "cell_type": "markdown",
      "metadata": {
        "id": "cHAFIK0Cn3Q2"
      },
      "source": [
        "# **Breast Cancer Wisconsin (Diagnostic) Dataset**\n",
        "*   569 instances (212 Malignant, 357 Benign)\n",
        "*   30 numerical features (computed from a digitized image of a breast mass)\n",
        "*   2 classes (Malignant, Benign)\n"
      ]
    },
    {
      "cell_type": "markdown",
      "metadata": {
        "id": "BbN_bZpT4Zhv"
      },
      "source": [
        "Import Libraries"
      ]
    },
    {
      "cell_type": "code",
      "execution_count": null,
      "metadata": {
        "id": "9Afk-9gTn8kr"
      },
      "outputs": [],
      "source": [
        "from sklearn import datasets\n",
        "from sklearn.model_selection import train_test_split\n",
        "from sklearn import svm\n",
        "from sklearn import metrics\n",
        "import matplotlib.pyplot as plt"
      ]
    },
    {
      "cell_type": "markdown",
      "metadata": {
        "id": "Dfw1yYfkoyVM"
      },
      "source": [
        "**Prepare Data**"
      ]
    },
    {
      "cell_type": "code",
      "execution_count": null,
      "metadata": {
        "id": "4i1qnWDAo1hV"
      },
      "outputs": [],
      "source": [
        "wisconsin = datasets.load_breast_cancer()\n",
        "TrainX, TestX, TrainY, TestY = train_test_split(wisconsin.data, wisconsin.target, test_size=0.7, random_state=0)"
      ]
    },
    {
      "cell_type": "markdown",
      "metadata": {
        "id": "s5FrakxRo6KC"
      },
      "source": [
        "**Train SVM**"
      ]
    },
    {
      "cell_type": "code",
      "execution_count": null,
      "metadata": {
        "id": "nZbXbS6HpBag"
      },
      "outputs": [],
      "source": [
        "# svmmodel = svm.SVC(kernel=\"linear\")\n",
        "svmmodel = svm.SVC(kernel=\"linear\", probability=True)\n",
        "svmmodel.fit(TrainX, TrainY)"
      ]
    },
    {
      "cell_type": "markdown",
      "metadata": {
        "id": "Tt4xP2EJpNJb"
      },
      "source": [
        "**Performance Evaluation**"
      ]
    },
    {
      "cell_type": "markdown",
      "metadata": {
        "id": "tADa3oXgkzdD"
      },
      "source": [
        "Accuracy"
      ]
    },
    {
      "cell_type": "code",
      "execution_count": null,
      "metadata": {
        "id": "0V7yReVlkzdE"
      },
      "outputs": [],
      "source": [
        "tr_pred = svmmodel.predict(TrainX)\n",
        "tr_acc = metrics.accuracy_score(TrainY, tr_pred)\n",
        "\n",
        "ts_pred = svmmodel.predict(TestX)\n",
        "ts_acc = metrics.accuracy_score(TestY, ts_pred)\n",
        "\n",
        "print('Training Accuracy : ', tr_acc)\n",
        "print('Test Accuracy : ', ts_acc)"
      ]
    },
    {
      "cell_type": "markdown",
      "metadata": {
        "id": "JRxmOqi7P8B9"
      },
      "source": [
        "Confusion Matrix"
      ]
    },
    {
      "cell_type": "code",
      "execution_count": null,
      "metadata": {
        "id": "uBzdyo3VP9Pz"
      },
      "outputs": [],
      "source": [
        "tr_cmat = metrics.confusion_matrix(TrainY, tr_pred)\n",
        "print(tr_cmat)\n",
        "\n",
        "ts_cmat = metrics.confusion_matrix(TestY, ts_pred)\n",
        "print(ts_cmat)"
      ]
    },
    {
      "cell_type": "markdown",
      "metadata": {
        "id": "9veYhl0yuYA3"
      },
      "source": [
        "ROC Analysis"
      ]
    },
    {
      "cell_type": "code",
      "execution_count": null,
      "metadata": {
        "id": "giWtPJbypUN7"
      },
      "outputs": [],
      "source": [
        "tr_score = svmmodel.predict_proba(TrainX)\n",
        "ts_score = svmmodel.predict_proba(TestX)\n",
        "\n",
        "tr_fpr, tr_tpr, tr_th = metrics.roc_curve(TrainY, tr_score[:,1], pos_label=1)\n",
        "ts_fpr, ts_tpr, ts_th = metrics.roc_curve(TestY, ts_score[:,1], pos_label=1)\n",
        "\n",
        "plt.plot(tr_fpr, tr_tpr, 'b:', linewidth=5, label='Train')\n",
        "plt.plot(ts_fpr, ts_tpr, 'r--', linewidth=5, label='Test')\n",
        "plt.xlim([0.0, 0.3])\n",
        "plt.ylim([0.7, 1.0])\n",
        "plt.legend(loc='best')\n",
        "plt.show()"
      ]
    },
    {
      "cell_type": "code",
      "execution_count": null,
      "metadata": {
        "id": "hGrsFkJ_ucRV"
      },
      "outputs": [],
      "source": [
        "tr_auc = metrics.roc_auc_score(TrainY, tr_score[:,1])\n",
        "print('Training AUC : ', tr_auc)\n",
        "\n",
        "ts_auc = metrics.roc_auc_score(TestY, ts_score[:,1])\n",
        "print('Test AUC : ', ts_auc)"
      ]
    },
    {
      "cell_type": "markdown",
      "metadata": {
        "id": "jGLc5QpCXIST"
      },
      "source": [
        "# **Parkinson's Disease Dataset**\n",
        "\n",
        "*   Speech dataset from Parkinson's Disease (PD) patients and healthy subjects\n",
        "*   26 features computed from speech recordings\n",
        "*   Training dataset: 300 instances (150 PD, 150 healthy)\n",
        "*   Test dataset: 300 instances (150 PD, 150 healthy)\n",
        "\n",
        "*   Training dataset: 'PD_train_smalldata.csv'\n",
        "*   Test dataset: 'PD_test_smalldata.csv'\n"
      ]
    },
    {
      "cell_type": "code",
      "execution_count": null,
      "metadata": {
        "id": "hjVmIndyWj-7"
      },
      "outputs": [],
      "source": [
        "from sklearn import datasets\n",
        "from sklearn import svm\n",
        "from sklearn import metrics\n",
        "import matplotlib.pyplot as plt\n",
        "import numpy as np\n",
        "import pandas as pd"
      ]
    },
    {
      "cell_type": "code",
      "execution_count": null,
      "metadata": {
        "id": "s_lwD4DiWk9W"
      },
      "outputs": [],
      "source": [
        "# from google.colab import drive\n",
        "# drive.mount('/content/gdrive')"
      ]
    },
    {
      "cell_type": "markdown",
      "metadata": {
        "id": "g599UM271McK"
      },
      "source": [
        "Prepare Data"
      ]
    },
    {
      "cell_type": "code",
      "execution_count": null,
      "metadata": {
        "id": "-6-JXp6xYHJa"
      },
      "outputs": [],
      "source": [
        "tr_dataset = pd.read_csv(\"./PD_train_smalldata.csv\")\n",
        "tr_dataset"
      ]
    },
    {
      "cell_type": "code",
      "execution_count": null,
      "metadata": {
        "id": "WHJ23Sx5t1OD"
      },
      "outputs": [],
      "source": [
        "sum(tr_dataset.Class == 0)"
      ]
    },
    {
      "cell_type": "code",
      "execution_count": null,
      "metadata": {
        "id": "SYu882mIdqYr"
      },
      "outputs": [],
      "source": [
        "TrainX = tr_dataset.iloc[:, :-1]\n",
        "TrainY = tr_dataset.Class"
      ]
    },
    {
      "cell_type": "code",
      "execution_count": null,
      "metadata": {
        "id": "lXAk_LZ5xz8I"
      },
      "outputs": [],
      "source": [
        "ts_dataset = pd.read_csv(\"./PD_test_smalldata.csv\")\n",
        "ts_dataset\n",
        "\n",
        "TestX = ts_dataset.iloc[:, :-1]\n",
        "TestY = ts_dataset.Class"
      ]
    },
    {
      "cell_type": "markdown",
      "metadata": {
        "id": "2Jegn1fS0wvL"
      },
      "source": [
        "Normalize Data : Rescale the range of the values\n",
        "*   0-1 range : rescale the values between 0 and 1\n",
        ">$x_{new} = \\frac{x-x_{min}}{x_{max}-x_{min}}$"
      ]
    },
    {
      "cell_type": "code",
      "execution_count": null,
      "metadata": {
        "id": "uQE-lxqv0zYY"
      },
      "outputs": [],
      "source": [
        "plt.plot(np.arange(0,26), TrainX.min(), 'b')\n",
        "plt.plot(np.arange(0,26), TrainX.max(), 'r')\n",
        "plt.show()"
      ]
    },
    {
      "cell_type": "code",
      "execution_count": null,
      "metadata": {
        "id": "pwLzlifRflCR"
      },
      "outputs": [],
      "source": [
        "TrainXmin = TrainX.min()\n",
        "TrainXmax = TrainX.max()\n",
        "\n",
        "TrainX = (TrainX - TrainXmin) / (TrainXmax - TrainXmin)\n",
        "TestX = (TestX - TrainXmin) / (TrainXmax - TrainXmin)"
      ]
    },
    {
      "cell_type": "code",
      "execution_count": null,
      "metadata": {
        "id": "rhS_4MiQb3uH"
      },
      "outputs": [],
      "source": [
        "plt.plot(np.arange(0,26), TrainX.min(), 'b')\n",
        "plt.plot(np.arange(0,26), TrainX.max(), 'r')\n",
        "plt.show()"
      ]
    },
    {
      "cell_type": "markdown",
      "metadata": {
        "id": "elLiZ7Gkk-8V"
      },
      "source": [
        "**Train SVM**"
      ]
    },
    {
      "cell_type": "code",
      "execution_count": null,
      "metadata": {
        "id": "bHvCZi-ifdvh"
      },
      "outputs": [],
      "source": [
        "svmmodel = svm.SVC(kernel=\"linear\", probability=True)\n",
        "svmmodel.fit(TrainX, TrainY)"
      ]
    },
    {
      "cell_type": "markdown",
      "metadata": {
        "id": "Xb-WAHfUk7vu"
      },
      "source": [
        "**Performance Evaluation**"
      ]
    },
    {
      "cell_type": "markdown",
      "metadata": {
        "id": "qM-gNxn_kwVO"
      },
      "source": [
        "Accuracy"
      ]
    },
    {
      "cell_type": "code",
      "execution_count": null,
      "metadata": {
        "id": "hRSrYyUgkwVZ"
      },
      "outputs": [],
      "source": [
        "tr_pred = svmmodel.predict(TrainX)\n",
        "tr_acc = metrics.accuracy_score(TrainY, tr_pred)\n",
        "\n",
        "ts_pred = svmmodel.predict(TestX)\n",
        "ts_acc = metrics.accuracy_score(TestY, ts_pred)\n",
        "\n",
        "print('Training Accuracy : ', tr_acc)\n",
        "print('Test Accuracy : ', ts_acc)"
      ]
    },
    {
      "cell_type": "markdown",
      "metadata": {
        "id": "GVgs9dIZlCT8"
      },
      "source": [
        "Confusion Matrix"
      ]
    },
    {
      "cell_type": "code",
      "execution_count": null,
      "metadata": {
        "id": "nsu8AGOjlCT9"
      },
      "outputs": [],
      "source": [
        "tr_cmat = metrics.confusion_matrix(TrainY, tr_pred)\n",
        "print(tr_cmat)\n",
        "\n",
        "ts_cmat = metrics.confusion_matrix(TestY, ts_pred)\n",
        "print(ts_cmat)"
      ]
    },
    {
      "cell_type": "markdown",
      "metadata": {
        "id": "_30vDtwklIzm"
      },
      "source": [
        "ROC Analysis"
      ]
    },
    {
      "cell_type": "code",
      "execution_count": null,
      "metadata": {
        "id": "BrJICofnkJBf"
      },
      "outputs": [],
      "source": [
        "tr_score = svmmodel.predict_proba(TrainX)\n",
        "ts_score = svmmodel.predict_proba(TestX)\n",
        "\n",
        "tr_fpr, tr_tpr, tr_th = metrics.roc_curve(TrainY, tr_score[:,1], pos_label=1)\n",
        "ts_fpr, ts_tpr, ts_th = metrics.roc_curve(TestY, ts_score[:,1], pos_label=1)\n",
        "\n",
        "plt.plot(tr_fpr, tr_tpr, 'b:', linewidth=5, label='Train')\n",
        "plt.plot(ts_fpr, ts_tpr, 'r--', linewidth=5, label='Test')\n",
        "plt.legend(loc='best')\n",
        "plt.show()"
      ]
    },
    {
      "cell_type": "code",
      "execution_count": null,
      "metadata": {
        "id": "xUO0Jmq-kJBt"
      },
      "outputs": [],
      "source": [
        "tr_auc = metrics.roc_auc_score(TrainY, tr_score[:,1])\n",
        "print('Training AUC : ', tr_auc)\n",
        "\n",
        "ts_auc = metrics.roc_auc_score(TestY, ts_score[:,1])\n",
        "print('Test AUC : ', ts_auc)"
      ]
    },
    {
      "cell_type": "code",
      "execution_count": null,
      "metadata": {
        "id": "BbPm4LpzcA-P"
      },
      "outputs": [],
      "source": [
        "def SVMmodel(TrainX, TrainY, TestX, TestY, kernel=\"rbf\"):\n",
        "  svmmodel = svm.SVC(kernel=kernel, probability=True)\n",
        "  svmmodel.fit(TrainX, TrainY)\n",
        "\n",
        "  tr_pred = svmmodel.predict(TrainX)\n",
        "  tr_acc = metrics.accuracy_score(TrainY, tr_pred)\n",
        "\n",
        "  ts_pred = svmmodel.predict(TestX)\n",
        "  ts_acc = metrics.accuracy_score(TestY, ts_pred)\n",
        "\n",
        "  print('Training Accuracy : ', tr_acc)\n",
        "  print('Test Accuracy : ', ts_acc)\n",
        "\n",
        "  tr_score = svmmodel.predict_proba(TrainX)\n",
        "  ts_score = svmmodel.predict_proba(TestX)\n",
        "\n",
        "  tr_fpr, tr_tpr, tr_th = metrics.roc_curve(TrainY, tr_score[:,1], pos_label=1)\n",
        "  ts_fpr, ts_tpr, ts_th = metrics.roc_curve(TestY, ts_score[:,1], pos_label=1)\n",
        "\n",
        "  plt.plot(tr_fpr, tr_tpr, 'b:', linewidth=5, label='Train')\n",
        "  plt.plot(ts_fpr, ts_tpr, 'r--', linewidth=5, label='Test')\n",
        "  plt.legend(loc='best')\n",
        "  plt.show()\n",
        "\n",
        "  tr_auc = metrics.roc_auc_score(TrainY, tr_score[:,1])\n",
        "  print('Training AUC : ', tr_auc)\n",
        "\n",
        "  ts_auc = metrics.roc_auc_score(TestY, ts_score[:,1])\n",
        "  print('Test AUC : ', ts_auc)\n"
      ]
    },
    {
      "cell_type": "code",
      "execution_count": null,
      "metadata": {
        "id": "DaFOpvMfcXyV"
      },
      "outputs": [],
      "source": [
        "SVMmodel(TrainX, TrainY, TestX, TestY, kernel=\"linear\")"
      ]
    },
    {
      "cell_type": "code",
      "execution_count": null,
      "metadata": {
        "id": "UxswQcpHch5M"
      },
      "outputs": [],
      "source": [
        "SVMmodel(TrainX, TrainY, TestX, TestY, kernel=\"rbf\")\n"
      ]
    },
    {
      "cell_type": "code",
      "execution_count": null,
      "metadata": {
        "id": "qNwYnUrSc7rM"
      },
      "outputs": [],
      "source": [
        "SVMmodel(TrainX, TrainY, TestX, TestY, kernel=\"poly\")"
      ]
    }
  ],
  "metadata": {
    "colab": {
      "collapsed_sections": [],
      "name": "SVM.ipynb",
      "provenance": []
    },
    "interpreter": {
      "hash": "53e118947077c4ac14cd9b5bd8ffefe9287941f870ede6c6d93932b2f5dedd6a"
    },
    "kernelspec": {
      "display_name": "Python 3.7.0 64-bit ('test1': conda)",
      "name": "python3"
    },
    "language_info": {
      "codemirror_mode": {
        "name": "ipython",
        "version": 3
      },
      "file_extension": ".py",
      "mimetype": "text/x-python",
      "name": "python",
      "nbconvert_exporter": "python",
      "pygments_lexer": "ipython3",
      "version": "3.7.0"
    }
  },
  "nbformat": 4,
  "nbformat_minor": 2
}
