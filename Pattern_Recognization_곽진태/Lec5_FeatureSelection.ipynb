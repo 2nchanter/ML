{
  "cells": [
    {
      "cell_type": "markdown",
      "metadata": {
        "id": "NHIdlnqM4r1T"
      },
      "source": [
        "## **Feature Selection**"
      ]
    },
    {
      "cell_type": "code",
      "execution_count": 92,
      "metadata": {
        "id": "Y1qn5KIA4rLA"
      },
      "outputs": [],
      "source": [
        "from sklearn import datasets\n",
        "from sklearn.model_selection import train_test_split\n",
        "from sklearn.naive_bayes import GaussianNB\n",
        "from sklearn import svm\n",
        "from sklearn import metrics\n",
        "import numpy as np\n",
        "import pandas as pd"
      ]
    },
    {
      "cell_type": "markdown",
      "metadata": {
        "id": "J_B90tMw5xIk"
      },
      "source": [
        "**Breast Cancer Wisconsin (Diagnostic) Dataset**\n",
        "\n",
        "*   569 instances (212 Malignant, 357 Benign)\n",
        "*   30 numerical features (computed from a digitized image of a breast mass)\n",
        "*   2 classes (Malignant, Benign)"
      ]
    },
    {
      "cell_type": "code",
      "execution_count": 93,
      "metadata": {
        "id": "C2SIkngW46gk"
      },
      "outputs": [
        {
          "name": "stdout",
          "output_type": "stream",
          "text": [
            "(284, 30)\n"
          ]
        }
      ],
      "source": [
        "wisconsin = datasets.load_breast_cancer()\n",
        "TrainX, TestX, TrainY, TestY = train_test_split(wisconsin.data, wisconsin.target, train_size=0.5, random_state=999)\n",
        "print(TrainX.shape)"
      ]
    },
    {
      "cell_type": "markdown",
      "metadata": {
        "id": "qhvS-snd-E0P"
      },
      "source": [
        "Add random noise"
      ]
    },
    {
      "cell_type": "code",
      "execution_count": 94,
      "metadata": {
        "id": "u6WHJvCn-D-3"
      },
      "outputs": [
        {
          "name": "stdout",
          "output_type": "stream",
          "text": [
            "(284, 40)\n"
          ]
        }
      ],
      "source": [
        "# 각 환자마다 10개의 임의의 값들을 추가한다. (필요없는 10개의 feature를 골랐을 때를 상정한다.)\n",
        "rTrainX = np.concatenate((TrainX, np.random.randn(TrainX.shape[0], 10)), axis=1)\n",
        "rTestX = np.concatenate((TestX, np.random.randn(TestX.shape[0], 10)), axis=1)\n",
        "print(rTrainX.shape)"
      ]
    },
    {
      "cell_type": "code",
      "execution_count": 95,
      "metadata": {
        "id": "c4HZYe6W5-3u"
      },
      "outputs": [
        {
          "name": "stdout",
          "output_type": "stream",
          "text": [
            "Training Accuracy :  0.9507042253521126\n",
            "Test Accuracy :  0.9438596491228071\n"
          ]
        }
      ],
      "source": [
        "# 40개의 feature로 했을 때의 정확도\n",
        "model = GaussianNB()\n",
        "model.fit(rTrainX, TrainY)\n",
        "\n",
        "tr_pred = model.predict(rTrainX)\n",
        "tr_acc = metrics.accuracy_score(TrainY, tr_pred)\n",
        "\n",
        "ts_pred = model.predict(rTestX)\n",
        "ts_acc = metrics.accuracy_score(TestY, ts_pred)\n",
        "\n",
        "print('Training Accuracy : ', tr_acc)\n",
        "print('Test Accuracy : ', ts_acc)"
      ]
    },
    {
      "cell_type": "markdown",
      "metadata": {
        "id": "83h57NDs5YzS"
      },
      "source": [
        "**Filter Methods: Select the best K features**"
      ]
    },
    {
      "cell_type": "code",
      "execution_count": 96,
      "metadata": {
        "id": "2stfALVU7Nrt"
      },
      "outputs": [],
      "source": [
        "# 40개 중에 k개만 선택을 해보자.\n",
        "from sklearn.feature_selection import SelectKBest\n",
        "from sklearn.feature_selection import chi2, mutual_info_classif"
      ]
    },
    {
      "cell_type": "code",
      "execution_count": 97,
      "metadata": {},
      "outputs": [
        {
          "data": {
            "text/plain": [
              "SelectKBest(k=5, score_func=<function mutual_info_classif at 0x7fc739e752f0>)"
            ]
          },
          "execution_count": 97,
          "metadata": {},
          "output_type": "execute_result"
        }
      ],
      "source": [
        "# mutual_info_class를 사용하여 5개만 뽑아보자!\n",
        "# 상호정보량(mutual information) : 전체적인 data의 경향이나, 두가지 분포가 얼마나 비슷한가 다른가,,, entropy와 관련도 있으며,,, disqution에 따라서 얼마나 차이가 나나..?\n",
        "fs_kbest = SelectKBest(mutual_info_classif, k=5)\n",
        "fs_kbest.fit(rTrainX, TrainY)          # run score function on the data"
      ]
    },
    {
      "cell_type": "code",
      "execution_count": 98,
      "metadata": {
        "id": "A2OP45Kf9quA"
      },
      "outputs": [
        {
          "name": "stdout",
          "output_type": "stream",
          "text": [
            "Feature Score :  [0.33956329 0.07948527 0.36755099 0.34917436 0.06644114 0.20335035\n",
            " 0.33085302 0.41714988 0.1189023  0.02020811 0.19257571 0.02065984\n",
            " 0.24424008 0.31959771 0.02357844 0.05835607 0.09986401 0.09431251\n",
            " 0.04684966 0.03202221 0.39553327 0.1206942  0.42854196 0.42280539\n",
            " 0.08795547 0.20507429 0.2598269  0.40331325 0.05536017 0.06909085\n",
            " 0.         0.02221972 0.01217896 0.         0.01727048 0.01180965\n",
            " 0.         0.         0.         0.        ]\n"
          ]
        }
      ],
      "source": [
        "# 각 feature의 score가 몇인지.\n",
        "print('Feature Score : ', fs_kbest.scores_)"
      ]
    },
    {
      "cell_type": "code",
      "execution_count": 99,
      "metadata": {
        "id": "EJub6lek_lPG"
      },
      "outputs": [
        {
          "data": {
            "text/plain": [
              "array([ 7, 20, 22, 23, 27])"
            ]
          },
          "execution_count": 99,
          "metadata": {},
          "output_type": "execute_result"
        }
      ],
      "source": [
        "scores = list(fs_kbest.scores_) # array를 list로 변경\n",
        "scores_idx = np.argsort(scores) # sorting된 값이 아니라 해당되는 feature를 알려준다.\n",
        "best5feats = np.sort(scores_idx[-5:])\n",
        "best5feats\n",
        "\n",
        "# 10개의 random에서 뽑히지 않았다. (31~40번)"
      ]
    },
    {
      "cell_type": "code",
      "execution_count": 100,
      "metadata": {
        "id": "PH4ccjrq3Lal"
      },
      "outputs": [
        {
          "name": "stdout",
          "output_type": "stream",
          "text": [
            "[2.944e-02 1.566e+01 1.012e+02 7.500e+02 7.453e-02]\n"
          ]
        }
      ],
      "source": [
        "# 첫번째 사람의 5개 feature 뽑아보기\n",
        "print(rTrainX[1,best5feats])"
      ]
    },
    {
      "cell_type": "code",
      "execution_count": 101,
      "metadata": {
        "id": "4caqHQyT3G-r"
      },
      "outputs": [
        {
          "name": "stdout",
          "output_type": "stream",
          "text": [
            "[2.944e-02 1.566e+01 1.012e+02 7.500e+02 7.453e-02]\n"
          ]
        }
      ],
      "source": [
        "# 위와 같은 내용\n",
        "sTrainX = fs_kbest.transform(rTrainX)  # select the best K features\n",
        "sTestX = fs_kbest.transform(rTestX)\n",
        "\n",
        "print(sTrainX[1,:])"
      ]
    },
    {
      "cell_type": "code",
      "execution_count": 102,
      "metadata": {
        "id": "vXH1Ui5T7XfQ"
      },
      "outputs": [
        {
          "name": "stdout",
          "output_type": "stream",
          "text": [
            "Filter Training Accuracy :  0.9577464788732394\n",
            "Filter Test Accuracy :  0.9403508771929825\n"
          ]
        }
      ],
      "source": [
        "model_filt = GaussianNB()\n",
        "model_filt.fit(sTrainX, TrainY)\n",
        "\n",
        "tr_pred2 = model_filt.predict(sTrainX)\n",
        "tr_acc2 = metrics.accuracy_score(TrainY, tr_pred2)\n",
        "\n",
        "ts_pred2 = model_filt.predict(sTestX)\n",
        "ts_acc2 = metrics.accuracy_score(TestY, ts_pred2)\n",
        "\n",
        "print('Filter Training Accuracy : ', tr_acc2)\n",
        "print('Filter Test Accuracy : ', ts_acc2)\n",
        "\n",
        "# 40개를 사용하나, 5개를 사용하나 거의 비슷하다."
      ]
    },
    {
      "cell_type": "markdown",
      "metadata": {
        "id": "9S54OQo675K2"
      },
      "source": [
        "**Wrapper Methods**"
      ]
    },
    {
      "cell_type": "code",
      "execution_count": 103,
      "metadata": {
        "id": "1mE5HteK8hYN"
      },
      "outputs": [],
      "source": [
        "from sklearn.feature_selection import SequentialFeatureSelector as sf"
      ]
    },
    {
      "cell_type": "markdown",
      "metadata": {
        "id": "8VvGqTM3CGxS"
      },
      "source": [
        "Sequential Forward Selection (SFS) - Best k"
      ]
    },
    {
      "cell_type": "code",
      "execution_count": 104,
      "metadata": {
        "id": "Y9-i03wn8m4s"
      },
      "outputs": [
        {
          "data": {
            "text/plain": [
              "SequentialFeatureSelector(estimator=GaussianNB(), n_features_to_select=5,\n",
              "                          scoring='accuracy')"
            ]
          },
          "execution_count": 104,
          "metadata": {},
          "output_type": "execute_result"
        }
      ],
      "source": [
        "model_base = GaussianNB()\n",
        "\n",
        "num_feats_sfsk = 5 # feature 갯수가 5개가 될때까지 진행\n",
        "# n_features_to_select : 몇개 선택할껀지 / direction : forward, backward / scoring : 평가는 정확도로\n",
        "# cv : cross-validation, 5개로 나눠서 하나씩 test data로 골라가며 교차검증 (5-fold CV) - 전체를 가지고 training 해버리면 test data가 없다.\n",
        "# 전체를 가지고 feature를 선택해 놓고 다시 전체에 test하면 제대로 뽑았는지 알 수가 없다.\n",
        "SFSk = sf(model_base, n_features_to_select=num_feats_sfsk, direction=\"forward\", scoring=\"accuracy\", cv=5)\n",
        "\n",
        "SFSk.fit(rTrainX, TrainY)"
      ]
    },
    {
      "cell_type": "code",
      "execution_count": 105,
      "metadata": {},
      "outputs": [
        {
          "name": "stdout",
          "output_type": "stream",
          "text": [
            "SFS Selected Features :  [False  True False False False False False False False  True False False\n",
            " False False False False False False False False  True False False False\n",
            "  True False False  True False False False False False False False False\n",
            " False False False False]\n"
          ]
        }
      ],
      "source": [
        "print('SFS Selected Features : ', SFSk.get_support())"
      ]
    },
    {
      "cell_type": "code",
      "execution_count": 106,
      "metadata": {},
      "outputs": [
        {
          "name": "stdout",
          "output_type": "stream",
          "text": [
            "(284, 5)\n",
            "(285, 5)\n"
          ]
        }
      ],
      "source": [
        "sfskTrainX = SFSk.transform(rTrainX)\n",
        "sfskTestX = SFSk.transform(rTestX)\n",
        "\n",
        "print(sfskTrainX.shape)\n",
        "print(sfskTestX.shape)"
      ]
    },
    {
      "cell_type": "code",
      "execution_count": 107,
      "metadata": {
        "id": "n4KTXIM3wJs3"
      },
      "outputs": [
        {
          "name": "stdout",
          "output_type": "stream",
          "text": [
            "SFS-k Training Accuracy :  0.9647887323943662\n",
            "SFS-k Test Accuracy :  0.9649122807017544\n"
          ]
        }
      ],
      "source": [
        "model_sfsk = GaussianNB()\n",
        "model_sfsk.fit(sfskTrainX, TrainY)\n",
        "\n",
        "tr_pred3 = model_sfsk.predict(sfskTrainX)\n",
        "tr_acc3 = metrics.accuracy_score(TrainY, tr_pred3)\n",
        "\n",
        "ts_pred3 = model_sfsk.predict(sfskTestX)\n",
        "ts_acc3 = metrics.accuracy_score(TestY, ts_pred3)\n",
        "\n",
        "print('SFS-k Training Accuracy : ', tr_acc3)\n",
        "print('SFS-k Test Accuracy : ', ts_acc3)"
      ]
    },
    {
      "cell_type": "markdown",
      "metadata": {},
      "source": [
        "Sequential Backward Selection (SBS) - Best k"
      ]
    },
    {
      "cell_type": "code",
      "execution_count": 108,
      "metadata": {
        "id": "BDzfKld4zp-2"
      },
      "outputs": [
        {
          "data": {
            "text/plain": [
              "SequentialFeatureSelector(direction='backward', estimator=GaussianNB(),\n",
              "                          n_features_to_select=15, scoring='accuracy')"
            ]
          },
          "execution_count": 108,
          "metadata": {},
          "output_type": "execute_result"
        }
      ],
      "source": [
        "model_base = GaussianNB()\n",
        "\n",
        "num_feats_sbsk = 15\n",
        "SBSk = sf(model_base, n_features_to_select=num_feats_sbsk, direction=\"backward\", scoring=\"accuracy\", cv=5)\n",
        "\n",
        "SBSk.fit(rTrainX, TrainY)"
      ]
    },
    {
      "cell_type": "code",
      "execution_count": 109,
      "metadata": {
        "id": "XcTRdPuJzvRn"
      },
      "outputs": [
        {
          "name": "stdout",
          "output_type": "stream",
          "text": [
            "SBS Selected Features :  [False False False False False False False  True False False  True False\n",
            " False  True False False  True False False False  True False  True  True\n",
            "  True  True  True  True  True  True False False False False False False\n",
            " False False  True  True]\n"
          ]
        }
      ],
      "source": [
        "print('SBS Selected Features : ', SBSk.get_support())"
      ]
    },
    {
      "cell_type": "code",
      "execution_count": 110,
      "metadata": {
        "id": "KJIhWp6VzzcC"
      },
      "outputs": [
        {
          "name": "stdout",
          "output_type": "stream",
          "text": [
            "(284, 15)\n",
            "(285, 15)\n"
          ]
        }
      ],
      "source": [
        "sbskTrainX = SBSk.transform(rTrainX)\n",
        "sbskTestX = SBSk.transform(rTestX)\n",
        "\n",
        "print(sbskTrainX.shape)\n",
        "print(sbskTestX.shape)"
      ]
    },
    {
      "cell_type": "code",
      "execution_count": 111,
      "metadata": {
        "id": "Zpm-_KuFz2fj"
      },
      "outputs": [
        {
          "name": "stdout",
          "output_type": "stream",
          "text": [
            "SBS-k Training Accuracy :  0.9612676056338029\n",
            "SBS-k Test Accuracy :  0.9403508771929825\n"
          ]
        }
      ],
      "source": [
        "model_sbsk = GaussianNB()\n",
        "model_sbsk.fit(sbskTrainX, TrainY)\n",
        "\n",
        "tr_pred4 = model_sbsk.predict(sbskTrainX)\n",
        "tr_acc4 = metrics.accuracy_score(TrainY, tr_pred4)\n",
        "\n",
        "ts_pred4 = model_sbsk.predict(sbskTestX)\n",
        "ts_acc4 = metrics.accuracy_score(TestY, ts_pred4)\n",
        "\n",
        "print('SBS-k Training Accuracy : ', tr_acc4)\n",
        "print('SBS-k Test Accuracy : ', ts_acc4)"
      ]
    },
    {
      "cell_type": "markdown",
      "metadata": {
        "id": "wvDN_4NO-QB9"
      },
      "source": [
        "Sequential Forward Selection (SFS)"
      ]
    },
    {
      "cell_type": "code",
      "execution_count": 116,
      "metadata": {
        "id": "Oiw1Hsp8_cIe"
      },
      "outputs": [],
      "source": [
        "import joblib\n",
        "import sys\n",
        "sys.modules['sklearn.externals.joblib'] = joblib\n",
        "from mlxtend.feature_selection import SequentialFeatureSelector as sf2"
      ]
    },
    {
      "cell_type": "code",
      "execution_count": 118,
      "metadata": {
        "id": "fKzk7g3kz2oi"
      },
      "outputs": [
        {
          "name": "stdout",
          "output_type": "stream",
          "text": [
            "SFS Selected Features :  (1, 9, 10, 11, 14, 19, 20, 24, 27, 30, 33, 34, 35, 38)\n",
            "SFS Selected Number of Features :  14\n"
          ]
        }
      ],
      "source": [
        "model_base = GaussianNB()\n",
        "# k_features : 알아서 가장 좋은 경우를 찾아줌 / verbose : 학습의 진행 상황을 보여줄 것인지\n",
        "SFS = sf2(model_base, k_features=\"best\", forward=True, floating=False, scoring='accuracy', verbose=0, cv=5)\n",
        "SFS.fit(rTrainX, TrainY)\n",
        "\n",
        "num_feats_sfs = len(SFS.k_feature_idx_)\n",
        "\n",
        "print('SFS Selected Features : ', SFS.k_feature_idx_)\n",
        "print('SFS Selected Number of Features : ', num_feats_sfs)"
      ]
    },
    {
      "cell_type": "code",
      "execution_count": 122,
      "metadata": {
        "id": "2dWJNPcRAhKi"
      },
      "outputs": [
        {
          "name": "stdout",
          "output_type": "stream",
          "text": [
            "(284, 14)\n",
            "(285, 14)\n"
          ]
        }
      ],
      "source": [
        "selected_feats = list(SFS.k_feature_idx_)\n",
        "sfsTrainX = SFS.transform(rTrainX)\n",
        "sfsTestX = SFS.transform(rTestX)\n",
        "\n",
        "print(sfsTrainX.shape)\n",
        "print(sfsTestX.shape)"
      ]
    },
    {
      "cell_type": "code",
      "execution_count": 123,
      "metadata": {
        "id": "_30R7D7g_1de"
      },
      "outputs": [
        {
          "name": "stdout",
          "output_type": "stream",
          "text": [
            "SFS Training Accuracy :  0.9753521126760564\n",
            "SFS Test Accuracy :  0.9578947368421052\n"
          ]
        }
      ],
      "source": [
        "model_sfs = GaussianNB()\n",
        "model_sfs.fit(sfsTrainX, TrainY)\n",
        "\n",
        "tr_pred5 = model_sfs.predict(sfsTrainX)\n",
        "tr_acc5 = metrics.accuracy_score(TrainY, tr_pred5)\n",
        "\n",
        "ts_pred5 = model_sfs.predict(sfsTestX)\n",
        "ts_acc5 = metrics.accuracy_score(TestY, ts_pred5)\n",
        "\n",
        "print('SFS Training Accuracy : ', tr_acc5)\n",
        "print('SFS Test Accuracy : ', ts_acc5)"
      ]
    },
    {
      "cell_type": "markdown",
      "metadata": {
        "id": "hyowWlfJ-aPa"
      },
      "source": [
        "Sequential Backward Selection (SBS)"
      ]
    },
    {
      "cell_type": "code",
      "execution_count": 125,
      "metadata": {
        "id": "fywWU8SnCORD"
      },
      "outputs": [
        {
          "name": "stdout",
          "output_type": "stream",
          "text": [
            "SBS Selected Features :  (6, 7, 16, 20, 23, 26, 27)\n",
            "SBS Selected Number of Features :  7\n"
          ]
        }
      ],
      "source": [
        "model_base = GaussianNB()\n",
        "\n",
        "SBS = sf2(model_base, k_features=\"best\", forward=False, floating=False, scoring='accuracy', verbose=0, cv=5)\n",
        "SBS.fit(rTrainX, TrainY)\n",
        "\n",
        "num_feats_sbs = len(SBS.k_feature_idx_)\n",
        "\n",
        "print('SBS Selected Features : ', SBS.k_feature_idx_)\n",
        "print('SBS Selected Number of Features : ', num_feats_sbs)"
      ]
    },
    {
      "cell_type": "code",
      "execution_count": 126,
      "metadata": {
        "id": "bk_LjRl1A1lW"
      },
      "outputs": [
        {
          "name": "stdout",
          "output_type": "stream",
          "text": [
            "(284, 7)\n",
            "(285, 7)\n"
          ]
        }
      ],
      "source": [
        "selected_feats = list(SBS.k_feature_idx_)\n",
        "sbsTrainX = SBS.transform(rTrainX)\n",
        "sbsTestX = SBS.transform(rTestX)\n",
        "\n",
        "print(sbsTrainX.shape)\n",
        "print(sbsTestX.shape)"
      ]
    },
    {
      "cell_type": "code",
      "execution_count": 127,
      "metadata": {
        "id": "Z1zgOjUCCPFT"
      },
      "outputs": [
        {
          "name": "stdout",
          "output_type": "stream",
          "text": [
            "SBS Training Accuracy :  0.9612676056338029\n",
            "SBS Test Accuracy :  0.9403508771929825\n"
          ]
        }
      ],
      "source": [
        "model_sbs = GaussianNB()\n",
        "model_sbs.fit(sbsTrainX, TrainY)\n",
        "\n",
        "tr_pred6 = model_sbs.predict(sbsTrainX)\n",
        "tr_acc6 = metrics.accuracy_score(TrainY, tr_pred6)\n",
        "\n",
        "ts_pred6 = model_sbs.predict(sbsTestX)\n",
        "ts_acc6 = metrics.accuracy_score(TestY, ts_pred6)\n",
        "\n",
        "print('SBS Training Accuracy : ', tr_acc6)\n",
        "print('SBS Test Accuracy : ', ts_acc6)"
      ]
    },
    {
      "cell_type": "markdown",
      "metadata": {
        "id": "JYtV-onGC6lf"
      },
      "source": [
        "Sequential Floating Forward Selection (SFFS)"
      ]
    },
    {
      "cell_type": "code",
      "execution_count": 128,
      "metadata": {
        "id": "l-YkvViXyLH_"
      },
      "outputs": [],
      "source": [
        "import joblib\n",
        "import sys\n",
        "sys.modules['sklearn.externals.joblib'] = joblib\n",
        "from mlxtend.feature_selection import SequentialFeatureSelector as sf2"
      ]
    },
    {
      "cell_type": "code",
      "execution_count": 130,
      "metadata": {
        "id": "HdXElYBjDCKB"
      },
      "outputs": [
        {
          "name": "stdout",
          "output_type": "stream",
          "text": [
            "SFFS Selected Features :  (1, 9, 10, 11, 14, 18, 19, 20, 21, 24, 27, 30, 32, 33, 35, 37, 38)\n",
            "SFFS Selected Number of Features :  17\n"
          ]
        }
      ],
      "source": [
        "model_base = GaussianNB()\n",
        "\n",
        "SFFS = sf2(model_base, k_features=\"best\", forward=True, floating=True, scoring='accuracy', verbose=0, cv=5)\n",
        "SFFS.fit(rTrainX, TrainY)\n",
        "\n",
        "num_feats_sffs = len(SFFS.k_feature_idx_)\n",
        "\n",
        "print('SFFS Selected Features : ', SFFS.k_feature_idx_)\n",
        "print('SFFS Selected Number of Features : ', num_feats_sffs)"
      ]
    },
    {
      "cell_type": "code",
      "execution_count": 138,
      "metadata": {
        "id": "1xUxTQiEDDux"
      },
      "outputs": [
        {
          "name": "stdout",
          "output_type": "stream",
          "text": [
            "SFFS Training Accuracy :  0.9788732394366197\n",
            "SFFS Test Accuracy :  0.968421052631579\n"
          ]
        }
      ],
      "source": [
        "selected_feats = list(SFFS.k_feature_idx_)\n",
        "# sffsTrainX = SFFS.transform(rTrainX)\n",
        "# sffsTestX = SFFS.transform(rTestX)\n",
        "sffsTrainX = rTrainX[:, selected_feats]\n",
        "sffsTestX = rTestX[:, selected_feats]\n",
        "\n",
        "model_sffs = GaussianNB()\n",
        "model_sffs.fit(sffsTrainX, TrainY)\n",
        "\n",
        "tr_pred7 = model_sffs.predict(sffsTrainX)\n",
        "tr_acc7 = metrics.accuracy_score(TrainY, tr_pred7)\n",
        "\n",
        "ts_pred7 = model_sffs.predict(sffsTestX)\n",
        "ts_acc7 = metrics.accuracy_score(TestY, ts_pred7)\n",
        "\n",
        "print('SFFS Training Accuracy : ', tr_acc7)\n",
        "print('SFFS Test Accuracy : ', ts_acc7)"
      ]
    },
    {
      "cell_type": "markdown",
      "metadata": {},
      "source": [
        "Sequential Floating Backward Selection (SFBS)"
      ]
    },
    {
      "cell_type": "code",
      "execution_count": 141,
      "metadata": {},
      "outputs": [
        {
          "name": "stdout",
          "output_type": "stream",
          "text": [
            "SFBS Training Accuracy :  0.9683098591549296\n",
            "SFBS Test Accuracy :  0.9719298245614035\n"
          ]
        }
      ],
      "source": [
        "import joblib\n",
        "import sys\n",
        "sys.modules['sklearn.externals.joblib'] = joblib\n",
        "from mlxtend.feature_selection import SequentialFeatureSelector as sf2\n",
        "\n",
        "model_base = GaussianNB()\n",
        "SFBS = sf2(model_base, k_features=\"best\", forward=False, floating=True, scoring='accuracy', verbose=0, cv=5)\n",
        "SFBS.fit(rTrainX, TrainY)\n",
        "\n",
        "num_feats_sfbs = len(SFBS.k_feature_idx_)\n",
        "\n",
        "sfbsTrainX = SFBS.transform(rTrainX)\n",
        "sfbsTestX = SFBS.transform(rTestX)\n",
        "\n",
        "model_sfbs = GaussianNB()\n",
        "model_sfbs.fit(sfbsTrainX, TrainY)\n",
        "\n",
        "tr_pred8 = model_sfbs.predict(sfbsTrainX)\n",
        "tr_acc8 = metrics.accuracy_score(TrainY, tr_pred8)\n",
        "\n",
        "ts_pred8 = model_sfbs.predict(sfbsTestX)\n",
        "ts_acc8 = metrics.accuracy_score(TestY, ts_pred8)\n",
        "\n",
        "print('SFBS Training Accuracy : ', tr_acc8)\n",
        "print('SFBS Test Accuracy : ', ts_acc8)"
      ]
    },
    {
      "cell_type": "markdown",
      "metadata": {
        "id": "ZUsxhaTyB1M-"
      },
      "source": [
        "Summary"
      ]
    },
    {
      "cell_type": "code",
      "execution_count": 132,
      "metadata": {
        "id": "2PJkRTsaB2VF"
      },
      "outputs": [],
      "source": [
        "import pandas as pd\n",
        "import matplotlib.pyplot as plt"
      ]
    },
    {
      "cell_type": "code",
      "execution_count": 142,
      "metadata": {
        "id": "u83-7fd0B5oe"
      },
      "outputs": [
        {
          "name": "stdout",
          "output_type": "stream",
          "text": [
            "          Train      Test  N_feats\n",
            "None   0.950704  0.943860       40\n",
            "BestK  0.957746  0.940351        5\n",
            "SFS-k  0.964789  0.964912        5\n",
            "SBS-k  0.961268  0.940351       15\n",
            "SFS    0.975352  0.957895       14\n",
            "SBS    0.961268  0.940351        7\n",
            "SFFS   0.978873  0.968421       17\n",
            "SFBS   0.968310  0.968310        9\n"
          ]
        }
      ],
      "source": [
        "df = pd.DataFrame({'Train': [tr_acc, tr_acc2, tr_acc3, tr_acc4, tr_acc5, tr_acc6, tr_acc7, tr_acc8], \n",
        "                   'Test': [ts_acc, ts_acc2, ts_acc3, ts_acc4, ts_acc5, ts_acc6, ts_acc7, tr_acc8],\n",
        "                  'N_feats': [40, 5, num_feats_sfsk, num_feats_sbsk, num_feats_sfs, num_feats_sbs, num_feats_sffs, num_feats_sfbs]})\n",
        "df.index = ['None', 'BestK', 'SFS-k', 'SBS-k', 'SFS', 'SBS', 'SFFS', 'SFBS']\n",
        "\n",
        "print(df)"
      ]
    },
    {
      "cell_type": "code",
      "execution_count": 143,
      "metadata": {
        "id": "jfS-QtRPE6W3"
      },
      "outputs": [
        {
          "data": {
            "text/plain": [
              "<AxesSubplot:>"
            ]
          },
          "execution_count": 143,
          "metadata": {},
          "output_type": "execute_result"
        },
        {
          "data": {
            "image/png": "[encoded data removed]",
            "text/plain": [
              "<Figure size 720x360 with 2 Axes>"
            ]
          },
          "metadata": {
            "needs_background": "light"
          },
          "output_type": "display_data"
        }
      ],
      "source": [
        "fig = plt.figure(figsize=(10,5))\n",
        "ax1 = fig.add_subplot(1,2,1)\n",
        "ax2 = fig.add_subplot(1,2,2)\n",
        "df[['Train','Test']].plot(ax=ax1)\n",
        "df['N_feats'].plot(ax=ax2)"
      ]
    }
  ],
  "metadata": {
    "colab": {
      "collapsed_sections": [],
      "name": "FeatureSelection.ipynb",
      "provenance": []
    },
    "kernelspec": {
      "display_name": "Python 3",
      "name": "python3"
    },
    "language_info": {
      "codemirror_mode": {
        "name": "ipython",
        "version": 3
      },
      "file_extension": ".py",
      "mimetype": "text/x-python",
      "name": "python",
      "nbconvert_exporter": "python",
      "pygments_lexer": "ipython3",
      "version": "3.7.0"
    }
  },
  "nbformat": 4,
  "nbformat_minor": 0
}
