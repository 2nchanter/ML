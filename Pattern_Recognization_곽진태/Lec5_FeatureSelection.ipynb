{
  "nbformat": 4,
  "nbformat_minor": 0,
  "metadata": {
    "colab": {
      "name": "FeatureSelection.ipynb",
      "provenance": [],
      "collapsed_sections": []
    },
    "kernelspec": {
      "name": "python3",
      "display_name": "Python 3"
    }
  },
  "cells": [
    {
      "cell_type": "markdown",
      "metadata": {
        "id": "NHIdlnqM4r1T"
      },
      "source": [
        "## **Feature Selection**"
      ]
    },
    {
      "cell_type": "code",
      "metadata": {
        "id": "Y1qn5KIA4rLA"
      },
      "source": [
        "from sklearn import datasets\n",
        "from sklearn.model_selection import train_test_split\n",
        "from sklearn.naive_bayes import GaussianNB\n",
        "from sklearn import svm\n",
        "from sklearn import metrics\n",
        "import numpy as np\n",
        "import pandas as pd"
      ],
      "execution_count": null,
      "outputs": []
    },
    {
      "cell_type": "markdown",
      "metadata": {
        "id": "J_B90tMw5xIk"
      },
      "source": [
        "**Breast Cancer Wisconsin (Diagnostic) Dataset**\n",
        "\n",
        "*   569 instances (212 Malignant, 357 Benign)\n",
        "*   30 numerical features (computed from a digitized image of a breast mass)\n",
        "*   2 classes (Malignant, Benign)"
      ]
    },
    {
      "cell_type": "code",
      "metadata": {
        "id": "C2SIkngW46gk"
      },
      "source": [
        "wisconsin = datasets.load_breast_cancer()\n",
        "TrainX, TestX, TrainY, TestY = train_test_split(wisconsin.data, wisconsin.target, train_size=0.5, random_state=999)"
      ],
      "execution_count": null,
      "outputs": []
    },
    {
      "cell_type": "markdown",
      "metadata": {
        "id": "qhvS-snd-E0P"
      },
      "source": [
        "Add random noise"
      ]
    },
    {
      "cell_type": "code",
      "metadata": {
        "id": "u6WHJvCn-D-3"
      },
      "source": [
        "rTrainX = np.concatenate((TrainX, np.random.randn(TrainX.shape[0], 10)), axis=1)\n",
        "rTestX = np.concatenate((TestX, np.random.randn(TestX.shape[0], 10)), axis=1)\n",
        "print(rTrainX.shape)"
      ],
      "execution_count": null,
      "outputs": []
    },
    {
      "cell_type": "code",
      "metadata": {
        "id": "c4HZYe6W5-3u"
      },
      "source": [
        "model = GaussianNB()\n",
        "model.fit(rTrainX, TrainY)\n",
        "\n",
        "tr_pred = model.predict(rTrainX)\n",
        "tr_acc = metrics.accuracy_score(TrainY, tr_pred)\n",
        "\n",
        "ts_pred = model.predict(rTestX)\n",
        "ts_acc = metrics.accuracy_score(TestY, ts_pred)\n",
        "\n",
        "print('Training Accuracy : ', tr_acc)\n",
        "print('Test Accuracy : ', ts_acc)"
      ],
      "execution_count": null,
      "outputs": []
    },
    {
      "cell_type": "markdown",
      "metadata": {
        "id": "83h57NDs5YzS"
      },
      "source": [
        "**Filter Methods: Select the best K features**"
      ]
    },
    {
      "cell_type": "code",
      "metadata": {
        "id": "2stfALVU7Nrt"
      },
      "source": [
        "from sklearn.feature_selection import SelectKBest\n",
        "from sklearn.feature_selection import chi2, mutual_info_classif"
      ],
      "execution_count": null,
      "outputs": []
    },
    {
      "cell_type": "code",
      "metadata": {
        "id": "qR3HpH9m6DRL"
      },
      "source": [
        "fs_kbest = SelectKBest(mutual_info_classif, k=5)\n",
        "fs_kbest.fit(rTrainX, TrainY)          # run score function on the data"
      ],
      "execution_count": null,
      "outputs": []
    },
    {
      "cell_type": "code",
      "metadata": {
        "id": "A2OP45Kf9quA"
      },
      "source": [
        "print('Feature Score : ', fs_kbest.scores_)"
      ],
      "execution_count": null,
      "outputs": []
    },
    {
      "cell_type": "code",
      "metadata": {
        "id": "EJub6lek_lPG"
      },
      "source": [
        "scores = list(fs_kbest.scores_)\n",
        "scores_idx = np.argsort(scores)\n",
        "best5feats = np.sort(scores_idx[-5:])\n",
        "best5feats"
      ],
      "execution_count": null,
      "outputs": []
    },
    {
      "cell_type": "code",
      "metadata": {
        "id": "PH4ccjrq3Lal"
      },
      "source": [
        "print(rTrainX[1,best5feats])"
      ],
      "execution_count": null,
      "outputs": []
    },
    {
      "cell_type": "code",
      "metadata": {
        "id": "4caqHQyT3G-r"
      },
      "source": [
        "sTrainX = fs_kbest.transform(rTrainX)  # select the best K features\n",
        "sTestX = fs_kbest.transform(rTestX)\n",
        "\n",
        "print(sTrainX[1,:])"
      ],
      "execution_count": null,
      "outputs": []
    },
    {
      "cell_type": "code",
      "metadata": {
        "id": "vXH1Ui5T7XfQ"
      },
      "source": [
        "model_filt = GaussianNB()\n",
        "model_filt.fit(sTrainX, TrainY)\n",
        "\n",
        "tr_pred2 = model_filt.predict(sTrainX)\n",
        "tr_acc2 = metrics.accuracy_score(TrainY, tr_pred2)\n",
        "\n",
        "ts_pred2 = model_filt.predict(sTestX)\n",
        "ts_acc2 = metrics.accuracy_score(TestY, ts_pred2)\n",
        "\n",
        "print('Filter Training Accuracy : ', tr_acc2)\n",
        "print('Filter Test Accuracy : ', ts_acc2)"
      ],
      "execution_count": null,
      "outputs": []
    },
    {
      "cell_type": "markdown",
      "metadata": {
        "id": "9S54OQo675K2"
      },
      "source": [
        "**Wrapper Methods**"
      ]
    },
    {
      "cell_type": "code",
      "metadata": {
        "id": "1mE5HteK8hYN"
      },
      "source": [
        "from mlxtend.feature_selection import SequentialFeatureSelector as sf"
      ],
      "execution_count": null,
      "outputs": []
    },
    {
      "cell_type": "markdown",
      "metadata": {
        "id": "8VvGqTM3CGxS"
      },
      "source": [
        "Sequential Forward Selection (SFS)"
      ]
    },
    {
      "cell_type": "code",
      "metadata": {
        "id": "Y9-i03wn8m4s"
      },
      "source": [
        "model_base = GaussianNB()\n",
        "\n",
        "SFS = sf(model_base, k_features=\"best\", forward=True, floating=False, scoring='accuracy', verbose=0, cv=5)\n",
        "\n",
        "SFS.fit(rTrainX, TrainY)\n",
        "\n",
        "print('SFS Selected Features : ', SFS.k_feature_idx_)"
      ],
      "execution_count": null,
      "outputs": []
    },
    {
      "cell_type": "code",
      "metadata": {
        "id": "IA4Kfb8i9cHO"
      },
      "source": [
        "selected_feats = list(SFS.k_feature_idx_)\n",
        "sfsTrainX = rTrainX[:, selected_feats]\n",
        "sfsTestX = rTestX[:, selected_feats]\n",
        "\n",
        "model_sfs = GaussianNB()\n",
        "model_sfs.fit(sfsTrainX, TrainY)\n",
        "\n",
        "tr_pred3 = model_sfs.predict(sfsTrainX)\n",
        "tr_acc3 = metrics.accuracy_score(TrainY, tr_pred3)\n",
        "\n",
        "ts_pred3 = model_sfs.predict(sfsTestX)\n",
        "ts_acc3 = metrics.accuracy_score(TestY, ts_pred3)\n",
        "\n",
        "print('SFS Training Accuracy : ', tr_acc3)\n",
        "print('SFS Test Accuracy : ', ts_acc3)"
      ],
      "execution_count": null,
      "outputs": []
    },
    {
      "cell_type": "markdown",
      "metadata": {
        "id": "FNKh_p1VCLKq"
      },
      "source": [
        "Sequential Backward Selection (SBS)"
      ]
    },
    {
      "cell_type": "code",
      "metadata": {
        "id": "fywWU8SnCORD"
      },
      "source": [
        "model_base = GaussianNB()\n",
        "\n",
        "SBS = sf(model_base, k_features=\"best\", forward=False, floating=False, scoring='accuracy', verbose=0, cv=5)\n",
        "\n",
        "SBS.fit(rTrainX, TrainY)\n",
        "\n",
        "print('SBS Selected Features : ', SBS.k_feature_idx_)"
      ],
      "execution_count": null,
      "outputs": []
    },
    {
      "cell_type": "code",
      "metadata": {
        "id": "Z1zgOjUCCPFT"
      },
      "source": [
        "selected_feats = list(SBS.k_feature_idx_)\n",
        "sbsTrainX = rTrainX[:, selected_feats]\n",
        "sbsTestX = rTestX[:, selected_feats]\n",
        "\n",
        "model_sbs = GaussianNB()\n",
        "model_sbs.fit(sbsTrainX, TrainY)\n",
        "\n",
        "tr_pred4 = model_sbs.predict(sbsTrainX)\n",
        "tr_acc4 = metrics.accuracy_score(TrainY, tr_pred4)\n",
        "\n",
        "ts_pred4 = model_sbs.predict(sbsTestX)\n",
        "ts_acc4 = metrics.accuracy_score(TestY, ts_pred4)\n",
        "\n",
        "print('SBS Training Accuracy : ', tr_acc4)\n",
        "print('SBS Test Accuracy : ', ts_acc4)"
      ],
      "execution_count": null,
      "outputs": []
    },
    {
      "cell_type": "markdown",
      "metadata": {
        "id": "JYtV-onGC6lf"
      },
      "source": [
        "Sequential Floating Forward Selection (SFFS)"
      ]
    },
    {
      "cell_type": "code",
      "metadata": {
        "id": "HdXElYBjDCKB"
      },
      "source": [
        "model_base = GaussianNB()\n",
        "\n",
        "SFFS = sf(model_base, k_features=\"best\", forward=True, floating=True, scoring='accuracy', verbose=0, cv=5)\n",
        "\n",
        "SFFS.fit(rTrainX, TrainY)\n",
        "\n",
        "print('SFFS Selected Features : ', SFFS.k_feature_idx_)"
      ],
      "execution_count": null,
      "outputs": []
    },
    {
      "cell_type": "code",
      "metadata": {
        "id": "1xUxTQiEDDux"
      },
      "source": [
        "selected_feats = list(SFFS.k_feature_idx_)\n",
        "sffsTrainX = rTrainX[:, selected_feats]\n",
        "sffsTestX = rTestX[:, selected_feats]\n",
        "\n",
        "model_sffs = GaussianNB()\n",
        "model_sffs.fit(sffsTrainX, TrainY)\n",
        "\n",
        "tr_pred5 = model_sffs.predict(sffsTrainX)\n",
        "tr_acc5 = metrics.accuracy_score(TrainY, tr_pred5)\n",
        "\n",
        "ts_pred5 = model_sffs.predict(sffsTestX)\n",
        "ts_acc5 = metrics.accuracy_score(TestY, ts_pred5)\n",
        "\n",
        "print('SFFS Training Accuracy : ', tr_acc5)\n",
        "print('SFFS Test Accuracy : ', ts_acc5)"
      ],
      "execution_count": null,
      "outputs": []
    }
  ]
}