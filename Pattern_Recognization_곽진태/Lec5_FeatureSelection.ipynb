{
  "cells": [
    {
      "cell_type": "markdown",
      "metadata": {
        "id": "NHIdlnqM4r1T"
      },
      "source": [
        "## **Feature Selection**"
      ]
    },
    {
      "cell_type": "code",
      "execution_count": null,
      "metadata": {
        "id": "Y1qn5KIA4rLA"
      },
      "outputs": [],
      "source": [
        "from sklearn import datasets\n",
        "from sklearn.model_selection import train_test_split\n",
        "from sklearn.naive_bayes import GaussianNB\n",
        "from sklearn import svm\n",
        "from sklearn import metrics\n",
        "import numpy as np\n",
        "import pandas as pd"
      ]
    },
    {
      "cell_type": "markdown",
      "metadata": {
        "id": "J_B90tMw5xIk"
      },
      "source": [
        "**Breast Cancer Wisconsin (Diagnostic) Dataset**\n",
        "\n",
        "*   569 instances (212 Malignant, 357 Benign)\n",
        "*   30 numerical features (computed from a digitized image of a breast mass)\n",
        "*   2 classes (Malignant, Benign)"
      ]
    },
    {
      "cell_type": "code",
      "execution_count": null,
      "metadata": {
        "id": "C2SIkngW46gk"
      },
      "outputs": [],
      "source": [
        "wisconsin = datasets.load_breast_cancer()\n",
        "TrainX, TestX, TrainY, TestY = train_test_split(wisconsin.data, wisconsin.target, train_size=0.5, random_state=999)"
      ]
    },
    {
      "cell_type": "markdown",
      "metadata": {
        "id": "qhvS-snd-E0P"
      },
      "source": [
        "Add random noise"
      ]
    },
    {
      "cell_type": "code",
      "execution_count": null,
      "metadata": {
        "id": "u6WHJvCn-D-3"
      },
      "outputs": [],
      "source": [
        "# 각 환자마다 10개의 임의의 값들을 추가한다. (필요없는 10개의 feature를 골랐을 때를 상정한다.)\n",
        "rTrainX = np.concatenate((TrainX, np.random.randn(TrainX.shape[0], 10)), axis=1)\n",
        "rTestX = np.concatenate((TestX, np.random.randn(TestX.shape[0], 10)), axis=1)\n",
        "print(rTrainX.shape)"
      ]
    },
    {
      "cell_type": "code",
      "execution_count": null,
      "metadata": {
        "id": "c4HZYe6W5-3u"
      },
      "outputs": [],
      "source": [
        "# 40개의 feature로 했을 때의 정확도\n",
        "model = GaussianNB()\n",
        "model.fit(rTrainX, TrainY)\n",
        "\n",
        "tr_pred = model.predict(rTrainX)\n",
        "tr_acc = metrics.accuracy_score(TrainY, tr_pred)\n",
        "\n",
        "ts_pred = model.predict(rTestX)\n",
        "ts_acc = metrics.accuracy_score(TestY, ts_pred)\n",
        "\n",
        "print('Training Accuracy : ', tr_acc)\n",
        "print('Test Accuracy : ', ts_acc)"
      ]
    },
    {
      "cell_type": "markdown",
      "metadata": {
        "id": "83h57NDs5YzS"
      },
      "source": [
        "**Filter Methods: Select the best K features**"
      ]
    },
    {
      "cell_type": "code",
      "execution_count": null,
      "metadata": {
        "id": "2stfALVU7Nrt"
      },
      "outputs": [],
      "source": [
        "# 40개 중에 k개만 선택을 해보자.\n",
        "from sklearn.feature_selection import SelectKBest\n",
        "from sklearn.feature_selection import chi2, mutual_info_classif"
      ]
    },
    {
      "cell_type": "code",
      "execution_count": null,
      "metadata": {
        "id": "qR3HpH9m6DRL"
      },
      "outputs": [],
      "source": [
        "# mutual_info_class를 사용하여 5개만 뽑아보자!\n",
        "# 전체적인 data의 경향이나, 두가지 분포가 얼마나 비슷한가 다른가,,, entropy와 관련도 있으며,,, disqution에 따라서 얼마나 차이가 나나..?\n",
        "fs_kbest = SelectKBest(mutual_info_classif, k=5)\n",
        "fs_kbest.fit(rTrainX, TrainY)          # run score function on the data"
      ]
    },
    {
      "cell_type": "code",
      "execution_count": null,
      "metadata": {
        "id": "A2OP45Kf9quA"
      },
      "outputs": [],
      "source": [
        "# 각 feature의 score가 몇인지.\n",
        "print('Feature Score : ', fs_kbest.scores_)"
      ]
    },
    {
      "cell_type": "code",
      "execution_count": null,
      "metadata": {
        "id": "EJub6lek_lPG"
      },
      "outputs": [],
      "source": [
        "scores = list(fs_kbest.scores_)\n",
        "scores_idx = np.argsort(scores) # sorting된 값이 아니라 해당되는 feature를 알려준다.\n",
        "best5feats = np.sort(scores_idx[-5:])\n",
        "best5feats\n",
        "\n",
        "# 10개의 random에서 뽑히지 않았다. (31~40번)"
      ]
    },
    {
      "cell_type": "code",
      "execution_count": null,
      "metadata": {
        "id": "PH4ccjrq3Lal"
      },
      "outputs": [],
      "source": [
        "# 첫번째 사람의 5개 feature 뽑아보기\n",
        "print(rTrainX[1,best5feats])"
      ]
    },
    {
      "cell_type": "code",
      "execution_count": null,
      "metadata": {
        "id": "4caqHQyT3G-r"
      },
      "outputs": [],
      "source": [
        "# 위와 같은 내용\n",
        "sTrainX = fs_kbest.transform(rTrainX)  # select the best K features\n",
        "sTestX = fs_kbest.transform(rTestX)\n",
        "\n",
        "print(sTrainX[1,:])"
      ]
    },
    {
      "cell_type": "code",
      "execution_count": null,
      "metadata": {
        "id": "vXH1Ui5T7XfQ"
      },
      "outputs": [],
      "source": [
        "model_filt = GaussianNB()\n",
        "model_filt.fit(sTrainX, TrainY)\n",
        "\n",
        "tr_pred2 = model_filt.predict(sTrainX)\n",
        "tr_acc2 = metrics.accuracy_score(TrainY, tr_pred2)\n",
        "\n",
        "ts_pred2 = model_filt.predict(sTestX)\n",
        "ts_acc2 = metrics.accuracy_score(TestY, ts_pred2)\n",
        "\n",
        "print('Filter Training Accuracy : ', tr_acc2)\n",
        "print('Filter Test Accuracy : ', ts_acc2)\n",
        "\n",
        "# 40개를 사용하나, 5개를 사용하나 거의 비슷하다."
      ]
    },
    {
      "cell_type": "markdown",
      "metadata": {
        "id": "9S54OQo675K2"
      },
      "source": [
        "**Wrapper Methods**"
      ]
    },
    {
      "cell_type": "code",
      "execution_count": null,
      "metadata": {
        "id": "1mE5HteK8hYN"
      },
      "outputs": [],
      "source": [
        "from sklearn.feature_selection import SequentialFeatureSelector as sf"
      ]
    },
    {
      "cell_type": "markdown",
      "metadata": {
        "id": "8VvGqTM3CGxS"
      },
      "source": [
        "Sequential Forward Selection (SFS) - Best k"
      ]
    },
    {
      "cell_type": "code",
      "execution_count": null,
      "metadata": {
        "id": "Y9-i03wn8m4s"
      },
      "outputs": [],
      "source": [
        "model_base = GaussianNB()\n",
        "\n",
        "num_feats_sfsk = 5\n",
        "SFSk = sf(model_base, n_features_to_select=num_feats_sfsk, direction=\"forward\", scoring=\"accuracy\", cv=5)\n",
        "\n",
        "SFSk.fit(rTrainX, TrainY)"
      ]
    },
    {
      "cell_type": "code",
      "execution_count": null,
      "metadata": {
        "id": "n4KTXIM3wJs3"
      },
      "outputs": [],
      "source": [
        "print('SFS Selected Features : ', SFSk.get_support())"
      ]
    },
    {
      "cell_type": "code",
      "execution_count": null,
      "metadata": {
        "id": "8F7qo9G5wv49"
      },
      "outputs": [],
      "source": [
        "sfskTrainX = SFSk.transform(rTrainX)\n",
        "sfskTestX = SFSk.transform(rTestX)\n",
        "\n",
        "print(sfskTrainX.shape)\n",
        "print(sfskTestX.shape)"
      ]
    },
    {
      "cell_type": "code",
      "execution_count": null,
      "metadata": {
        "id": "IA4Kfb8i9cHO"
      },
      "outputs": [],
      "source": [
        "model_sfsk = GaussianNB()\n",
        "model_sfsk.fit(sfskTrainX, TrainY)\n",
        "\n",
        "tr_pred3 = model_sfsk.predict(sfskTrainX)\n",
        "tr_acc3 = metrics.accuracy_score(TrainY, tr_pred3)\n",
        "\n",
        "ts_pred3 = model_sfsk.predict(sfskTestX)\n",
        "ts_acc3 = metrics.accuracy_score(TestY, ts_pred3)\n",
        "\n",
        "print('SFS-k Training Accuracy : ', tr_acc3)\n",
        "print('SFS-k Test Accuracy : ', ts_acc3)"
      ]
    },
    {
      "cell_type": "markdown",
      "metadata": {
        "id": "FNKh_p1VCLKq"
      },
      "source": [
        "Sequential Backward Selection (SBS) - Best k"
      ]
    },
    {
      "cell_type": "code",
      "execution_count": null,
      "metadata": {
        "id": "BDzfKld4zp-2"
      },
      "outputs": [],
      "source": [
        "model_base = GaussianNB()\n",
        "\n",
        "num_feats_sbsk = 15\n",
        "SBSk = sf(model_base, n_features_to_select=num_feats_sbsk, direction=\"backward\", scoring=\"accuracy\", cv=5)\n",
        "\n",
        "SBSk.fit(rTrainX, TrainY)"
      ]
    },
    {
      "cell_type": "code",
      "execution_count": null,
      "metadata": {
        "id": "XcTRdPuJzvRn"
      },
      "outputs": [],
      "source": [
        "print('SBS Selected Features : ', SBSk.get_support())"
      ]
    },
    {
      "cell_type": "code",
      "execution_count": null,
      "metadata": {
        "id": "KJIhWp6VzzcC"
      },
      "outputs": [],
      "source": [
        "sbskTrainX = SBSk.transform(rTrainX)\n",
        "sbskTestX = SBSk.transform(rTestX)\n",
        "\n",
        "print(sbskTrainX.shape)\n",
        "print(sbskTestX.shape)"
      ]
    },
    {
      "cell_type": "code",
      "execution_count": null,
      "metadata": {
        "id": "Zpm-_KuFz2fj"
      },
      "outputs": [],
      "source": [
        "model_sbsk = GaussianNB()\n",
        "model_sbsk.fit(sbskTrainX, TrainY)\n",
        "\n",
        "tr_pred4 = model_sbsk.predict(sbskTrainX)\n",
        "tr_acc4 = metrics.accuracy_score(TrainY, tr_pred4)\n",
        "\n",
        "ts_pred4 = model_sbsk.predict(sbskTestX)\n",
        "ts_acc4 = metrics.accuracy_score(TestY, ts_pred4)\n",
        "\n",
        "print('SBS-k Training Accuracy : ', tr_acc4)\n",
        "print('SBS-k Test Accuracy : ', ts_acc4)"
      ]
    },
    {
      "cell_type": "markdown",
      "metadata": {
        "id": "wvDN_4NO-QB9"
      },
      "source": [
        "Sequential Forward Selection (SFS)"
      ]
    },
    {
      "cell_type": "code",
      "execution_count": null,
      "metadata": {
        "id": "Oiw1Hsp8_cIe"
      },
      "outputs": [],
      "source": [
        "import joblib\n",
        "import sys\n",
        "sys.modules['sklearn.externals.joblib'] = joblib\n",
        "from mlxtend.feature_selection import SequentialFeatureSelector as sf2"
      ]
    },
    {
      "cell_type": "code",
      "execution_count": null,
      "metadata": {
        "id": "fKzk7g3kz2oi"
      },
      "outputs": [],
      "source": [
        "model_base = GaussianNB()\n",
        "\n",
        "SFS = sf2(model_base, k_features=\"best\", forward=True, floating=False, scoring='accuracy', verbose=0, cv=5)\n",
        "\n",
        "SFS.fit(rTrainX, TrainY)\n",
        "\n",
        "num_feats_sfs = len(SFS.k_feature_idx_)\n",
        "\n",
        "print('SFS Selected Features : ', SFS.k_feature_idx_)\n",
        "print('SFS Selected Number of Features : ', num_feats_sfs)"
      ]
    },
    {
      "cell_type": "code",
      "execution_count": null,
      "metadata": {
        "id": "2dWJNPcRAhKi"
      },
      "outputs": [],
      "source": [
        "selected_feats = list(SFS.k_feature_idx_)\n",
        "sfsTrainX = SFS.transform(rTrainX)\n",
        "sfsTestX = SFS.transform(rTestX)\n",
        "\n",
        "print(sfsTrainX.shape)\n",
        "print(sfsTestX.shape)"
      ]
    },
    {
      "cell_type": "code",
      "execution_count": null,
      "metadata": {
        "id": "_30R7D7g_1de"
      },
      "outputs": [],
      "source": [
        "model_sfs = GaussianNB()\n",
        "model_sfs.fit(sfsTrainX, TrainY)\n",
        "\n",
        "tr_pred5 = model_sfs.predict(sfsTrainX)\n",
        "tr_acc5 = metrics.accuracy_score(TrainY, tr_pred5)\n",
        "\n",
        "ts_pred5 = model_sfs.predict(sfsTestX)\n",
        "ts_acc5 = metrics.accuracy_score(TestY, ts_pred5)\n",
        "\n",
        "print('SFS Training Accuracy : ', tr_acc5)\n",
        "print('SFS Test Accuracy : ', ts_acc5)"
      ]
    },
    {
      "cell_type": "markdown",
      "metadata": {
        "id": "hyowWlfJ-aPa"
      },
      "source": [
        "Sequential Backward Selection (SBS)"
      ]
    },
    {
      "cell_type": "code",
      "execution_count": null,
      "metadata": {
        "id": "fywWU8SnCORD"
      },
      "outputs": [],
      "source": [
        "model_base = GaussianNB()\n",
        "\n",
        "SBS = sf2(model_base, k_features=\"best\", forward=False, floating=False, scoring='accuracy', verbose=0, cv=5)\n",
        "\n",
        "SBS.fit(rTrainX, TrainY)\n",
        "\n",
        "num_feats_sbs = len(SBS.k_feature_idx_)\n",
        "\n",
        "print('SBS Selected Features : ', SBS.k_feature_idx_)\n",
        "print('SBS Selected Number of Features : ', num_feats_sbs)"
      ]
    },
    {
      "cell_type": "code",
      "execution_count": null,
      "metadata": {
        "id": "bk_LjRl1A1lW"
      },
      "outputs": [],
      "source": [
        "selected_feats = list(SBS.k_feature_idx_)\n",
        "sbsTrainX = SBS.transform(rTrainX)\n",
        "sbsTestX = SBS.transform(rTestX)\n",
        "\n",
        "print(sbsTrainX.shape)\n",
        "print(sbsTestX.shape)"
      ]
    },
    {
      "cell_type": "code",
      "execution_count": null,
      "metadata": {
        "id": "Z1zgOjUCCPFT"
      },
      "outputs": [],
      "source": [
        "model_sbs = GaussianNB()\n",
        "model_sbs.fit(sbsTrainX, TrainY)\n",
        "\n",
        "tr_pred6 = model_sbs.predict(sbsTrainX)\n",
        "tr_acc6 = metrics.accuracy_score(TrainY, tr_pred6)\n",
        "\n",
        "ts_pred6 = model_sbs.predict(sbsTestX)\n",
        "ts_acc6 = metrics.accuracy_score(TestY, ts_pred6)\n",
        "\n",
        "print('SBS Training Accuracy : ', tr_acc6)\n",
        "print('SBS Test Accuracy : ', ts_acc6)"
      ]
    },
    {
      "cell_type": "markdown",
      "metadata": {
        "id": "JYtV-onGC6lf"
      },
      "source": [
        "Sequential Floating Forward Selection (SFFS)"
      ]
    },
    {
      "cell_type": "code",
      "execution_count": null,
      "metadata": {
        "id": "l-YkvViXyLH_"
      },
      "outputs": [],
      "source": [
        "import joblib\n",
        "import sys\n",
        "sys.modules['sklearn.externals.joblib'] = joblib\n",
        "from mlxtend.feature_selection import SequentialFeatureSelector as sf2"
      ]
    },
    {
      "cell_type": "code",
      "execution_count": null,
      "metadata": {
        "id": "HdXElYBjDCKB"
      },
      "outputs": [],
      "source": [
        "model_base = GaussianNB()\n",
        "\n",
        "SFFS = sf2(model_base, k_features=\"best\", forward=True, floating=True, scoring='accuracy', verbose=0, cv=5)\n",
        "\n",
        "SFFS.fit(rTrainX, TrainY)\n",
        "\n",
        "num_feats_sffs = len(SFFS.k_feature_idx_)\n",
        "\n",
        "print('SFFS Selected Features : ', SFFS.k_feature_idx_)\n",
        "print('SFFS Selected Number of Features : ', num_feats_sffs)"
      ]
    },
    {
      "cell_type": "code",
      "execution_count": null,
      "metadata": {
        "id": "1xUxTQiEDDux"
      },
      "outputs": [],
      "source": [
        "selected_feats = list(SFFS.k_feature_idx_)\n",
        "sffsTrainX = rTrainX[:, selected_feats]\n",
        "sffsTestX = rTestX[:, selected_feats]\n",
        "\n",
        "model_sffs = GaussianNB()\n",
        "model_sffs.fit(sffsTrainX, TrainY)\n",
        "\n",
        "tr_pred7 = model_sffs.predict(sffsTrainX)\n",
        "tr_acc7 = metrics.accuracy_score(TrainY, tr_pred7)\n",
        "\n",
        "ts_pred7 = model_sffs.predict(sffsTestX)\n",
        "ts_acc7 = metrics.accuracy_score(TestY, ts_pred7)\n",
        "\n",
        "print('SFFS Training Accuracy : ', tr_acc7)\n",
        "print('SFFS Test Accuracy : ', ts_acc7)"
      ]
    },
    {
      "cell_type": "markdown",
      "metadata": {
        "id": "ZUsxhaTyB1M-"
      },
      "source": [
        "Summary"
      ]
    },
    {
      "cell_type": "code",
      "execution_count": null,
      "metadata": {
        "id": "2PJkRTsaB2VF"
      },
      "outputs": [],
      "source": [
        "import pandas as pd\n",
        "import matplotlib.pyplot as plt"
      ]
    },
    {
      "cell_type": "code",
      "execution_count": null,
      "metadata": {
        "id": "u83-7fd0B5oe"
      },
      "outputs": [],
      "source": [
        "df = pd.DataFrame({'Train': [tr_acc, tr_acc2, tr_acc3, tr_acc4, tr_acc5, tr_acc6, tr_acc7], \n",
        "                   'Test': [ts_acc, ts_acc2, ts_acc3, ts_acc4, ts_acc5, ts_acc6, ts_acc7],\n",
        "                  'N_feats': [40, 5, num_feats_sfsk, num_feats_sbsk, num_feats_sfs, num_feats_sbs, num_feats_sffs]})\n",
        "df.index = ['None', 'BestK', 'SFS-k', 'SBS-k', 'SFS', 'SBS', 'SFFS']\n",
        "\n",
        "print(df)"
      ]
    },
    {
      "cell_type": "code",
      "execution_count": null,
      "metadata": {
        "id": "jfS-QtRPE6W3"
      },
      "outputs": [],
      "source": [
        "fig = plt.figure(figsize=(10,5))\n",
        "ax1 = fig.add_subplot(1,2,1)\n",
        "ax2 = fig.add_subplot(1,2,2)\n",
        "df[['Train','Test']].plot(ax=ax1)\n",
        "df['N_feats'].plot(ax=ax2)"
      ]
    }
  ],
  "metadata": {
    "colab": {
      "collapsed_sections": [],
      "name": "FeatureSelection.ipynb",
      "provenance": []
    },
    "kernelspec": {
      "display_name": "Python 3",
      "name": "python3"
    },
    "language_info": {
      "name": "python",
      "version": "3.7.0"
    }
  },
  "nbformat": 4,
  "nbformat_minor": 0
}
