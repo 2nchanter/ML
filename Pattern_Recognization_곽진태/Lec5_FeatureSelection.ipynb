{
  "cells": [
    {
      "cell_type": "markdown",
      "metadata": {
        "id": "NHIdlnqM4r1T"
      },
      "source": [
        "## **Feature Selection**"
      ]
    },
    {
      "cell_type": "code",
      "execution_count": 1,
      "metadata": {
        "id": "Y1qn5KIA4rLA"
      },
      "outputs": [],
      "source": [
        "from sklearn import datasets\n",
        "from sklearn.model_selection import train_test_split\n",
        "from sklearn.naive_bayes import GaussianNB\n",
        "from sklearn import svm\n",
        "from sklearn import metrics\n",
        "import numpy as np\n",
        "import pandas as pd"
      ]
    },
    {
      "cell_type": "markdown",
      "metadata": {
        "id": "J_B90tMw5xIk"
      },
      "source": [
        "**Breast Cancer Wisconsin (Diagnostic) Dataset**\n",
        "\n",
        "*   569 instances (212 Malignant, 357 Benign)\n",
        "*   30 numerical features (computed from a digitized image of a breast mass)\n",
        "*   2 classes (Malignant, Benign)"
      ]
    },
    {
      "cell_type": "code",
      "execution_count": 2,
      "metadata": {
        "id": "C2SIkngW46gk"
      },
      "outputs": [],
      "source": [
        "wisconsin = datasets.load_breast_cancer()\n",
        "TrainX, TestX, TrainY, TestY = train_test_split(wisconsin.data, wisconsin.target, train_size=0.5, random_state=999)"
      ]
    },
    {
      "cell_type": "markdown",
      "metadata": {
        "id": "qhvS-snd-E0P"
      },
      "source": [
        "Add random noise"
      ]
    },
    {
      "cell_type": "code",
      "execution_count": 3,
      "metadata": {
        "id": "u6WHJvCn-D-3"
      },
      "outputs": [
        {
          "name": "stdout",
          "output_type": "stream",
          "text": [
            "(284, 40)\n"
          ]
        }
      ],
      "source": [
        "# 각 환자마다 10개의 임의의 값들을 추가한다. (필요없는 10개의 feature를 골랐을 때를 상정한다.)\n",
        "rTrainX = np.concatenate((TrainX, np.random.randn(TrainX.shape[0], 10)), axis=1)\n",
        "rTestX = np.concatenate((TestX, np.random.randn(TestX.shape[0], 10)), axis=1)\n",
        "print(rTrainX.shape)"
      ]
    },
    {
      "cell_type": "code",
      "execution_count": 4,
      "metadata": {
        "id": "c4HZYe6W5-3u"
      },
      "outputs": [
        {
          "name": "stdout",
          "output_type": "stream",
          "text": [
            "Training Accuracy :  0.9507042253521126\n",
            "Test Accuracy :  0.9438596491228071\n"
          ]
        }
      ],
      "source": [
        "# 40개의 feature로 했을 때의 정확도\n",
        "model = GaussianNB()\n",
        "model.fit(rTrainX, TrainY)\n",
        "\n",
        "tr_pred = model.predict(rTrainX)\n",
        "tr_acc = metrics.accuracy_score(TrainY, tr_pred)\n",
        "\n",
        "ts_pred = model.predict(rTestX)\n",
        "ts_acc = metrics.accuracy_score(TestY, ts_pred)\n",
        "\n",
        "print('Training Accuracy : ', tr_acc)\n",
        "print('Test Accuracy : ', ts_acc)"
      ]
    },
    {
      "cell_type": "markdown",
      "metadata": {
        "id": "83h57NDs5YzS"
      },
      "source": [
        "**Filter Methods: Select the best K features**"
      ]
    },
    {
      "cell_type": "code",
      "execution_count": 6,
      "metadata": {
        "id": "2stfALVU7Nrt"
      },
      "outputs": [],
      "source": [
        "# 40개 중에 k개만 선택을 해보자.\n",
        "from sklearn.feature_selection import SelectKBest\n",
        "from sklearn.feature_selection import chi2, mutual_info_classif"
      ]
    },
    {
      "cell_type": "code",
      "execution_count": 7,
      "metadata": {
        "id": "qR3HpH9m6DRL"
      },
      "outputs": [
        {
          "data": {
            "text/plain": [
              "SelectKBest(k=5, score_func=<function mutual_info_classif at 0x7fdef2709ae8>)"
            ]
          },
          "execution_count": 7,
          "metadata": {},
          "output_type": "execute_result"
        }
      ],
      "source": [
        "# mutual_info_class를 사용하여 5개만 뽑아보자!\n",
        "# 전체적인 data의 경향이나, 두가지 분포가 얼마나 비슷한가 다른가,,, entropy와 관련도 있으며,,, disqution에 따라서 얼마나 차이가 나나..?\n",
        "fs_kbest = SelectKBest(mutual_info_classif, k=5)\n",
        "fs_kbest.fit(rTrainX, TrainY)          # run score function on the data"
      ]
    },
    {
      "cell_type": "code",
      "execution_count": 8,
      "metadata": {
        "id": "A2OP45Kf9quA"
      },
      "outputs": [
        {
          "name": "stdout",
          "output_type": "stream",
          "text": [
            "Feature Score :  [0.34122313 0.07928106 0.36739094 0.34990094 0.07677956 0.20077904\n",
            " 0.33149856 0.41843362 0.1134013  0.02360209 0.19226598 0.02155257\n",
            " 0.24541379 0.31792553 0.02551535 0.06101159 0.099352   0.09301305\n",
            " 0.04521892 0.03278512 0.39733898 0.12098763 0.42872919 0.42351673\n",
            " 0.09789187 0.20582183 0.25953347 0.40387076 0.0522205  0.06886198\n",
            " 0.         0.         0.         0.         0.         0.00589481\n",
            " 0.         0.         0.02500263 0.        ]\n"
          ]
        }
      ],
      "source": [
        "# 각 feature의 score가 몇인지.\n",
        "print('Feature Score : ', fs_kbest.scores_)"
      ]
    },
    {
      "cell_type": "code",
      "execution_count": 9,
      "metadata": {
        "id": "EJub6lek_lPG"
      },
      "outputs": [
        {
          "data": {
            "text/plain": [
              "array([ 7, 20, 22, 23, 27])"
            ]
          },
          "execution_count": 9,
          "metadata": {},
          "output_type": "execute_result"
        }
      ],
      "source": [
        "scores = list(fs_kbest.scores_)\n",
        "scores_idx = np.argsort(scores) # sorting된 값이 아니라 해당되는 feature를 알려준다.\n",
        "best5feats = np.sort(scores_idx[-5:])\n",
        "best5feats\n",
        "\n",
        "# 10개의 random에서 뽑히지 않았다. (31~40번)"
      ]
    },
    {
      "cell_type": "code",
      "execution_count": 10,
      "metadata": {
        "id": "PH4ccjrq3Lal"
      },
      "outputs": [
        {
          "name": "stdout",
          "output_type": "stream",
          "text": [
            "[2.944e-02 1.566e+01 1.012e+02 7.500e+02 7.453e-02]\n"
          ]
        }
      ],
      "source": [
        "# 첫번째 사람의 5개 feature 뽑아보기\n",
        "print(rTrainX[1,best5feats])"
      ]
    },
    {
      "cell_type": "code",
      "execution_count": 11,
      "metadata": {
        "id": "4caqHQyT3G-r"
      },
      "outputs": [
        {
          "name": "stdout",
          "output_type": "stream",
          "text": [
            "[2.944e-02 1.566e+01 1.012e+02 7.500e+02 7.453e-02]\n"
          ]
        }
      ],
      "source": [
        "# 위와 같은 내용\n",
        "sTrainX = fs_kbest.transform(rTrainX)  # select the best K features\n",
        "sTestX = fs_kbest.transform(rTestX)\n",
        "\n",
        "print(sTrainX[1,:])"
      ]
    },
    {
      "cell_type": "code",
      "execution_count": 13,
      "metadata": {
        "id": "vXH1Ui5T7XfQ"
      },
      "outputs": [
        {
          "name": "stdout",
          "output_type": "stream",
          "text": [
            "Filter Training Accuracy :  0.9577464788732394\n",
            "Filter Test Accuracy :  0.9403508771929825\n"
          ]
        }
      ],
      "source": [
        "model_filt = GaussianNB()\n",
        "model_filt.fit(sTrainX, TrainY)\n",
        "\n",
        "tr_pred2 = model_filt.predict(sTrainX)\n",
        "tr_acc2 = metrics.accuracy_score(TrainY, tr_pred2)\n",
        "\n",
        "ts_pred2 = model_filt.predict(sTestX)\n",
        "ts_acc2 = metrics.accuracy_score(TestY, ts_pred2)\n",
        "\n",
        "print('Filter Training Accuracy : ', tr_acc2)\n",
        "print('Filter Test Accuracy : ', ts_acc2)\n",
        "\n",
        "# 40개를 사용하나, 5개를 사용하나 거의 비슷하다."
      ]
    },
    {
      "cell_type": "markdown",
      "metadata": {
        "id": "9S54OQo675K2"
      },
      "source": [
        "**Wrapper Methods**"
      ]
    },
    {
      "cell_type": "code",
      "execution_count": null,
      "metadata": {
        "id": "1mE5HteK8hYN"
      },
      "outputs": [],
      "source": [
        "# mlxtend가 service가 안된다,,,!\n",
        "from mlxtend.feature_selection import SequentialFeatureSelector as sf"
      ]
    },
    {
      "cell_type": "markdown",
      "metadata": {
        "id": "8VvGqTM3CGxS"
      },
      "source": [
        "Sequential Forward Selection (SFS)"
      ]
    },
    {
      "cell_type": "code",
      "execution_count": null,
      "metadata": {
        "id": "Y9-i03wn8m4s"
      },
      "outputs": [],
      "source": [
        "model_base = GaussianNB()\n",
        "\n",
        "SFS = sf(model_base, k_features=\"best\", forward=True, floating=False, scoring='accuracy', verbose=0, cv=5)\n",
        "\n",
        "SFS.fit(rTrainX, TrainY)\n",
        "\n",
        "print('SFS Selected Features : ', SFS.k_feature_idx_)"
      ]
    },
    {
      "cell_type": "code",
      "execution_count": null,
      "metadata": {
        "id": "IA4Kfb8i9cHO"
      },
      "outputs": [],
      "source": [
        "selected_feats = list(SFS.k_feature_idx_)\n",
        "sfsTrainX = rTrainX[:, selected_feats]\n",
        "sfsTestX = rTestX[:, selected_feats]\n",
        "\n",
        "model_sfs = GaussianNB()\n",
        "model_sfs.fit(sfsTrainX, TrainY)\n",
        "\n",
        "tr_pred3 = model_sfs.predict(sfsTrainX)\n",
        "tr_acc3 = metrics.accuracy_score(TrainY, tr_pred3)\n",
        "\n",
        "ts_pred3 = model_sfs.predict(sfsTestX)\n",
        "ts_acc3 = metrics.accuracy_score(TestY, ts_pred3)\n",
        "\n",
        "print('SFS Training Accuracy : ', tr_acc3)\n",
        "print('SFS Test Accuracy : ', ts_acc3)"
      ]
    },
    {
      "cell_type": "markdown",
      "metadata": {
        "id": "FNKh_p1VCLKq"
      },
      "source": [
        "Sequential Backward Selection (SBS)"
      ]
    },
    {
      "cell_type": "code",
      "execution_count": null,
      "metadata": {
        "id": "fywWU8SnCORD"
      },
      "outputs": [],
      "source": [
        "model_base = GaussianNB()\n",
        "\n",
        "SBS = sf(model_base, k_features=\"best\", forward=False, floating=False, scoring='accuracy', verbose=0, cv=5)\n",
        "\n",
        "SBS.fit(rTrainX, TrainY)\n",
        "\n",
        "print('SBS Selected Features : ', SBS.k_feature_idx_)"
      ]
    },
    {
      "cell_type": "code",
      "execution_count": null,
      "metadata": {
        "id": "Z1zgOjUCCPFT"
      },
      "outputs": [],
      "source": [
        "selected_feats = list(SBS.k_feature_idx_)\n",
        "sbsTrainX = rTrainX[:, selected_feats]\n",
        "sbsTestX = rTestX[:, selected_feats]\n",
        "\n",
        "model_sbs = GaussianNB()\n",
        "model_sbs.fit(sbsTrainX, TrainY)\n",
        "\n",
        "tr_pred4 = model_sbs.predict(sbsTrainX)\n",
        "tr_acc4 = metrics.accuracy_score(TrainY, tr_pred4)\n",
        "\n",
        "ts_pred4 = model_sbs.predict(sbsTestX)\n",
        "ts_acc4 = metrics.accuracy_score(TestY, ts_pred4)\n",
        "\n",
        "print('SBS Training Accuracy : ', tr_acc4)\n",
        "print('SBS Test Accuracy : ', ts_acc4)"
      ]
    },
    {
      "cell_type": "markdown",
      "metadata": {
        "id": "JYtV-onGC6lf"
      },
      "source": [
        "Sequential Floating Forward Selection (SFFS)"
      ]
    },
    {
      "cell_type": "code",
      "execution_count": null,
      "metadata": {
        "id": "HdXElYBjDCKB"
      },
      "outputs": [],
      "source": [
        "model_base = GaussianNB()\n",
        "\n",
        "SFFS = sf(model_base, k_features=\"best\", forward=True, floating=True, scoring='accuracy', verbose=0, cv=5)\n",
        "\n",
        "SFFS.fit(rTrainX, TrainY)\n",
        "\n",
        "print('SFFS Selected Features : ', SFFS.k_feature_idx_)"
      ]
    },
    {
      "cell_type": "code",
      "execution_count": null,
      "metadata": {
        "id": "1xUxTQiEDDux"
      },
      "outputs": [],
      "source": [
        "selected_feats = list(SFFS.k_feature_idx_)\n",
        "sffsTrainX = rTrainX[:, selected_feats]\n",
        "sffsTestX = rTestX[:, selected_feats]\n",
        "\n",
        "model_sffs = GaussianNB()\n",
        "model_sffs.fit(sffsTrainX, TrainY)\n",
        "\n",
        "tr_pred5 = model_sffs.predict(sffsTrainX)\n",
        "tr_acc5 = metrics.accuracy_score(TrainY, tr_pred5)\n",
        "\n",
        "ts_pred5 = model_sffs.predict(sffsTestX)\n",
        "ts_acc5 = metrics.accuracy_score(TestY, ts_pred5)\n",
        "\n",
        "print('SFFS Training Accuracy : ', tr_acc5)\n",
        "print('SFFS Test Accuracy : ', ts_acc5)"
      ]
    }
  ],
  "metadata": {
    "colab": {
      "collapsed_sections": [],
      "name": "FeatureSelection.ipynb",
      "provenance": []
    },
    "kernelspec": {
      "display_name": "Python 3",
      "name": "python3"
    },
    "language_info": {
      "codemirror_mode": {
        "name": "ipython",
        "version": 3
      },
      "file_extension": ".py",
      "mimetype": "text/x-python",
      "name": "python",
      "nbconvert_exporter": "python",
      "pygments_lexer": "ipython3",
      "version": "3.7.0"
    }
  },
  "nbformat": 4,
  "nbformat_minor": 0
}
