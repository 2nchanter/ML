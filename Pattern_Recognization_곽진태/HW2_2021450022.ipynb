{
 "cells": [
  {
   "cell_type": "markdown",
   "metadata": {},
   "source": [
    "Problem 1. (2points)\n",
    "Open a new notebook in Google Colab and name the notebook as ‘HW2_your-student-id.ipynb’. (For\n",
    "instance, ‘HW2_00112233.ipynb’ if your student id is 00112233)"
   ]
  },
  {
   "cell_type": "markdown",
   "metadata": {},
   "source": [
    "Problem 2. (6points)\n",
    "Import the following libraries.\n",
    "1. numpy\n",
    "2. datasets, train_test_split, GaussianNB, metrics from sklearn\n",
    "3. pyplot from matplotlib"
   ]
  },
  {
   "cell_type": "code",
   "execution_count": 36,
   "metadata": {},
   "outputs": [],
   "source": [
    "import numpy as np\n",
    "from sklearn import datasets\n",
    "from sklearn.model_selection import train_test_split\n",
    "from sklearn.naive_bayes import GaussianNB\n",
    "from sklearn import metrics\n",
    "import matplotlib.pyplot as plt"
   ]
  },
  {
   "cell_type": "markdown",
   "metadata": {},
   "source": [
    "Problem 3. (4points)\n",
    "Load the dataset “digits” from “sklearn.datasets”. (Use “load_digits()”)"
   ]
  },
  {
   "cell_type": "code",
   "execution_count": 37,
   "metadata": {},
   "outputs": [],
   "source": [
    "digits = datasets.load_digits()"
   ]
  },
  {
   "cell_type": "markdown",
   "metadata": {},
   "source": [
    "Problem 4. (4points)\n",
    "Split the “digits” dataset (Use “digits.data” and “digits.target”) into training and test datasets using\n",
    "“train_test_split”.\n",
    "Must set the fraction of the test dataset to 10%."
   ]
  },
  {
   "cell_type": "code",
   "execution_count": 38,
   "metadata": {},
   "outputs": [
    {
     "name": "stdout",
     "output_type": "stream",
     "text": [
      "(1617, 64)\n",
      "(180, 64)\n"
     ]
    }
   ],
   "source": [
    "TrainX, TestX, TrainY, TestY = train_test_split(digits.data, digits.target, test_size=0.1, random_state=0)\n",
    "print(TrainX.shape)\n",
    "print(TestX.shape)"
   ]
  },
  {
   "cell_type": "markdown",
   "metadata": {},
   "source": [
    "Problem 5. (4points)\n",
    "Train a Naïve Bayes model on the training dataset."
   ]
  },
  {
   "cell_type": "code",
   "execution_count": 39,
   "metadata": {},
   "outputs": [
    {
     "data": {
      "text/plain": [
       "GaussianNB()"
      ]
     },
     "execution_count": 39,
     "metadata": {},
     "output_type": "execute_result"
    }
   ],
   "source": [
    "model = GaussianNB()\n",
    "model.fit(TrainX,TrainY)"
   ]
  },
  {
   "cell_type": "markdown",
   "metadata": {},
   "source": [
    "Problem 6. (4points)\n",
    "Use the trained model to conduct prediction on the training dataset and test dataset"
   ]
  },
  {
   "cell_type": "code",
   "execution_count": 40,
   "metadata": {},
   "outputs": [],
   "source": [
    "pred_train = model.predict(TrainX)\n",
    "pred_test = model.predict(TestX)"
   ]
  },
  {
   "cell_type": "markdown",
   "metadata": {},
   "source": [
    "Problem 7. (4points)\n",
    "Compute “accuracy” on the training dataset and test dataset. (Use “metrics”)"
   ]
  },
  {
   "cell_type": "code",
   "execution_count": 41,
   "metadata": {},
   "outputs": [
    {
     "name": "stdout",
     "output_type": "stream",
     "text": [
      "tr Acc :  0.8515769944341373\n",
      "ts Acc :  0.85\n"
     ]
    }
   ],
   "source": [
    "tr_acc1 = metrics.accuracy_score(TrainY, pred_train)\n",
    "ts_acc1 = metrics.accuracy_score(TestY, pred_test)\n",
    "print('tr Acc : ', tr_acc1)\n",
    "print('ts Acc : ', ts_acc1)"
   ]
  },
  {
   "cell_type": "markdown",
   "metadata": {},
   "source": [
    "Problem 8. (15points)\n",
    "* Repeat Problem 4 ~ 7 as setting the fraction of the test dataset to 30%."
   ]
  },
  {
   "cell_type": "code",
   "execution_count": 42,
   "metadata": {},
   "outputs": [
    {
     "name": "stdout",
     "output_type": "stream",
     "text": [
      "tr Acc :  0.8591885441527446\n",
      "ts Acc :  0.8240740740740741\n"
     ]
    }
   ],
   "source": [
    "TrainX, TestX, TrainY, TestY = train_test_split(digits.data, digits.target, test_size=0.3, random_state=0)\n",
    "model = GaussianNB()\n",
    "model.fit(TrainX,TrainY)\n",
    "pred_train = model.predict(TrainX)\n",
    "pred_test = model.predict(TestX)\n",
    "tr_acc2 = metrics.accuracy_score(TrainY, pred_train)\n",
    "ts_acc2 = metrics.accuracy_score(TestY, pred_test)\n",
    "print('tr Acc : ', tr_acc2)\n",
    "print('ts Acc : ', ts_acc2)"
   ]
  },
  {
   "cell_type": "markdown",
   "metadata": {},
   "source": [
    "Problem 9. (15points)\n",
    "* Repeat Problem 4 ~ 7 as setting the fraction of the test dataset to 50%."
   ]
  },
  {
   "cell_type": "code",
   "execution_count": 43,
   "metadata": {},
   "outputs": [
    {
     "name": "stdout",
     "output_type": "stream",
     "text": [
      "tr Acc :  0.8752783964365256\n",
      "ts Acc :  0.8342602892102335\n"
     ]
    }
   ],
   "source": [
    "TrainX, TestX, TrainY, TestY = train_test_split(digits.data, digits.target, test_size=0.5, random_state=0)\n",
    "model = GaussianNB()\n",
    "model.fit(TrainX,TrainY)\n",
    "pred_train = model.predict(TrainX)\n",
    "pred_test = model.predict(TestX)\n",
    "tr_acc3 = metrics.accuracy_score(TrainY, pred_train)\n",
    "ts_acc3 = metrics.accuracy_score(TestY, pred_test)\n",
    "print('tr Acc : ', tr_acc3)\n",
    "print('ts Acc : ', ts_acc3)"
   ]
  },
  {
   "cell_type": "markdown",
   "metadata": {},
   "source": [
    "Problem 10. (15points)\n",
    "* Repeat Problem 4 ~ 7 as setting the fraction of the test dataset to 70%."
   ]
  },
  {
   "cell_type": "code",
   "execution_count": 44,
   "metadata": {},
   "outputs": [
    {
     "name": "stdout",
     "output_type": "stream",
     "text": [
      "tr Acc :  0.8682745825602969\n",
      "ts Acc :  0.8251192368839427\n"
     ]
    }
   ],
   "source": [
    "TrainX, TestX, TrainY, TestY = train_test_split(digits.data, digits.target, test_size=0.7, random_state=0)\n",
    "model = GaussianNB()\n",
    "model.fit(TrainX,TrainY)\n",
    "pred_train = model.predict(TrainX)\n",
    "pred_test = model.predict(TestX)\n",
    "tr_acc4 = metrics.accuracy_score(TrainY, pred_train)\n",
    "ts_acc4 = metrics.accuracy_score(TestY, pred_test)\n",
    "print('tr Acc : ', tr_acc4)\n",
    "print('ts Acc : ', ts_acc4)"
   ]
  },
  {
   "cell_type": "markdown",
   "metadata": {},
   "source": [
    "Problem 11. (15points)\n",
    "* Repeat Problem 4 ~ 7 as setting the fraction of the test dataset to 90%."
   ]
  },
  {
   "cell_type": "code",
   "execution_count": 45,
   "metadata": {},
   "outputs": [
    {
     "name": "stdout",
     "output_type": "stream",
     "text": [
      "tr Acc :  0.8682745825602969\n",
      "ts Acc :  0.8251192368839427\n"
     ]
    }
   ],
   "source": [
    "TrainX, TestX, TrainY, TestY = train_test_split(digits.data, digits.target, test_size=0.7, random_state=0)\n",
    "model = GaussianNB()\n",
    "model.fit(TrainX,TrainY)\n",
    "pred_train = model.predict(TrainX)\n",
    "pred_test = model.predict(TestX)\n",
    "tr_acc5 = metrics.accuracy_score(TrainY, pred_train)\n",
    "ts_acc5 = metrics.accuracy_score(TestY, pred_test)\n",
    "print('tr Acc : ', tr_acc5)\n",
    "print('ts Acc : ', ts_acc5)\n"
   ]
  },
  {
   "cell_type": "markdown",
   "metadata": {},
   "source": [
    "Problem 12. (10points)\n",
    "Plot (“plot” in pyplot) the training and test accuracy of the above experiments (i.e., results for the\n",
    "experiments with the ratio of the test dataset 10%, 30%, 50%, 70%, and 90%) in an ascending order of the\n",
    "fraction of the test dataset."
   ]
  },
  {
   "cell_type": "code",
   "execution_count": 50,
   "metadata": {},
   "outputs": [
    {
     "data": {
      "image/png": "[encoded data removed]",
      "text/plain": [
       "<Figure size 432x288 with 1 Axes>"
      ]
     },
     "metadata": {
      "needs_background": "light"
     },
     "output_type": "display_data"
    }
   ],
   "source": [
    "plt.plot(['10%', '30%', '50%', '70%', '90%'], [tr_acc1, tr_acc2, tr_acc3, tr_acc4, tr_acc5], color='b', label='Train')\n",
    "plt.plot(['10%', '30%', '50%', '70%', '90%'], [ts_acc1, ts_acc2, ts_acc4, ts_acc5, ts_acc5], color='r', label='Test')\n",
    "\n",
    "plt.ylim([0.82, 0.88])\n",
    "plt.legend(loc='best')\n",
    "plt.show()"
   ]
  },
  {
   "cell_type": "markdown",
   "metadata": {},
   "source": [
    "Problem 13. (2points)\n",
    "Submit your notebook file ‘HW2_your-student-id.ipynb’ to “Blackboard”."
   ]
  }
 ],
 "metadata": {
  "interpreter": {
   "hash": "53e118947077c4ac14cd9b5bd8ffefe9287941f870ede6c6d93932b2f5dedd6a"
  },
  "kernelspec": {
   "display_name": "Python 3.7.0 64-bit ('test1': conda)",
   "name": "python3"
  },
  "language_info": {
   "codemirror_mode": {
    "name": "ipython",
    "version": 3
   },
   "file_extension": ".py",
   "mimetype": "text/x-python",
   "name": "python",
   "nbconvert_exporter": "python",
   "pygments_lexer": "ipython3",
   "version": "3.7.0"
  },
  "orig_nbformat": 4
 },
 "nbformat": 4,
 "nbformat_minor": 2
}
