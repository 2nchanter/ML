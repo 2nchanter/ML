{
 "cells": [
  {
   "cell_type": "code",
   "execution_count": null,
   "metadata": {},
   "outputs": [],
   "source": [
    "import torch\n",
    "import torch.nn as nn\n",
    "import torch.nn.functional as F\n",
    "import torchvision\n",
    "import torchvision.transforms as transforms\n",
    "from torchsummary import summary"
   ]
  },
  {
   "cell_type": "code",
   "execution_count": null,
   "metadata": {},
   "outputs": [],
   "source": [
    "BATCH_SIZE = 32\n",
    "transform = transforms.Compose([transforms.ToTensor()])\n",
    "\n",
    "mnist_trainset = torchvision.datasets.MNIST(root='./data', train=True, download=True, transform=transform)\n",
    "mnist_trainloader = torch.utils.data.DataLoader(mnist_trainset, batch_size=BATCH_SIZE, shuffle=True, num_workers=1)\n",
    "\n",
    "mnist_testset = torchvision.datasets.MNIST(root='./data', train=False, download=True, transform=transform)\n",
    "mnist_testloader = torch.utils.data.DataLoader(mnist_testset, batch_size=BATCH_SIZE, shuffle=False, num_workers=1)\n",
    "\n",
    "print(mnist_trainset)\n",
    "print(mnist_testset)"
   ]
  },
  {
   "cell_type": "code",
   "execution_count": null,
   "metadata": {},
   "outputs": [],
   "source": [
    "import matplotlib.pyplot as plt\n",
    "import numpy as np\n",
    "\n",
    "mnist_dataiter = iter(mnist_trainloader)\n",
    "images, labels = mnist_dataiter.next()\n",
    "\n",
    "# print(images.shape)\n",
    "for images, labels in mnist_trainloader:\n",
    "    print(\"Train - image batch dimensions:\", images.shape)\n",
    "    print(\"Train - image label dimensions:\", labels.shape)\n",
    "    break\n",
    "\n",
    "# print(labels.shape)\n",
    "for images, labels in mnist_testloader:\n",
    "    print(\"Test - image batch dimensions:\", images.shape)\n",
    "    print(\"Test - image label dimensions:\", labels.shape)\n",
    "    break\n",
    "\n",
    "images_grid = torchvision.utils.make_grid(images)\n",
    "print((images_grid.numpy()).shape)\n",
    "# print(np.transpose(images_grid.numpy(), (1, 2, 0)))\n",
    "print(np.transpose(images_grid.numpy(), (1, 2, 0)).shape)\n",
    "plt.imshow(np.transpose(images_grid.numpy(), (1, 2, 0)))\n",
    "plt.axis('off')\n",
    "plt.show()"
   ]
  },
  {
   "cell_type": "code",
   "execution_count": null,
   "metadata": {},
   "outputs": [],
   "source": [
    "class SimpleModel(nn.Module):\n",
    "    def __init__(self):\n",
    "        super(SimpleModel, self).__init__()\n",
    "\n",
    "        self.convlayer = nn.Conv2d(in_channels=1, out_channels=32, kernel_size=3)\n",
    "        self.fclayer1 = nn.Linear(26 * 26 * 32, 128)\n",
    "        self.fclayer2 = nn.Linear(128, 10)\n",
    "\n",
    "    def forward(self, x):\n",
    "        x = self.convlayer(x)        # input: 32x1x28x28    -> output: 32x32x26x26\n",
    "        x = F.relu(x)\n",
    "        x = x.flatten(start_dim = 1) # input: 32x32x26x26   -> output: 32x(32*26*26)\n",
    "        x = self.fclayer1(x)         # input: 32x(32*26*26) -> output: 32x128\n",
    "        x = F.relu(x)\n",
    "        logits = self.fclayer2(x)    # input: 32x128        -> output: 32x10 (32 images, 10 classes)\n",
    "        out = F.softmax(logits, dim=1)\n",
    "        return out\n",
    "\n",
    "model = SimpleModel()\n",
    "for images, labels in mnist_trainloader:\n",
    "    print(\"batch size:\", images.shape)\n",
    "    out = model(images)\n",
    "    print(out.shape)\n",
    "    break\n",
    "\n",
    "summary(model, input_size=(1,28,28))"
   ]
  },
  {
   "cell_type": "code",
   "execution_count": null,
   "metadata": {},
   "outputs": [],
   "source": [
    "def compute_stat(outputs, labels, stats):\n",
    "    _, preds = torch.max(outputs, 1)\n",
    "    stats['n_corr'] += torch.sum(preds == labels).item()\n",
    "    stats['n'] += torch.numel(labels)\n",
    "\n",
    "    return stats\n",
    "\n",
    "def train_model(model, criterion, optimizer, trainloader, device, num_epochs=25):\n",
    "  epoch_stat = {'n_corr': 0, 'n': 0}\n",
    "\n",
    "  for epoch in range(num_epochs):\n",
    "      train_running_loss = 0.0\n",
    "      train_acc = 0.0\n",
    "\n",
    "      model.train()  # Set model to training mode\n",
    "\n",
    "      for i, (images, labels) in enumerate(trainloader): # training step / batch 하나씩 처리하는 for문\n",
    "          \n",
    "          images = images.to(device) # cpu에서 gpu로 data 넘김\n",
    "          labels = labels.to(device)\n",
    "          optimizer.zero_grad() # grdient 초기 상태로\n",
    "\n",
    "          outputs = model(images) # feed forward\n",
    "          loss = criterion(outputs, labels) # 오차\n",
    "          loss.backward() # backprop : loss에 따라 gradient가 계산됨\n",
    "          optimizer.step() # weight 값들이 조절됨\n",
    "\n",
    "          train_running_loss += loss.detach().item() # 에러값이 어떻게 계산되었는지 확인하기위해 더하주고 있음\n",
    "          epoch_stat = compute_stat(outputs, labels, epoch_stat) # 얼마나 정답인지 등 stat 표기.\n",
    "      \n",
    "      model.eval() # evaluation(평가) mode로 전환\n",
    "      print('Epoch: %d | Loss: %.4f | Train Accuracy: %.2f' \\\n",
    "            %(epoch, train_running_loss / i, epoch_stat['n_corr'] / epoch_stat['n'] * 100)) \n",
    "      \n",
    "  return model\n",
    "\n",
    "device = torch.device(\"cuda:0\" if torch.cuda.is_available() else \"cpu\")\n",
    "print(device)\n",
    "model = SimpleModel()\n",
    "model = model.to(device) # cpu에서 gpu로 data 넘김\n",
    "\n",
    "criterion = nn.CrossEntropyLoss() # loss function\n",
    "optimizer = torch.optim.SGD(model.parameters(), lr=0.1, momentum=0.9) # optimization\n",
    "num_epochs = 5\n",
    "\n",
    "model = train_model(model, criterion, optimizer, mnist_trainloader, device, num_epochs)"
   ]
  },
  {
   "cell_type": "code",
   "execution_count": null,
   "metadata": {},
   "outputs": [],
   "source": [
    "model.eval() # Set model to evaluate mode\n",
    "\n",
    "test_stat = {'n_corr': 0, 'n': 0}\n",
    "for i, (images, labels) in enumerate(mnist_testloader, 0):\n",
    "    images = images.to(device)\n",
    "    labels = labels.to(device)\n",
    "    outputs = model(images)\n",
    "    test_stat = compute_stat(outputs, labels, test_stat)\n",
    "        \n",
    "print('Test Accuracy: %.2f'%( test_stat['n_corr'] / test_stat['n'] * 100))"
   ]
  },
  {
   "cell_type": "markdown",
   "metadata": {},
   "source": [
    "----------"
   ]
  },
  {
   "cell_type": "code",
   "execution_count": null,
   "metadata": {},
   "outputs": [],
   "source": [
    "import torch\n",
    "import torch.nn as nn\n",
    "import torch.optim as optim\n",
    "import numpy as np\n",
    "import torchvision\n",
    "from torchvision import datasets, models, transforms\n",
    "import matplotlib.pyplot as plt\n",
    "from torchsummary import summary"
   ]
  },
  {
   "cell_type": "code",
   "execution_count": null,
   "metadata": {},
   "outputs": [],
   "source": [
    "BATCH_SIZE = 64\n",
    "\n",
    "transform = transforms.Compose([transforms.ToTensor()])\n",
    "\n",
    "cifar_trainset = torchvision.datasets.CIFAR10(root='./data', train=True, download=True, transform=transform)\n",
    "cifar_trainloader = torch.utils.data.DataLoader(cifar_trainset, batch_size=BATCH_SIZE, shuffle=True, num_workers=1)\n",
    "\n",
    "cifar_testset = torchvision.datasets.CIFAR10(root='./data', train=False, download=True, transform=transform)\n",
    "cifar_testloader = torch.utils.data.DataLoader(cifar_testset, batch_size=BATCH_SIZE, shuffle=False, num_workers=1)"
   ]
  },
  {
   "cell_type": "code",
   "execution_count": null,
   "metadata": {},
   "outputs": [],
   "source": [
    "import matplotlib.pyplot as plt\n",
    "import numpy as np\n",
    "\n",
    "dataiter = iter(cifar_trainloader) # get some random training images\n",
    "images, labels = dataiter.next()\n",
    "\n",
    "images_grid = torchvision.utils.make_grid(images) # show images\n",
    "plt.imshow(np.transpose(images_grid.numpy(), (1, 2, 0)))\n",
    "plt.axis('off')\n",
    "plt.show()\n",
    "\n",
    "for images, labels in cifar_trainloader:\n",
    "    print(\"Train - image batch dimensions:\", images.shape)\n",
    "    print(\"Train - image label dimensions:\", labels.shape)\n",
    "    break\n",
    "\n",
    "for images, labels in cifar_testloader:\n",
    "    print(\"Test - image batch dimensions:\", images.shape)\n",
    "    print(\"Test - image label dimensions:\", labels.shape)\n",
    "    break"
   ]
  },
  {
   "cell_type": "code",
   "execution_count": null,
   "metadata": {},
   "outputs": [],
   "source": [
    "device = torch.device(\"cuda:0\" if torch.cuda.is_available() else \"cpu\")\n",
    "\n",
    "model_ft = models.resnet18(pretrained=True) # load the existing model (Resnet18) / pretrained model: 선 학습된 weight 가져온다.\n",
    "model_ft = model_ft.to(device)\n",
    "print(model_ft)"
   ]
  },
  {
   "cell_type": "code",
   "execution_count": null,
   "metadata": {},
   "outputs": [],
   "source": [
    "summary(model_ft, input_size=(3,32,32))"
   ]
  },
  {
   "cell_type": "code",
   "execution_count": null,
   "metadata": {},
   "outputs": [],
   "source": [
    "print(model_ft.fc)\n",
    "\n",
    "fc_num_in_fts = model_ft.fc.in_features\n",
    "fc_num_out_fts = model_ft.fc.out_features\n",
    "print('LAST - fc: ', fc_num_in_fts, fc_num_out_fts)\n",
    "\n",
    "model_ft.fc = nn.Linear(fc_num_in_fts, 10)\n",
    "model_ft = model_ft.to(device)\n",
    "summary(model_ft, input_size=(3,32,32))"
   ]
  },
  {
   "cell_type": "code",
   "execution_count": null,
   "metadata": {},
   "outputs": [],
   "source": [
    "device = torch.device(\"cuda:0\" if torch.cuda.is_available() else \"cpu\")\n",
    "\n",
    "criterion_ft = nn.CrossEntropyLoss() # loss function\n",
    "optimizer_ft = optim.Adam(model_ft.parameters(), lr=1e-4) # optimization\n",
    "\n",
    "model_ft = train_model(model_ft, criterion_ft, optimizer_ft, cifar_trainloader, device, num_epochs=5)"
   ]
  },
  {
   "cell_type": "code",
   "execution_count": null,
   "metadata": {},
   "outputs": [],
   "source": [
    "test_stat = {'n_corr': 0, 'n': 0}\n",
    "for i, (images, labels) in enumerate(cifar_testloader, 0):\n",
    "    images = images.to(device)\n",
    "    labels = labels.to(device)\n",
    "    outputs = model_ft(images)\n",
    "    test_stat = compute_stat(outputs, labels, test_stat)\n",
    "        \n",
    "print('Test Accuracy: %.2f'%( test_stat['n_corr'] / test_stat['n'] * 100))"
   ]
  },
  {
   "cell_type": "code",
   "execution_count": null,
   "metadata": {},
   "outputs": [],
   "source": [
    "device = torch.device(\"cuda:0\" if torch.cuda.is_available() else \"cpu\")\n",
    "\n",
    "model_ft2 = models.resnet18(pretrained=True) # load the existing model (Resnet18), use weights from ImageNet dataset\n",
    "model_ft2 = model_ft2.to(device)\n",
    "\n",
    "print(model_ft2.conv1)"
   ]
  },
  {
   "cell_type": "code",
   "execution_count": null,
   "metadata": {},
   "outputs": [],
   "source": [
    "conv1_num_in_fts2 = model_ft2.conv1.in_channels\n",
    "conv1_num_out_fts2 = model_ft2.conv1.out_channels\n",
    "print('FIRST - conv1 : ', conv1_num_in_fts2, conv1_num_out_fts2)\n",
    "\n",
    "fc_num_in_fts2 = model_ft2.fc.in_features\n",
    "fc_num_out_fts2 = model_ft2.fc.out_features\n",
    "print('LAST - fc: ', fc_num_in_fts2, fc_num_out_fts2)"
   ]
  },
  {
   "cell_type": "code",
   "execution_count": null,
   "metadata": {},
   "outputs": [],
   "source": [
    "model_ft2.conv1 = nn.Conv2d(in_channels=1, out_channels=64, kernel_size=7, stride=1, padding=3, bias=False)\n",
    "\n",
    "model_ft2.fc = nn.Linear(fc_num_in_fts2, 10)  # 10 classes\n",
    "\n",
    "model_ft2 = model_ft2.to(device)\n",
    "summary(model_ft2, input_size=(1,28,28))"
   ]
  },
  {
   "cell_type": "code",
   "execution_count": null,
   "metadata": {},
   "outputs": [],
   "source": [
    "criterion_ft2 = nn.CrossEntropyLoss() # loss function\n",
    "optimizer_ft2 = optim.Adam(model_ft2.parameters(), lr=1e-3) # optimization\n",
    "\n",
    "model_ft2 = train_model(model_ft2, criterion_ft2, optimizer_ft2, mnist_trainloader, device, num_epochs=5)"
   ]
  },
  {
   "cell_type": "code",
   "execution_count": null,
   "metadata": {},
   "outputs": [],
   "source": [
    "test_stat = {'n_corr': 0, 'n': 0}\n",
    "for i, (images, labels) in enumerate(mnist_testloader, 0):\n",
    "    images = images.to(device)\n",
    "    labels = labels.to(device)\n",
    "    outputs = model_ft2(images)\n",
    "    test_stat = compute_stat(outputs, labels, test_stat)\n",
    "        \n",
    "print('Test Accuracy: %.2f'%( test_stat['n_corr'] / test_stat['n'] * 100))"
   ]
  }
 ],
 "metadata": {
  "interpreter": {
   "hash": "53e118947077c4ac14cd9b5bd8ffefe9287941f870ede6c6d93932b2f5dedd6a"
  },
  "kernelspec": {
   "display_name": "Python 3.7.0 64-bit ('test1': conda)",
   "language": "python",
   "name": "python3"
  },
  "language_info": {
   "codemirror_mode": {
    "name": "ipython",
    "version": 3
   },
   "file_extension": ".py",
   "mimetype": "text/x-python",
   "name": "python",
   "nbconvert_exporter": "python",
   "pygments_lexer": "ipython3",
   "version": "3.7.0"
  },
  "orig_nbformat": 4
 },
 "nbformat": 4,
 "nbformat_minor": 2
}
