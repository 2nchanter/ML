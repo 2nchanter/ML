{
  "nbformat": 4,
  "nbformat_minor": 0,
  "metadata": {
    "anaconda-cloud": {},
    "kernelspec": {
      "display_name": "Python 3",
      "language": "python",
      "name": "python3"
    },
    "language_info": {
      "codemirror_mode": {
        "name": "ipython",
        "version": 3
      },
      "file_extension": ".py",
      "mimetype": "text/x-python",
      "name": "python",
      "nbconvert_exporter": "python",
      "pygments_lexer": "ipython3",
      "version": "3.7.3"
    },
    "colab": {
      "name": "FeatureExtraction.ipynb",
      "provenance": [],
      "collapsed_sections": []
    }
  },
  "cells": [
    {
      "cell_type": "markdown",
      "metadata": {
        "id": "yAUsQq8fmu3c"
      },
      "source": [
        "## **Feature Extraction**"
      ]
    },
    {
      "cell_type": "markdown",
      "metadata": {
        "id": "bbkfHwmFHHxx"
      },
      "source": [
        "Import libraries"
      ]
    },
    {
      "cell_type": "code",
      "metadata": {
        "id": "jpcLDizhmu4z"
      },
      "source": [
        "%matplotlib inline\n",
        "import matplotlib.pyplot as plt\n",
        "import pandas as pd\n",
        "import numpy as np\n",
        "from skimage import data, filters"
      ],
      "execution_count": null,
      "outputs": []
    },
    {
      "cell_type": "markdown",
      "metadata": {
        "id": "tcarl-DNHJdI"
      },
      "source": [
        "Load an image"
      ]
    },
    {
      "cell_type": "code",
      "metadata": {
        "id": "3_EiJmIYrSnZ"
      },
      "source": [
        "coffeeimage = data.coffee()\n",
        "plt.imshow(coffeeimage)"
      ],
      "execution_count": null,
      "outputs": []
    },
    {
      "cell_type": "code",
      "metadata": {
        "id": "V_vJPfc9AmgA"
      },
      "source": [
        "print(coffeeimage.shape)"
      ],
      "execution_count": null,
      "outputs": []
    },
    {
      "cell_type": "markdown",
      "metadata": {
        "id": "rpCfpY6kHNX4"
      },
      "source": [
        "Draw a histogram of an image"
      ]
    },
    {
      "cell_type": "code",
      "metadata": {
        "id": "EfEIEtAmyBww"
      },
      "source": [
        "from skimage.exposure import histogram\n",
        "\n",
        "hist, hist_centers = histogram(coffeeimage)"
      ],
      "execution_count": null,
      "outputs": []
    },
    {
      "cell_type": "code",
      "metadata": {
        "id": "qU2XyAsQzGrB"
      },
      "source": [
        "plt.plot(hist_centers, hist)"
      ],
      "execution_count": null,
      "outputs": []
    },
    {
      "cell_type": "markdown",
      "metadata": {
        "id": "C3jcFiesHRk1"
      },
      "source": [
        "Convert a RGB image into a grayscale image"
      ]
    },
    {
      "cell_type": "code",
      "metadata": {
        "id": "EO-7JT1HzV4R"
      },
      "source": [
        "from skimage.color import rgb2gray\n",
        "\n",
        "gray_coffeeimage = rgb2gray(coffeeimage)\n",
        "\n",
        "plt.imshow(gray_coffeeimage, cmap=plt.cm.gray)\n",
        "plt.show()"
      ],
      "execution_count": null,
      "outputs": []
    },
    {
      "cell_type": "markdown",
      "metadata": {
        "id": "2f24SH2vHXJM"
      },
      "source": [
        "Separate RGB color channels"
      ]
    },
    {
      "cell_type": "code",
      "metadata": {
        "id": "A1F0IOmz4Gdf"
      },
      "source": [
        "R = coffeeimage[:,:,0]\n",
        "G = coffeeimage[:,:,1]\n",
        "B = coffeeimage[:,:,2]\n",
        "print(R.shape)\n",
        "print(G.shape)\n",
        "print(B.shape)"
      ],
      "execution_count": null,
      "outputs": []
    },
    {
      "cell_type": "code",
      "metadata": {
        "id": "NXADaLcoTC-3"
      },
      "source": [
        "plt.figure(figsize=(15,5))\n",
        "plt.subplot(1,3,1)\n",
        "plt.imshow(R, cmap=plt.cm.gray)\n",
        "plt.title('Red Channel')\n",
        "plt.subplot(1,3,2)\n",
        "plt.imshow(G, cmap=plt.cm.gray)\n",
        "plt.title('Green Channel')\n",
        "plt.subplot(1,3,3)\n",
        "plt.imshow(B, cmap=plt.cm.gray)\n",
        "plt.title('Blue Channel')"
      ],
      "execution_count": null,
      "outputs": []
    },
    {
      "cell_type": "markdown",
      "metadata": {
        "id": "i7ymOUbTHba8"
      },
      "source": [
        "Draw a histogram per color channel"
      ]
    },
    {
      "cell_type": "code",
      "metadata": {
        "id": "KaqIeL3qz0Bs"
      },
      "source": [
        "Rhist, Rhist_centers = histogram(R)\n",
        "Ghist, Ghist_centers = histogram(G)\n",
        "Bhist, Bhist_centers = histogram(B)\n",
        "\n",
        "plt.figure(figsize=(15,5))\n",
        "plt.subplot(1,3,1)\n",
        "plt.plot(Rhist_centers, Rhist)\n",
        "plt.title('Red Channel')\n",
        "plt.subplot(1,3,2)\n",
        "plt.plot(Ghist_centers, Ghist)\n",
        "plt.title('Green Channel')\n",
        "plt.subplot(1,3,3)\n",
        "plt.plot(Bhist_centers, Bhist)\n",
        "plt.title('Blue Channel')"
      ],
      "execution_count": null,
      "outputs": []
    },
    {
      "cell_type": "markdown",
      "metadata": {
        "id": "yDBFGsHmFpnJ"
      },
      "source": [
        "**Statistical Features**"
      ]
    },
    {
      "cell_type": "code",
      "metadata": {
        "id": "xjOl7Vfk4PMg"
      },
      "source": [
        "from scipy.stats import skew, kurtosis"
      ],
      "execution_count": null,
      "outputs": []
    },
    {
      "cell_type": "markdown",
      "metadata": {
        "id": "h-9aKgvPHgEK"
      },
      "source": [
        "Compute Skewness per color channel"
      ]
    },
    {
      "cell_type": "code",
      "metadata": {
        "id": "zw5zg8t_4eVZ"
      },
      "source": [
        "Rskewness = skew(R.reshape(-1,1))\n",
        "Gskewness = skew(G.reshape(-1,1))\n",
        "Bskewness = skew(B.reshape(-1,1))\n",
        "print(Rskewness, Gskewness, Bskewness)"
      ],
      "execution_count": null,
      "outputs": []
    },
    {
      "cell_type": "markdown",
      "metadata": {
        "id": "oeOe9d4zHiZ2"
      },
      "source": [
        "Compute Kurtosis per color channel"
      ]
    },
    {
      "cell_type": "code",
      "metadata": {
        "id": "YD43zvhm4tcr"
      },
      "source": [
        "Rkurtosis = kurtosis(R.reshape(-1,1))\n",
        "Gkurtosis = kurtosis(G.reshape(-1,1))\n",
        "Bkurtosis = kurtosis(B.reshape(-1,1))\n",
        "print(Rkurtosis, Gkurtosis, Bkurtosis)"
      ],
      "execution_count": null,
      "outputs": []
    },
    {
      "cell_type": "markdown",
      "metadata": {
        "id": "h_feIbmMFhlD"
      },
      "source": [
        "**Geometric Features**"
      ]
    },
    {
      "cell_type": "code",
      "metadata": {
        "id": "pqGkjOCA430e"
      },
      "source": [
        "from skimage import io, filters\n",
        "from google.colab import drive\n",
        "drive.mount('/content/gdrive')"
      ],
      "execution_count": null,
      "outputs": []
    },
    {
      "cell_type": "markdown",
      "metadata": {
        "id": "PMpTE02XHnSd"
      },
      "source": [
        "Read image files: Normal and Cancer tissue images"
      ]
    },
    {
      "cell_type": "code",
      "metadata": {
        "id": "MlCx6scVF00R"
      },
      "source": [
        "nimage = io.imread(\"/content/gdrive/My Drive/Colab Notebooks/PatternRecognition/2021Fall/normal.jpg\")\n",
        "cimage = io.imread(\"/content/gdrive/My Drive/Colab Notebooks/PatternRecognition/2021Fall/cancer.jpg\")\n",
        "\n",
        "plt.figure(figsize=(10,10))\n",
        "plt.subplot(1,2,1)\n",
        "plt.imshow(nimage)\n",
        "plt.title('Normal')\n",
        "plt.axis('off')\n",
        "plt.subplot(1,2,2)\n",
        "plt.imshow(cimage)\n",
        "plt.title('Cancer')\n",
        "plt.axis('off')\n",
        "plt.show()"
      ],
      "execution_count": null,
      "outputs": []
    },
    {
      "cell_type": "markdown",
      "metadata": {
        "id": "DXXPzHp0HrW_"
      },
      "source": [
        "Smooth images"
      ]
    },
    {
      "cell_type": "code",
      "metadata": {
        "id": "DI08V6pOGt4k"
      },
      "source": [
        "nimage = filters.gaussian(nimage, sigma=1.5)\n",
        "cimage = filters.gaussian(cimage, sigma=1.5)\n",
        "\n",
        "plt.figure(figsize=(10,10))\n",
        "plt.subplot(1,2,1)\n",
        "plt.imshow(nimage)\n",
        "plt.title('Normal')\n",
        "plt.axis('off')\n",
        "plt.subplot(1,2,2)\n",
        "plt.imshow(cimage)\n",
        "plt.title('Cancer')\n",
        "plt.axis('off')\n",
        "plt.show()"
      ],
      "execution_count": null,
      "outputs": []
    },
    {
      "cell_type": "markdown",
      "metadata": {
        "id": "rOYwdrZIHu7p"
      },
      "source": [
        "Convert RGB images into grayscale images"
      ]
    },
    {
      "cell_type": "code",
      "metadata": {
        "id": "Xcu8xVojS3jX"
      },
      "source": [
        "gray_nimage = rgb2gray(nimage)\n",
        "gray_cimage = rgb2gray(cimage)\n",
        "\n",
        "plt.figure(figsize=(10,10))\n",
        "plt.subplot(1,2,1)\n",
        "plt.imshow(gray_nimage, cmap=plt.cm.gray)\n",
        "plt.title('Normal')\n",
        "plt.axis('off')\n",
        "plt.subplot(1,2,2)\n",
        "plt.imshow(gray_cimage, cmap=plt.cm.gray)\n",
        "plt.title('Cancer')\n",
        "plt.axis('off')\n",
        "plt.show()"
      ],
      "execution_count": null,
      "outputs": []
    },
    {
      "cell_type": "markdown",
      "metadata": {
        "id": "37zE64hpHyLO"
      },
      "source": [
        "Segment white regions"
      ]
    },
    {
      "cell_type": "code",
      "metadata": {
        "id": "bXsy7E-SPx5Y"
      },
      "source": [
        "### Thresholding : 0.9 (grayscale: 0~1)\n",
        "nmask = gray_nimage > 0.9\n",
        "cmask = gray_cimage > 0.9\n",
        "\n",
        "plt.figure(figsize=(10,10))\n",
        "plt.subplot(1,2,1)\n",
        "plt.imshow(nmask, cmap=plt.cm.gray)\n",
        "plt.title('Normal')\n",
        "plt.axis('off')\n",
        "plt.subplot(1,2,2)\n",
        "plt.imshow(cmask, cmap=plt.cm.gray)\n",
        "plt.title('Cancer')\n",
        "plt.axis('off')\n",
        "plt.show()"
      ],
      "execution_count": null,
      "outputs": []
    },
    {
      "cell_type": "markdown",
      "metadata": {
        "id": "lOBL9_yNIIgZ"
      },
      "source": [
        "Find each object (white region)"
      ]
    },
    {
      "cell_type": "code",
      "metadata": {
        "id": "iDvNx0IsRsw9"
      },
      "source": [
        "from skimage import measure\n",
        "from skimage.color import label2rgb"
      ],
      "execution_count": null,
      "outputs": []
    },
    {
      "cell_type": "code",
      "metadata": {
        "id": "md2qAdCcF_Hj"
      },
      "source": [
        "nlabel = measure.label(nmask, background=0)\n",
        "clabel = measure.label(cmask, background=0)\n",
        "\n",
        "plt.figure(figsize=(10,10))\n",
        "plt.subplot(1,2,1)\n",
        "plt.imshow(nlabel, cmap=plt.cm.jet)\n",
        "plt.title('Normal')\n",
        "plt.axis('off')\n",
        "plt.subplot(1,2,2)\n",
        "plt.imshow(clabel, cmap=plt.cm.jet)\n",
        "plt.title('Cancer')\n",
        "plt.axis('off')\n",
        "plt.show()"
      ],
      "execution_count": null,
      "outputs": []
    },
    {
      "cell_type": "code",
      "metadata": {
        "id": "A4HNQqdBUe85"
      },
      "source": [
        "print(np.unique(nlabel))\n",
        "print(np.unique(clabel))"
      ],
      "execution_count": null,
      "outputs": []
    },
    {
      "cell_type": "markdown",
      "metadata": {
        "id": "mal9e82dIREy"
      },
      "source": [
        "Compute features per object"
      ]
    },
    {
      "cell_type": "code",
      "metadata": {
        "id": "Eia4m6MpWdSs"
      },
      "source": [
        "nproperties = measure.regionprops(nlabel)\n",
        "print([prop.area for prop in nproperties])\n",
        "\n",
        "cproperties = measure.regionprops(clabel)\n",
        "print([prop.area for prop in cproperties])"
      ],
      "execution_count": null,
      "outputs": []
    },
    {
      "cell_type": "code",
      "metadata": {
        "id": "CfjZIUJNXiFJ"
      },
      "source": [
        "properties = ('area', 'bbox_area', 'convex_area', 'perimeter', 'major_axis_length', 'minor_axis_length', 'orientation')\n",
        "\n",
        "cprops = measure.regionprops_table(clabel, properties=properties)\n",
        "print(cprops)\n",
        "\n",
        "nprops = measure.regionprops_table(nlabel, properties=properties)\n",
        "print(nprops)"
      ],
      "execution_count": null,
      "outputs": []
    },
    {
      "cell_type": "code",
      "metadata": {
        "id": "r7sUCyAP2gFP"
      },
      "source": [
        "cprops_df = pd.DataFrame(cprops)\n",
        "print(cprops_df)\n",
        "\n",
        "nprops_df = pd.DataFrame(nprops)\n",
        "print(nprops_df)"
      ],
      "execution_count": null,
      "outputs": []
    },
    {
      "cell_type": "code",
      "metadata": {
        "id": "fLBTI9y3aD5O"
      },
      "source": [
        "cprops_df.loc[0]"
      ],
      "execution_count": null,
      "outputs": []
    },
    {
      "cell_type": "code",
      "metadata": {
        "id": "HlkaljaXaiT5"
      },
      "source": [
        "nprops_df.loc[0]"
      ],
      "execution_count": null,
      "outputs": []
    },
    {
      "cell_type": "code",
      "metadata": {
        "id": "Zwsf9NnXIhEw"
      },
      "source": [
        "pd.DataFrame({'Normal': nprops_df.mean(), 'Cancer': cprops_df.mean()})"
      ],
      "execution_count": null,
      "outputs": []
    }
  ]
}