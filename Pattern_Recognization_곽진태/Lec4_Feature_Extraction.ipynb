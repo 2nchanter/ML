{
  "cells": [
    {
      "cell_type": "markdown",
      "metadata": {
        "id": "yAUsQq8fmu3c"
      },
      "source": [
        "## **Feature Extraction**"
      ]
    },
    {
      "cell_type": "markdown",
      "metadata": {
        "id": "bbkfHwmFHHxx"
      },
      "source": [
        "Import libraries"
      ]
    },
    {
      "cell_type": "code",
      "execution_count": 1,
      "metadata": {
        "id": "jpcLDizhmu4z"
      },
      "outputs": [],
      "source": [
        "%matplotlib inline\n",
        "\n",
        "import matplotlib.pyplot as plt\n",
        "import pandas as pd\n",
        "import numpy as np\n",
        "from skimage import data, filters"
      ]
    },
    {
      "cell_type": "markdown",
      "metadata": {
        "id": "tcarl-DNHJdI"
      },
      "source": [
        "Load an image"
      ]
    },
    {
      "cell_type": "code",
      "execution_count": null,
      "metadata": {
        "id": "3_EiJmIYrSnZ"
      },
      "outputs": [],
      "source": [
        "coffeeimage = data.coffee()\n",
        "plt.imshow(coffeeimage)"
      ]
    },
    {
      "cell_type": "code",
      "execution_count": null,
      "metadata": {
        "id": "V_vJPfc9AmgA"
      },
      "outputs": [],
      "source": [
        "print(coffeeimage.shape)"
      ]
    },
    {
      "cell_type": "markdown",
      "metadata": {
        "id": "rpCfpY6kHNX4"
      },
      "source": [
        "Draw a histogram of an image"
      ]
    },
    {
      "cell_type": "code",
      "execution_count": null,
      "metadata": {
        "id": "EfEIEtAmyBww"
      },
      "outputs": [],
      "source": [
        "from skimage.exposure import histogram\n",
        "\n",
        "hist, hist_centers = histogram(coffeeimage)"
      ]
    },
    {
      "cell_type": "code",
      "execution_count": null,
      "metadata": {
        "id": "qU2XyAsQzGrB"
      },
      "outputs": [],
      "source": [
        "plt.plot(hist_centers, hist)"
      ]
    },
    {
      "cell_type": "markdown",
      "metadata": {
        "id": "C3jcFiesHRk1"
      },
      "source": [
        "Convert a RGB image into a grayscale image"
      ]
    },
    {
      "cell_type": "code",
      "execution_count": null,
      "metadata": {
        "id": "EO-7JT1HzV4R"
      },
      "outputs": [],
      "source": [
        "from skimage.color import rgb2gray\n",
        "\n",
        "gray_coffeeimage = rgb2gray(coffeeimage)\n",
        "\n",
        "plt.imshow(gray_coffeeimage, cmap=plt.cm.gray)\n",
        "plt.show()"
      ]
    },
    {
      "cell_type": "markdown",
      "metadata": {
        "id": "2f24SH2vHXJM"
      },
      "source": [
        "Separate RGB color channels"
      ]
    },
    {
      "cell_type": "code",
      "execution_count": null,
      "metadata": {
        "id": "A1F0IOmz4Gdf"
      },
      "outputs": [],
      "source": [
        "R = coffeeimage[:,:,0]\n",
        "G = coffeeimage[:,:,1]\n",
        "B = coffeeimage[:,:,2]\n",
        "print(R.shape)\n",
        "print(G.shape)\n",
        "print(B.shape)"
      ]
    },
    {
      "cell_type": "code",
      "execution_count": null,
      "metadata": {
        "id": "NXADaLcoTC-3"
      },
      "outputs": [],
      "source": [
        "plt.figure(figsize=(15,5))\n",
        "plt.subplot(1,3,1)\n",
        "plt.imshow(R, cmap=plt.cm.gray)\n",
        "plt.title('Red Channel')\n",
        "plt.subplot(1,3,2)\n",
        "plt.imshow(G, cmap=plt.cm.gray)\n",
        "plt.title('Green Channel')\n",
        "plt.subplot(1,3,3)\n",
        "plt.imshow(B, cmap=plt.cm.gray)\n",
        "plt.title('Blue Channel')"
      ]
    },
    {
      "cell_type": "markdown",
      "metadata": {
        "id": "i7ymOUbTHba8"
      },
      "source": [
        "Draw a histogram per color channel"
      ]
    },
    {
      "cell_type": "code",
      "execution_count": null,
      "metadata": {
        "id": "KaqIeL3qz0Bs"
      },
      "outputs": [],
      "source": [
        "Rhist, Rhist_centers = histogram(R)\n",
        "Ghist, Ghist_centers = histogram(G)\n",
        "Bhist, Bhist_centers = histogram(B)\n",
        "\n",
        "plt.figure(figsize=(15,5))\n",
        "plt.subplot(1,3,1)\n",
        "plt.plot(Rhist_centers, Rhist)\n",
        "plt.title('Red Channel')\n",
        "plt.subplot(1,3,2)\n",
        "plt.plot(Ghist_centers, Ghist)\n",
        "plt.title('Green Channel')\n",
        "plt.subplot(1,3,3)\n",
        "plt.plot(Bhist_centers, Bhist)\n",
        "plt.title('Blue Channel')"
      ]
    },
    {
      "cell_type": "markdown",
      "metadata": {
        "id": "yDBFGsHmFpnJ"
      },
      "source": [
        "**Statistical Features**"
      ]
    },
    {
      "cell_type": "code",
      "execution_count": null,
      "metadata": {
        "id": "xjOl7Vfk4PMg"
      },
      "outputs": [],
      "source": [
        "from scipy.stats import skew, kurtosis"
      ]
    },
    {
      "cell_type": "markdown",
      "metadata": {
        "id": "h-9aKgvPHgEK"
      },
      "source": [
        "Compute Skewness per color channel"
      ]
    },
    {
      "cell_type": "code",
      "execution_count": null,
      "metadata": {
        "id": "zw5zg8t_4eVZ"
      },
      "outputs": [],
      "source": [
        "Rskewness = skew(R.reshape(-1,1))\n",
        "Gskewness = skew(G.reshape(-1,1))\n",
        "Bskewness = skew(B.reshape(-1,1))\n",
        "print(Rskewness, Gskewness, Bskewness)"
      ]
    },
    {
      "cell_type": "markdown",
      "metadata": {
        "id": "oeOe9d4zHiZ2"
      },
      "source": [
        "Compute Kurtosis per color channel"
      ]
    },
    {
      "cell_type": "code",
      "execution_count": null,
      "metadata": {
        "id": "YD43zvhm4tcr"
      },
      "outputs": [],
      "source": [
        "Rkurtosis = kurtosis(R.reshape(-1,1))\n",
        "Gkurtosis = kurtosis(G.reshape(-1,1))\n",
        "Bkurtosis = kurtosis(B.reshape(-1,1))\n",
        "print(Rkurtosis, Gkurtosis, Bkurtosis)"
      ]
    },
    {
      "cell_type": "markdown",
      "metadata": {
        "id": "h_feIbmMFhlD"
      },
      "source": [
        "**Geometric Features**"
      ]
    },
    {
      "cell_type": "code",
      "execution_count": null,
      "metadata": {
        "id": "pqGkjOCA430e"
      },
      "outputs": [],
      "source": [
        "from skimage import io, filters\n",
        "from google.colab import drive\n",
        "drive.mount('/content/gdrive')"
      ]
    },
    {
      "cell_type": "markdown",
      "metadata": {
        "id": "PMpTE02XHnSd"
      },
      "source": [
        "Read image files: Normal and Cancer tissue images"
      ]
    },
    {
      "cell_type": "code",
      "execution_count": null,
      "metadata": {
        "id": "MlCx6scVF00R"
      },
      "outputs": [],
      "source": [
        "nimage = io.imread(\"/content/gdrive/My Drive/Colab Notebooks/PatternRecognition/2021Fall/normal.jpg\")\n",
        "cimage = io.imread(\"/content/gdrive/My Drive/Colab Notebooks/PatternRecognition/2021Fall/cancer.jpg\")\n",
        "\n",
        "plt.figure(figsize=(10,10))\n",
        "plt.subplot(1,2,1)\n",
        "plt.imshow(nimage)\n",
        "plt.title('Normal')\n",
        "plt.axis('off')\n",
        "plt.subplot(1,2,2)\n",
        "plt.imshow(cimage)\n",
        "plt.title('Cancer')\n",
        "plt.axis('off')\n",
        "plt.show()"
      ]
    },
    {
      "cell_type": "markdown",
      "metadata": {
        "id": "DXXPzHp0HrW_"
      },
      "source": [
        "Smooth images"
      ]
    },
    {
      "cell_type": "code",
      "execution_count": null,
      "metadata": {
        "id": "DI08V6pOGt4k"
      },
      "outputs": [],
      "source": [
        "nimage = filters.gaussian(nimage, sigma=1.5)\n",
        "cimage = filters.gaussian(cimage, sigma=1.5)\n",
        "\n",
        "plt.figure(figsize=(10,10))\n",
        "plt.subplot(1,2,1)\n",
        "plt.imshow(nimage)\n",
        "plt.title('Normal')\n",
        "plt.axis('off')\n",
        "plt.subplot(1,2,2)\n",
        "plt.imshow(cimage)\n",
        "plt.title('Cancer')\n",
        "plt.axis('off')\n",
        "plt.show()"
      ]
    },
    {
      "cell_type": "markdown",
      "metadata": {
        "id": "rOYwdrZIHu7p"
      },
      "source": [
        "Convert RGB images into grayscale images"
      ]
    },
    {
      "cell_type": "code",
      "execution_count": null,
      "metadata": {
        "id": "Xcu8xVojS3jX"
      },
      "outputs": [],
      "source": [
        "gray_nimage = rgb2gray(nimage)\n",
        "gray_cimage = rgb2gray(cimage)\n",
        "\n",
        "plt.figure(figsize=(10,10))\n",
        "plt.subplot(1,2,1)\n",
        "plt.imshow(gray_nimage, cmap=plt.cm.gray)\n",
        "plt.title('Normal')\n",
        "plt.axis('off')\n",
        "plt.subplot(1,2,2)\n",
        "plt.imshow(gray_cimage, cmap=plt.cm.gray)\n",
        "plt.title('Cancer')\n",
        "plt.axis('off')\n",
        "plt.show()"
      ]
    },
    {
      "cell_type": "markdown",
      "metadata": {
        "id": "37zE64hpHyLO"
      },
      "source": [
        "Segment white regions"
      ]
    },
    {
      "cell_type": "code",
      "execution_count": null,
      "metadata": {
        "id": "bXsy7E-SPx5Y"
      },
      "outputs": [],
      "source": [
        "### Thresholding : 0.9 (grayscale: 0~1)\n",
        "nmask = gray_nimage > 0.9\n",
        "cmask = gray_cimage > 0.9\n",
        "\n",
        "plt.figure(figsize=(10,10))\n",
        "plt.subplot(1,2,1)\n",
        "plt.imshow(nmask, cmap=plt.cm.gray)\n",
        "plt.title('Normal')\n",
        "plt.axis('off')\n",
        "plt.subplot(1,2,2)\n",
        "plt.imshow(cmask, cmap=plt.cm.gray)\n",
        "plt.title('Cancer')\n",
        "plt.axis('off')\n",
        "plt.show()"
      ]
    },
    {
      "cell_type": "markdown",
      "metadata": {
        "id": "lOBL9_yNIIgZ"
      },
      "source": [
        "Find each object (white region)"
      ]
    },
    {
      "cell_type": "code",
      "execution_count": null,
      "metadata": {
        "id": "iDvNx0IsRsw9"
      },
      "outputs": [],
      "source": [
        "from skimage import measure\n",
        "from skimage.color import label2rgb"
      ]
    },
    {
      "cell_type": "code",
      "execution_count": null,
      "metadata": {
        "id": "md2qAdCcF_Hj"
      },
      "outputs": [],
      "source": [
        "nlabel = measure.label(nmask, background=0)\n",
        "clabel = measure.label(cmask, background=0)\n",
        "\n",
        "plt.figure(figsize=(10,10))\n",
        "plt.subplot(1,2,1)\n",
        "plt.imshow(nlabel, cmap=plt.cm.jet)\n",
        "plt.title('Normal')\n",
        "plt.axis('off')\n",
        "plt.subplot(1,2,2)\n",
        "plt.imshow(clabel, cmap=plt.cm.jet)\n",
        "plt.title('Cancer')\n",
        "plt.axis('off')\n",
        "plt.show()"
      ]
    },
    {
      "cell_type": "code",
      "execution_count": null,
      "metadata": {
        "id": "A4HNQqdBUe85"
      },
      "outputs": [],
      "source": [
        "print(np.unique(nlabel))\n",
        "print(np.unique(clabel))"
      ]
    },
    {
      "cell_type": "markdown",
      "metadata": {
        "id": "mal9e82dIREy"
      },
      "source": [
        "Compute features per object"
      ]
    },
    {
      "cell_type": "code",
      "execution_count": null,
      "metadata": {
        "id": "Eia4m6MpWdSs"
      },
      "outputs": [],
      "source": [
        "nproperties = measure.regionprops(nlabel)\n",
        "print([prop.area for prop in nproperties])\n",
        "\n",
        "cproperties = measure.regionprops(clabel)\n",
        "print([prop.area for prop in cproperties])"
      ]
    },
    {
      "cell_type": "code",
      "execution_count": null,
      "metadata": {
        "id": "CfjZIUJNXiFJ"
      },
      "outputs": [],
      "source": [
        "properties = ('area', 'bbox_area', 'convex_area', 'perimeter', 'major_axis_length', 'minor_axis_length', 'orientation')\n",
        "\n",
        "cprops = measure.regionprops_table(clabel, properties=properties)\n",
        "print(cprops)\n",
        "\n",
        "nprops = measure.regionprops_table(nlabel, properties=properties)\n",
        "print(nprops)"
      ]
    },
    {
      "cell_type": "code",
      "execution_count": null,
      "metadata": {
        "id": "r7sUCyAP2gFP"
      },
      "outputs": [],
      "source": [
        "cprops_df = pd.DataFrame(cprops)\n",
        "print(cprops_df)\n",
        "\n",
        "nprops_df = pd.DataFrame(nprops)\n",
        "print(nprops_df)"
      ]
    },
    {
      "cell_type": "code",
      "execution_count": null,
      "metadata": {
        "id": "fLBTI9y3aD5O"
      },
      "outputs": [],
      "source": [
        "cprops_df.loc[0]"
      ]
    },
    {
      "cell_type": "code",
      "execution_count": null,
      "metadata": {
        "id": "HlkaljaXaiT5"
      },
      "outputs": [],
      "source": [
        "nprops_df.loc[0]"
      ]
    },
    {
      "cell_type": "code",
      "execution_count": null,
      "metadata": {
        "id": "Zwsf9NnXIhEw"
      },
      "outputs": [],
      "source": [
        "pd.DataFrame({'Normal': nprops_df.mean(), 'Cancer': cprops_df.mean()})"
      ]
    }
  ],
  "metadata": {
    "anaconda-cloud": {},
    "colab": {
      "collapsed_sections": [],
      "name": "FeatureExtraction.ipynb",
      "provenance": []
    },
    "kernelspec": {
      "display_name": "Python 3",
      "language": "python",
      "name": "python3"
    },
    "language_info": {
      "codemirror_mode": {
        "name": "ipython",
        "version": 3
      },
      "file_extension": ".py",
      "mimetype": "text/x-python",
      "name": "python",
      "nbconvert_exporter": "python",
      "pygments_lexer": "ipython3",
      "version": "3.7.0"
    }
  },
  "nbformat": 4,
  "nbformat_minor": 0
}
