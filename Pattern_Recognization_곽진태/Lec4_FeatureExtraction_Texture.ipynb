{
  "nbformat": 4,
  "nbformat_minor": 0,
  "metadata": {
    "anaconda-cloud": {},
    "kernelspec": {
      "display_name": "Python 3",
      "language": "python",
      "name": "python3"
    },
    "language_info": {
      "codemirror_mode": {
        "name": "ipython",
        "version": 3
      },
      "file_extension": ".py",
      "mimetype": "text/x-python",
      "name": "python",
      "nbconvert_exporter": "python",
      "pygments_lexer": "ipython3",
      "version": "3.7.3"
    },
    "colab": {
      "name": "FeatureExtraction_Texture.ipynb",
      "provenance": [],
      "collapsed_sections": []
    }
  },
  "cells": [
    {
      "cell_type": "markdown",
      "metadata": {
        "id": "2ktZjJz2AQlq"
      },
      "source": [
        "## **Feature Extraction: Texture**"
      ]
    },
    {
      "cell_type": "markdown",
      "metadata": {
        "id": "l372rAkVRKj8"
      },
      "source": [
        "Import libraries"
      ]
    },
    {
      "cell_type": "code",
      "metadata": {
        "id": "DrevdVGrAk92"
      },
      "source": [
        "import matplotlib.pyplot as plt\n",
        "import pandas as pd\n",
        "import numpy as np\n",
        "from skimage import io, filters\n",
        "from skimage.color import rgb2gray"
      ],
      "execution_count": null,
      "outputs": []
    },
    {
      "cell_type": "code",
      "metadata": {
        "id": "F9nl2Qxm8qON"
      },
      "source": [
        "from google.colab import drive\n",
        "drive.mount('/content/gdrive')"
      ],
      "execution_count": null,
      "outputs": []
    },
    {
      "cell_type": "markdown",
      "metadata": {
        "id": "neTelHb7RMSH"
      },
      "source": [
        "Image loading, smoothing, converting to grayscale"
      ]
    },
    {
      "cell_type": "code",
      "metadata": {
        "id": "zV7epKgpAeV9"
      },
      "source": [
        "nimage = io.imread(\"/content/gdrive/My Drive/Colab Notebooks/PatternRecognition/2021Fall/normal.jpg\")\n",
        "cimage = io.imread(\"/content/gdrive/My Drive/Colab Notebooks/PatternRecognition/2021Fall/cancer.jpg\")\n",
        "\n",
        "nimage = filters.gaussian(nimage, sigma=1.5)\n",
        "cimage = filters.gaussian(cimage, sigma=1.5)\n",
        "\n",
        "gray_nimage = rgb2gray(nimage)\n",
        "gray_cimage = rgb2gray(cimage)"
      ],
      "execution_count": null,
      "outputs": []
    },
    {
      "cell_type": "code",
      "metadata": {
        "id": "FrG25IdKHqF6"
      },
      "source": [
        "plt.figure(figsize=(10,5))\n",
        "\n",
        "plt.subplot(1,2,1)\n",
        "plt.imshow(gray_nimage, cmap=plt.cm.gray)\n",
        "plt.title('Normal')\n",
        "plt.axis('off')\n",
        "plt.subplot(1,2,2)\n",
        "plt.imshow(gray_cimage, cmap=plt.cm.gray)\n",
        "plt.title('Cancer')\n",
        "plt.axis('off')\n",
        "plt.show()"
      ],
      "execution_count": null,
      "outputs": []
    },
    {
      "cell_type": "markdown",
      "metadata": {
        "id": "iqb3_0fE9EcV"
      },
      "source": [
        "# **Edge**"
      ]
    },
    {
      "cell_type": "markdown",
      "metadata": {
        "id": "29wE7Fb0gxWW"
      },
      "source": [
        "Compute x, y gradients - Sobel"
      ]
    },
    {
      "cell_type": "code",
      "metadata": {
        "id": "YgpYxSkq-Wb0"
      },
      "source": [
        "from scipy import ndimage as nd\n",
        "\n",
        "grad_x = nd.convolve(gray_cimage, np.array([[-1, 0, 1], [-2, 0, 2], [-1, 0, 1]]))\n",
        "grad_y = nd.convolve(gray_cimage, np.array([[1, 2, 1], [0, 0, 0], [-1, -2, -1]]))"
      ],
      "execution_count": null,
      "outputs": []
    },
    {
      "cell_type": "code",
      "metadata": {
        "id": "VxUyrKQt-tdG"
      },
      "source": [
        "plt.figure(figsize=(10,5))\n",
        "\n",
        "plt.subplot(1,2,1)\n",
        "plt.imshow(grad_x, cmap=plt.cm.gray)\n",
        "plt.title('Gradient_X')\n",
        "plt.axis('off')\n",
        "plt.subplot(1,2,2)\n",
        "plt.imshow(grad_y, cmap=plt.cm.gray)\n",
        "plt.title('Gradient_Y')\n",
        "plt.axis('off')\n",
        "plt.show()"
      ],
      "execution_count": null,
      "outputs": []
    },
    {
      "cell_type": "markdown",
      "metadata": {
        "id": "ThmlLJuDg2Xg"
      },
      "source": [
        "Compute magnitude and direction"
      ]
    },
    {
      "cell_type": "code",
      "metadata": {
        "id": "Oi_53RrgAasy"
      },
      "source": [
        "mag = np.sqrt(np.power(grad_x,2) + np.power(grad_y,2))\n",
        "theta = np.arctan2(np.power(grad_y,2), np.power(grad_x,2))"
      ],
      "execution_count": null,
      "outputs": []
    },
    {
      "cell_type": "code",
      "metadata": {
        "id": "wW2japkdA0UZ"
      },
      "source": [
        "plt.figure(figsize=(10,5))\n",
        "\n",
        "plt.subplot(1,2,1)\n",
        "plt.imshow(mag, cmap=plt.cm.gray)\n",
        "plt.title('Magnitude')\n",
        "plt.axis('off')\n",
        "plt.subplot(1,2,2)\n",
        "plt.imshow(theta, cmap=plt.cm.gray)\n",
        "plt.title('Direction')\n",
        "plt.axis('off')\n",
        "plt.show()"
      ],
      "execution_count": null,
      "outputs": []
    },
    {
      "cell_type": "markdown",
      "metadata": {
        "id": "poS-yM25g6y1"
      },
      "source": [
        "Extract edges"
      ]
    },
    {
      "cell_type": "code",
      "metadata": {
        "id": "0Wpau4R-DrT-"
      },
      "source": [
        "plt.figure(figsize=(5,5))\n",
        "im = mag > 0.5\n",
        "plt.imshow(im, cmap=plt.cm.gray)\n",
        "plt.axis('off')"
      ],
      "execution_count": null,
      "outputs": []
    },
    {
      "cell_type": "markdown",
      "metadata": {
        "id": "YXC_BFwQhCtr"
      },
      "source": [
        "Use Sobel operator"
      ]
    },
    {
      "cell_type": "code",
      "metadata": {
        "id": "91MrI4OA6p_J"
      },
      "source": [
        "from skimage import filters"
      ],
      "execution_count": null,
      "outputs": []
    },
    {
      "cell_type": "code",
      "metadata": {
        "id": "edTgJSPkBV24"
      },
      "source": [
        "sobel_cimage = filters.sobel(gray_cimage)\n",
        "sobel_nimage = filters.sobel(gray_nimage)\n",
        "\n",
        "plt.figure(figsize=(10,5))\n",
        "\n",
        "plt.subplot(1,2,1)\n",
        "plt.imshow(sobel_cimage, cmap=plt.cm.gray)\n",
        "plt.title('Sobel Edge : Tumor')\n",
        "plt.axis('off')\n",
        "plt.subplot(1,2,2)\n",
        "plt.imshow(sobel_nimage, cmap=plt.cm.gray)\n",
        "plt.title('Sobel Edge : Benign')\n",
        "plt.axis('off')\n",
        "plt.show()"
      ],
      "execution_count": null,
      "outputs": []
    },
    {
      "cell_type": "markdown",
      "metadata": {
        "id": "0bXDMgojhIW4"
      },
      "source": [
        "Use Canny edge detector"
      ]
    },
    {
      "cell_type": "code",
      "metadata": {
        "id": "iAuZtTlPCW1Z"
      },
      "source": [
        "from skimage import feature"
      ],
      "execution_count": null,
      "outputs": []
    },
    {
      "cell_type": "code",
      "metadata": {
        "id": "XkI-uQKFB25n"
      },
      "source": [
        "canny_cimage = feature.canny(gray_cimage, sigma=3)\n",
        "canny_nimage = feature.canny(gray_nimage, sigma=3)\n",
        "\n",
        "plt.figure(figsize=(10,5))\n",
        "\n",
        "plt.subplot(1,2,1)\n",
        "plt.imshow(canny_cimage, cmap=plt.cm.gray)\n",
        "plt.title('Canny Edge (sigma=3) : Cancer')\n",
        "plt.axis('off')\n",
        "plt.subplot(1,2,2)\n",
        "plt.imshow(canny_nimage, cmap=plt.cm.gray)\n",
        "plt.title('Canny Edge (sigma=3) : Normal')\n",
        "plt.axis('off')\n",
        "plt.show()"
      ],
      "execution_count": null,
      "outputs": []
    },
    {
      "cell_type": "markdown",
      "metadata": {
        "id": "YvfoJYfOESul"
      },
      "source": [
        "# **GLCM**"
      ]
    },
    {
      "cell_type": "markdown",
      "metadata": {
        "id": "UJ0WWstphNot"
      },
      "source": [
        "Compute grey level co-occurence matrix"
      ]
    },
    {
      "cell_type": "code",
      "metadata": {
        "id": "GsyAgSSsAUom"
      },
      "source": [
        "from skimage.feature import greycomatrix, greycoprops"
      ],
      "execution_count": null,
      "outputs": []
    },
    {
      "cell_type": "code",
      "metadata": {
        "id": "66xaj2BrDguq"
      },
      "source": [
        "level = 32 #  typically 256 for an 8-bit image\n",
        "ccomatrix = greycomatrix(np.uint8((level-1)*gray_cimage), [1, 10], [0, np.pi/4, np.pi/2], level, symmetric=True, normed=True)\n",
        "ncomatrix = greycomatrix(np.uint8((level-1)*gray_nimage), [1, 10], [0, np.pi/4, np.pi/2], level, symmetric=True, normed=True)"
      ],
      "execution_count": null,
      "outputs": []
    },
    {
      "cell_type": "code",
      "metadata": {
        "id": "HWpEL9syDtyT"
      },
      "source": [
        "print(ccomatrix.shape)"
      ],
      "execution_count": null,
      "outputs": []
    },
    {
      "cell_type": "code",
      "metadata": {
        "id": "HzgxhDesEgoC"
      },
      "source": [
        "plt.figure(figsize=(15,3))\n",
        "id=1\n",
        "for i in np.arange(0,2):\n",
        "  for j in np.arange(0,3):\n",
        "    plt.subplot(1,6,id)\n",
        "    plt.imshow(ccomatrix[:,:,i,j], cmap=plt.cm.gray)\n",
        "    plt.axis('off')\n",
        "    id = id + 1\n",
        "plt.suptitle('Cancer')\n",
        "plt.show()"
      ],
      "execution_count": null,
      "outputs": []
    },
    {
      "cell_type": "code",
      "metadata": {
        "id": "vOzeVcSoHhRc"
      },
      "source": [
        "plt.figure(figsize=(15,3))\n",
        "id=1\n",
        "for i in np.arange(0,2):\n",
        "  for j in np.arange(0,3):\n",
        "    plt.subplot(1,6,id)\n",
        "    plt.imshow(ncomatrix[:,:,i,j], cmap=plt.cm.gray)\n",
        "    plt.axis('off')\n",
        "    id = id + 1\n",
        "plt.suptitle('Normal')\n",
        "plt.show()"
      ],
      "execution_count": null,
      "outputs": []
    },
    {
      "cell_type": "markdown",
      "metadata": {
        "id": "L_8FgH_6hRmL"
      },
      "source": [
        "Compute features using GLCM"
      ]
    },
    {
      "cell_type": "code",
      "metadata": {
        "id": "kVUEXoSYEDc_"
      },
      "source": [
        "cglcm_feat = greycoprops(ccomatrix, 'energy')\n",
        "nglcm_feat = greycoprops(ncomatrix, 'energy')"
      ],
      "execution_count": null,
      "outputs": []
    },
    {
      "cell_type": "code",
      "metadata": {
        "id": "ma9NI1sDFN4d"
      },
      "source": [
        "print(cglcm_feat.shape)"
      ],
      "execution_count": null,
      "outputs": []
    },
    {
      "cell_type": "code",
      "metadata": {
        "id": "SQYuZ7OAE8g9"
      },
      "source": [
        "cglcm_feat = cglcm_feat.reshape(-1,)\n",
        "nglcm_feat = nglcm_feat.reshape(-1,)\n",
        "print('Cancer : ', end='\\t')\n",
        "for t in cglcm_feat:\n",
        "  print('{:.3f}'.format(t), end='\\t')\n",
        "print()\n",
        "print('Normal : ', end='\\t')\n",
        "for b in nglcm_feat:\n",
        "  print('{:.3f}'.format(b), end='\\t')\n"
      ],
      "execution_count": null,
      "outputs": []
    },
    {
      "cell_type": "markdown",
      "metadata": {
        "id": "6a_VuvncLiPl"
      },
      "source": [
        "# **Gabor Filters**"
      ]
    },
    {
      "cell_type": "code",
      "metadata": {
        "id": "fxOArbNuIulU"
      },
      "source": [
        "from skimage.filters import gabor, gabor_kernel"
      ],
      "execution_count": null,
      "outputs": []
    },
    {
      "cell_type": "markdown",
      "metadata": {
        "id": "xJkgWvhehbWv"
      },
      "source": [
        "Apply a Gabor filter"
      ]
    },
    {
      "cell_type": "code",
      "metadata": {
        "id": "zUNfojsdXXjr"
      },
      "source": [
        "filt_real, _ = gabor(gray_cimage, frequency=0.2, theta=np.pi/2)\n",
        "\n",
        "plt.subplot(1,2,1)\n",
        "plt.imshow(filt_real)\n",
        "plt.show()"
      ],
      "execution_count": null,
      "outputs": []
    },
    {
      "cell_type": "markdown",
      "metadata": {
        "id": "eVq0iapKYyW-"
      },
      "source": [
        "Visualize a Gabor kernel"
      ]
    },
    {
      "cell_type": "code",
      "metadata": {
        "id": "-Lf1daHuWNjl"
      },
      "source": [
        "gk = gabor_kernel(0.1, theta=np.pi/2)\n",
        "\n",
        "plt.imshow(gk.real)\n",
        "plt.show()"
      ],
      "execution_count": null,
      "outputs": []
    },
    {
      "cell_type": "markdown",
      "metadata": {
        "id": "fc8mLhxiYGZg"
      },
      "source": [
        "Let's generate Gabor filter banks"
      ]
    },
    {
      "cell_type": "code",
      "metadata": {
        "id": "Eu3-oosVRXPM"
      },
      "source": [
        "gkernels = []\n",
        "for frequency in (0.08, 0.1, 0.2):\n",
        "  for theta in (0, np.pi/4, np.pi/2):\n",
        "    gk = gabor_kernel(frequency, theta=theta)\n",
        "    gkernels.append(gk.real)"
      ],
      "execution_count": null,
      "outputs": []
    },
    {
      "cell_type": "code",
      "metadata": {
        "id": "CicgmW7CRhcw"
      },
      "source": [
        "[gk.shape for gk in gkernels]"
      ],
      "execution_count": null,
      "outputs": []
    },
    {
      "cell_type": "code",
      "metadata": {
        "id": "3gAQKmtVMDzR"
      },
      "source": [
        "plt.figure(figsize=(5,5))\n",
        "id=1\n",
        "for id, gk in enumerate(gkernels):\n",
        "  plt.subplot(3,3,id+1)\n",
        "  plt.imshow(gk.real)\n",
        "  plt.axis('off')\n"
      ],
      "execution_count": null,
      "outputs": []
    },
    {
      "cell_type": "markdown",
      "metadata": {
        "id": "oy_JmSmjhkbu"
      },
      "source": [
        "Apply Gabor filter bank"
      ]
    },
    {
      "cell_type": "code",
      "metadata": {
        "id": "7oO0kbXxhv2Q"
      },
      "source": [
        "from scipy import ndimage as nd"
      ],
      "execution_count": null,
      "outputs": []
    },
    {
      "cell_type": "code",
      "metadata": {
        "id": "oVVCwSyqVhcf"
      },
      "source": [
        "fig = plt.figure(figsize=(15,7))\n",
        "\n",
        "for id in np.arange(0, 3):\n",
        "  plt.subplot(2, 3, id+1)\n",
        "  cgkimage = nd.convolve(gray_cimage, gkernels[id+3])\n",
        "  plt.imshow(cgkimage, cmap=plt.cm.gray)\n",
        "  plt.axis('off')\n",
        "fig.suptitle('Cancer')\n",
        "plt.show()\n",
        "\n",
        "fig = plt.figure(figsize=(15,7))\n",
        "\n",
        "for id in np.arange(0, 3):\n",
        "  plt.subplot(2, 3, id+1)\n",
        "  ngkimage = nd.convolve(gray_nimage, gkernels[id+3])\n",
        "  plt.imshow(ngkimage, cmap=plt.cm.gray)\n",
        "  plt.axis('off')\n",
        "fig.suptitle('Normal')\n",
        "plt.show()"
      ],
      "execution_count": null,
      "outputs": []
    },
    {
      "cell_type": "markdown",
      "metadata": {
        "id": "E6vt-SxRhrGR"
      },
      "source": [
        "Compute Gabor features"
      ]
    },
    {
      "cell_type": "code",
      "metadata": {
        "id": "Qd6Ue9wJQ0Uu"
      },
      "source": [
        "from scipy import ndimage as nd\n",
        "\n",
        "def compute_gabor_features(image, gkernels):\n",
        "  features = np.zeros((len(gkernels), 3), dtype=np.double)\n",
        "  for id, gk in enumerate(gkernels):\n",
        "    gkimage = nd.convolve(image, gk.real)\n",
        "    features[id, 0] = gkimage.mean()\n",
        "    features[id, 1] = gkimage.var()\n",
        "    features[id, 2] = np.sum(np.power(gkimage, 2)) / (gkimage.shape[0] * gkimage.shape[1])\n",
        "  \n",
        "  return features"
      ],
      "execution_count": null,
      "outputs": []
    },
    {
      "cell_type": "code",
      "metadata": {
        "id": "V_G1Dc4jTAS9"
      },
      "source": [
        "cgabor_feat = compute_gabor_features(gray_cimage, gkernels)\n",
        "ngabor_feat = compute_gabor_features(gray_nimage, gkernels)"
      ],
      "execution_count": null,
      "outputs": []
    },
    {
      "cell_type": "code",
      "metadata": {
        "id": "J4wUL6R9TaE9"
      },
      "source": [
        "cgabor_feat = cgabor_feat.reshape(-1,)\n",
        "ngabor_feat = ngabor_feat.reshape(-1,)\n",
        "\n",
        "plt.figure(figsize=(10,5))\n",
        "plt.plot(np.arange(0, len(cgabor_feat)), cgabor_feat, 'bo:', label=\"Cancer\")\n",
        "plt.plot(np.arange(0, len(ngabor_feat)), ngabor_feat, 'gd:', label=\"Normal\")\n",
        "plt.legend(loc=\"best\")\n",
        "plt.show()"
      ],
      "execution_count": null,
      "outputs": []
    },
    {
      "cell_type": "markdown",
      "metadata": {
        "id": "dBuHB8RbGlWT"
      },
      "source": [
        "# **LBP**"
      ]
    },
    {
      "cell_type": "markdown",
      "metadata": {
        "id": "U5TawiXfiQH1"
      },
      "source": [
        "Compute LBPs"
      ]
    },
    {
      "cell_type": "code",
      "metadata": {
        "id": "Omi3sZZFFYR_"
      },
      "source": [
        "from skimage.feature import local_binary_pattern"
      ],
      "execution_count": null,
      "outputs": []
    },
    {
      "cell_type": "code",
      "metadata": {
        "id": "6hmqdBhwFnTa"
      },
      "source": [
        "P = 16\n",
        "R = 2\n",
        "METHOD = 'uniform'  # 'default', 'ror', 'var'\n",
        "\n",
        "clbp = local_binary_pattern(gray_cimage, P, R, METHOD)\n",
        "nlbp = local_binary_pattern(gray_nimage, P, R, METHOD)"
      ],
      "execution_count": null,
      "outputs": []
    },
    {
      "cell_type": "code",
      "metadata": {
        "id": "kbIY16OKHO2v"
      },
      "source": [
        "plt.figure(figsize=(10,5))\n",
        "\n",
        "plt.subplot(1,2,1)\n",
        "plt.imshow(clbp, cmap=plt.cm.gray)\n",
        "plt.title('Cacer')\n",
        "plt.axis('off')\n",
        "plt.subplot(1,2,2)\n",
        "plt.imshow(nlbp, cmap=plt.cm.gray)\n",
        "plt.title('Normal')\n",
        "plt.axis('off')\n",
        "plt.show()"
      ],
      "execution_count": null,
      "outputs": []
    },
    {
      "cell_type": "markdown",
      "metadata": {
        "id": "O0eCW5vziVJ7"
      },
      "source": [
        "Compute histograms"
      ]
    },
    {
      "cell_type": "code",
      "metadata": {
        "id": "_wW_8Jb7HIMg"
      },
      "source": [
        "rmax = np.uint8(np.max([clbp.max(), nlbp.max()]))\n",
        "\n",
        "clbp_hist, _ = np.histogram(clbp.reshape(-1,), normed=True, bins=rmax+1, range=(0, rmax+1))\n",
        "nlbp_hist, _ = np.histogram(nlbp.reshape(-1,), normed=True, bins=rmax+1, range=(0, rmax+1))"
      ],
      "execution_count": null,
      "outputs": []
    },
    {
      "cell_type": "code",
      "metadata": {
        "id": "oIOOXDo2II2j"
      },
      "source": [
        "hists = pd.DataFrame({'Cancer': clbp_hist, 'Normal': nlbp_hist})\n",
        "hists.plot(kind='bar', figsize=(10,5), legend=True)"
      ],
      "execution_count": null,
      "outputs": []
    },
    {
      "cell_type": "markdown",
      "metadata": {
        "id": "OFQSot6BWC6L"
      },
      "source": [
        "Compute multi-scale LBPs"
      ]
    },
    {
      "cell_type": "code",
      "metadata": {
        "id": "_ol-EDHsV1ml"
      },
      "source": [
        "P = 16; R = 2; METHOD = 'uniform'\n",
        "clbp = local_binary_pattern(gray_cimage, P, R, METHOD)\n",
        "nlbp = local_binary_pattern(gray_nimage, P, R, METHOD)\n",
        "\n",
        "P = 24; R = 3; METHOD = 'uniform'\n",
        "clbp2 = local_binary_pattern(gray_cimage, P, R, METHOD)\n",
        "nlbp2 = local_binary_pattern(gray_nimage, P, R, METHOD)"
      ],
      "execution_count": null,
      "outputs": []
    },
    {
      "cell_type": "markdown",
      "metadata": {
        "id": "HjtzlVsgWelT"
      },
      "source": [
        "Compute multi-dimensional histograms"
      ]
    },
    {
      "cell_type": "code",
      "metadata": {
        "id": "SN7cifBAWg0Y"
      },
      "source": [
        "rmax = np.uint8(np.max([clbp.max(), nlbp.max()]))\n",
        "rmax2 = np.uint8(np.max([clbp2.max(), nlbp2.max()]))"
      ],
      "execution_count": null,
      "outputs": []
    },
    {
      "cell_type": "code",
      "metadata": {
        "id": "PfgXbC4OXIUH"
      },
      "source": [
        "clbp_mhist, _, _ = np.histogram2d(clbp.reshape(-1,), clbp2.reshape(-1,), normed=True, bins=[rmax+1, rmax2+1], range=[[0,rmax+1], [0,rmax2+1]])\n",
        "nlbp_mhist, _, _ = np.histogram2d(nlbp.reshape(-1,), nlbp2.reshape(-1,), normed=True, bins=[rmax+1, rmax2+1], range=[[0,rmax+1], [0,rmax2+1]])"
      ],
      "execution_count": null,
      "outputs": []
    },
    {
      "cell_type": "markdown",
      "metadata": {
        "id": "SHIC2HlQfDOA"
      },
      "source": [
        "Draw multi-dimensional histograms"
      ]
    },
    {
      "cell_type": "code",
      "metadata": {
        "id": "0kT-JuMlXR_S"
      },
      "source": [
        "x = np.arange(0, rmax+1)\n",
        "y = np.arange(0, rmax2+1)\n",
        "xs, ys = np.meshgrid(x, y)\n",
        "\n",
        "xs = xs.reshape(-1,)\n",
        "ys = ys.reshape(-1,)\n",
        "clbp_mhist = clbp_mhist.reshape(-1,)\n",
        "nlbp_mhist = nlbp_mhist.reshape(-1,)\n",
        "\n",
        "fig = plt.figure(figsize=(15,8))\n",
        "ax = fig.add_subplot(1,2,1, projection='3d')\n",
        "ax.bar3d(xs, ys, 0, 0.5, 0.5, clbp_mhist, color='violet')\n",
        "ax.set_xlabel('P=16, R=2')\n",
        "ax.set_ylabel('P=24, R=3')\n",
        "ax.set_title('Cancer', fontdict={'fontsize':15})\n",
        "ax = fig.add_subplot(1,2,2, projection='3d')\n",
        "ax.bar3d(xs, ys, 0, 0.5, 0.5, nlbp_mhist, color='orange')\n",
        "ax.set_xlabel('P=16, R=2')\n",
        "ax.set_ylabel('P=24, R=3')\n",
        "ax.set_title('Normal', fontdict={'fontsize':15})\n",
        "plt.show()\n"
      ],
      "execution_count": null,
      "outputs": []
    }
  ]
}