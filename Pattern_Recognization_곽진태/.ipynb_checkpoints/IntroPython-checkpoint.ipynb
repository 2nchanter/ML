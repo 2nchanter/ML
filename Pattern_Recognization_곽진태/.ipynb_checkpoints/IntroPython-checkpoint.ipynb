{
 "cells": [
  {
   "cell_type": "markdown",
   "metadata": {
    "id": "4rDn0LWYOcP_"
   },
   "source": [
    "# Basics"
   ]
  },
  {
   "cell_type": "markdown",
   "metadata": {
    "id": "3w4-JP4fO-dC"
   },
   "source": [
    "Numbers"
   ]
  },
  {
   "cell_type": "code",
   "execution_count": null,
   "metadata": {
    "id": "HGSbYzEjOhS-"
   },
   "outputs": [],
   "source": [
    "1"
   ]
  },
  {
   "cell_type": "code",
   "execution_count": null,
   "metadata": {
    "id": "t_SWkgXdO_-B"
   },
   "outputs": [],
   "source": [
    "-1.2"
   ]
  },
  {
   "cell_type": "markdown",
   "metadata": {
    "id": "k93K3M4_O8_2"
   },
   "source": [
    "Strings"
   ]
  },
  {
   "cell_type": "code",
   "execution_count": null,
   "metadata": {
    "id": "Vs4g71PPOr9y"
   },
   "outputs": [],
   "source": [
    "'python'"
   ]
  },
  {
   "cell_type": "code",
   "execution_count": null,
   "metadata": {
    "id": "qhEsi7XPO7VY"
   },
   "outputs": [],
   "source": [
    "\"python\""
   ]
  },
  {
   "cell_type": "markdown",
   "metadata": {
    "id": "x-CBpb_pPQfa"
   },
   "source": [
    "Arithmetic Operations"
   ]
  },
  {
   "cell_type": "code",
   "execution_count": null,
   "metadata": {
    "id": "fsKqwwi0PTK5"
   },
   "outputs": [],
   "source": [
    "a = 10\n",
    "b = 5\n",
    "\n",
    "print(a+b)\n",
    "print(a*b)\n",
    "print(a-b)"
   ]
  },
  {
   "cell_type": "markdown",
   "metadata": {
    "id": "mL_ismvtsH2M"
   },
   "source": [
    "# List"
   ]
  },
  {
   "cell_type": "markdown",
   "metadata": {
    "id": "6ZKSkqwIsH2O"
   },
   "source": [
    "One of the most fundamental data structure in Python. A list is simply an ordered collections. (similar to array, but with some added functionality.) "
   ]
  },
  {
   "cell_type": "code",
   "execution_count": null,
   "metadata": {
    "id": "cqh7oHnfsH2Q"
   },
   "outputs": [],
   "source": [
    "str_list = ['red', 'blue', 'green']\n",
    "integer_list = [1,2,3]\n",
    "heterogeneous_list = ['string', 0.1, True]\n",
    "list_of_lists = [str_list, integer_list, heterogeneous_list, []]\n",
    "\n",
    "print(list_of_lists)"
   ]
  },
  {
   "cell_type": "code",
   "execution_count": null,
   "metadata": {
    "id": "MIKb--9BsH2X"
   },
   "outputs": [],
   "source": [
    "list_length = len(integer_list)\n",
    "list_sum = sum(integer_list)\n",
    "\n",
    "print(list_length, list_sum)"
   ]
  },
  {
   "cell_type": "code",
   "execution_count": null,
   "metadata": {
    "id": "po8gdSrzsH2e"
   },
   "outputs": [],
   "source": [
    "x = range(0,10)\n",
    "zero = x[0]\n",
    "one = x[1]\n",
    "nine = x[-1]   # last element \n",
    "eight = x[-2]  # next to last element \n",
    "\n",
    "print(x)\n",
    "print(zero, one, nine, eight)"
   ]
  },
  {
   "cell_type": "markdown",
   "metadata": {
    "id": "2bkNl9PvsH2l"
   },
   "source": [
    "Use square brackets to slice lists "
   ]
  },
  {
   "cell_type": "code",
   "execution_count": null,
   "metadata": {
    "id": "lgacLp_isH2m"
   },
   "outputs": [],
   "source": [
    "first_three = x[:3]\n",
    "three_to_end = x[3:]\n",
    "one_to_four = x[1:5]\n",
    "last_three = x[-3:]\n",
    "copy_of_x = x[:]\n",
    "\n",
    "print(first_three, three_to_end, one_to_four, last_three)"
   ]
  },
  {
   "cell_type": "markdown",
   "metadata": {
    "id": "xGnC0VQhsH2s"
   },
   "source": [
    "It is easy to concatenate lists together:"
   ]
  },
  {
   "cell_type": "code",
   "execution_count": null,
   "metadata": {
    "id": "WsOKctgdsH2u"
   },
   "outputs": [],
   "source": [
    "x = [1,2,3]\n",
    "x.extend([4,5,6])\n",
    "\n",
    "print(x)"
   ]
  },
  {
   "cell_type": "code",
   "execution_count": null,
   "metadata": {
    "id": "RcfdA1TUsH20"
   },
   "outputs": [],
   "source": [
    "x = [1,2,3]\n",
    "y = x + [4,5,6]\n",
    "\n",
    "print(y)\n"
   ]
  },
  {
   "cell_type": "markdown",
   "metadata": {
    "id": "mosyJsdVsH26"
   },
   "source": [
    "append one item to list"
   ]
  },
  {
   "cell_type": "code",
   "execution_count": null,
   "metadata": {
    "id": "jkfA2ciLsH28"
   },
   "outputs": [],
   "source": [
    "x = [1,2,3]\n",
    "x.append(0)\n",
    "print(x)"
   ]
  },
  {
   "cell_type": "code",
   "execution_count": null,
   "metadata": {
    "id": "NI1KwszVsH1F"
   },
   "outputs": [],
   "source": [
    "list_of_lists = [[1,2,3],[4,5,6],[7,8,9]]\n",
    "\n",
    "easier_to_read_list_of_lists = [[1,2,3],\n",
    "                                [4,5,6],\n",
    "                                [7,8,9]]"
   ]
  },
  {
   "cell_type": "markdown",
   "metadata": {
    "id": "kCUz2SlZsH3C"
   },
   "source": [
    "# Tuples"
   ]
  },
  {
   "cell_type": "markdown",
   "metadata": {
    "id": "aBblXHaKsH3E"
   },
   "source": [
    "Tuples are lists' immutable cousins. You specify a tuple by using parentheses. (or nothing)"
   ]
  },
  {
   "cell_type": "code",
   "execution_count": null,
   "metadata": {
    "id": "jpbnhHYX0-pX"
   },
   "outputs": [],
   "source": [
    "my_list = [1,2]\n",
    "my_tuple = (1,2)    # use this instead of other_tuple\n",
    "other_tuple = 3, 4   \n",
    "\n",
    "print(my_list)\n",
    "print(my_tuple)\n",
    "print(other_tuple)"
   ]
  },
  {
   "cell_type": "markdown",
   "metadata": {
    "id": "UkvzBc4KsH3Q"
   },
   "source": [
    "Try to change some values in list and tuple"
   ]
  },
  {
   "cell_type": "code",
   "execution_count": null,
   "metadata": {
    "id": "ur-6k4XZ1B-k"
   },
   "outputs": [],
   "source": [
    "my_list[0] =2 \n",
    "print(my_list)"
   ]
  },
  {
   "cell_type": "code",
   "execution_count": null,
   "metadata": {
    "id": "LgG-NFnn1DiT"
   },
   "outputs": [],
   "source": [
    "my_list[1] = 3 "
   ]
  },
  {
   "cell_type": "code",
   "execution_count": null,
   "metadata": {
    "id": "44ON8vWmD2DI"
   },
   "outputs": [],
   "source": [
    "my_tupe[1] = 3"
   ]
  },
  {
   "cell_type": "markdown",
   "metadata": {
    "id": "WJRdFyVwsH32"
   },
   "source": [
    "# Dictionaries"
   ]
  },
  {
   "cell_type": "markdown",
   "metadata": {
    "id": "6tvik6PIsH34"
   },
   "source": [
    "Consists of keys and values. Allows you to quickly retrieve the value corresponding to a given key: "
   ]
  },
  {
   "cell_type": "code",
   "execution_count": null,
   "metadata": {
    "id": "6D8v9t1YsH35"
   },
   "outputs": [],
   "source": [
    "# list => []\n",
    "# tuple => ()\n",
    "# dictionary => {}"
   ]
  },
  {
   "cell_type": "code",
   "execution_count": null,
   "metadata": {
    "id": "3W1PlAUo1HYW"
   },
   "outputs": [],
   "source": [
    "empty_dict = {}  # more pythonic \n",
    "empty_dict2 = dict()\n",
    "grades = {\"Joel\": 80, \"Tim\": 95}\n",
    "\n",
    "joels_grade = grades[\"Joel\"]\n",
    "print(joels_grade)"
   ]
  },
  {
   "cell_type": "code",
   "execution_count": null,
   "metadata": {
    "id": "gaX5odyT1I5M"
   },
   "outputs": [],
   "source": [
    "\"Joel\" in grades"
   ]
  },
  {
   "cell_type": "code",
   "execution_count": null,
   "metadata": {
    "id": "VTNdetz51KOC"
   },
   "outputs": [],
   "source": [
    "grades[\"Alice\"] = 40\n",
    "print(grades)"
   ]
  },
  {
   "cell_type": "code",
   "execution_count": null,
   "metadata": {
    "id": "CTlzQ2sk1Lzf"
   },
   "outputs": [],
   "source": [
    "grades.get(\"Joel\")\n",
    "# grades.get(\"John\",-100)\n",
    "\n",
    "# kates_grade = grades.get(\"Kate\",0)\n",
    "kates_grade"
   ]
  },
  {
   "cell_type": "code",
   "execution_count": null,
   "metadata": {
    "id": "QnB031Vj1NST"
   },
   "outputs": [],
   "source": [
    "grades[\"Tim\"] = 99   # replace\n",
    "print(grades)\n",
    "grades[\"Kate\"] = 100\n",
    "print(grades)\n",
    "num_students = len(grades)\n",
    "print(num_students)"
   ]
  },
  {
   "cell_type": "markdown",
   "metadata": {
    "id": "oygjCxy2XBrs"
   },
   "source": [
    "# If-else"
   ]
  },
  {
   "cell_type": "code",
   "execution_count": null,
   "metadata": {
    "id": "LWpYIHnwXTGr"
   },
   "outputs": [],
   "source": [
    "a = 100\n",
    "b = 100\n",
    "a == b\n",
    "# a is b\n",
    "# a is not b"
   ]
  },
  {
   "cell_type": "code",
   "execution_count": null,
   "metadata": {
    "id": "Zj12CGLIYE-_"
   },
   "outputs": [],
   "source": [
    "a == 100 and b == 50\n",
    "# not (a > 200)"
   ]
  },
  {
   "cell_type": "code",
   "execution_count": null,
   "metadata": {
    "id": "qXCIEKgSYj_Z"
   },
   "outputs": [],
   "source": [
    "score = int(input(\"Enter score: \"))\n",
    "if score > 70:\n",
    "  grade = \"Pass\"\n",
    "else:\n",
    "  grade = \"Fail\"\n",
    "print(grade)"
   ]
  },
  {
   "cell_type": "markdown",
   "metadata": {
    "id": "5L_yBtyosH0t"
   },
   "source": [
    "# For Loop"
   ]
  },
  {
   "cell_type": "code",
   "execution_count": null,
   "metadata": {
    "id": "an93LDG0sH0z"
   },
   "outputs": [],
   "source": [
    "for i in [1,2,3]:\n",
    "    print (i)\n",
    "    for j in [1,2,3]:\n",
    "        print (j, \":\", i+j)\n",
    "    print (i) \n",
    "print (\"done looping\")"
   ]
  },
  {
   "cell_type": "code",
   "execution_count": null,
   "metadata": {
    "id": "r_MA2G5e1QAL"
   },
   "outputs": [],
   "source": [
    "for i in range(3,6):\n",
    "  print(i)"
   ]
  },
  {
   "cell_type": "markdown",
   "metadata": {
    "id": "KOdatZGTsH1U"
   },
   "source": [
    "# Functions"
   ]
  },
  {
   "cell_type": "code",
   "execution_count": null,
   "metadata": {
    "id": "PL_I6nf-1RxF"
   },
   "outputs": [],
   "source": [
    "def make_double(x):\n",
    "    return x * 2"
   ]
  },
  {
   "cell_type": "markdown",
   "metadata": {
    "id": "PtFLH4lrsH1e"
   },
   "source": [
    "In Python, functions are like any other objects like a list."
   ]
  },
  {
   "cell_type": "code",
   "execution_count": null,
   "metadata": {
    "id": "vAIk1Yk21TAr"
   },
   "outputs": [],
   "source": [
    "def apply_to_one(f):\n",
    "    return f(1)\n"
   ]
  },
  {
   "cell_type": "code",
   "execution_count": null,
   "metadata": {
    "id": "UQgHt_sR1Uk-"
   },
   "outputs": [],
   "source": [
    "my_double = make_double # refers to the previously defined function \n",
    "x = apply_to_one(my_double)\n",
    "\n",
    "print(x)"
   ]
  },
  {
   "cell_type": "markdown",
   "metadata": {
    "id": "DLykhbVcsH1t"
   },
   "source": [
    "It is also easy to create short anonymous functions, or lambdas: "
   ]
  },
  {
   "cell_type": "code",
   "execution_count": null,
   "metadata": {
    "id": "LmF0hyxl1WEM"
   },
   "outputs": [],
   "source": [
    "y = apply_to_one(lambda x: x+4)\n",
    "print(y)"
   ]
  },
  {
   "cell_type": "code",
   "execution_count": null,
   "metadata": {
    "id": "O8-lVUuzjZkA"
   },
   "outputs": [],
   "source": [
    "def times_two(x):\n",
    "    return x*2\n",
    "\n",
    "times_two(3)"
   ]
  },
  {
   "cell_type": "code",
   "execution_count": null,
   "metadata": {
    "id": "PadYQ-0pjvE-"
   },
   "outputs": [],
   "source": [
    "lambda x: x*2"
   ]
  },
  {
   "cell_type": "code",
   "execution_count": null,
   "metadata": {
    "id": "-VSGzhC0j0VL"
   },
   "outputs": [],
   "source": [
    "times_two = lambda x: x*2\n",
    "\n",
    "times_two(4)"
   ]
  },
  {
   "cell_type": "markdown",
   "metadata": {
    "id": "45q-EPYDsH12"
   },
   "source": [
    "Function parameters can also be given default arguments, which fonly need to be specified when you want a value other than the default: "
   ]
  },
  {
   "cell_type": "code",
   "execution_count": null,
   "metadata": {
    "id": "cx0XojB71YA7"
   },
   "outputs": [],
   "source": [
    "def my_print(message=\"my default message\"):\n",
    "    print(message)\n",
    "    \n",
    "my_print(\"hello\")\n",
    "my_print()"
   ]
  },
  {
   "cell_type": "code",
   "execution_count": null,
   "metadata": {
    "id": "2sjJEbDF1Zgt"
   },
   "outputs": [],
   "source": [
    "def subtract(a=0, b=0):\n",
    "    return a-b\n",
    "\n",
    "subtract(10,5)\n",
    "# subtract(0,5)\n",
    "# subtract(b=5)"
   ]
  },
  {
   "cell_type": "markdown",
   "metadata": {
    "id": "vs7ndAvR2S9b"
   },
   "source": [
    "Tuples are a convenient way to return multiple values from functions: "
   ]
  },
  {
   "cell_type": "code",
   "execution_count": null,
   "metadata": {
    "id": "IKit1gTDsH3p"
   },
   "outputs": [],
   "source": [
    "def sum_and_product(x,y):\n",
    "    return (x+y),(x*y)\n",
    "\n",
    "sp = sum_and_product(2,3)\n",
    "print(sp)\n",
    "\n",
    "a ,b = sum_and_product(2,3)\n",
    "print(a)\n",
    "print(b)\n",
    "\n",
    "_, b = sum_and_product(2,3)\n",
    "print(b)"
   ]
  },
  {
   "cell_type": "code",
   "execution_count": null,
   "metadata": {
    "id": "tCd_55OFsH3w"
   },
   "outputs": [],
   "source": [
    "def sum_subtract_product(x,y):\n",
    "    return (x+y),(x-y),(x*y)\n",
    "\n",
    "result = sum_subtract_product(4,5)\n",
    "print(result)"
   ]
  },
  {
   "cell_type": "markdown",
   "metadata": {
    "id": "VFeFBXFbDLJz"
   },
   "source": [
    "Let's consdier a case where you want to multiply each element in a list by 2"
   ]
  },
  {
   "cell_type": "code",
   "execution_count": null,
   "metadata": {
    "id": "zwbtsmsZDCpT"
   },
   "outputs": [],
   "source": [
    "x = [1,2,3,4]\n",
    "y = 2*x\n",
    "print(y)"
   ]
  },
  {
   "cell_type": "code",
   "execution_count": null,
   "metadata": {
    "id": "7YUbMdn-DQik"
   },
   "outputs": [],
   "source": [
    "def mul2(x):\n",
    "    return 2*x\n",
    "\n",
    "print(mul2(3))"
   ]
  },
  {
   "cell_type": "code",
   "execution_count": null,
   "metadata": {
    "id": "veGqEJCcDVwD"
   },
   "outputs": [],
   "source": [
    "x = [1,2,3,4]\n",
    "y = []\n",
    "for i in x:\n",
    "    y.append(mul2(i))\n",
    "print(y)"
   ]
  },
  {
   "cell_type": "markdown",
   "metadata": {
    "id": "4dDrq_wDDgSk"
   },
   "source": [
    "Can we come up with a better Pythonic code?"
   ]
  },
  {
   "cell_type": "code",
   "execution_count": null,
   "metadata": {
    "id": "HU5QhsN-K8cp"
   },
   "outputs": [],
   "source": [
    "y = [mul2(i) for i in x]\n",
    "print(y)"
   ]
  }
 ],
 "metadata": {
  "anaconda-cloud": {},
  "celltoolbar": "Slideshow",
  "colab": {
   "collapsed_sections": [],
   "name": "IntroPython.ipynb",
   "provenance": [
    {
     "file_id": "1e4STO2DOTOBPa9RZxknQCuQVo5o2MygB",
     "timestamp": 1584773435065
    }
   ]
  },
  "kernelspec": {
   "display_name": "Python 3 (ipykernel)",
   "language": "python",
   "name": "python3"
  },
  "language_info": {
   "codemirror_mode": {
    "name": "ipython",
    "version": 3
   },
   "file_extension": ".py",
   "mimetype": "text/x-python",
   "name": "python",
   "nbconvert_exporter": "python",
   "pygments_lexer": "ipython3",
   "version": "3.7.0"
  }
 },
 "nbformat": 4,
 "nbformat_minor": 1
}
