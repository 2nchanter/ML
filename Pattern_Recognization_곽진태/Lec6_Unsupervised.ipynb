{
  "cells": [
    {
      "cell_type": "markdown",
      "metadata": {
        "id": "NHIdlnqM4r1T"
      },
      "source": [
        "## **Unsupervised Learning**"
      ]
    },
    {
      "cell_type": "code",
      "execution_count": null,
      "metadata": {
        "id": "Y1qn5KIA4rLA"
      },
      "outputs": [],
      "source": [
        "from sklearn import datasets\n",
        "import matplotlib.pyplot as plt\n",
        "from sklearn.cluster import KMeans"
      ]
    },
    {
      "cell_type": "markdown",
      "metadata": {
        "id": "gyimeM6ohF2U"
      },
      "source": [
        "Generate some (random) data"
      ]
    },
    {
      "cell_type": "code",
      "execution_count": null,
      "metadata": {
        "id": "KeTlBn9yhHoi"
      },
      "outputs": [],
      "source": [
        "X, Y = datasets.make_blobs(300, 2, centers=4, random_state=6, cluster_std=1.4)\n",
        "\n",
        "plt.scatter(X[:,0], X[:,1], c=Y, s=50, cmap='RdBu')\n",
        "plt.show()"
      ]
    },
    {
      "cell_type": "markdown",
      "metadata": {
        "id": "QXUdQbFFh1Du"
      },
      "source": [
        "**K-Means Clustering**"
      ]
    },
    {
      "cell_type": "code",
      "execution_count": null,
      "metadata": {
        "id": "v9oMDqSHhiaC"
      },
      "outputs": [],
      "source": [
        "km = KMeans(n_clusters=4)\n",
        "km.fit(X)"
      ]
    },
    {
      "cell_type": "code",
      "execution_count": null,
      "metadata": {
        "id": "MUVZcwfShQie"
      },
      "outputs": [],
      "source": [
        "print(km.cluster_centers_)   # cluster centers"
      ]
    },
    {
      "cell_type": "code",
      "execution_count": null,
      "metadata": {
        "id": "Y9h2kB7jiCp6"
      },
      "outputs": [],
      "source": [
        "print(km.labels_)    # labels"
      ]
    },
    {
      "cell_type": "code",
      "execution_count": null,
      "metadata": {
        "id": "EQi6GTzmiR5N"
      },
      "outputs": [],
      "source": [
        "plt.scatter(X[:,0], X[:,1], c=km.labels_, s=50, cmap='viridis')\n",
        "centers = km.cluster_centers_\n",
        "plt.scatter(centers[:, 0], centers[:, 1], c='red', s=200, alpha=0.5)\n",
        "plt.show()"
      ]
    },
    {
      "cell_type": "code",
      "execution_count": null,
      "metadata": {
        "id": "p2gja-k7iaTO"
      },
      "outputs": [],
      "source": [
        "km2 = KMeans(n_clusters=2)\n",
        "km2.fit(X)\n",
        "\n",
        "plt.scatter(X[:,0], X[:,1], c=km2.labels_, s=50, cmap='viridis')\n",
        "centers = km2.cluster_centers_\n",
        "plt.scatter(centers[:, 0], centers[:, 1], c='red', s=200, alpha=0.5)\n",
        "plt.show()"
      ]
    },
    {
      "cell_type": "markdown",
      "metadata": {
        "id": "J_B90tMw5xIk"
      },
      "source": [
        "**Hierarchical Clustering**\n"
      ]
    },
    {
      "cell_type": "code",
      "execution_count": null,
      "metadata": {
        "id": "qRI3rLP1k_Vt"
      },
      "outputs": [],
      "source": [
        "from sklearn import datasets\n",
        "import matplotlib.pyplot as plt\n",
        "from sklearn.cluster import AgglomerativeClustering\n",
        "from scipy.cluster.hierarchy import dendrogram, linkage"
      ]
    },
    {
      "cell_type": "code",
      "execution_count": null,
      "metadata": {
        "id": "KhyINVQVo-fX"
      },
      "outputs": [],
      "source": [
        "X, Y = datasets.make_blobs(6, 2, centers=4, random_state=11, cluster_std=1.4)\n",
        "print(X)"
      ]
    },
    {
      "cell_type": "code",
      "execution_count": null,
      "metadata": {
        "id": "ZG1QyvaxqEOX"
      },
      "outputs": [],
      "source": [
        "fig, ax = plt.subplots()\n",
        "ax.scatter(X[:,0], X[:,1])\n",
        "for i, txt in enumerate(range(0, 6)):\n",
        "  ax.annotate(txt, (X[i,0], X[i,1]), fontsize=15)"
      ]
    },
    {
      "cell_type": "code",
      "execution_count": null,
      "metadata": {
        "id": "GDDeJOhnmDwg"
      },
      "outputs": [],
      "source": [
        "linked = linkage(X, 'single')"
      ]
    },
    {
      "cell_type": "code",
      "execution_count": null,
      "metadata": {
        "id": "wOHU_xTRn3ji"
      },
      "outputs": [],
      "source": [
        "print(linked)"
      ]
    },
    {
      "cell_type": "code",
      "execution_count": null,
      "metadata": {
        "id": "xY4hVtvumh6v"
      },
      "outputs": [],
      "source": [
        "dendrogram(linked, orientation='top', distance_sort='descending', show_leaf_counts=True)"
      ]
    },
    {
      "cell_type": "code",
      "execution_count": null,
      "metadata": {
        "id": "igPQ5R2Glqso"
      },
      "outputs": [],
      "source": [
        "hm = AgglomerativeClustering(n_clusters=2, affinity='euclidean', linkage='single')\n",
        "hm.fit(X)"
      ]
    },
    {
      "cell_type": "code",
      "execution_count": null,
      "metadata": {
        "id": "Ui78BzHKs8PC"
      },
      "outputs": [],
      "source": [
        "print(hm.labels_)"
      ]
    },
    {
      "cell_type": "code",
      "execution_count": null,
      "metadata": {
        "id": "2Ka2XLk3tUm9"
      },
      "outputs": [],
      "source": [
        "plt.scatter(X[:,0], X[:,1], c=hm.labels_, s=50, cmap='viridis')\n",
        "plt.show()"
      ]
    },
    {
      "cell_type": "markdown",
      "metadata": {
        "id": "OYv7UXsKuTrE"
      },
      "source": [
        "**Image Clustering**"
      ]
    },
    {
      "cell_type": "code",
      "execution_count": null,
      "metadata": {
        "id": "rBlHUOoQuSzF"
      },
      "outputs": [],
      "source": [
        "from skimage import data\n",
        "from skimage.transform import resize\n",
        "import matplotlib.pyplot as plt\n",
        "from sklearn.cluster import KMeans\n",
        "from sklearn.cluster import AgglomerativeClustering"
      ]
    },
    {
      "cell_type": "code",
      "execution_count": null,
      "metadata": {
        "id": "LS92-dOmvFfI"
      },
      "outputs": [],
      "source": [
        "coffee = data.coffee()\n",
        "coffee = resize(coffee, (100, 150))\n",
        "plt.imshow(coffee)"
      ]
    },
    {
      "cell_type": "code",
      "execution_count": null,
      "metadata": {
        "id": "YZwWRBbKvDpE"
      },
      "outputs": [],
      "source": [
        "print(coffee.shape)"
      ]
    },
    {
      "cell_type": "code",
      "execution_count": null,
      "metadata": {
        "id": "8MUGZDEDvjIT"
      },
      "outputs": [],
      "source": [
        "coffee = coffee.reshape(100*150,3)\n",
        "print(coffee.shape)"
      ]
    },
    {
      "cell_type": "code",
      "execution_count": null,
      "metadata": {
        "id": "yHoJkZUVvyo4"
      },
      "outputs": [],
      "source": [
        "km = KMeans(n_clusters=5)\n",
        "km.fit(coffee)"
      ]
    },
    {
      "cell_type": "code",
      "execution_count": null,
      "metadata": {
        "id": "0J_PTJumwUEo"
      },
      "outputs": [],
      "source": [
        "coffee_km = km.labels_.reshape(100, 150)\n",
        "plt.imshow(coffee_km)"
      ]
    },
    {
      "cell_type": "code",
      "execution_count": null,
      "metadata": {
        "id": "5738oPlgxc_3"
      },
      "outputs": [],
      "source": [
        "hm = AgglomerativeClustering(n_clusters=5, affinity='euclidean', linkage='complete')\n",
        "hm.fit(coffee)"
      ]
    },
    {
      "cell_type": "code",
      "execution_count": null,
      "metadata": {
        "id": "AKU4VLQUxg83"
      },
      "outputs": [],
      "source": [
        "coffee_hm = hm.labels_.reshape(100, 150)\n",
        "plt.imshow(coffee_hm)"
      ]
    }
  ],
  "metadata": {
    "colab": {
      "collapsed_sections": [],
      "name": "Unsupervised.ipynb",
      "provenance": []
    },
    "kernelspec": {
      "display_name": "Python 3",
      "name": "python3"
    }
  },
  "nbformat": 4,
  "nbformat_minor": 0
}
