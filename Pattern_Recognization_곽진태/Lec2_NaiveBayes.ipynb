{
  "cells": [
    {
      "cell_type": "markdown",
      "metadata": {
        "id": "_k-bRbF5wmjd"
      },
      "source": [
        "# **Gaussian Naive Bayes**"
      ]
    },
    {
      "cell_type": "markdown",
      "metadata": {
        "id": "3MIglx9_3Ltr"
      },
      "source": [
        "Import Libraries\n",
        "- scikit-learn(사이킷런) 머신러닝 라이브러리 dataset을 전체 불러오기 (랜덤하게 데이터 만들기)\n",
        "- matplot 라이브러리에서 pyplot을 plt라는 이름으로 import"
      ]
    },
    {
      "cell_type": "code",
      "execution_count": null,
      "metadata": {
        "id": "UZbZi3wc3RAi"
      },
      "outputs": [],
      "source": [
        "from sklearn import datasets\n",
        "import matplotlib.pyplot as plt"
      ]
    },
    {
      "cell_type": "markdown",
      "metadata": {
        "id": "5cfQ_gpT36uR"
      },
      "source": [
        "Generate some (random) data\n",
        "\n",
        "make_blobs 함수\n",
        "- 100 : data 수\n",
        "- 2 : feature 수\n",
        "- center : class 수\n",
        "- random_state : 난수 발생 시드 (data 퍼짐 정도)\n",
        "- cluster_std : 클러스터의 표준 편차\n",
        "\n",
        "plt.scatter 함수\n",
        "- X는 값, Y는 class\n",
        "- c : dot 컬러\n",
        "- s : 마커 사이즈\n",
        "- cmap : 컬러맵 (도트 컬러 자동변경)\n",
        "- scatter는 공간상에 데이터 분포가 어떻게 되어있는지 보여주기 용이함"
      ]
    },
    {
      "cell_type": "code",
      "execution_count": null,
      "metadata": {
        "id": "sisrHl7twnlF"
      },
      "outputs": [],
      "source": [
        "X, Y = datasets.make_blobs(100, 2, centers=2, random_state=2, cluster_std=1.5)\n",
        "\n",
        "plt.scatter(X[:,0], X[:,1], c=Y, s=50, cmap='RdBu')\n",
        "plt.show()"
      ]
    },
    {
      "cell_type": "markdown",
      "metadata": {
        "id": "cULytnQXxNab"
      },
      "source": [
        "**Train a Naive Bayes Model**\n",
        "- 사이킷런에 있는 서브라이브러리인 naive_bayes 중에 GaussianNB 만 불러오기."
      ]
    },
    {
      "cell_type": "code",
      "execution_count": null,
      "metadata": {
        "id": "CDTrnCB7xQcs"
      },
      "outputs": [],
      "source": [
        "from sklearn.naive_bayes import GaussianNB"
      ]
    },
    {
      "cell_type": "markdown",
      "metadata": {},
      "source": [
        "- 데이터 넣어서 만들 수 있는 model 생성\n",
        "- .000 : 라이브러리 안에 있는 함수 사용하기\n",
        "   ex) .fit : 학습시키기 / X : data, Y : class"
      ]
    },
    {
      "cell_type": "code",
      "execution_count": null,
      "metadata": {
        "id": "fIumMW_PxTun"
      },
      "outputs": [],
      "source": [
        "model = GaussianNB()\n",
        "model.fit(X, Y)"
      ]
    },
    {
      "cell_type": "markdown",
      "metadata": {
        "id": "h-hnWfg5zYR7"
      },
      "source": [
        "Let's check out the distribution of the classes\n",
        "- theta : 각 분포의 평균 \n",
        "- sigma : 각 분포의 분산\n",
        "=> feature2, class2 여서 아래 결과와 같이 2*2.\n",
        "=> 가로축 class, 세로축 feature"
      ]
    },
    {
      "cell_type": "code",
      "execution_count": null,
      "metadata": {
        "id": "3BLAjf9GyVgq"
      },
      "outputs": [],
      "source": [
        "model.theta_    # mean of each feature per class (n_classes, n_features)"
      ]
    },
    {
      "cell_type": "code",
      "execution_count": null,
      "metadata": {
        "id": "p2MIVEr1xJOD"
      },
      "outputs": [],
      "source": [
        "model.sigma_    # variance of each feature per class (n_classes, n_features)"
      ]
    },
    {
      "cell_type": "code",
      "execution_count": null,
      "metadata": {
        "id": "XPGiELcvyxHZ"
      },
      "outputs": [],
      "source": [
        "plt.scatter(X[:,0], X[:,1], c=Y, s=50, cmap='RdBu')\n",
        "# 평균지점 표시\n",
        "plt.scatter(model.theta_[:,0], model.theta_[:,1], marker='d', c=['r', 'b'], s=200)\n",
        "plt.show()"
      ]
    },
    {
      "cell_type": "markdown",
      "metadata": {
        "id": "O2ejMI3px8XA"
      },
      "source": [
        "**Performance Evaluation**\n",
        "- 성능평가 metrics 라이브러리로 해보자.\n",
        "- .predict 함수로 예측 가능."
      ]
    },
    {
      "cell_type": "code",
      "execution_count": null,
      "metadata": {
        "id": "Upk_thRex_Lt"
      },
      "outputs": [],
      "source": [
        "from sklearn import metrics"
      ]
    },
    {
      "cell_type": "code",
      "execution_count": null,
      "metadata": {
        "id": "FukVNmH3xbeK"
      },
      "outputs": [],
      "source": [
        "# 예측\n",
        "pred = model.predict(X)\n",
        "# 예측 결과 (처음부터 10번째까지)\n",
        "print(pred[:10])\n",
        "# 실제 정답\n",
        "print(Y[:10])\n",
        "\n",
        "# probability 값 확인\n",
        "score = model.predict_proba(X)\n",
        "print(score[:10,:])"
      ]
    },
    {
      "cell_type": "markdown",
      "metadata": {
        "id": "9w8syPGa1RlQ"
      },
      "source": [
        "Accuracy\n",
        "- 예측이 끝났으면, 실제로 얼마나 정확한지 계산 해봐야 함"
      ]
    },
    {
      "cell_type": "code",
      "execution_count": null,
      "metadata": {
        "id": "Je9XSGW51Pxw"
      },
      "outputs": [],
      "source": [
        "#(정답,예측)\n",
        "acc = metrics.accuracy_score(Y, pred)\n",
        "print('Accuracy : ', acc)"
      ]
    },
    {
      "cell_type": "code",
      "execution_count": null,
      "metadata": {
        "id": "WaT8TcZ200Ug"
      },
      "outputs": [],
      "source": [
        "X2, Y2 = datasets.make_blobs(100, 2, centers=2, random_state=2, cluster_std=2.5)\n",
        "\n",
        "pred2 = model.predict(X2)\n",
        "print(pred2[:10])\n",
        "print(Y2[:10])\n",
        "\n",
        "score2 = model.predict_proba(X2)\n",
        "print(score2[:10,:])"
      ]
    },
    {
      "cell_type": "markdown",
      "metadata": {
        "id": "p9XyItDuyIVa"
      },
      "source": [
        "Accuracy"
      ]
    },
    {
      "cell_type": "code",
      "execution_count": null,
      "metadata": {
        "id": "Vgi84qb5yGVT"
      },
      "outputs": [],
      "source": [
        "acc2 = metrics.accuracy_score(Y2, pred2)\n",
        "print('Accuracy : ', acc2)"
      ]
    },
    {
      "cell_type": "markdown",
      "metadata": {
        "id": "cHAFIK0Cn3Q2"
      },
      "source": [
        "# **Breast Cancer Wisconsin (Diagnostic) Dataset**\n",
        "*   569 instances (212 Malignant(악성종양), 357 Benign(양성종양))\n",
        "*   30 numerical features (computed from a digitized image of a breast mass)\n",
        "*   2 classes (Malignant, Benign)\n"
      ]
    },
    {
      "cell_type": "markdown",
      "metadata": {
        "id": "BbN_bZpT4Zhv"
      },
      "source": [
        "Import Libraries\n",
        "- 넘파이(Numpy)는 Python에서 벡터, 행렬 등 수치 연산을 수행하는 선형대수(Linear algebra) 라이브러리"
      ]
    },
    {
      "cell_type": "code",
      "execution_count": null,
      "metadata": {
        "id": "9Afk-9gTn8kr"
      },
      "outputs": [],
      "source": [
        "import numpy as np\n",
        "from sklearn import datasets"
      ]
    },
    {
      "cell_type": "markdown",
      "metadata": {
        "id": "qdt6lR1G4dPd"
      },
      "source": [
        "Load dataset"
      ]
    },
    {
      "cell_type": "code",
      "execution_count": null,
      "metadata": {
        "id": "FPo-_s9n4bXf"
      },
      "outputs": [],
      "source": [
        "wisconsin = datasets.load_breast_cancer()"
      ]
    },
    {
      "cell_type": "code",
      "execution_count": null,
      "metadata": {
        "id": "pGrdTVK1om86"
      },
      "outputs": [],
      "source": [
        "# 어떤 것들이 들어있는지.\n",
        "wisconsin.keys()"
      ]
    },
    {
      "cell_type": "code",
      "execution_count": null,
      "metadata": {
        "id": "euoiqEVqouF_"
      },
      "outputs": [],
      "source": [
        "wisconsin.data"
      ]
    },
    {
      "cell_type": "code",
      "execution_count": null,
      "metadata": {
        "id": "NlKClmyE4iTB"
      },
      "outputs": [],
      "source": [
        "# dimension이 어떻게 되는지 (569명에 대한 30개의 x값을 갖고 있다)\n",
        "wisconsin.data.shape"
      ]
    },
    {
      "cell_type": "code",
      "execution_count": null,
      "metadata": {
        "id": "Bm8N1exIoq5j"
      },
      "outputs": [],
      "source": [
        "wisconsin.target_names"
      ]
    },
    {
      "cell_type": "markdown",
      "metadata": {
        "id": "Dfw1yYfkoyVM"
      },
      "source": [
        "**Prepare Data**\n",
        "학습용, 검증용 dataset 나누기"
      ]
    },
    {
      "cell_type": "code",
      "execution_count": null,
      "metadata": {
        "id": "F1tvLvAuoxU9"
      },
      "outputs": [],
      "source": [
        "from sklearn.model_selection import train_test_split"
      ]
    },
    {
      "cell_type": "code",
      "execution_count": null,
      "metadata": {
        "id": "4i1qnWDAo1hV"
      },
      "outputs": [],
      "source": [
        "# 30%는 test set으로 사용하겠다.\n",
        "TrainX, TestX, TrainY, TestY = train_test_split(wisconsin.data, wisconsin.target, test_size=0.3, random_state=0)"
      ]
    },
    {
      "cell_type": "code",
      "execution_count": null,
      "metadata": {
        "id": "BqPEbSHmo4Ic"
      },
      "outputs": [],
      "source": [
        "print(TrainX.shape)\n",
        "print(TrainY.shape)\n",
        "print(TestX.shape)\n",
        "print(TestY.shape)"
      ]
    },
    {
      "cell_type": "markdown",
      "metadata": {
        "id": "s5FrakxRo6KC"
      },
      "source": [
        "**Train a Naive Bayes Model**"
      ]
    },
    {
      "cell_type": "code",
      "execution_count": null,
      "metadata": {
        "id": "-ifLOJYBo9KE"
      },
      "outputs": [],
      "source": [
        "from sklearn.naive_bayes import GaussianNB"
      ]
    },
    {
      "cell_type": "code",
      "execution_count": null,
      "metadata": {
        "id": "nZbXbS6HpBag"
      },
      "outputs": [],
      "source": [
        "model = GaussianNB()\n",
        "model.fit(TrainX, TrainY)"
      ]
    },
    {
      "cell_type": "code",
      "execution_count": null,
      "metadata": {
        "id": "IJ87c8t41kOP"
      },
      "outputs": [],
      "source": [
        "model.theta_"
      ]
    },
    {
      "cell_type": "code",
      "execution_count": null,
      "metadata": {
        "id": "tmUZ-WvcpEJW"
      },
      "outputs": [],
      "source": [
        "pred_train = model.predict(TrainX)\n",
        "print(pred_train[:20])\n",
        "print(TrainY[:20])\n",
        "\n",
        "score_train = model.predict_proba(TrainX)\n",
        "score_train[:10,:]"
      ]
    },
    {
      "cell_type": "code",
      "execution_count": null,
      "metadata": {
        "id": "5jtpVRUNpI8R"
      },
      "outputs": [],
      "source": [
        "pred_test = model.predict(TestX)\n",
        "print(pred_test[:20])\n",
        "print(TestY[:20])\n",
        "\n",
        "score_test = model.predict_proba(TestX)\n",
        "score_test[:10,:]"
      ]
    },
    {
      "cell_type": "markdown",
      "metadata": {
        "id": "Tt4xP2EJpNJb"
      },
      "source": [
        "**Performance Evaluation**"
      ]
    },
    {
      "cell_type": "code",
      "execution_count": null,
      "metadata": {
        "id": "3iXZYHGjpNzx"
      },
      "outputs": [],
      "source": [
        "from sklearn import metrics"
      ]
    },
    {
      "cell_type": "markdown",
      "metadata": {
        "id": "6BJtgZKmuXCs"
      },
      "source": [
        "Accuracy"
      ]
    },
    {
      "cell_type": "code",
      "execution_count": null,
      "metadata": {
        "id": "Ir5Uua7zpPSM"
      },
      "outputs": [],
      "source": [
        "tr_acc = metrics.accuracy_score(TrainY, pred_train)\n",
        "print('Training Accuracy : ', tr_acc)\n",
        "\n",
        "ts_acc = metrics.accuracy_score(TestY, pred_test)\n",
        "print('Test Accuracy : ', ts_acc)"
      ]
    },
    {
      "cell_type": "markdown",
      "metadata": {
        "id": "9veYhl0yuYA3"
      },
      "source": [
        "ROC curve & AUC\n",
        "- curve 아래 영역이 얼마나 되는지로 어떤 model이 더 나은지 판단해보자."
      ]
    },
    {
      "cell_type": "code",
      "execution_count": null,
      "metadata": {
        "id": "giWtPJbypUN7"
      },
      "outputs": [],
      "source": [
        "# 예측된 label이 아니라 계산된 값을 줘야함. posterior probability값, _proba로 계산된 값.\n",
        "tr_fpr, tr_tpr, tr_th = metrics.roc_curve(TrainY, score_train[:,1], pos_label=1)\n",
        "ts_fpr, ts_tpr, ts_th = metrics.roc_curve(TestY, score_test[:,1], pos_label=1)"
      ]
    },
    {
      "cell_type": "code",
      "execution_count": null,
      "metadata": {
        "id": "iC8IpffXpzOF"
      },
      "outputs": [],
      "source": [
        "import matplotlib.pyplot as plt\n",
        "\n",
        "plt.plot(tr_fpr, tr_tpr, color='b', label='Train')\n",
        "plt.plot(ts_fpr, ts_tpr, color='r', label='Test')\n",
        "plt.xlim([0.0, 1.0])\n",
        "plt.ylim([0.0, 1.0])\n",
        "plt.legend(loc='best')\n",
        "plt.show()"
      ]
    },
    {
      "cell_type": "code",
      "execution_count": null,
      "metadata": {
        "id": "hGrsFkJ_ucRV"
      },
      "outputs": [],
      "source": [
        "# 계산되는 방법이 달라서 Accuracy와 equal은 아니다.\n",
        "tr_auc = metrics.roc_auc_score(TrainY, score_train[:,1])\n",
        "print('Training AUC : ', tr_auc)\n",
        "\n",
        "ts_auc = metrics.roc_auc_score(TestY, score_test[:,1])\n",
        "print('Test AUC : ', ts_auc)"
      ]
    },
    {
      "cell_type": "markdown",
      "metadata": {},
      "source": []
    },
    {
      "cell_type": "markdown",
      "metadata": {
        "id": "phUAHm0bjrhI"
      },
      "source": [
        "# **Iris Plants Dataset**\n",
        "*   150 instances (50 per each class)\n",
        "*   4 numerical features (sepal length, sepal width, petal length, petal width)\n",
        "*   3 class (setosa, versicolor, virginica)\n",
        "\n"
      ]
    },
    {
      "cell_type": "code",
      "execution_count": null,
      "metadata": {
        "id": "gNXjSyqXe2UQ"
      },
      "outputs": [],
      "source": [
        "import numpy as np\n",
        "from sklearn import datasets\n",
        "iris = datasets.load_iris()"
      ]
    },
    {
      "cell_type": "code",
      "execution_count": null,
      "metadata": {
        "id": "stgK2mu2fpex"
      },
      "outputs": [],
      "source": [
        "iris.keys()"
      ]
    },
    {
      "cell_type": "code",
      "execution_count": null,
      "metadata": {
        "id": "5_-qpfn6jqsw"
      },
      "outputs": [],
      "source": [
        "iris.target_names"
      ]
    },
    {
      "cell_type": "markdown",
      "metadata": {
        "id": "G5-dV3Hllbcq"
      },
      "source": [
        "**Prepare Data**"
      ]
    },
    {
      "cell_type": "code",
      "execution_count": null,
      "metadata": {
        "id": "lXRQ_-RNkplL"
      },
      "outputs": [],
      "source": [
        "from sklearn.model_selection import train_test_split"
      ]
    },
    {
      "cell_type": "code",
      "execution_count": null,
      "metadata": {
        "id": "3cXSuCGMfWE2"
      },
      "outputs": [],
      "source": [
        "TrainX, TestX, TrainY, TestY = train_test_split(iris.data, iris.target, test_size=0.3, random_state=0)"
      ]
    },
    {
      "cell_type": "code",
      "execution_count": null,
      "metadata": {
        "id": "lOYvZrZKlBKS"
      },
      "outputs": [],
      "source": [
        "print(TrainX.shape)\n",
        "print(TrainY.shape)\n",
        "print(TestX.shape)\n",
        "print(TestY.shape)"
      ]
    },
    {
      "cell_type": "markdown",
      "metadata": {
        "id": "3d2Ds2bjlgIk"
      },
      "source": [
        "**Train a Naive Bayes Model**"
      ]
    },
    {
      "cell_type": "code",
      "execution_count": null,
      "metadata": {
        "id": "ZYT3k_DWllC6"
      },
      "outputs": [],
      "source": [
        "from sklearn.naive_bayes import GaussianNB"
      ]
    },
    {
      "cell_type": "code",
      "execution_count": null,
      "metadata": {
        "id": "AischjVwlq6U"
      },
      "outputs": [],
      "source": [
        "model = GaussianNB()\n",
        "model.fit(TrainX, TrainY)"
      ]
    },
    {
      "cell_type": "code",
      "execution_count": null,
      "metadata": {
        "id": "9cTBUjMG1azI"
      },
      "outputs": [],
      "source": [
        "model.theta_"
      ]
    },
    {
      "cell_type": "code",
      "execution_count": null,
      "metadata": {
        "id": "9dz_AUdxlxcj"
      },
      "outputs": [],
      "source": [
        "pred_train = model.predict(TrainX)\n",
        "print(pred_train)\n",
        "print(TrainY)"
      ]
    },
    {
      "cell_type": "code",
      "execution_count": null,
      "metadata": {
        "id": "CxEGFamQl729"
      },
      "outputs": [],
      "source": [
        "pred_test = model.predict(TestX)\n",
        "print(pred_test)\n",
        "print(TestY)"
      ]
    },
    {
      "cell_type": "markdown",
      "metadata": {
        "id": "a2aloH_MmHUz"
      },
      "source": [
        "**Performance Evaluation**"
      ]
    },
    {
      "cell_type": "code",
      "execution_count": null,
      "metadata": {
        "id": "r5YmijvnmJVD"
      },
      "outputs": [],
      "source": [
        "from sklearn import metrics"
      ]
    },
    {
      "cell_type": "markdown",
      "metadata": {
        "id": "09auvNyVuQi8"
      },
      "source": [
        "Accuracy"
      ]
    },
    {
      "cell_type": "code",
      "execution_count": null,
      "metadata": {
        "id": "qNESHmLDmLa_"
      },
      "outputs": [],
      "source": [
        "tr_acc = metrics.accuracy_score(TrainY, pred_train)\n",
        "print('Training Accuracy : ', tr_acc)\n",
        "\n",
        "ts_acc = metrics.accuracy_score(TestY, pred_test)\n",
        "print('Test Accuracy : ', ts_acc)"
      ]
    },
    {
      "cell_type": "markdown",
      "metadata": {
        "id": "ROKpsWZeuSKq"
      },
      "source": [
        "Confusion Matrix"
      ]
    },
    {
      "cell_type": "code",
      "execution_count": null,
      "metadata": {
        "id": "Jhzs-iV9svz8"
      },
      "outputs": [],
      "source": [
        "tr_cmat = metrics.confusion_matrix(TrainY, pred_train)\n",
        "print(tr_cmat)\n",
        "\n",
        "tr_cmat = metrics.confusion_matrix(TestY, pred_test)\n",
        "print(tr_cmat)"
      ]
    }
  ],
  "metadata": {
    "colab": {
      "collapsed_sections": [],
      "name": "NaiveBayes.ipynb",
      "provenance": []
    },
    "interpreter": {
      "hash": "3413d5e40aaf0330a7d35c67c9bffa15b2a6d83d537f6d946f2f0d14401ffbba"
    },
    "kernelspec": {
      "display_name": "Python 3.7.0 64-bit ('test1': conda)",
      "name": "python3"
    },
    "language_info": {
      "codemirror_mode": {
        "name": "ipython",
        "version": 3
      },
      "file_extension": ".py",
      "mimetype": "text/x-python",
      "name": "python",
      "nbconvert_exporter": "python",
      "pygments_lexer": "ipython3",
      "version": "3.7.0"
    }
  },
  "nbformat": 4,
  "nbformat_minor": 2
}
