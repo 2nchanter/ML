{
  "nbformat": 4,
  "nbformat_minor": 2,
  "metadata": {
    "colab": {
      "name": "NaiveBayes.ipynb",
      "provenance": [],
      "collapsed_sections": []
    },
    "kernelspec": {
      "name": "python3",
      "display_name": "Python 3.7.0 64-bit ('test1': conda)"
    },
    "language_info": {
      "name": "python",
      "version": "3.7.0",
      "mimetype": "text/x-python",
      "codemirror_mode": {
        "name": "ipython",
        "version": 3
      },
      "pygments_lexer": "ipython3",
      "nbconvert_exporter": "python",
      "file_extension": ".py"
    },
    "interpreter": {
      "hash": "3413d5e40aaf0330a7d35c67c9bffa15b2a6d83d537f6d946f2f0d14401ffbba"
    }
  },
  "cells": [
    {
      "cell_type": "markdown",
      "source": [
        "# **Gaussian Naive Bayes**"
      ],
      "metadata": {
        "id": "_k-bRbF5wmjd"
      }
    },
    {
      "cell_type": "markdown",
      "source": [
        "Import Libraries\n",
        "- scikit-learn(사이킷런) 머신러닝 라이브러리 dataset을 전체 불러오기 (랜덤하게 데이터 만들기)\n",
        "- matplot 라이브러리에서 pyplot을 plt라는 이름으로 import"
      ],
      "metadata": {
        "id": "3MIglx9_3Ltr"
      }
    },
    {
      "cell_type": "code",
      "execution_count": 97,
      "source": [
        "from sklearn import datasets\n",
        "import matplotlib.pyplot as plt"
      ],
      "outputs": [],
      "metadata": {
        "id": "UZbZi3wc3RAi"
      }
    },
    {
      "cell_type": "markdown",
      "source": [
        "Generate some (random) data\n",
        "\n",
        "make_blobs 함수\n",
        "- 100 : data 수\n",
        "- 2 : feature 수\n",
        "- center : class 수\n",
        "- random_state : 난수 발생 시드 (data 퍼짐 정도)\n",
        "- cluster_std : 클러스터의 표준 편차\n",
        "\n",
        "plt.scatter 함수\n",
        "- X는 값, Y는 class\n",
        "- c : dot 컬러\n",
        "- s : 마커 사이즈\n",
        "- cmap : 컬러맵 (도트 컬러 자동변경)\n",
        "- scatter는 공간상에 데이터 분포가 어떻게 되어있는지 보여주기 용이함"
      ],
      "metadata": {
        "id": "5cfQ_gpT36uR"
      }
    },
    {
      "cell_type": "code",
      "execution_count": 98,
      "source": [
        "X, Y = datasets.make_blobs(100, 2, centers=2, random_state=2, cluster_std=1.5)\n",
        "\n",
        "plt.scatter(X[:,0], X[:,1], c=Y, s=50, cmap='RdBu')\n",
        "plt.show()"
      ],
      "outputs": [
        {
          "output_type": "display_data",
          "data": {
            "image/png": "[encoded data removed]",
            "text/plain": [
              "<Figure size 432x288 with 1 Axes>"
            ]
          },
          "metadata": {
            "needs_background": "light"
          }
        }
      ],
      "metadata": {
        "id": "sisrHl7twnlF"
      }
    },
    {
      "cell_type": "markdown",
      "source": [
        "**Train a Naive Bayes Model**\n",
        "- 사이킷런에 있는 서브라이브러리인 naive_bayes 중에 GaussianNB 만 불러오기."
      ],
      "metadata": {
        "id": "cULytnQXxNab"
      }
    },
    {
      "cell_type": "code",
      "execution_count": 99,
      "source": [
        "from sklearn.naive_bayes import GaussianNB"
      ],
      "outputs": [],
      "metadata": {
        "id": "CDTrnCB7xQcs"
      }
    },
    {
      "cell_type": "markdown",
      "source": [
        "- 데이터 넣어서 만들 수 있는 model 생성\n",
        "- .000 : 라이브러리 안에 있는 함수 사용하기\n",
        "   ex) .fit : 학습시키기 / X : data, Y : class"
      ],
      "metadata": {}
    },
    {
      "cell_type": "code",
      "execution_count": 100,
      "source": [
        "model = GaussianNB()\n",
        "model.fit(X, Y)"
      ],
      "outputs": [
        {
          "output_type": "execute_result",
          "data": {
            "text/plain": [
              "GaussianNB()"
            ]
          },
          "metadata": {},
          "execution_count": 100
        }
      ],
      "metadata": {
        "id": "fIumMW_PxTun"
      }
    },
    {
      "cell_type": "markdown",
      "source": [
        "Let's check out the distribution of the classes\n",
        "- theta : 각 분포의 평균 \n",
        "- sigma : 각 분포의 분산\n",
        "=> feature2, class2 여서 아래 결과와 같이 2*2.\n",
        "=> 가로축 class, 세로축 feature"
      ],
      "metadata": {
        "id": "h-hnWfg5zYR7"
      }
    },
    {
      "cell_type": "code",
      "execution_count": 101,
      "source": [
        "model.theta_    # mean of each feature per class (n_classes, n_features)"
      ],
      "outputs": [
        {
          "output_type": "execute_result",
          "data": {
            "text/plain": [
              "array([[-1.64939095, -9.36891451],\n",
              "       [ 1.29327924, -1.24101221]])"
            ]
          },
          "metadata": {},
          "execution_count": 101
        }
      ],
      "metadata": {
        "id": "3BLAjf9GyVgq"
      }
    },
    {
      "cell_type": "code",
      "execution_count": 102,
      "source": [
        "model.sigma_    # variance of each feature per class (n_classes, n_features)"
      ],
      "outputs": [
        {
          "output_type": "execute_result",
          "data": {
            "text/plain": [
              "array([[2.06097005, 2.47716872],\n",
              "       [3.33164807, 2.22401384]])"
            ]
          },
          "metadata": {},
          "execution_count": 102
        }
      ],
      "metadata": {
        "id": "p2MIVEr1xJOD"
      }
    },
    {
      "cell_type": "code",
      "execution_count": 103,
      "source": [
        "plt.scatter(X[:,0], X[:,1], c=Y, s=50, cmap='RdBu')\n",
        "# 평균지점 표시\n",
        "plt.scatter(model.theta_[:,0], model.theta_[:,1], marker='d', c=['r', 'b'], s=200)\n",
        "plt.show()"
      ],
      "outputs": [
        {
          "output_type": "display_data",
          "data": {
            "image/png": "[encoded data removed]",
            "text/plain": [
              "<Figure size 432x288 with 1 Axes>"
            ]
          },
          "metadata": {
            "needs_background": "light"
          }
        }
      ],
      "metadata": {
        "id": "XPGiELcvyxHZ"
      }
    },
    {
      "cell_type": "markdown",
      "source": [
        "**Performance Evaluation**\n",
        "- 성능평가 metrics 라이브러리로 해보자.\n",
        "- .predict 함수로 예측 가능."
      ],
      "metadata": {
        "id": "O2ejMI3px8XA"
      }
    },
    {
      "cell_type": "code",
      "execution_count": 104,
      "source": [
        "from sklearn import metrics"
      ],
      "outputs": [],
      "metadata": {
        "id": "Upk_thRex_Lt"
      }
    },
    {
      "cell_type": "code",
      "execution_count": 105,
      "source": [
        "# 예측\n",
        "pred = model.predict(X)\n",
        "# 예측 결과 (처음부터 10번째까지)\n",
        "print(pred[:10])\n",
        "# 실제 정답\n",
        "print(Y[:10])\n",
        "\n",
        "# probability 값 확인\n",
        "score = model.predict_proba(X)\n",
        "print(score[:10,:])"
      ],
      "outputs": [
        {
          "output_type": "stream",
          "name": "stdout",
          "text": [
            "[0 0 0 1 1 0 0 1 0 0]\n",
            "[0 0 0 1 1 0 0 1 0 0]\n",
            "[[9.99999851e-01 1.49493829e-07]\n",
            " [9.99999996e-01 4.42104442e-09]\n",
            " [9.62619703e-01 3.73802974e-02]\n",
            " [3.06624237e-05 9.99969338e-01]\n",
            " [9.54657907e-09 9.99999990e-01]\n",
            " [9.99793520e-01 2.06480117e-04]\n",
            " [1.00000000e+00 1.59854976e-10]\n",
            " [9.27204427e-08 9.99999907e-01]\n",
            " [9.99996844e-01 3.15571604e-06]\n",
            " [9.99425227e-01 5.74773311e-04]]\n"
          ]
        }
      ],
      "metadata": {
        "id": "FukVNmH3xbeK"
      }
    },
    {
      "cell_type": "markdown",
      "source": [
        "Accuracy\n",
        "- 예측이 끝났으면, 실제로 얼마나 정확한지 계산 해봐야 함"
      ],
      "metadata": {
        "id": "9w8syPGa1RlQ"
      }
    },
    {
      "cell_type": "code",
      "execution_count": 106,
      "source": [
        "#(정답,예측)\n",
        "acc = metrics.accuracy_score(Y, pred)\n",
        "print('Accuracy : ', acc)"
      ],
      "outputs": [
        {
          "output_type": "stream",
          "name": "stdout",
          "text": [
            "Accuracy :  1.0\n"
          ]
        }
      ],
      "metadata": {
        "id": "Je9XSGW51Pxw"
      }
    },
    {
      "cell_type": "code",
      "execution_count": 107,
      "source": [
        "X2, Y2 = datasets.make_blobs(100, 2, centers=2, random_state=2, cluster_std=2.5)\n",
        "\n",
        "pred2 = model.predict(X2)\n",
        "print(pred2[:10])\n",
        "print(Y2[:10])\n",
        "\n",
        "score2 = model.predict_proba(X2)\n",
        "print(score2[:10,:])"
      ],
      "outputs": [
        {
          "output_type": "stream",
          "name": "stdout",
          "text": [
            "[0 0 1 1 1 0 0 1 0 0]\n",
            "[0 0 0 1 1 0 0 1 0 0]\n",
            "[[9.99999612e-01 3.88491068e-07]\n",
            " [9.99999997e-01 3.44837480e-09]\n",
            " [4.99205050e-03 9.95007950e-01]\n",
            " [4.75844547e-04 9.99524155e-01]\n",
            " [7.46849254e-10 9.99999999e-01]\n",
            " [9.63586610e-01 3.64133901e-02]\n",
            " [1.00000000e+00 2.57642243e-12]\n",
            " [2.08526468e-08 9.99999979e-01]\n",
            " [9.99959412e-01 4.05880951e-05]\n",
            " [7.58993344e-01 2.41006656e-01]]\n"
          ]
        }
      ],
      "metadata": {
        "id": "WaT8TcZ200Ug"
      }
    },
    {
      "cell_type": "markdown",
      "source": [
        "Accuracy"
      ],
      "metadata": {
        "id": "p9XyItDuyIVa"
      }
    },
    {
      "cell_type": "code",
      "execution_count": 108,
      "source": [
        "acc2 = metrics.accuracy_score(Y2, pred2)\n",
        "print('Accuracy : ', acc2)"
      ],
      "outputs": [
        {
          "output_type": "stream",
          "name": "stdout",
          "text": [
            "Accuracy :  0.96\n"
          ]
        }
      ],
      "metadata": {
        "id": "Vgi84qb5yGVT"
      }
    },
    {
      "cell_type": "markdown",
      "source": [
        "# **Breast Cancer Wisconsin (Diagnostic) Dataset**\n",
        "*   569 instances (212 Malignant(악성종양), 357 Benign(양성종양))\n",
        "*   30 numerical features (computed from a digitized image of a breast mass)\n",
        "*   2 classes (Malignant, Benign)\n"
      ],
      "metadata": {
        "id": "cHAFIK0Cn3Q2"
      }
    },
    {
      "cell_type": "markdown",
      "source": [
        "Import Libraries\n",
        "- 넘파이(Numpy)는 Python에서 벡터, 행렬 등 수치 연산을 수행하는 선형대수(Linear algebra) 라이브러리"
      ],
      "metadata": {
        "id": "BbN_bZpT4Zhv"
      }
    },
    {
      "cell_type": "code",
      "execution_count": 109,
      "source": [
        "import numpy as np\n",
        "from sklearn import datasets"
      ],
      "outputs": [],
      "metadata": {
        "id": "9Afk-9gTn8kr"
      }
    },
    {
      "cell_type": "markdown",
      "source": [
        "Load dataset"
      ],
      "metadata": {
        "id": "qdt6lR1G4dPd"
      }
    },
    {
      "cell_type": "code",
      "execution_count": 110,
      "source": [
        "wisconsin = datasets.load_breast_cancer()"
      ],
      "outputs": [],
      "metadata": {
        "id": "FPo-_s9n4bXf"
      }
    },
    {
      "cell_type": "code",
      "execution_count": 111,
      "source": [
        "# 어떤 것들이 들어있는지.\n",
        "wisconsin.keys()"
      ],
      "outputs": [
        {
          "output_type": "execute_result",
          "data": {
            "text/plain": [
              "dict_keys(['data', 'target', 'frame', 'target_names', 'DESCR', 'feature_names', 'filename'])"
            ]
          },
          "metadata": {},
          "execution_count": 111
        }
      ],
      "metadata": {
        "id": "pGrdTVK1om86"
      }
    },
    {
      "cell_type": "code",
      "execution_count": 112,
      "source": [
        "wisconsin.data"
      ],
      "outputs": [
        {
          "output_type": "execute_result",
          "data": {
            "text/plain": [
              "array([[1.799e+01, 1.038e+01, 1.228e+02, ..., 2.654e-01, 4.601e-01,\n",
              "        1.189e-01],\n",
              "       [2.057e+01, 1.777e+01, 1.329e+02, ..., 1.860e-01, 2.750e-01,\n",
              "        8.902e-02],\n",
              "       [1.969e+01, 2.125e+01, 1.300e+02, ..., 2.430e-01, 3.613e-01,\n",
              "        8.758e-02],\n",
              "       ...,\n",
              "       [1.660e+01, 2.808e+01, 1.083e+02, ..., 1.418e-01, 2.218e-01,\n",
              "        7.820e-02],\n",
              "       [2.060e+01, 2.933e+01, 1.401e+02, ..., 2.650e-01, 4.087e-01,\n",
              "        1.240e-01],\n",
              "       [7.760e+00, 2.454e+01, 4.792e+01, ..., 0.000e+00, 2.871e-01,\n",
              "        7.039e-02]])"
            ]
          },
          "metadata": {},
          "execution_count": 112
        }
      ],
      "metadata": {
        "id": "euoiqEVqouF_"
      }
    },
    {
      "cell_type": "code",
      "execution_count": 113,
      "source": [
        "# dimension이 어떻게 되는지 (569명에 대한 30개의 x값을 갖고 있다)\n",
        "wisconsin.data.shape"
      ],
      "outputs": [
        {
          "output_type": "execute_result",
          "data": {
            "text/plain": [
              "(569, 30)"
            ]
          },
          "metadata": {},
          "execution_count": 113
        }
      ],
      "metadata": {
        "id": "NlKClmyE4iTB"
      }
    },
    {
      "cell_type": "code",
      "execution_count": 114,
      "source": [
        "wisconsin.target_names"
      ],
      "outputs": [
        {
          "output_type": "execute_result",
          "data": {
            "text/plain": [
              "array(['malignant', 'benign'], dtype='<U9')"
            ]
          },
          "metadata": {},
          "execution_count": 114
        }
      ],
      "metadata": {
        "id": "Bm8N1exIoq5j"
      }
    },
    {
      "cell_type": "markdown",
      "source": [
        "**Prepare Data**\n",
        "학습용, 검증용 dataset 나누기"
      ],
      "metadata": {
        "id": "Dfw1yYfkoyVM"
      }
    },
    {
      "cell_type": "code",
      "execution_count": 115,
      "source": [
        "from sklearn.model_selection import train_test_split"
      ],
      "outputs": [],
      "metadata": {
        "id": "F1tvLvAuoxU9"
      }
    },
    {
      "cell_type": "code",
      "execution_count": 116,
      "source": [
        "# 30%는 test set으로 사용하겠다.\n",
        "TrainX, TestX, TrainY, TestY = train_test_split(wisconsin.data, wisconsin.target, test_size=0.3, random_state=0)"
      ],
      "outputs": [],
      "metadata": {
        "id": "4i1qnWDAo1hV"
      }
    },
    {
      "cell_type": "code",
      "execution_count": 117,
      "source": [
        "print(TrainX.shape)\n",
        "print(TrainY.shape)\n",
        "print(TestX.shape)\n",
        "print(TestY.shape)"
      ],
      "outputs": [
        {
          "output_type": "stream",
          "name": "stdout",
          "text": [
            "(398, 30)\n",
            "(398,)\n",
            "(171, 30)\n",
            "(171,)\n"
          ]
        }
      ],
      "metadata": {
        "id": "BqPEbSHmo4Ic"
      }
    },
    {
      "cell_type": "markdown",
      "source": [
        "**Train a Naive Bayes Model**"
      ],
      "metadata": {
        "id": "s5FrakxRo6KC"
      }
    },
    {
      "cell_type": "code",
      "execution_count": 118,
      "source": [
        "from sklearn.naive_bayes import GaussianNB"
      ],
      "outputs": [],
      "metadata": {
        "id": "-ifLOJYBo9KE"
      }
    },
    {
      "cell_type": "code",
      "execution_count": 119,
      "source": [
        "model = GaussianNB()\n",
        "model.fit(TrainX, TrainY)"
      ],
      "outputs": [
        {
          "output_type": "execute_result",
          "data": {
            "text/plain": [
              "GaussianNB()"
            ]
          },
          "metadata": {},
          "execution_count": 119
        }
      ],
      "metadata": {
        "id": "nZbXbS6HpBag"
      }
    },
    {
      "cell_type": "code",
      "execution_count": 120,
      "source": [
        "model.theta_"
      ],
      "outputs": [
        {
          "output_type": "execute_result",
          "data": {
            "text/plain": [
              "array([[1.75263087e+01, 2.12936242e+01, 1.15739530e+02, 9.89914765e+02,\n",
              "        1.03175839e-01, 1.44903154e-01, 1.60549128e-01, 8.89431544e-02,\n",
              "        1.92871812e-01, 6.24804698e-02, 6.20642282e-01, 1.17787047e+00,\n",
              "        4.35542282e+00, 7.52542282e+01, 6.69622819e-03, 3.12345168e-02,\n",
              "        3.97942282e-02, 1.46321745e-02, 2.02401275e-02, 3.94693289e-03,\n",
              "        2.12708054e+01, 2.89844295e+01, 1.42098054e+02, 1.44953624e+03,\n",
              "        1.45362349e-01, 3.73629195e-01, 4.41866309e-01, 1.83275570e-01,\n",
              "        3.24036913e-01, 9.13052349e-02],\n",
              "       [1.21863815e+01, 1.79357430e+01, 7.83306827e+01, 4.65552610e+02,\n",
              "        9.24651807e-02, 7.96516867e-02, 4.58566815e-02, 2.58631888e-02,\n",
              "        1.73413655e-01, 6.27457831e-02, 2.82508434e-01, 1.22036827e+00,\n",
              "        1.97572771e+00, 2.11168554e+01, 7.15546586e-03, 2.14281406e-02,\n",
              "        2.60984562e-02, 9.91100000e-03, 2.04994739e-02, 3.60831044e-03,\n",
              "        1.34207992e+01, 2.34701205e+01, 8.71740161e+01, 5.61965462e+02,\n",
              "        1.24849679e-01, 1.81405904e-01, 1.64807940e-01, 7.44982369e-02,\n",
              "        2.68332932e-01, 7.91780723e-02]])"
            ]
          },
          "metadata": {},
          "execution_count": 120
        }
      ],
      "metadata": {
        "id": "IJ87c8t41kOP"
      }
    },
    {
      "cell_type": "code",
      "execution_count": 121,
      "source": [
        "pred_train = model.predict(TrainX)\n",
        "print(pred_train[:20])\n",
        "print(TrainY[:20])\n",
        "\n",
        "score_train = model.predict_proba(TrainX)\n",
        "score_train[:10,:]"
      ],
      "outputs": [
        {
          "output_type": "stream",
          "name": "stdout",
          "text": [
            "[1 1 1 0 1 1 1 1 1 0 1 1 1 1 1 1 1 0 1 1]\n",
            "[1 1 1 0 1 1 1 1 0 0 1 1 0 1 1 1 1 0 1 1]\n"
          ]
        },
        {
          "output_type": "execute_result",
          "data": {
            "text/plain": [
              "array([[3.01258495e-14, 1.00000000e+00],\n",
              "       [3.08800401e-15, 1.00000000e+00],\n",
              "       [8.01924517e-14, 1.00000000e+00],\n",
              "       [1.00000000e+00, 1.55557236e-17],\n",
              "       [1.76929961e-13, 1.00000000e+00],\n",
              "       [8.19450787e-17, 1.00000000e+00],\n",
              "       [1.31537275e-11, 1.00000000e+00],\n",
              "       [1.71165140e-17, 1.00000000e+00],\n",
              "       [6.92921401e-02, 9.30707860e-01],\n",
              "       [1.00000000e+00, 5.35089823e-76]])"
            ]
          },
          "metadata": {},
          "execution_count": 121
        }
      ],
      "metadata": {
        "id": "tmUZ-WvcpEJW"
      }
    },
    {
      "cell_type": "code",
      "execution_count": 122,
      "source": [
        "pred_test = model.predict(TestX)\n",
        "print(pred_test[:20])\n",
        "print(TestY[:20])\n",
        "\n",
        "score_test = model.predict_proba(TestX)\n",
        "score_test[:10,:]"
      ],
      "outputs": [
        {
          "output_type": "stream",
          "name": "stdout",
          "text": [
            "[0 1 1 1 1 1 1 1 1 1 0 1 1 0 0 0 1 0 0 0]\n",
            "[0 1 1 1 1 1 1 1 1 1 1 1 1 1 1 0 1 0 0 0]\n"
          ]
        },
        {
          "output_type": "execute_result",
          "data": {
            "text/plain": [
              "array([[9.99999623e-01, 3.77053186e-07],\n",
              "       [4.48249009e-13, 1.00000000e+00],\n",
              "       [3.80802767e-14, 1.00000000e+00],\n",
              "       [1.92053261e-11, 1.00000000e+00],\n",
              "       [2.78578114e-16, 1.00000000e+00],\n",
              "       [4.21504591e-14, 1.00000000e+00],\n",
              "       [9.54831838e-11, 1.00000000e+00],\n",
              "       [8.42593606e-15, 1.00000000e+00],\n",
              "       [1.80520999e-13, 1.00000000e+00],\n",
              "       [5.70735050e-17, 1.00000000e+00]])"
            ]
          },
          "metadata": {},
          "execution_count": 122
        }
      ],
      "metadata": {
        "id": "5jtpVRUNpI8R"
      }
    },
    {
      "cell_type": "markdown",
      "source": [
        "**Performance Evaluation**"
      ],
      "metadata": {
        "id": "Tt4xP2EJpNJb"
      }
    },
    {
      "cell_type": "code",
      "execution_count": 123,
      "source": [
        "from sklearn import metrics"
      ],
      "outputs": [],
      "metadata": {
        "id": "3iXZYHGjpNzx"
      }
    },
    {
      "cell_type": "markdown",
      "source": [
        "Accuracy"
      ],
      "metadata": {
        "id": "6BJtgZKmuXCs"
      }
    },
    {
      "cell_type": "code",
      "execution_count": 124,
      "source": [
        "tr_acc = metrics.accuracy_score(TrainY, pred_train)\n",
        "print('Training Accuracy : ', tr_acc)\n",
        "\n",
        "ts_acc = metrics.accuracy_score(TestY, pred_test)\n",
        "print('Test Accuracy : ', ts_acc)"
      ],
      "outputs": [
        {
          "output_type": "stream",
          "name": "stdout",
          "text": [
            "Training Accuracy :  0.9422110552763819\n",
            "Test Accuracy :  0.9239766081871345\n"
          ]
        }
      ],
      "metadata": {
        "id": "Ir5Uua7zpPSM"
      }
    },
    {
      "cell_type": "markdown",
      "source": [
        "ROC curve & AUC\n",
        "- curve 아래 영역이 얼마나 되는지로 어떤 model이 더 나은지 판단해보자."
      ],
      "metadata": {
        "id": "9veYhl0yuYA3"
      }
    },
    {
      "cell_type": "code",
      "execution_count": 125,
      "source": [
        "# 예측된 label이 아니라 계산된 값을 줘야함. posterior probability값, _proba로 계산된 값.\n",
        "tr_fpr, tr_tpr, tr_th = metrics.roc_curve(TrainY, score_train[:,1], pos_label=1)\n",
        "ts_fpr, ts_tpr, ts_th = metrics.roc_curve(TestY, score_test[:,1], pos_label=1)"
      ],
      "outputs": [],
      "metadata": {
        "id": "giWtPJbypUN7"
      }
    },
    {
      "cell_type": "code",
      "execution_count": 126,
      "source": [
        "import matplotlib.pyplot as plt\n",
        "\n",
        "plt.plot(tr_fpr, tr_tpr, color='b', label='Train')\n",
        "plt.plot(ts_fpr, ts_tpr, color='r', label='Test')\n",
        "plt.xlim([0.0, 1.0])\n",
        "plt.ylim([0.0, 1.0])\n",
        "plt.legend(loc='best')\n",
        "plt.show()"
      ],
      "outputs": [
        {
          "output_type": "display_data",
          "data": {
            "image/png": "[encoded data removed]",
            "text/plain": [
              "<Figure size 432x288 with 1 Axes>"
            ]
          },
          "metadata": {
            "needs_background": "light"
          }
        }
      ],
      "metadata": {
        "id": "iC8IpffXpzOF"
      }
    },
    {
      "cell_type": "code",
      "execution_count": 127,
      "source": [
        "# 계산되는 방법이 달라서 Accuracy와 equal은 아니다.\n",
        "tr_auc = metrics.roc_auc_score(TrainY, score_train[:,1])\n",
        "print('Training AUC : ', tr_auc)\n",
        "\n",
        "ts_auc = metrics.roc_auc_score(TestY, score_test[:,1])\n",
        "print('Test AUC : ', ts_auc)"
      ],
      "outputs": [
        {
          "output_type": "stream",
          "name": "stdout",
          "text": [
            "Training AUC :  0.9893803401525566\n",
            "Test AUC :  0.9854497354497355\n"
          ]
        }
      ],
      "metadata": {
        "id": "hGrsFkJ_ucRV"
      }
    },
    {
      "cell_type": "markdown",
      "source": [],
      "metadata": {}
    },
    {
      "cell_type": "markdown",
      "source": [
        "# **Iris Plants Dataset**\n",
        "*   150 instances (50 per each class)\n",
        "*   4 numerical features (sepal length, sepal width, petal length, petal width)\n",
        "*   3 class (setosa, versicolor, virginica)\n",
        "\n"
      ],
      "metadata": {
        "id": "phUAHm0bjrhI"
      }
    },
    {
      "cell_type": "code",
      "execution_count": 128,
      "source": [
        "import numpy as np\n",
        "from sklearn import datasets\n",
        "iris = datasets.load_iris()"
      ],
      "outputs": [],
      "metadata": {
        "id": "gNXjSyqXe2UQ"
      }
    },
    {
      "cell_type": "code",
      "execution_count": 129,
      "source": [
        "iris.keys()"
      ],
      "outputs": [
        {
          "output_type": "execute_result",
          "data": {
            "text/plain": [
              "dict_keys(['data', 'target', 'frame', 'target_names', 'DESCR', 'feature_names', 'filename'])"
            ]
          },
          "metadata": {},
          "execution_count": 129
        }
      ],
      "metadata": {
        "id": "stgK2mu2fpex"
      }
    },
    {
      "cell_type": "code",
      "execution_count": 130,
      "source": [
        "iris.target_names"
      ],
      "outputs": [
        {
          "output_type": "execute_result",
          "data": {
            "text/plain": [
              "array(['setosa', 'versicolor', 'virginica'], dtype='<U10')"
            ]
          },
          "metadata": {},
          "execution_count": 130
        }
      ],
      "metadata": {
        "id": "5_-qpfn6jqsw"
      }
    },
    {
      "cell_type": "markdown",
      "source": [
        "**Prepare Data**"
      ],
      "metadata": {
        "id": "G5-dV3Hllbcq"
      }
    },
    {
      "cell_type": "code",
      "execution_count": 131,
      "source": [
        "from sklearn.model_selection import train_test_split"
      ],
      "outputs": [],
      "metadata": {
        "id": "lXRQ_-RNkplL"
      }
    },
    {
      "cell_type": "code",
      "execution_count": 132,
      "source": [
        "TrainX, TestX, TrainY, TestY = train_test_split(iris.data, iris.target, test_size=0.3, random_state=0)"
      ],
      "outputs": [],
      "metadata": {
        "id": "3cXSuCGMfWE2"
      }
    },
    {
      "cell_type": "code",
      "execution_count": 133,
      "source": [
        "print(TrainX.shape)\n",
        "print(TrainY.shape)\n",
        "print(TestX.shape)\n",
        "print(TestY.shape)"
      ],
      "outputs": [
        {
          "output_type": "stream",
          "name": "stdout",
          "text": [
            "(105, 4)\n",
            "(105,)\n",
            "(45, 4)\n",
            "(45,)\n"
          ]
        }
      ],
      "metadata": {
        "id": "lOYvZrZKlBKS"
      }
    },
    {
      "cell_type": "markdown",
      "source": [
        "**Train a Naive Bayes Model**"
      ],
      "metadata": {
        "id": "3d2Ds2bjlgIk"
      }
    },
    {
      "cell_type": "code",
      "execution_count": 134,
      "source": [
        "from sklearn.naive_bayes import GaussianNB"
      ],
      "outputs": [],
      "metadata": {
        "id": "ZYT3k_DWllC6"
      }
    },
    {
      "cell_type": "code",
      "execution_count": 135,
      "source": [
        "model = GaussianNB()\n",
        "model.fit(TrainX, TrainY)"
      ],
      "outputs": [
        {
          "output_type": "execute_result",
          "data": {
            "text/plain": [
              "GaussianNB()"
            ]
          },
          "metadata": {},
          "execution_count": 135
        }
      ],
      "metadata": {
        "id": "AischjVwlq6U"
      }
    },
    {
      "cell_type": "code",
      "execution_count": 136,
      "source": [
        "model.theta_"
      ],
      "outputs": [
        {
          "output_type": "execute_result",
          "data": {
            "text/plain": [
              "array([[4.99411765, 3.38235294, 1.45294118, 0.23235294],\n",
              "       [5.921875  , 2.75625   , 4.196875  , 1.30625   ],\n",
              "       [6.65384615, 2.98717949, 5.5974359 , 2.03076923]])"
            ]
          },
          "metadata": {},
          "execution_count": 136
        }
      ],
      "metadata": {
        "id": "9cTBUjMG1azI"
      }
    },
    {
      "cell_type": "code",
      "execution_count": 137,
      "source": [
        "pred_train = model.predict(TrainX)\n",
        "print(pred_train)\n",
        "print(TrainY)"
      ],
      "outputs": [
        {
          "output_type": "stream",
          "name": "stdout",
          "text": [
            "[1 2 2 1 2 1 2 1 1 2 1 1 2 1 2 1 0 2 1 1 1 1 2 0 0 2 1 0 0 2 0 2 1 0 1 2 1\n",
            " 0 2 2 2 2 0 0 2 2 0 2 0 2 2 0 0 2 0 0 0 1 2 2 0 0 0 1 1 0 0 1 0 2 1 2 1 0\n",
            " 2 0 2 0 0 2 0 2 1 1 1 2 2 1 2 0 1 2 2 0 1 1 2 1 0 0 0 2 1 2 0]\n",
            "[1 2 2 2 2 1 2 1 1 2 2 2 2 1 2 1 0 2 1 1 1 1 2 0 0 2 1 0 0 1 0 2 1 0 1 2 1\n",
            " 0 2 2 2 2 0 0 2 2 0 2 0 2 2 0 0 2 0 0 0 1 2 2 0 0 0 1 1 0 0 1 0 2 1 2 1 0\n",
            " 2 0 2 0 0 2 0 2 1 1 1 2 2 1 1 0 1 2 2 0 1 1 1 1 0 0 0 2 1 2 0]\n"
          ]
        }
      ],
      "metadata": {
        "id": "9dz_AUdxlxcj"
      }
    },
    {
      "cell_type": "code",
      "execution_count": 138,
      "source": [
        "pred_test = model.predict(TestX)\n",
        "print(pred_test)\n",
        "print(TestY)"
      ],
      "outputs": [
        {
          "output_type": "stream",
          "name": "stdout",
          "text": [
            "[2 1 0 2 0 2 0 1 1 1 2 1 1 1 1 0 1 1 0 0 2 1 0 0 2 0 0 1 1 0 2 1 0 2 2 1 0\n",
            " 1 1 1 2 0 2 0 0]\n",
            "[2 1 0 2 0 2 0 1 1 1 2 1 1 1 1 0 1 1 0 0 2 1 0 0 2 0 0 1 1 0 2 1 0 2 2 1 0\n",
            " 1 1 1 2 0 2 0 0]\n"
          ]
        }
      ],
      "metadata": {
        "id": "CxEGFamQl729"
      }
    },
    {
      "cell_type": "markdown",
      "source": [
        "**Performance Evaluation**"
      ],
      "metadata": {
        "id": "a2aloH_MmHUz"
      }
    },
    {
      "cell_type": "code",
      "execution_count": 139,
      "source": [
        "from sklearn import metrics"
      ],
      "outputs": [],
      "metadata": {
        "id": "r5YmijvnmJVD"
      }
    },
    {
      "cell_type": "markdown",
      "source": [
        "Accuracy"
      ],
      "metadata": {
        "id": "09auvNyVuQi8"
      }
    },
    {
      "cell_type": "code",
      "execution_count": 140,
      "source": [
        "tr_acc = metrics.accuracy_score(TrainY, pred_train)\n",
        "print('Training Accuracy : ', tr_acc)\n",
        "\n",
        "ts_acc = metrics.accuracy_score(TestY, pred_test)\n",
        "print('Test Accuracy : ', ts_acc)"
      ],
      "outputs": [
        {
          "output_type": "stream",
          "name": "stdout",
          "text": [
            "Training Accuracy :  0.9428571428571428\n",
            "Test Accuracy :  1.0\n"
          ]
        }
      ],
      "metadata": {
        "id": "qNESHmLDmLa_"
      }
    },
    {
      "cell_type": "markdown",
      "source": [
        "Confusion Matrix"
      ],
      "metadata": {
        "id": "ROKpsWZeuSKq"
      }
    },
    {
      "cell_type": "code",
      "execution_count": 141,
      "source": [
        "tr_cmat = metrics.confusion_matrix(TrainY, pred_train)\n",
        "print(tr_cmat)\n",
        "\n",
        "tr_cmat = metrics.confusion_matrix(TestY, pred_test)\n",
        "print(tr_cmat)"
      ],
      "outputs": [
        {
          "output_type": "stream",
          "name": "stdout",
          "text": [
            "[[34  0  0]\n",
            " [ 0 29  3]\n",
            " [ 0  3 36]]\n",
            "[[16  0  0]\n",
            " [ 0 18  0]\n",
            " [ 0  0 11]]\n"
          ]
        }
      ],
      "metadata": {
        "id": "Jhzs-iV9svz8"
      }
    }
  ]
}