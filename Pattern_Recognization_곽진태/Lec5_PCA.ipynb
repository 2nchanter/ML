{
  "nbformat": 4,
  "nbformat_minor": 0,
  "metadata": {
    "anaconda-cloud": {},
    "kernelspec": {
      "display_name": "Python 3",
      "language": "python",
      "name": "python3"
    },
    "language_info": {
      "codemirror_mode": {
        "name": "ipython",
        "version": 3
      },
      "file_extension": ".py",
      "mimetype": "text/x-python",
      "name": "python",
      "nbconvert_exporter": "python",
      "pygments_lexer": "ipython3",
      "version": "3.7.3"
    },
    "colab": {
      "name": "PCA.ipynb",
      "provenance": [],
      "collapsed_sections": []
    }
  },
  "cells": [
    {
      "cell_type": "markdown",
      "metadata": {
        "id": "o8CA4Y2Uy5nA"
      },
      "source": [
        "## **Principal Component Analysis (PCA)**"
      ]
    },
    {
      "cell_type": "markdown",
      "metadata": {
        "id": "84apmnefzD7_"
      },
      "source": [
        "Import libraries"
      ]
    },
    {
      "cell_type": "code",
      "metadata": {
        "id": "0hWgOLr3y5nG"
      },
      "source": [
        "import numpy as np\n",
        "import matplotlib.pyplot as plt"
      ],
      "execution_count": null,
      "outputs": []
    },
    {
      "cell_type": "code",
      "metadata": {
        "id": "sYIVxazcy5nO"
      },
      "source": [
        "np.random.seed(1)\n",
        "X = np.dot(np.random.random(size=(2, 2)), np.random.normal(size=(2, 200))).T\n",
        "print(X.shape)\n",
        "\n",
        "plt.plot(X[:, 0], X[:, 1], 'o')\n",
        "plt.axis('equal')\n",
        "plt.show()"
      ],
      "execution_count": null,
      "outputs": []
    },
    {
      "cell_type": "markdown",
      "metadata": {
        "id": "aV309OWwy5nW"
      },
      "source": [
        "Let's find the principle components"
      ]
    },
    {
      "cell_type": "code",
      "metadata": {
        "id": "IXmxkUs4y5nX"
      },
      "source": [
        "from sklearn.decomposition import PCA\n",
        "\n",
        "pca = PCA(n_components=2)\n",
        "pca.fit(X)\n",
        "\n",
        "print(pca.explained_variance_)  # percentage of variance explained by each component : eigenvalues\n",
        "print(pca.components_)          # principal axes in feature space : eigenvectors"
      ],
      "execution_count": null,
      "outputs": []
    },
    {
      "cell_type": "code",
      "metadata": {
        "id": "YdZ5qjo6y5nd"
      },
      "source": [
        "plt.plot(X[:, 0], X[:, 1], 'o', alpha=0.5)\n",
        "for length, vector in zip(pca.explained_variance_ratio_, pca.components_):\n",
        "    v = vector * 3 * np.sqrt(length)\n",
        "    plt.plot([0, v[0]], [0, v[1]], '-k', lw=3)\n",
        "plt.axis('equal');"
      ],
      "execution_count": null,
      "outputs": []
    },
    {
      "cell_type": "markdown",
      "metadata": {
        "id": "X2IAsZJPy5nj"
      },
      "source": [
        "Let's see what our data look like if we only keep 95% of the variance:"
      ]
    },
    {
      "cell_type": "code",
      "metadata": {
        "id": "DgZoY_4Ny5nl"
      },
      "source": [
        "pca95 = PCA(0.95)     # keep 95% of variance\n",
        "X_trans = pca95.fit_transform(X)    # fit PCA and transform data\n",
        "\n",
        "print(X.shape)\n",
        "print(X_trans.shape)"
      ],
      "execution_count": null,
      "outputs": []
    },
    {
      "cell_type": "markdown",
      "metadata": {
        "id": "DmszTAvzy5np"
      },
      "source": [
        "By keeping 95% of the varaince (throw away 5% of the variance), the data is now compressed by a factor of 50%! \n",
        "\n",
        "Let's see what the data look like after this compression:"
      ]
    },
    {
      "cell_type": "code",
      "metadata": {
        "id": "dW2ax3vPy5nq"
      },
      "source": [
        "X_new = pca95.inverse_transform(X_trans)\n",
        "\n",
        "plt.plot(X[:, 0], X[:, 1], 'o', alpha=0.2)\n",
        "plt.plot(X_new[:, 0], X_new[:, 1], 'ob', alpha=0.8)\n",
        "plt.axis('equal');"
      ],
      "execution_count": null,
      "outputs": []
    },
    {
      "cell_type": "markdown",
      "metadata": {
        "id": "q8bSVHCw2HJk"
      },
      "source": [
        "# **Breast Cancer Wisconsin (Diagnostic) Dataset**\n",
        "*   569 instances (212 Malignant, 357 Benign)\n",
        "*   30 numerical features (computed from a digitized image of a breast mass)\n",
        "*   2 classes (Malignant, Benign)\n"
      ]
    },
    {
      "cell_type": "markdown",
      "metadata": {
        "id": "BimdugOH2LYX"
      },
      "source": [
        "Import libraries"
      ]
    },
    {
      "cell_type": "code",
      "metadata": {
        "id": "tmQXEs5-y5nv"
      },
      "source": [
        "import numpy as np\n",
        "from sklearn import datasets\n",
        "from sklearn.model_selection import train_test_split\n",
        "from sklearn import svm\n",
        "from sklearn import metrics\n",
        "import matplotlib.pyplot as plt"
      ],
      "execution_count": null,
      "outputs": []
    },
    {
      "cell_type": "markdown",
      "metadata": {
        "id": "y7Mf9xjH2YRo"
      },
      "source": [
        "Prepare data"
      ]
    },
    {
      "cell_type": "code",
      "metadata": {
        "id": "323t6J6k2QkT"
      },
      "source": [
        "wisconsin = datasets.load_breast_cancer()\n",
        "TrainX, TestX, TrainY, TestY = train_test_split(wisconsin.data, wisconsin.target, test_size=0.7, random_state=0)"
      ],
      "execution_count": null,
      "outputs": []
    },
    {
      "cell_type": "markdown",
      "metadata": {
        "id": "QJMclkOE9VDq"
      },
      "source": [
        "Add random noise"
      ]
    },
    {
      "cell_type": "code",
      "metadata": {
        "id": "xNufOUXv7QV7"
      },
      "source": [
        "rTrainX = np.concatenate((TrainX, np.random.randn(TrainX.shape[0], 10)), axis=1)\n",
        "rTestX = np.concatenate((TestX, np.random.randn(TestX.shape[0], 10)), axis=1)\n",
        "print(rTrainX.shape)"
      ],
      "execution_count": null,
      "outputs": []
    },
    {
      "cell_type": "markdown",
      "metadata": {
        "id": "7S2SILQJ3Quy"
      },
      "source": [
        "Classification"
      ]
    },
    {
      "cell_type": "code",
      "metadata": {
        "id": "KjlrdExP2kZ1"
      },
      "source": [
        "svmmodel = svm.SVC(kernel=\"linear\", probability=True)\n",
        "svmmodel.fit(rTrainX, TrainY)\n",
        "\n",
        "tr_pred = svmmodel.predict(rTrainX)\n",
        "tr_acc = metrics.accuracy_score(TrainY, tr_pred)\n",
        "\n",
        "ts_pred = svmmodel.predict(rTestX)\n",
        "ts_acc = metrics.accuracy_score(TestY, ts_pred)\n",
        "\n",
        "print('Training Accuracy : ', tr_acc)\n",
        "print('Test Accuracy : ', ts_acc)"
      ],
      "execution_count": null,
      "outputs": []
    },
    {
      "cell_type": "markdown",
      "metadata": {
        "id": "fW7ZPzux2ZzN"
      },
      "source": [
        "PCA"
      ]
    },
    {
      "cell_type": "code",
      "metadata": {
        "id": "dZTsIhBh2Wtd"
      },
      "source": [
        "pca = PCA(n_components=5)\n",
        "pca.fit(rTrainX)\n",
        "TrainX_trans = pca.transform(rTrainX)\n",
        "TestX_trans = pca.transform(rTestX)\n",
        "\n",
        "print(TrainX_trans[:5,:])\n",
        "print(TestX_trans[:5,:])"
      ],
      "execution_count": null,
      "outputs": []
    },
    {
      "cell_type": "code",
      "metadata": {
        "id": "Mz5nbf4A24v_"
      },
      "source": [
        "svmmodel2 = svm.SVC(kernel=\"linear\", probability=True)\n",
        "svmmodel2.fit(TrainX_trans, TrainY)\n",
        "\n",
        "tr_pred2 = svmmodel2.predict(TrainX_trans)\n",
        "tr_acc2 = metrics.accuracy_score(TrainY, tr_pred2)\n",
        "\n",
        "ts_pred2 = svmmodel2.predict(TestX_trans)\n",
        "ts_acc2 = metrics.accuracy_score(TestY, ts_pred2)\n",
        "\n",
        "print('Training Accuracy : ', tr_acc2)\n",
        "print('Test Accuracy : ', ts_acc2)"
      ],
      "execution_count": null,
      "outputs": []
    }
  ]
}