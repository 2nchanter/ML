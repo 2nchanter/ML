{
  "cells": [
    {
      "cell_type": "markdown",
      "metadata": {
        "id": "o8CA4Y2Uy5nA"
      },
      "source": [
        "## **Artificial Neural Networks**"
      ]
    },
    {
      "cell_type": "markdown",
      "metadata": {
        "id": "84apmnefzD7_"
      },
      "source": [
        "Import libraries"
      ]
    },
    {
      "cell_type": "code",
      "execution_count": 1,
      "metadata": {
        "id": "jwUc-ruOEiJd"
      },
      "outputs": [],
      "source": [
        "# pytorch가 전세계적으로 가장 많이 사용되는 라이브러리. 한국에서는 tensorflow가 많이 사용된다.\n",
        "import torch\n",
        "import torch.nn as nn\n",
        "import torch.nn.functional as F\n",
        "import torchvision\n",
        "import torchvision.transforms as transforms # 일반적인 이미지 변환이며, .compose를 붙여서 사용할 수 있다."
      ]
    },
    {
      "cell_type": "markdown",
      "metadata": {
        "id": "kO7yaqK64PES"
      },
      "source": [
        "**MNIST dataset**\n",
        "\n",
        "*   Database of handwritten digits\n",
        "*   Training set: 60,000 samples\n",
        "*   Testing set: 10,000 samples\n",
        "*   10 classes of 28 x 28 images (1 channel, grayscale)\n",
        "\n",
        "![alt text](https://drive.google.com/uc?id=1hZrTmIUAYpfwWJp_wRYs3I6VwIlhVbnZ)"
      ]
    },
    {
      "cell_type": "markdown",
      "metadata": {
        "id": "ZkpH3jT26yOr"
      },
      "source": [
        "Load training and test dataset\n",
        "\n",
        ".MNIST\n",
        "- 0-9까지의 손글씨 숫자 이미지\n",
        "\n",
        "torch.utils.data.DataLoader\n",
        "- PyTorch 데이터 불러오기 기능의 핵심, 데이터를 파이썬 iterable로써 접근할 수 있게 해주는 클래스.\n",
        "- DataLoader : data를 공급해주는 역할 (batch_size : 몇개씩 넣을껀지 / shuffle : 섞으면서 넣을껀지 / transform : data에 일정수준 변형을 줄 것인지 -일부 회전하거나, 크기를 변경)"
      ]
    },
    {
      "cell_type": "code",
      "execution_count": 2,
      "metadata": {
        "id": "QdPQmeYl3wed"
      },
      "outputs": [],
      "source": [
        "BATCH_SIZE = 32 # training data를 32개로 잘라서 사용\n",
        "\n",
        "## transformations : 여러 transform 들을 Compose로 구성할 수 있습니다.\n",
        "transform = transforms.Compose(\n",
        "    [transforms.ToTensor()])\n",
        "\n",
        "## download and load training dataset\n",
        "mnist_trainset = torchvision.datasets.MNIST(root='./data', train=True,\n",
        "                                        download=True, transform=transform)\n",
        "mnist_trainloader = torch.utils.data.DataLoader(mnist_trainset, batch_size=BATCH_SIZE,\n",
        "                                          shuffle=True, num_workers=1)\n",
        "\n",
        "## download and load testing dataset\n",
        "mnist_testset = torchvision.datasets.MNIST(root='./data', train=False,\n",
        "                                       download=True, transform=transform)\n",
        "mnist_testloader = torch.utils.data.DataLoader(mnist_testset, batch_size=BATCH_SIZE,\n",
        "                                         shuffle=False, num_workers=1)"
      ]
    },
    {
      "cell_type": "code",
      "execution_count": 3,
      "metadata": {
        "id": "QRnugJsk5z0n"
      },
      "outputs": [
        {
          "name": "stdout",
          "output_type": "stream",
          "text": [
            "Dataset MNIST\n",
            "    Number of datapoints: 60000\n",
            "    Root location: ./data\n",
            "    Split: Train\n",
            "    StandardTransform\n",
            "Transform: Compose(\n",
            "               ToTensor()\n",
            "           )\n",
            "Dataset MNIST\n",
            "    Number of datapoints: 10000\n",
            "    Root location: ./data\n",
            "    Split: Test\n",
            "    StandardTransform\n",
            "Transform: Compose(\n",
            "               ToTensor()\n",
            "           )\n"
          ]
        }
      ],
      "source": [
        "print(mnist_trainset)\n",
        "print(mnist_testset)"
      ]
    },
    {
      "cell_type": "markdown",
      "metadata": {
        "id": "crWU3PBn6vbV"
      },
      "source": [
        "Visualize MNIST dataset\n",
        " - 실제 어떻게 생겼는지 시각화해보자.\n",
        " \n",
        " [iter, next](https://m.blog.naver.com/PostView.naver?isHttpsRedirect=true&blogId=youndok&logNo=222073036603)\n",
        " \n",
        " iterable\n",
        " - python에서 'iterable하다'는 건 뜻 그대로 '반복가능한 것'을 의미(객체에 적용)\n",
        " - 반복 가능한 객체는 string, list, tuple, dict, set, range가 있습니다.\n",
        "\n",
        " iterator\n",
        " - iterable한 객체가 iter()를 통과하여 \"~_iterator\" 형태의 객체로 생성된 것\n",
        " - 한번에 하나씩 그 객체에 access할 수 있습니다.\n",
        " - iterator는 순서대로 자료를 가져온 이후 `그 데이터는 폐기해 버리기` 때문에, 메모리 사용에 제약이 따르는 대규모 데이터처리에 매우 효과적입니다.\n",
        " - next로 가져올 수 있다.\n",
        " \n",
        ".make_grid\n",
        "- 이미지 훈련시킬 때 중간 결과가 어떻게 나오는지 확인하고 싶을때 유용\n",
        "\n",
        ".transpose\n",
        "- 벡터를 변환시켜줌\n",
        "\n",
        ".numpy()\n",
        "- converter form torch.Tensor to numpy array"
      ]
    },
    {
      "cell_type": "code",
      "execution_count": 11,
      "metadata": {
        "id": "e1hMDAoN4DGx"
      },
      "outputs": [
        {
          "name": "stderr",
          "output_type": "stream",
          "text": [
            "[W ParallelNative.cpp:214] Warning: Cannot set number of intraop threads after parallel work has started or after set_num_threads call when using native parallel backend (function set_num_threads)\n"
          ]
        },
        {
          "data": {
            "image/png": "[encoded data removed]",
            "text/plain": [
              "<Figure size 432x288 with 1 Axes>"
            ]
          },
          "metadata": {
            "needs_background": "light"
          },
          "output_type": "display_data"
        }
      ],
      "source": [
        "import matplotlib.pyplot as plt\n",
        "import numpy as np\n",
        "\n",
        "## get some random training images\n",
        "mnist_dataiter = iter(mnist_trainloader)\n",
        "images, labels = mnist_dataiter.next()\n",
        "\n",
        "## show images\n",
        "images_grid = torchvision.utils.make_grid(images)\n",
        "plt.imshow(np.transpose(images_grid.numpy(), (1, 2, 0)))\n",
        "plt.axis('off')\n",
        "plt.show()"
      ]
    },
    {
      "cell_type": "code",
      "execution_count": 12,
      "metadata": {
        "id": "3qn_Wgvf65-l"
      },
      "outputs": [
        {
          "name": "stdout",
          "output_type": "stream",
          "text": [
            "Train - image batch dimensions: torch.Size([32, 1, 28, 28])\n",
            "Train - image label dimensions: torch.Size([32])\n"
          ]
        },
        {
          "name": "stderr",
          "output_type": "stream",
          "text": [
            "[W ParallelNative.cpp:214] Warning: Cannot set number of intraop threads after parallel work has started or after set_num_threads call when using native parallel backend (function set_num_threads)\n"
          ]
        },
        {
          "name": "stdout",
          "output_type": "stream",
          "text": [
            "Test - image batch dimensions: torch.Size([32, 1, 28, 28])\n",
            "Test - image label dimensions: torch.Size([32])\n"
          ]
        },
        {
          "name": "stderr",
          "output_type": "stream",
          "text": [
            "[W ParallelNative.cpp:214] Warning: Cannot set number of intraop threads after parallel work has started or after set_num_threads call when using native parallel backend (function set_num_threads)\n"
          ]
        }
      ],
      "source": [
        "# data의 형태\n",
        "# image : 글씨 image data / label : class\n",
        "for images, labels in mnist_trainloader:\n",
        "    print(\"Train - image batch dimensions:\", images.shape)\n",
        "    print(\"Train - image label dimensions:\", labels.shape)\n",
        "    break\n",
        "\n",
        "for images, labels in mnist_testloader:\n",
        "    print(\"Test - image batch dimensions:\", images.shape)\n",
        "    print(\"Test - image label dimensions:\", labels.shape)\n",
        "    break\n",
        "\n",
        "# image shape : batch size 32, channel 1(gray scale이면 0~255까지 값을 하나 가짐), 가로 28, 세로 28\n",
        "# label shape : data 32개에 대한 32개의 class data"
      ]
    },
    {
      "cell_type": "markdown",
      "metadata": {
        "id": "gqZ24PBm4OGW"
      },
      "source": [
        "Create a simple model\n",
        "\n",
        "- 만들어진 것을 실행하면 forward가 실행됨\n",
        "\n",
        "- x 입력이 일어나면\n",
        "- convlayer를 통과 <- in_channels:1(grayscale), out_channels:32(32개의 서로 다른 kernel을 사용), kernel size:3(3*3)\n",
        "- activation layer인 relu를 통과\n",
        "- flatten (matrix 형태의 image data를 vector 형태로 변환)\n",
        "- fully-connected layer (1) <- input:32*26*26, output:128 (28에서 26이 되는 이유는 kernel size가 3이어서... 3*3이 28칸을 움직이니까 output이 26) = convolution 연산의 특징)\n",
        "- activation\n",
        "- fully-connected layer (2) <- input:128, output:10 (classification 진행)\n",
        "- softmax < 확률을 probability로 변환\n",
        "- = 최종 출력값"
      ]
    },
    {
      "cell_type": "code",
      "execution_count": 14,
      "metadata": {
        "id": "Y9wv4ys27OQu"
      },
      "outputs": [],
      "source": [
        "class SimpleModel(nn.Module):\n",
        "    def __init__(self):\n",
        "        super(SimpleModel, self).__init__()\n",
        "\n",
        "        self.convlayer = nn.Conv2d(in_channels=1, out_channels=32, kernel_size=3)\n",
        "        self.fclayer1 = nn.Linear(26 * 26 * 32, 128)\n",
        "        self.fclayer2 = nn.Linear(128, 10)\n",
        "\n",
        "    def forward(self, x):\n",
        "        # input: 32x1x28x28 -> output: 32x32x26x26\n",
        "        x = self.convlayer(x)\n",
        "        x = F.relu(x)\n",
        "\n",
        "        # input: 32x32x26x26 -> output: 32x(32*26*26)\n",
        "        x = x.flatten(start_dim = 1)\n",
        "\n",
        "        # input: 32x(32*26*26) -> output: 32x128\n",
        "        x = self.fclayer1(x)\n",
        "        x = F.relu(x)\n",
        "\n",
        "        # input: 32x128 -> output: 32x10 (32 images, 10 classes)\n",
        "        logits = self.fclayer2(x)\n",
        "        out = F.softmax(logits, dim=1)\n",
        "        return out"
      ]
    },
    {
      "cell_type": "markdown",
      "metadata": {
        "id": "lZAMhD5Z8qPC"
      },
      "source": [
        "Test if the model works well\n",
        "- train을 안해서 아직 classification은 안됨.\n",
        "- input, output size 확인하는 단계.\n",
        "- 32개의 data에 각각 10개의 class에 대한 probability 값이 생긴다."
      ]
    },
    {
      "cell_type": "code",
      "execution_count": 19,
      "metadata": {
        "id": "IWuz2kzC8e59"
      },
      "outputs": [
        {
          "name": "stdout",
          "output_type": "stream",
          "text": [
            "batch size: torch.Size([32, 1, 28, 28])\n",
            "torch.Size([32, 10])\n"
          ]
        },
        {
          "name": "stderr",
          "output_type": "stream",
          "text": [
            "[W ParallelNative.cpp:214] Warning: Cannot set number of intraop threads after parallel work has started or after set_num_threads call when using native parallel backend (function set_num_threads)\n"
          ]
        }
      ],
      "source": [
        "model = SimpleModel()\n",
        "for images, labels in mnist_trainloader:\n",
        "    print(\"batch size:\", images.shape)\n",
        "    out = model(images)\n",
        "    print(out.shape)\n",
        "    break"
      ]
    },
    {
      "cell_type": "code",
      "execution_count": 48,
      "metadata": {},
      "outputs": [
        {
          "name": "stdout",
          "output_type": "stream",
          "text": [
            "----------------------------------------------------------------\n",
            "        Layer (type)               Output Shape         Param #\n",
            "================================================================\n",
            "            Conv2d-1           [-1, 32, 26, 26]             320\n",
            "            Linear-2                  [-1, 128]       2,769,024\n",
            "            Linear-3                   [-1, 10]           1,290\n",
            "================================================================\n",
            "Total params: 2,770,634\n",
            "Trainable params: 2,770,634\n",
            "Non-trainable params: 0\n",
            "----------------------------------------------------------------\n",
            "Input size (MB): 0.00\n",
            "Forward/backward pass size (MB): 0.17\n",
            "Params size (MB): 10.57\n",
            "Estimated Total Size (MB): 10.74\n",
            "----------------------------------------------------------------\n"
          ]
        }
      ],
      "source": [
        "summary(model, input_size=(1,28,28))"
      ]
    },
    {
      "cell_type": "markdown",
      "metadata": {
        "id": "xaqaUSzX8vK5"
      },
      "source": [
        "Let's train the model\n",
        "\n",
        "train model\n",
        "- model, crirerion:error 어떻게 계산할껀지, optimizer:학습을 어떻게 진행할껀지(ex. gradient), trainloader:데이터 줌, device:cpu? gpu?, num_epochs:epoch수\n",
        "\n",
        "[enumerate](https://www.daleseo.com/python-enumerate/)\n",
        "- for 루프는 기본적으로 for <원소> in <목록>:\n",
        "- enumerate() 함수는 기본적으로 인덱스와 원소로 이루어진 터플(tuple)을 만들어줍니다.\n",
        "\n"
      ]
    },
    {
      "cell_type": "code",
      "execution_count": 21,
      "metadata": {
        "id": "KQ0CJOon9PGp"
      },
      "outputs": [],
      "source": [
        "## compute stat\n",
        "def compute_stat(outputs, labels, stats):\n",
        "    _, preds = torch.max(outputs, 1)\n",
        "    stats['n_corr'] += torch.sum(preds == labels).item()\n",
        "    stats['n'] += torch.numel(labels)\n",
        "\n",
        "    return stats\n",
        "\n",
        "def train_model(model, criterion, optimizer, trainloader, device, num_epochs=25):\n",
        "  epoch_stat = {'n_corr': 0, 'n': 0}\n",
        "\n",
        "  for epoch in range(num_epochs):\n",
        "      train_running_loss = 0.0\n",
        "      train_acc = 0.0\n",
        "\n",
        "      model.train()  # Set model to training mode\n",
        "\n",
        "      ## training step / batch 하나씩 처리하는 for문\n",
        "      for i, (images, labels) in enumerate(trainloader):\n",
        "          \n",
        "          images = images.to(device) # cpu에서 gpu로 data 넘김\n",
        "          labels = labels.to(device)\n",
        "\n",
        "          ## forward + backprop + loss\n",
        "          optimizer.zero_grad() # grdient 계산된 것이 optimizer에 더해지는 방식으로 계산되는데, 새로운 배치에서는 초기 상태로 만들어줘야 한다.\n",
        "          outputs = model(images) # feed forward\n",
        "          loss = criterion(outputs, labels) # 오차 = 어떻게 계산할껀지 정한거(예측치, 실제 정답)\n",
        "          loss.backward() # loss에 따라 gradient가 계산됨\n",
        "\n",
        "          ## update model params\n",
        "          optimizer.step() # weight 값들이 조절됨\n",
        "\n",
        "          train_running_loss += loss.detach().item() # 에러값이 어떻게 계산되었는지 확인하기위해 더하주고 있음\n",
        "          epoch_stat = compute_stat(outputs, labels, epoch_stat) # 얼마나 정답인지 등 stat 표기.\n",
        "      \n",
        "      model.eval() # evaluation(평가) mode로 전환\n",
        "      print('Epoch: %d | Loss: %.4f | Train Accuracy: %.2f' \\\n",
        "            %(epoch, train_running_loss / i, epoch_stat['n_corr'] / epoch_stat['n'] * 100)) \n",
        "      \n",
        "  return model"
      ]
    },
    {
      "cell_type": "code",
      "execution_count": 36,
      "metadata": {
        "id": "x7jhy0BH8xXp"
      },
      "outputs": [
        {
          "name": "stdout",
          "output_type": "stream",
          "text": [
            "cpu\n"
          ]
        }
      ],
      "source": [
        "num_epochs = 5\n",
        "\n",
        "device = torch.device(\"cuda:0\" if torch.cuda.is_available() else \"cpu\")\n",
        "print(device)\n",
        "model = SimpleModel()\n",
        "model = model.to(device) # cpu에서 gpu로 data 넘김\n",
        "\n",
        "## loss function\n",
        "criterion = nn.CrossEntropyLoss() \n",
        "## optimization\n",
        "optimizer = torch.optim.SGD(model.parameters(), lr=0.1, momentum=0.9) # stochastic gradient descent(.parameters:weight들을 알려줌 / lr:learning_rate / momentum:관성, 가속도 개념)\n",
        "#optimizer = torch.optim.Adam(model.parameters(), lr=0.001) # Adam : RMSprop + Momentum"
      ]
    },
    {
      "cell_type": "code",
      "execution_count": 37,
      "metadata": {
        "id": "NBrmWCxgXuW4"
      },
      "outputs": [
        {
          "name": "stderr",
          "output_type": "stream",
          "text": [
            "[W ParallelNative.cpp:214] Warning: Cannot set number of intraop threads after parallel work has started or after set_num_threads call when using native parallel backend (function set_num_threads)\n"
          ]
        },
        {
          "name": "stdout",
          "output_type": "stream",
          "text": [
            "Epoch: 0 | Loss: 1.5762 | Train Accuracy: 88.55\n"
          ]
        },
        {
          "name": "stderr",
          "output_type": "stream",
          "text": [
            "[W ParallelNative.cpp:214] Warning: Cannot set number of intraop threads after parallel work has started or after set_num_threads call when using native parallel backend (function set_num_threads)\n"
          ]
        },
        {
          "name": "stdout",
          "output_type": "stream",
          "text": [
            "Epoch: 1 | Loss: 1.5105 | Train Accuracy: 91.82\n"
          ]
        },
        {
          "name": "stderr",
          "output_type": "stream",
          "text": [
            "[W ParallelNative.cpp:214] Warning: Cannot set number of intraop threads after parallel work has started or after set_num_threads call when using native parallel backend (function set_num_threads)\n"
          ]
        },
        {
          "name": "stdout",
          "output_type": "stream",
          "text": [
            "Epoch: 2 | Loss: 1.5039 | Train Accuracy: 93.15\n"
          ]
        },
        {
          "name": "stderr",
          "output_type": "stream",
          "text": [
            "[W ParallelNative.cpp:214] Warning: Cannot set number of intraop threads after parallel work has started or after set_num_threads call when using native parallel backend (function set_num_threads)\n"
          ]
        },
        {
          "name": "stdout",
          "output_type": "stream",
          "text": [
            "Epoch: 3 | Loss: 1.5068 | Train Accuracy: 93.74\n"
          ]
        },
        {
          "name": "stderr",
          "output_type": "stream",
          "text": [
            "[W ParallelNative.cpp:214] Warning: Cannot set number of intraop threads after parallel work has started or after set_num_threads call when using native parallel backend (function set_num_threads)\n"
          ]
        },
        {
          "name": "stdout",
          "output_type": "stream",
          "text": [
            "Epoch: 4 | Loss: 1.5177 | Train Accuracy: 93.87\n"
          ]
        }
      ],
      "source": [
        "model = train_model(model, criterion, optimizer, mnist_trainloader, device, num_epochs=5)"
      ]
    },
    {
      "cell_type": "markdown",
      "metadata": {
        "id": "iYJWukagEROf"
      },
      "source": [
        "Test on the test dataset"
      ]
    },
    {
      "cell_type": "code",
      "execution_count": 38,
      "metadata": {
        "id": "iVkfn372Bv_E"
      },
      "outputs": [
        {
          "name": "stderr",
          "output_type": "stream",
          "text": [
            "[W ParallelNative.cpp:214] Warning: Cannot set number of intraop threads after parallel work has started or after set_num_threads call when using native parallel backend (function set_num_threads)\n"
          ]
        },
        {
          "name": "stdout",
          "output_type": "stream",
          "text": [
            "Test Accuracy: 92.42\n"
          ]
        }
      ],
      "source": [
        "model.eval() # Set model to evaluate mode\n",
        "\n",
        "test_stat = {'n_corr': 0, 'n': 0}\n",
        "for i, (images, labels) in enumerate(mnist_testloader, 0):\n",
        "    images = images.to(device)\n",
        "    labels = labels.to(device)\n",
        "    outputs = model(images)\n",
        "    test_stat = compute_stat(outputs, labels, test_stat)\n",
        "        \n",
        "print('Test Accuracy: %.2f'%( test_stat['n_corr'] / test_stat['n'] * 100))"
      ]
    },
    {
      "cell_type": "markdown",
      "metadata": {
        "id": "oNz8eIiJUJXq"
      },
      "source": [
        "## **Utilize the existing models & transfer learning**"
      ]
    },
    {
      "cell_type": "code",
      "execution_count": 39,
      "metadata": {
        "id": "YCGmbdLAUL-J"
      },
      "outputs": [],
      "source": [
        "import torch\n",
        "import torch.nn as nn\n",
        "import torch.optim as optim\n",
        "import numpy as np\n",
        "import torchvision\n",
        "from torchvision import datasets, models, transforms\n",
        "import matplotlib.pyplot as plt\n",
        "from torchsummary import summary"
      ]
    },
    {
      "cell_type": "markdown",
      "metadata": {
        "id": "2q_XPyyPcnsB"
      },
      "source": [
        "**CIFAR10 dataset**\n",
        "\n",
        "*   Database of natural images\n",
        "*   Training set: 50,000 samples\n",
        "*   Testing set: 10,000 samples\n",
        "*   10 classes of 32 x 32 images\n",
        "\n",
        "![alt text](https://drive.google.com/uc?id=1qQFYheGrOa3Rj3nlcf2UXo26yTSwu6Ak)"
      ]
    },
    {
      "cell_type": "markdown",
      "metadata": {
        "id": "rHDuQTjSceF_"
      },
      "source": [
        "Load CIFAR10 dataset"
      ]
    },
    {
      "cell_type": "code",
      "execution_count": 40,
      "metadata": {
        "id": "EdYfDPdBcNti"
      },
      "outputs": [
        {
          "name": "stdout",
          "output_type": "stream",
          "text": [
            "Files already downloaded and verified\n",
            "Files already downloaded and verified\n"
          ]
        }
      ],
      "source": [
        "BATCH_SIZE = 64\n",
        "\n",
        "## transformations\n",
        "transform = transforms.Compose(\n",
        "    [transforms.ToTensor()])\n",
        "\n",
        "## download and load training dataset\n",
        "cifar_trainset = torchvision.datasets.CIFAR10(root='./data', train=True,\n",
        "                                        download=True, transform=transform)\n",
        "cifar_trainloader = torch.utils.data.DataLoader(cifar_trainset, batch_size=BATCH_SIZE,\n",
        "                                          shuffle=True, num_workers=1)\n",
        "\n",
        "## download and load testing dataset\n",
        "cifar_testset = torchvision.datasets.CIFAR10(root='./data', train=False,\n",
        "                                       download=True, transform=transform)\n",
        "cifar_testloader = torch.utils.data.DataLoader(cifar_testset, batch_size=BATCH_SIZE,\n",
        "                                         shuffle=False, num_workers=1)"
      ]
    },
    {
      "cell_type": "code",
      "execution_count": 41,
      "metadata": {
        "id": "fUdTmaEXdXbh"
      },
      "outputs": [
        {
          "name": "stderr",
          "output_type": "stream",
          "text": [
            "[W ParallelNative.cpp:214] Warning: Cannot set number of intraop threads after parallel work has started or after set_num_threads call when using native parallel backend (function set_num_threads)\n"
          ]
        },
        {
          "data": {
            "image/png": "[encoded data removed]",
            "text/plain": [
              "<Figure size 432x288 with 1 Axes>"
            ]
          },
          "metadata": {
            "needs_background": "light"
          },
          "output_type": "display_data"
        }
      ],
      "source": [
        "import matplotlib.pyplot as plt\n",
        "import numpy as np\n",
        "\n",
        "## get some random training images\n",
        "dataiter = iter(cifar_trainloader)\n",
        "images, labels = dataiter.next()\n",
        "\n",
        "## show images\n",
        "images_grid = torchvision.utils.make_grid(images)\n",
        "plt.imshow(np.transpose(images_grid.numpy(), (1, 2, 0)))\n",
        "plt.axis('off')\n",
        "plt.show()"
      ]
    },
    {
      "cell_type": "code",
      "execution_count": 42,
      "metadata": {
        "id": "RNsksT8fdj4o"
      },
      "outputs": [
        {
          "name": "stdout",
          "output_type": "stream",
          "text": [
            "Train - image batch dimensions: torch.Size([64, 3, 32, 32])\n",
            "Train - image label dimensions: torch.Size([64])\n"
          ]
        },
        {
          "name": "stderr",
          "output_type": "stream",
          "text": [
            "[W ParallelNative.cpp:214] Warning: Cannot set number of intraop threads after parallel work has started or after set_num_threads call when using native parallel backend (function set_num_threads)\n"
          ]
        },
        {
          "name": "stdout",
          "output_type": "stream",
          "text": [
            "Test - image batch dimensions: torch.Size([64, 3, 32, 32])\n",
            "Test - image label dimensions: torch.Size([64])\n"
          ]
        },
        {
          "name": "stderr",
          "output_type": "stream",
          "text": [
            "[W ParallelNative.cpp:214] Warning: Cannot set number of intraop threads after parallel work has started or after set_num_threads call when using native parallel backend (function set_num_threads)\n"
          ]
        }
      ],
      "source": [
        "for images, labels in cifar_trainloader:\n",
        "    print(\"Train - image batch dimensions:\", images.shape)\n",
        "    print(\"Train - image label dimensions:\", labels.shape)\n",
        "    break\n",
        "\n",
        "for images, labels in cifar_testloader:\n",
        "    print(\"Test - image batch dimensions:\", images.shape)\n",
        "    print(\"Test - image label dimensions:\", labels.shape)\n",
        "    break"
      ]
    },
    {
      "cell_type": "markdown",
      "metadata": {
        "id": "44XpCkuhUetL"
      },
      "source": [
        "Load the existing model"
      ]
    },
    {
      "cell_type": "code",
      "execution_count": 43,
      "metadata": {
        "id": "_ZHSRE7HU-NM"
      },
      "outputs": [],
      "source": [
        "device = torch.device(\"cuda:0\" if torch.cuda.is_available() else \"cpu\")\n",
        "\n",
        "# load the existing model (Resnet18) \n",
        "# pretrained model: use weights from ImageNet dataset(선 학습된 weight 가져온다.)\n",
        "model_ft = models.resnet18(pretrained=True)\n",
        "model_ft = model_ft.to(device)"
      ]
    },
    {
      "cell_type": "code",
      "execution_count": 44,
      "metadata": {
        "id": "IlebCnXPVDdr"
      },
      "outputs": [
        {
          "name": "stdout",
          "output_type": "stream",
          "text": [
            "ResNet(\n",
            "  (conv1): Conv2d(3, 64, kernel_size=(7, 7), stride=(2, 2), padding=(3, 3), bias=False)\n",
            "  (bn1): BatchNorm2d(64, eps=1e-05, momentum=0.1, affine=True, track_running_stats=True)\n",
            "  (relu): ReLU(inplace=True)\n",
            "  (maxpool): MaxPool2d(kernel_size=3, stride=2, padding=1, dilation=1, ceil_mode=False)\n",
            "  (layer1): Sequential(\n",
            "    (0): BasicBlock(\n",
            "      (conv1): Conv2d(64, 64, kernel_size=(3, 3), stride=(1, 1), padding=(1, 1), bias=False)\n",
            "      (bn1): BatchNorm2d(64, eps=1e-05, momentum=0.1, affine=True, track_running_stats=True)\n",
            "      (relu): ReLU(inplace=True)\n",
            "      (conv2): Conv2d(64, 64, kernel_size=(3, 3), stride=(1, 1), padding=(1, 1), bias=False)\n",
            "      (bn2): BatchNorm2d(64, eps=1e-05, momentum=0.1, affine=True, track_running_stats=True)\n",
            "    )\n",
            "    (1): BasicBlock(\n",
            "      (conv1): Conv2d(64, 64, kernel_size=(3, 3), stride=(1, 1), padding=(1, 1), bias=False)\n",
            "      (bn1): BatchNorm2d(64, eps=1e-05, momentum=0.1, affine=True, track_running_stats=True)\n",
            "      (relu): ReLU(inplace=True)\n",
            "      (conv2): Conv2d(64, 64, kernel_size=(3, 3), stride=(1, 1), padding=(1, 1), bias=False)\n",
            "      (bn2): BatchNorm2d(64, eps=1e-05, momentum=0.1, affine=True, track_running_stats=True)\n",
            "    )\n",
            "  )\n",
            "  (layer2): Sequential(\n",
            "    (0): BasicBlock(\n",
            "      (conv1): Conv2d(64, 128, kernel_size=(3, 3), stride=(2, 2), padding=(1, 1), bias=False)\n",
            "      (bn1): BatchNorm2d(128, eps=1e-05, momentum=0.1, affine=True, track_running_stats=True)\n",
            "      (relu): ReLU(inplace=True)\n",
            "      (conv2): Conv2d(128, 128, kernel_size=(3, 3), stride=(1, 1), padding=(1, 1), bias=False)\n",
            "      (bn2): BatchNorm2d(128, eps=1e-05, momentum=0.1, affine=True, track_running_stats=True)\n",
            "      (downsample): Sequential(\n",
            "        (0): Conv2d(64, 128, kernel_size=(1, 1), stride=(2, 2), bias=False)\n",
            "        (1): BatchNorm2d(128, eps=1e-05, momentum=0.1, affine=True, track_running_stats=True)\n",
            "      )\n",
            "    )\n",
            "    (1): BasicBlock(\n",
            "      (conv1): Conv2d(128, 128, kernel_size=(3, 3), stride=(1, 1), padding=(1, 1), bias=False)\n",
            "      (bn1): BatchNorm2d(128, eps=1e-05, momentum=0.1, affine=True, track_running_stats=True)\n",
            "      (relu): ReLU(inplace=True)\n",
            "      (conv2): Conv2d(128, 128, kernel_size=(3, 3), stride=(1, 1), padding=(1, 1), bias=False)\n",
            "      (bn2): BatchNorm2d(128, eps=1e-05, momentum=0.1, affine=True, track_running_stats=True)\n",
            "    )\n",
            "  )\n",
            "  (layer3): Sequential(\n",
            "    (0): BasicBlock(\n",
            "      (conv1): Conv2d(128, 256, kernel_size=(3, 3), stride=(2, 2), padding=(1, 1), bias=False)\n",
            "      (bn1): BatchNorm2d(256, eps=1e-05, momentum=0.1, affine=True, track_running_stats=True)\n",
            "      (relu): ReLU(inplace=True)\n",
            "      (conv2): Conv2d(256, 256, kernel_size=(3, 3), stride=(1, 1), padding=(1, 1), bias=False)\n",
            "      (bn2): BatchNorm2d(256, eps=1e-05, momentum=0.1, affine=True, track_running_stats=True)\n",
            "      (downsample): Sequential(\n",
            "        (0): Conv2d(128, 256, kernel_size=(1, 1), stride=(2, 2), bias=False)\n",
            "        (1): BatchNorm2d(256, eps=1e-05, momentum=0.1, affine=True, track_running_stats=True)\n",
            "      )\n",
            "    )\n",
            "    (1): BasicBlock(\n",
            "      (conv1): Conv2d(256, 256, kernel_size=(3, 3), stride=(1, 1), padding=(1, 1), bias=False)\n",
            "      (bn1): BatchNorm2d(256, eps=1e-05, momentum=0.1, affine=True, track_running_stats=True)\n",
            "      (relu): ReLU(inplace=True)\n",
            "      (conv2): Conv2d(256, 256, kernel_size=(3, 3), stride=(1, 1), padding=(1, 1), bias=False)\n",
            "      (bn2): BatchNorm2d(256, eps=1e-05, momentum=0.1, affine=True, track_running_stats=True)\n",
            "    )\n",
            "  )\n",
            "  (layer4): Sequential(\n",
            "    (0): BasicBlock(\n",
            "      (conv1): Conv2d(256, 512, kernel_size=(3, 3), stride=(2, 2), padding=(1, 1), bias=False)\n",
            "      (bn1): BatchNorm2d(512, eps=1e-05, momentum=0.1, affine=True, track_running_stats=True)\n",
            "      (relu): ReLU(inplace=True)\n",
            "      (conv2): Conv2d(512, 512, kernel_size=(3, 3), stride=(1, 1), padding=(1, 1), bias=False)\n",
            "      (bn2): BatchNorm2d(512, eps=1e-05, momentum=0.1, affine=True, track_running_stats=True)\n",
            "      (downsample): Sequential(\n",
            "        (0): Conv2d(256, 512, kernel_size=(1, 1), stride=(2, 2), bias=False)\n",
            "        (1): BatchNorm2d(512, eps=1e-05, momentum=0.1, affine=True, track_running_stats=True)\n",
            "      )\n",
            "    )\n",
            "    (1): BasicBlock(\n",
            "      (conv1): Conv2d(512, 512, kernel_size=(3, 3), stride=(1, 1), padding=(1, 1), bias=False)\n",
            "      (bn1): BatchNorm2d(512, eps=1e-05, momentum=0.1, affine=True, track_running_stats=True)\n",
            "      (relu): ReLU(inplace=True)\n",
            "      (conv2): Conv2d(512, 512, kernel_size=(3, 3), stride=(1, 1), padding=(1, 1), bias=False)\n",
            "      (bn2): BatchNorm2d(512, eps=1e-05, momentum=0.1, affine=True, track_running_stats=True)\n",
            "    )\n",
            "  )\n",
            "  (avgpool): AdaptiveAvgPool2d(output_size=(1, 1))\n",
            "  (fc): Linear(in_features=512, out_features=1000, bias=True)\n",
            ")\n"
          ]
        }
      ],
      "source": [
        "print(model_ft)"
      ]
    },
    {
      "cell_type": "code",
      "execution_count": 45,
      "metadata": {
        "id": "zEwK1i55VJEu"
      },
      "outputs": [
        {
          "name": "stdout",
          "output_type": "stream",
          "text": [
            "----------------------------------------------------------------\n",
            "        Layer (type)               Output Shape         Param #\n",
            "================================================================\n",
            "            Conv2d-1           [-1, 64, 16, 16]           9,408\n",
            "       BatchNorm2d-2           [-1, 64, 16, 16]             128\n",
            "              ReLU-3           [-1, 64, 16, 16]               0\n",
            "         MaxPool2d-4             [-1, 64, 8, 8]               0\n",
            "            Conv2d-5             [-1, 64, 8, 8]          36,864\n",
            "       BatchNorm2d-6             [-1, 64, 8, 8]             128\n",
            "              ReLU-7             [-1, 64, 8, 8]               0\n",
            "            Conv2d-8             [-1, 64, 8, 8]          36,864\n",
            "       BatchNorm2d-9             [-1, 64, 8, 8]             128\n",
            "             ReLU-10             [-1, 64, 8, 8]               0\n",
            "       BasicBlock-11             [-1, 64, 8, 8]               0\n",
            "           Conv2d-12             [-1, 64, 8, 8]          36,864\n",
            "      BatchNorm2d-13             [-1, 64, 8, 8]             128\n",
            "             ReLU-14             [-1, 64, 8, 8]               0\n",
            "           Conv2d-15             [-1, 64, 8, 8]          36,864\n",
            "      BatchNorm2d-16             [-1, 64, 8, 8]             128\n",
            "             ReLU-17             [-1, 64, 8, 8]               0\n",
            "       BasicBlock-18             [-1, 64, 8, 8]               0\n",
            "           Conv2d-19            [-1, 128, 4, 4]          73,728\n",
            "      BatchNorm2d-20            [-1, 128, 4, 4]             256\n",
            "             ReLU-21            [-1, 128, 4, 4]               0\n",
            "           Conv2d-22            [-1, 128, 4, 4]         147,456\n",
            "      BatchNorm2d-23            [-1, 128, 4, 4]             256\n",
            "           Conv2d-24            [-1, 128, 4, 4]           8,192\n",
            "      BatchNorm2d-25            [-1, 128, 4, 4]             256\n",
            "             ReLU-26            [-1, 128, 4, 4]               0\n",
            "       BasicBlock-27            [-1, 128, 4, 4]               0\n",
            "           Conv2d-28            [-1, 128, 4, 4]         147,456\n",
            "      BatchNorm2d-29            [-1, 128, 4, 4]             256\n",
            "             ReLU-30            [-1, 128, 4, 4]               0\n",
            "           Conv2d-31            [-1, 128, 4, 4]         147,456\n",
            "      BatchNorm2d-32            [-1, 128, 4, 4]             256\n",
            "             ReLU-33            [-1, 128, 4, 4]               0\n",
            "       BasicBlock-34            [-1, 128, 4, 4]               0\n",
            "           Conv2d-35            [-1, 256, 2, 2]         294,912\n",
            "      BatchNorm2d-36            [-1, 256, 2, 2]             512\n",
            "             ReLU-37            [-1, 256, 2, 2]               0\n",
            "           Conv2d-38            [-1, 256, 2, 2]         589,824\n",
            "      BatchNorm2d-39            [-1, 256, 2, 2]             512\n",
            "           Conv2d-40            [-1, 256, 2, 2]          32,768\n",
            "      BatchNorm2d-41            [-1, 256, 2, 2]             512\n",
            "             ReLU-42            [-1, 256, 2, 2]               0\n",
            "       BasicBlock-43            [-1, 256, 2, 2]               0\n",
            "           Conv2d-44            [-1, 256, 2, 2]         589,824\n",
            "      BatchNorm2d-45            [-1, 256, 2, 2]             512\n",
            "             ReLU-46            [-1, 256, 2, 2]               0\n",
            "           Conv2d-47            [-1, 256, 2, 2]         589,824\n",
            "      BatchNorm2d-48            [-1, 256, 2, 2]             512\n",
            "             ReLU-49            [-1, 256, 2, 2]               0\n",
            "       BasicBlock-50            [-1, 256, 2, 2]               0\n",
            "           Conv2d-51            [-1, 512, 1, 1]       1,179,648\n",
            "      BatchNorm2d-52            [-1, 512, 1, 1]           1,024\n",
            "             ReLU-53            [-1, 512, 1, 1]               0\n",
            "           Conv2d-54            [-1, 512, 1, 1]       2,359,296\n",
            "      BatchNorm2d-55            [-1, 512, 1, 1]           1,024\n",
            "           Conv2d-56            [-1, 512, 1, 1]         131,072\n",
            "      BatchNorm2d-57            [-1, 512, 1, 1]           1,024\n",
            "             ReLU-58            [-1, 512, 1, 1]               0\n",
            "       BasicBlock-59            [-1, 512, 1, 1]               0\n",
            "           Conv2d-60            [-1, 512, 1, 1]       2,359,296\n",
            "      BatchNorm2d-61            [-1, 512, 1, 1]           1,024\n",
            "             ReLU-62            [-1, 512, 1, 1]               0\n",
            "           Conv2d-63            [-1, 512, 1, 1]       2,359,296\n",
            "      BatchNorm2d-64            [-1, 512, 1, 1]           1,024\n",
            "             ReLU-65            [-1, 512, 1, 1]               0\n",
            "       BasicBlock-66            [-1, 512, 1, 1]               0\n",
            "AdaptiveAvgPool2d-67            [-1, 512, 1, 1]               0\n",
            "           Linear-68                 [-1, 1000]         513,000\n",
            "================================================================\n",
            "Total params: 11,689,512\n",
            "Trainable params: 11,689,512\n",
            "Non-trainable params: 0\n",
            "----------------------------------------------------------------\n",
            "Input size (MB): 0.01\n",
            "Forward/backward pass size (MB): 1.29\n",
            "Params size (MB): 44.59\n",
            "Estimated Total Size (MB): 45.90\n",
            "----------------------------------------------------------------\n"
          ]
        }
      ],
      "source": [
        "summary(model_ft, input_size=(3,32,32)) \n",
        "# 진행될수록 channel은 늘고, pooling하기 때문에 가로세로는 줄어든다.\n",
        "# 마지막에 1000이 되는 이유는, imagenet class가 1000개여서"
      ]
    },
    {
      "cell_type": "markdown",
      "metadata": {
        "id": "PA5h45pYZiHL"
      },
      "source": [
        "Check the last fully-connected (fc) layer"
      ]
    },
    {
      "cell_type": "code",
      "execution_count": 49,
      "metadata": {
        "id": "ooANg-FPacjB"
      },
      "outputs": [
        {
          "name": "stdout",
          "output_type": "stream",
          "text": [
            "Linear(in_features=512, out_features=1000, bias=True)\n"
          ]
        }
      ],
      "source": [
        "print(model_ft.fc)"
      ]
    },
    {
      "cell_type": "code",
      "execution_count": 51,
      "metadata": {
        "id": "VaTU5tPsZNxB"
      },
      "outputs": [
        {
          "name": "stdout",
          "output_type": "stream",
          "text": [
            "LAST - fc:  512 1000\n"
          ]
        }
      ],
      "source": [
        "fc_num_in_fts = model_ft.fc.in_features\n",
        "fc_num_out_fts = model_ft.fc.out_features\n",
        "\n",
        "print('LAST - fc: ', fc_num_in_fts, fc_num_out_fts)\n",
        "# 마지막 출력값인 (fc) 형태를 변경해아한다."
      ]
    },
    {
      "cell_type": "markdown",
      "metadata": {},
      "source": [
        "Change 'fc' to fit to CIFAR19 dataset"
      ]
    },
    {
      "cell_type": "code",
      "execution_count": 54,
      "metadata": {
        "id": "MlgzSwFRZwUB"
      },
      "outputs": [],
      "source": [
        "# .Linear : fully-connected layer\n",
        "model_ft.fc = nn.Linear(fc_num_in_fts, 10)  # 512 channel, 10 classes"
      ]
    },
    {
      "cell_type": "code",
      "execution_count": 55,
      "metadata": {
        "id": "pukGmCBaV-O-"
      },
      "outputs": [
        {
          "name": "stdout",
          "output_type": "stream",
          "text": [
            "----------------------------------------------------------------\n",
            "        Layer (type)               Output Shape         Param #\n",
            "================================================================\n",
            "            Conv2d-1           [-1, 64, 16, 16]           9,408\n",
            "       BatchNorm2d-2           [-1, 64, 16, 16]             128\n",
            "              ReLU-3           [-1, 64, 16, 16]               0\n",
            "         MaxPool2d-4             [-1, 64, 8, 8]               0\n",
            "            Conv2d-5             [-1, 64, 8, 8]          36,864\n",
            "       BatchNorm2d-6             [-1, 64, 8, 8]             128\n",
            "              ReLU-7             [-1, 64, 8, 8]               0\n",
            "            Conv2d-8             [-1, 64, 8, 8]          36,864\n",
            "       BatchNorm2d-9             [-1, 64, 8, 8]             128\n",
            "             ReLU-10             [-1, 64, 8, 8]               0\n",
            "       BasicBlock-11             [-1, 64, 8, 8]               0\n",
            "           Conv2d-12             [-1, 64, 8, 8]          36,864\n",
            "      BatchNorm2d-13             [-1, 64, 8, 8]             128\n",
            "             ReLU-14             [-1, 64, 8, 8]               0\n",
            "           Conv2d-15             [-1, 64, 8, 8]          36,864\n",
            "      BatchNorm2d-16             [-1, 64, 8, 8]             128\n",
            "             ReLU-17             [-1, 64, 8, 8]               0\n",
            "       BasicBlock-18             [-1, 64, 8, 8]               0\n",
            "           Conv2d-19            [-1, 128, 4, 4]          73,728\n",
            "      BatchNorm2d-20            [-1, 128, 4, 4]             256\n",
            "             ReLU-21            [-1, 128, 4, 4]               0\n",
            "           Conv2d-22            [-1, 128, 4, 4]         147,456\n",
            "      BatchNorm2d-23            [-1, 128, 4, 4]             256\n",
            "           Conv2d-24            [-1, 128, 4, 4]           8,192\n",
            "      BatchNorm2d-25            [-1, 128, 4, 4]             256\n",
            "             ReLU-26            [-1, 128, 4, 4]               0\n",
            "       BasicBlock-27            [-1, 128, 4, 4]               0\n",
            "           Conv2d-28            [-1, 128, 4, 4]         147,456\n",
            "      BatchNorm2d-29            [-1, 128, 4, 4]             256\n",
            "             ReLU-30            [-1, 128, 4, 4]               0\n",
            "           Conv2d-31            [-1, 128, 4, 4]         147,456\n",
            "      BatchNorm2d-32            [-1, 128, 4, 4]             256\n",
            "             ReLU-33            [-1, 128, 4, 4]               0\n",
            "       BasicBlock-34            [-1, 128, 4, 4]               0\n",
            "           Conv2d-35            [-1, 256, 2, 2]         294,912\n",
            "      BatchNorm2d-36            [-1, 256, 2, 2]             512\n",
            "             ReLU-37            [-1, 256, 2, 2]               0\n",
            "           Conv2d-38            [-1, 256, 2, 2]         589,824\n",
            "      BatchNorm2d-39            [-1, 256, 2, 2]             512\n",
            "           Conv2d-40            [-1, 256, 2, 2]          32,768\n",
            "      BatchNorm2d-41            [-1, 256, 2, 2]             512\n",
            "             ReLU-42            [-1, 256, 2, 2]               0\n",
            "       BasicBlock-43            [-1, 256, 2, 2]               0\n",
            "           Conv2d-44            [-1, 256, 2, 2]         589,824\n",
            "      BatchNorm2d-45            [-1, 256, 2, 2]             512\n",
            "             ReLU-46            [-1, 256, 2, 2]               0\n",
            "           Conv2d-47            [-1, 256, 2, 2]         589,824\n",
            "      BatchNorm2d-48            [-1, 256, 2, 2]             512\n",
            "             ReLU-49            [-1, 256, 2, 2]               0\n",
            "       BasicBlock-50            [-1, 256, 2, 2]               0\n",
            "           Conv2d-51            [-1, 512, 1, 1]       1,179,648\n",
            "      BatchNorm2d-52            [-1, 512, 1, 1]           1,024\n",
            "             ReLU-53            [-1, 512, 1, 1]               0\n",
            "           Conv2d-54            [-1, 512, 1, 1]       2,359,296\n",
            "      BatchNorm2d-55            [-1, 512, 1, 1]           1,024\n",
            "           Conv2d-56            [-1, 512, 1, 1]         131,072\n",
            "      BatchNorm2d-57            [-1, 512, 1, 1]           1,024\n",
            "             ReLU-58            [-1, 512, 1, 1]               0\n",
            "       BasicBlock-59            [-1, 512, 1, 1]               0\n",
            "           Conv2d-60            [-1, 512, 1, 1]       2,359,296\n",
            "      BatchNorm2d-61            [-1, 512, 1, 1]           1,024\n",
            "             ReLU-62            [-1, 512, 1, 1]               0\n",
            "           Conv2d-63            [-1, 512, 1, 1]       2,359,296\n",
            "      BatchNorm2d-64            [-1, 512, 1, 1]           1,024\n",
            "             ReLU-65            [-1, 512, 1, 1]               0\n",
            "       BasicBlock-66            [-1, 512, 1, 1]               0\n",
            "AdaptiveAvgPool2d-67            [-1, 512, 1, 1]               0\n",
            "           Linear-68                   [-1, 10]           5,130\n",
            "================================================================\n",
            "Total params: 11,181,642\n",
            "Trainable params: 11,181,642\n",
            "Non-trainable params: 0\n",
            "----------------------------------------------------------------\n",
            "Input size (MB): 0.01\n",
            "Forward/backward pass size (MB): 1.29\n",
            "Params size (MB): 42.65\n",
            "Estimated Total Size (MB): 43.95\n",
            "----------------------------------------------------------------\n"
          ]
        }
      ],
      "source": [
        "model_ft = model_ft.to(device)\n",
        "summary(model_ft, input_size=(3,32,32))"
      ]
    },
    {
      "cell_type": "markdown",
      "metadata": {
        "id": "pER-ti4jXEvf"
      },
      "source": [
        "Let's train the model"
      ]
    },
    {
      "cell_type": "code",
      "execution_count": null,
      "metadata": {
        "id": "UXc3lGOSUbd2"
      },
      "outputs": [],
      "source": [
        "# 마지막 layer는 우리가 class를 1000개에서 10개로 줄였기 때문에 weight 값이 임의로 설정되어있다. = 학습을 다시 해야함.(앞에서 사용한 model을 이용해보자)\n",
        "device = torch.device(\"cuda:0\" if torch.cuda.is_available() else \"cpu\")\n",
        "\n",
        "## loss function\n",
        "criterion_ft = nn.CrossEntropyLoss()\n",
        "## optimization\n",
        "# optimizer_ft = optim.SGD(model_ft.parameters(), lr=1e-2, momentum=0.9)\n",
        "optimizer_ft = optim.Adam(model_ft.parameters(), lr=1e-4)\n",
        "\n",
        "model_ft = train_model(model_ft, criterion_ft, optimizer_ft, cifar_trainloader, device, num_epochs=5)"
      ]
    },
    {
      "cell_type": "markdown",
      "metadata": {
        "id": "cgDK27fGey8_"
      },
      "source": [
        "Test on the test dataset"
      ]
    },
    {
      "cell_type": "code",
      "execution_count": null,
      "metadata": {
        "id": "S9YAAKK4ep54"
      },
      "outputs": [],
      "source": [
        "test_stat = {'n_corr': 0, 'n': 0}\n",
        "for i, (images, labels) in enumerate(cifar_testloader, 0):\n",
        "    images = images.to(device)\n",
        "    labels = labels.to(device)\n",
        "    outputs = model_ft(images)\n",
        "    test_stat = compute_stat(outputs, labels, test_stat)\n",
        "        \n",
        "print('Test Accuracy: %.2f'%( test_stat['n_corr'] / test_stat['n'] * 100))"
      ]
    },
    {
      "cell_type": "markdown",
      "metadata": {
        "id": "OJnAuSOQZm69"
      },
      "source": [
        "Change 'conv1' and 'fc' to fit to MNIST dataset\n",
        "- 입력 channel 변경 : model이 color 인거에 맞춰져 있어서 1channel(grayscale)로 맞춰줘야한다."
      ]
    },
    {
      "cell_type": "code",
      "execution_count": 65,
      "metadata": {
        "id": "uEhzws5C1Ppq"
      },
      "outputs": [],
      "source": [
        "device = torch.device(\"cuda:0\" if torch.cuda.is_available() else \"cpu\")\n",
        "\n",
        "# load the existing model (Resnet18) \n",
        "# pretrained model: use weights from ImageNet dataset\n",
        "model_ft2 = models.resnet18(pretrained=True)\n",
        "model_ft2 = model_ft2.to(device)"
      ]
    },
    {
      "cell_type": "code",
      "execution_count": 66,
      "metadata": {
        "id": "dFWH2BBu1ERO"
      },
      "outputs": [
        {
          "name": "stdout",
          "output_type": "stream",
          "text": [
            "Conv2d(3, 64, kernel_size=(7, 7), stride=(2, 2), padding=(3, 3), bias=False)\n"
          ]
        }
      ],
      "source": [
        "print(model_ft2.conv1)"
      ]
    },
    {
      "cell_type": "code",
      "execution_count": 67,
      "metadata": {
        "id": "f14csnsNPdcA"
      },
      "outputs": [
        {
          "name": "stdout",
          "output_type": "stream",
          "text": [
            "FIRST - conv1 :  3 64\n",
            "LAST - fc:  512 1000\n"
          ]
        }
      ],
      "source": [
        "conv1_num_in_fts2 = model_ft2.conv1.in_channels\n",
        "conv1_num_out_fts2 = model_ft2.conv1.out_channels\n",
        "\n",
        "print('FIRST - conv1 : ', conv1_num_in_fts2, conv1_num_out_fts2)\n",
        "\n",
        "fc_num_in_fts2 = model_ft2.fc.in_features\n",
        "fc_num_out_fts2 = model_ft2.fc.out_features\n",
        "\n",
        "print('LAST - fc: ', fc_num_in_fts2, fc_num_out_fts2)"
      ]
    },
    {
      "cell_type": "code",
      "execution_count": 69,
      "metadata": {
        "id": "a5dm5A9J1BtW"
      },
      "outputs": [],
      "source": [
        "# in 1, out 64로 맞춤.\n",
        "model_ft2.conv1 = nn.Conv2d(in_channels=1, out_channels=64, kernel_size=7, stride=1, padding=3, bias=False)\n",
        "\n",
        "model_ft2.fc = nn.Linear(fc_num_in_fts2, 10)  # 10 classes"
      ]
    },
    {
      "cell_type": "code",
      "execution_count": 70,
      "metadata": {
        "id": "iHOb6MhQ1cTa"
      },
      "outputs": [
        {
          "name": "stdout",
          "output_type": "stream",
          "text": [
            "----------------------------------------------------------------\n",
            "        Layer (type)               Output Shape         Param #\n",
            "================================================================\n",
            "            Conv2d-1           [-1, 64, 28, 28]           3,136\n",
            "       BatchNorm2d-2           [-1, 64, 28, 28]             128\n",
            "              ReLU-3           [-1, 64, 28, 28]               0\n",
            "         MaxPool2d-4           [-1, 64, 14, 14]               0\n",
            "            Conv2d-5           [-1, 64, 14, 14]          36,864\n",
            "       BatchNorm2d-6           [-1, 64, 14, 14]             128\n",
            "              ReLU-7           [-1, 64, 14, 14]               0\n",
            "            Conv2d-8           [-1, 64, 14, 14]          36,864\n",
            "       BatchNorm2d-9           [-1, 64, 14, 14]             128\n",
            "             ReLU-10           [-1, 64, 14, 14]               0\n",
            "       BasicBlock-11           [-1, 64, 14, 14]               0\n",
            "           Conv2d-12           [-1, 64, 14, 14]          36,864\n",
            "      BatchNorm2d-13           [-1, 64, 14, 14]             128\n",
            "             ReLU-14           [-1, 64, 14, 14]               0\n",
            "           Conv2d-15           [-1, 64, 14, 14]          36,864\n",
            "      BatchNorm2d-16           [-1, 64, 14, 14]             128\n",
            "             ReLU-17           [-1, 64, 14, 14]               0\n",
            "       BasicBlock-18           [-1, 64, 14, 14]               0\n",
            "           Conv2d-19            [-1, 128, 7, 7]          73,728\n",
            "      BatchNorm2d-20            [-1, 128, 7, 7]             256\n",
            "             ReLU-21            [-1, 128, 7, 7]               0\n",
            "           Conv2d-22            [-1, 128, 7, 7]         147,456\n",
            "      BatchNorm2d-23            [-1, 128, 7, 7]             256\n",
            "           Conv2d-24            [-1, 128, 7, 7]           8,192\n",
            "      BatchNorm2d-25            [-1, 128, 7, 7]             256\n",
            "             ReLU-26            [-1, 128, 7, 7]               0\n",
            "       BasicBlock-27            [-1, 128, 7, 7]               0\n",
            "           Conv2d-28            [-1, 128, 7, 7]         147,456\n",
            "      BatchNorm2d-29            [-1, 128, 7, 7]             256\n",
            "             ReLU-30            [-1, 128, 7, 7]               0\n",
            "           Conv2d-31            [-1, 128, 7, 7]         147,456\n",
            "      BatchNorm2d-32            [-1, 128, 7, 7]             256\n",
            "             ReLU-33            [-1, 128, 7, 7]               0\n",
            "       BasicBlock-34            [-1, 128, 7, 7]               0\n",
            "           Conv2d-35            [-1, 256, 4, 4]         294,912\n",
            "      BatchNorm2d-36            [-1, 256, 4, 4]             512\n",
            "             ReLU-37            [-1, 256, 4, 4]               0\n",
            "           Conv2d-38            [-1, 256, 4, 4]         589,824\n",
            "      BatchNorm2d-39            [-1, 256, 4, 4]             512\n",
            "           Conv2d-40            [-1, 256, 4, 4]          32,768\n",
            "      BatchNorm2d-41            [-1, 256, 4, 4]             512\n",
            "             ReLU-42            [-1, 256, 4, 4]               0\n",
            "       BasicBlock-43            [-1, 256, 4, 4]               0\n",
            "           Conv2d-44            [-1, 256, 4, 4]         589,824\n",
            "      BatchNorm2d-45            [-1, 256, 4, 4]             512\n",
            "             ReLU-46            [-1, 256, 4, 4]               0\n",
            "           Conv2d-47            [-1, 256, 4, 4]         589,824\n",
            "      BatchNorm2d-48            [-1, 256, 4, 4]             512\n",
            "             ReLU-49            [-1, 256, 4, 4]               0\n",
            "       BasicBlock-50            [-1, 256, 4, 4]               0\n",
            "           Conv2d-51            [-1, 512, 2, 2]       1,179,648\n",
            "      BatchNorm2d-52            [-1, 512, 2, 2]           1,024\n",
            "             ReLU-53            [-1, 512, 2, 2]               0\n",
            "           Conv2d-54            [-1, 512, 2, 2]       2,359,296\n",
            "      BatchNorm2d-55            [-1, 512, 2, 2]           1,024\n",
            "           Conv2d-56            [-1, 512, 2, 2]         131,072\n",
            "      BatchNorm2d-57            [-1, 512, 2, 2]           1,024\n",
            "             ReLU-58            [-1, 512, 2, 2]               0\n",
            "       BasicBlock-59            [-1, 512, 2, 2]               0\n",
            "           Conv2d-60            [-1, 512, 2, 2]       2,359,296\n",
            "      BatchNorm2d-61            [-1, 512, 2, 2]           1,024\n",
            "             ReLU-62            [-1, 512, 2, 2]               0\n",
            "           Conv2d-63            [-1, 512, 2, 2]       2,359,296\n",
            "      BatchNorm2d-64            [-1, 512, 2, 2]           1,024\n",
            "             ReLU-65            [-1, 512, 2, 2]               0\n",
            "       BasicBlock-66            [-1, 512, 2, 2]               0\n",
            "AdaptiveAvgPool2d-67            [-1, 512, 1, 1]               0\n",
            "           Linear-68                   [-1, 10]           5,130\n",
            "================================================================\n",
            "Total params: 11,175,370\n",
            "Trainable params: 11,175,370\n",
            "Non-trainable params: 0\n",
            "----------------------------------------------------------------\n",
            "Input size (MB): 0.00\n",
            "Forward/backward pass size (MB): 4.10\n",
            "Params size (MB): 42.63\n",
            "Estimated Total Size (MB): 46.74\n",
            "----------------------------------------------------------------\n"
          ]
        }
      ],
      "source": [
        "model_ft2 = model_ft2.to(device)\n",
        "summary(model_ft2, input_size=(1,28,28))"
      ]
    },
    {
      "cell_type": "code",
      "execution_count": null,
      "metadata": {
        "id": "c4T-TfSp1fF-"
      },
      "outputs": [],
      "source": [
        "## loss function\n",
        "criterion_ft2 = nn.CrossEntropyLoss()\n",
        "## optimization\n",
        "#optimizer_ft2 = optim.SGD(model_ft2.parameters(), lr=1e-2, momentum=0.9)\n",
        "optimizer_ft2 = optim.Adam(model_ft2.parameters(), lr=1e-3)\n",
        "\n",
        "model_ft2 = train_model(model_ft2, criterion_ft2, optimizer_ft2, mnist_trainloader, device, num_epochs=5)\n",
        "\n",
        "# error가 확 개선되어도 문제다. 적당한 속도로 개선되어야 좋다."
      ]
    },
    {
      "cell_type": "code",
      "execution_count": null,
      "metadata": {
        "id": "QUIcG8gA13r-"
      },
      "outputs": [],
      "source": [
        "test_stat = {'n_corr': 0, 'n': 0}\n",
        "for i, (images, labels) in enumerate(mnist_testloader, 0):\n",
        "    images = images.to(device)\n",
        "    labels = labels.to(device)\n",
        "    outputs = model_ft2(images)\n",
        "    test_stat = compute_stat(outputs, labels, test_stat)\n",
        "        \n",
        "print('Test Accuracy: %.2f'%( test_stat['n_corr'] / test_stat['n'] * 100))"
      ]
    }
  ],
  "metadata": {
    "accelerator": "GPU",
    "anaconda-cloud": {},
    "colab": {
      "collapsed_sections": [],
      "name": "ANN.ipynb",
      "provenance": []
    },
    "kernelspec": {
      "display_name": "Python 3",
      "language": "python",
      "name": "python3"
    },
    "language_info": {
      "codemirror_mode": {
        "name": "ipython",
        "version": 3
      },
      "file_extension": ".py",
      "mimetype": "text/x-python",
      "name": "python",
      "nbconvert_exporter": "python",
      "pygments_lexer": "ipython3",
      "version": "3.7.0"
    }
  },
  "nbformat": 4,
  "nbformat_minor": 0
}
