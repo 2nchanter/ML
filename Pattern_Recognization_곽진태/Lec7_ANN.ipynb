{
  "cells": [
    {
      "cell_type": "markdown",
      "metadata": {
        "id": "o8CA4Y2Uy5nA"
      },
      "source": [
        "## **Artificial Neural Networks**"
      ]
    },
    {
      "cell_type": "markdown",
      "metadata": {
        "id": "84apmnefzD7_"
      },
      "source": [
        "Import libraries"
      ]
    },
    {
      "cell_type": "code",
      "execution_count": null,
      "metadata": {
        "id": "jwUc-ruOEiJd"
      },
      "outputs": [],
      "source": [
        "# pytorch가 세계\n",
        "import torch\n",
        "import torch.nn as nn\n",
        "import torch.nn.functional as F\n",
        "import torchvision\n",
        "import torchvision.transforms as transforms"
      ]
    },
    {
      "cell_type": "markdown",
      "metadata": {
        "id": "kO7yaqK64PES"
      },
      "source": [
        "**MNIST dataset**\n",
        "\n",
        "*   Database of handwritten digits\n",
        "*   Training set: 60,000 samples\n",
        "*   Testing set: 10,000 samples\n",
        "*   10 classes of 28 x 28 images\n",
        "\n",
        "![alt text](https://drive.google.com/uc?id=1hZrTmIUAYpfwWJp_wRYs3I6VwIlhVbnZ)"
      ]
    },
    {
      "cell_type": "markdown",
      "metadata": {
        "id": "ZkpH3jT26yOr"
      },
      "source": [
        "Load training and test dataset"
      ]
    },
    {
      "cell_type": "code",
      "execution_count": null,
      "metadata": {
        "id": "QdPQmeYl3wed"
      },
      "outputs": [],
      "source": [
        "BATCH_SIZE = 32\n",
        "\n",
        "## transformations\n",
        "transform = transforms.Compose(\n",
        "    [transforms.ToTensor()])\n",
        "\n",
        "## download and load training dataset\n",
        "mnist_trainset = torchvision.datasets.MNIST(root='./data', train=True,\n",
        "                                        download=True, transform=transform)\n",
        "mnist_trainloader = torch.utils.data.DataLoader(mnist_trainset, batch_size=BATCH_SIZE,\n",
        "                                          shuffle=True, num_workers=1)\n",
        "\n",
        "## download and load testing dataset\n",
        "mnist_testset = torchvision.datasets.MNIST(root='./data', train=False,\n",
        "                                       download=True, transform=transform)\n",
        "mnist_testloader = torch.utils.data.DataLoader(mnist_testset, batch_size=BATCH_SIZE,\n",
        "                                         shuffle=False, num_workers=1)"
      ]
    },
    {
      "cell_type": "code",
      "execution_count": null,
      "metadata": {
        "id": "QRnugJsk5z0n"
      },
      "outputs": [],
      "source": [
        "print(mnist_trainset)\n",
        "print(mnist_testset)"
      ]
    },
    {
      "cell_type": "markdown",
      "metadata": {
        "id": "crWU3PBn6vbV"
      },
      "source": [
        "Visualize MNIST dataset"
      ]
    },
    {
      "cell_type": "code",
      "execution_count": null,
      "metadata": {
        "id": "e1hMDAoN4DGx"
      },
      "outputs": [],
      "source": [
        "import matplotlib.pyplot as plt\n",
        "import numpy as np\n",
        "\n",
        "## get some random training images\n",
        "mnist_dataiter = iter(mnist_trainloader)\n",
        "images, labels = mnist_dataiter.next()\n",
        "\n",
        "## show images\n",
        "images_grid = torchvision.utils.make_grid(images)\n",
        "plt.imshow(np.transpose(images_grid.numpy(), (1, 2, 0)))\n",
        "plt.axis('off')\n",
        "plt.show()"
      ]
    },
    {
      "cell_type": "code",
      "execution_count": null,
      "metadata": {
        "id": "3qn_Wgvf65-l"
      },
      "outputs": [],
      "source": [
        "for images, labels in mnist_trainloader:\n",
        "    print(\"Train - image batch dimensions:\", images.shape)\n",
        "    print(\"Train - image label dimensions:\", labels.shape)\n",
        "    break\n",
        "\n",
        "for images, labels in mnist_testloader:\n",
        "    print(\"Test - image batch dimensions:\", images.shape)\n",
        "    print(\"Test - image label dimensions:\", labels.shape)\n",
        "    break"
      ]
    },
    {
      "cell_type": "markdown",
      "metadata": {
        "id": "gqZ24PBm4OGW"
      },
      "source": [
        "Create a simple model"
      ]
    },
    {
      "cell_type": "code",
      "execution_count": null,
      "metadata": {
        "id": "Y9wv4ys27OQu"
      },
      "outputs": [],
      "source": [
        "class SimpleModel(nn.Module):\n",
        "    def __init__(self):\n",
        "        super(SimpleModel, self).__init__()\n",
        "\n",
        "        self.convlayer = nn.Conv2d(in_channels=1, out_channels=32, kernel_size=3)\n",
        "        self.fclayer1 = nn.Linear(26 * 26 * 32, 128)\n",
        "        self.fclayer2 = nn.Linear(128, 10)\n",
        "\n",
        "    def forward(self, x):\n",
        "        # input: 32x1x28x28 -> output: 32x32x26x26\n",
        "        x = self.convlayer(x)\n",
        "        x = F.relu(x)\n",
        "\n",
        "        # input: 32x32x26x26 -> output: 32x(32*26*26)\n",
        "        x = x.flatten(start_dim = 1)\n",
        "\n",
        "        # input: 32x(32*26*26) -> output: 32x128\n",
        "        x = self.fclayer1(x)\n",
        "        x = F.relu(x)\n",
        "\n",
        "        # input: 32x128 -> output: 32x10 (32 images, 10 classes)\n",
        "        logits = self.fclayer2(x)\n",
        "        out = F.softmax(logits, dim=1)\n",
        "        return out"
      ]
    },
    {
      "cell_type": "markdown",
      "metadata": {
        "id": "lZAMhD5Z8qPC"
      },
      "source": [
        "Test if the model works well"
      ]
    },
    {
      "cell_type": "code",
      "execution_count": null,
      "metadata": {
        "id": "IWuz2kzC8e59"
      },
      "outputs": [],
      "source": [
        "model = SimpleModel()\n",
        "for images, labels in mnist_trainloader:\n",
        "    print(\"batch size:\", images.shape)\n",
        "    out = model(images)\n",
        "    print(out.shape)\n",
        "    break"
      ]
    },
    {
      "cell_type": "markdown",
      "metadata": {
        "id": "xaqaUSzX8vK5"
      },
      "source": [
        "Let's train the model"
      ]
    },
    {
      "cell_type": "code",
      "execution_count": null,
      "metadata": {
        "id": "KQ0CJOon9PGp"
      },
      "outputs": [],
      "source": [
        "## compute stat\n",
        "def compute_stat(outputs, labels, stats):\n",
        "    _, preds = torch.max(outputs, 1)\n",
        "    stats['n_corr'] += torch.sum(preds == labels).item()\n",
        "    stats['n'] += torch.numel(labels)\n",
        "\n",
        "    return stats\n",
        "\n",
        "def train_model(model, criterion, optimizer, trainloader, device, num_epochs=25):\n",
        "  epoch_stat = {'n_corr': 0, 'n': 0}\n",
        "\n",
        "  for epoch in range(num_epochs):\n",
        "      train_running_loss = 0.0\n",
        "      train_acc = 0.0\n",
        "\n",
        "      model.train()  # Set model to training mode\n",
        "\n",
        "      ## training step\n",
        "      for i, (images, labels) in enumerate(trainloader):\n",
        "          \n",
        "          images = images.to(device)\n",
        "          labels = labels.to(device)\n",
        "\n",
        "          ## forward + backprop + loss\n",
        "          optimizer.zero_grad()\n",
        "          outputs = model(images)\n",
        "          loss = criterion(outputs, labels)\n",
        "          loss.backward()\n",
        "\n",
        "          ## update model params\n",
        "          optimizer.step()\n",
        "\n",
        "          train_running_loss += loss.detach().item()\n",
        "          epoch_stat = compute_stat(outputs, labels, epoch_stat)\n",
        "      \n",
        "      model.eval()\n",
        "      print('Epoch: %d | Loss: %.4f | Train Accuracy: %.2f' \\\n",
        "            %(epoch, train_running_loss / i, epoch_stat['n_corr'] / epoch_stat['n'] * 100)) \n",
        "      \n",
        "  return model"
      ]
    },
    {
      "cell_type": "code",
      "execution_count": null,
      "metadata": {
        "id": "x7jhy0BH8xXp"
      },
      "outputs": [],
      "source": [
        "num_epochs = 5\n",
        "\n",
        "device = torch.device(\"cuda:0\" if torch.cuda.is_available() else \"cpu\")\n",
        "model = SimpleModel()\n",
        "model = model.to(device)\n",
        "\n",
        "## loss function\n",
        "criterion = nn.CrossEntropyLoss()\n",
        "## optimization\n",
        "optimizer = torch.optim.SGD(model.parameters(), lr=0.1, momentum=0.9)\n",
        "#optimizer = torch.optim.Adam(model.parameters(), lr=0.001)"
      ]
    },
    {
      "cell_type": "code",
      "execution_count": null,
      "metadata": {
        "id": "NBrmWCxgXuW4"
      },
      "outputs": [],
      "source": [
        "model = train_model(model, criterion, optimizer, mnist_trainloader, device, num_epochs=5)"
      ]
    },
    {
      "cell_type": "markdown",
      "metadata": {
        "id": "iYJWukagEROf"
      },
      "source": [
        "Test on the test dataset"
      ]
    },
    {
      "cell_type": "code",
      "execution_count": null,
      "metadata": {
        "id": "iVkfn372Bv_E"
      },
      "outputs": [],
      "source": [
        "model.eval() # Set model to evaluate mode\n",
        "\n",
        "test_stat = {'n_corr': 0, 'n': 0}\n",
        "for i, (images, labels) in enumerate(mnist_testloader, 0):\n",
        "    images = images.to(device)\n",
        "    labels = labels.to(device)\n",
        "    outputs = model(images)\n",
        "    test_stat = compute_stat(outputs, labels, test_stat)\n",
        "        \n",
        "print('Test Accuracy: %.2f'%( test_stat['n_corr'] / test_stat['n'] * 100))"
      ]
    },
    {
      "cell_type": "markdown",
      "metadata": {
        "id": "oNz8eIiJUJXq"
      },
      "source": [
        "## **Utilize the existing models & transfer learning**"
      ]
    },
    {
      "cell_type": "code",
      "execution_count": null,
      "metadata": {
        "id": "YCGmbdLAUL-J"
      },
      "outputs": [],
      "source": [
        "import torch\n",
        "import torch.nn as nn\n",
        "import torch.optim as optim\n",
        "import numpy as np\n",
        "import torchvision\n",
        "from torchvision import datasets, models, transforms\n",
        "import matplotlib.pyplot as plt\n",
        "from torchsummary import summary"
      ]
    },
    {
      "cell_type": "markdown",
      "metadata": {
        "id": "2q_XPyyPcnsB"
      },
      "source": [
        "**CIFAR10 dataset**\n",
        "\n",
        "*   Database of natural images\n",
        "*   Training set: 50,000 samples\n",
        "*   Testing set: 10,000 samples\n",
        "*   10 classes of 32 x 32 images\n",
        "\n",
        "![alt text](https://drive.google.com/uc?id=1qQFYheGrOa3Rj3nlcf2UXo26yTSwu6Ak)"
      ]
    },
    {
      "cell_type": "markdown",
      "metadata": {
        "id": "rHDuQTjSceF_"
      },
      "source": [
        "Load CIFAR10 dataset"
      ]
    },
    {
      "cell_type": "code",
      "execution_count": null,
      "metadata": {
        "id": "EdYfDPdBcNti"
      },
      "outputs": [],
      "source": [
        "BATCH_SIZE = 64\n",
        "\n",
        "## transformations\n",
        "transform = transforms.Compose(\n",
        "    [transforms.ToTensor()])\n",
        "\n",
        "## download and load training dataset\n",
        "cifar_trainset = torchvision.datasets.CIFAR10(root='./data', train=True,\n",
        "                                        download=True, transform=transform)\n",
        "cifar_trainloader = torch.utils.data.DataLoader(cifar_trainset, batch_size=BATCH_SIZE,\n",
        "                                          shuffle=True, num_workers=1)\n",
        "\n",
        "## download and load testing dataset\n",
        "cifar_testset = torchvision.datasets.CIFAR10(root='./data', train=False,\n",
        "                                       download=True, transform=transform)\n",
        "cifar_testloader = torch.utils.data.DataLoader(cifar_testset, batch_size=BATCH_SIZE,\n",
        "                                         shuffle=False, num_workers=1)"
      ]
    },
    {
      "cell_type": "code",
      "execution_count": null,
      "metadata": {
        "id": "fUdTmaEXdXbh"
      },
      "outputs": [],
      "source": [
        "import matplotlib.pyplot as plt\n",
        "import numpy as np\n",
        "\n",
        "## get some random training images\n",
        "dataiter = iter(cifar_trainloader)\n",
        "images, labels = dataiter.next()\n",
        "\n",
        "## show images\n",
        "images_grid = torchvision.utils.make_grid(images)\n",
        "plt.imshow(np.transpose(images_grid.numpy(), (1, 2, 0)))\n",
        "plt.axis('off')\n",
        "plt.show()"
      ]
    },
    {
      "cell_type": "code",
      "execution_count": null,
      "metadata": {
        "id": "RNsksT8fdj4o"
      },
      "outputs": [],
      "source": [
        "for images, labels in cifar_trainloader:\n",
        "    print(\"Train - image batch dimensions:\", images.shape)\n",
        "    print(\"Train - image label dimensions:\", labels.shape)\n",
        "    break\n",
        "\n",
        "for images, labels in cifar_testloader:\n",
        "    print(\"Test - image batch dimensions:\", images.shape)\n",
        "    print(\"Test - image label dimensions:\", labels.shape)\n",
        "    break"
      ]
    },
    {
      "cell_type": "markdown",
      "metadata": {
        "id": "44XpCkuhUetL"
      },
      "source": [
        "Load the existing model"
      ]
    },
    {
      "cell_type": "code",
      "execution_count": null,
      "metadata": {
        "id": "_ZHSRE7HU-NM"
      },
      "outputs": [],
      "source": [
        "device = torch.device(\"cuda:0\" if torch.cuda.is_available() else \"cpu\")\n",
        "\n",
        "# load the existing model (Resnet18) \n",
        "# pretrained model: use weights from ImageNet dataset\n",
        "model_ft = models.resnet18(pretrained=True)\n",
        "model_ft = model_ft.to(device)"
      ]
    },
    {
      "cell_type": "code",
      "execution_count": null,
      "metadata": {
        "id": "IlebCnXPVDdr"
      },
      "outputs": [],
      "source": [
        "print(model_ft)"
      ]
    },
    {
      "cell_type": "code",
      "execution_count": null,
      "metadata": {
        "id": "zEwK1i55VJEu"
      },
      "outputs": [],
      "source": [
        "summary(model_ft, input_size=(3,32,32)) "
      ]
    },
    {
      "cell_type": "markdown",
      "metadata": {
        "id": "PA5h45pYZiHL"
      },
      "source": [
        "Check the last fully-connected (fc) layer"
      ]
    },
    {
      "cell_type": "code",
      "execution_count": null,
      "metadata": {
        "id": "ooANg-FPacjB"
      },
      "outputs": [],
      "source": [
        "print(model_ft.fc)"
      ]
    },
    {
      "cell_type": "code",
      "execution_count": null,
      "metadata": {
        "id": "VaTU5tPsZNxB"
      },
      "outputs": [],
      "source": [
        "fc_num_in_fts = model_ft.fc.in_features\n",
        "fc_num_out_fts = model_ft.fc.out_features\n",
        "\n",
        "print('LAST - fc: ', fc_num_in_fts, fc_num_out_fts)"
      ]
    },
    {
      "cell_type": "markdown",
      "metadata": {
        "id": "Mym6HiJK0yQW"
      },
      "source": [
        "Change 'fc' to fit to CIFAR19 dataset"
      ]
    },
    {
      "cell_type": "code",
      "execution_count": null,
      "metadata": {
        "id": "MlgzSwFRZwUB"
      },
      "outputs": [],
      "source": [
        "model_ft.fc = nn.Linear(fc_num_in_fts, 10)  # 10 classes"
      ]
    },
    {
      "cell_type": "code",
      "execution_count": null,
      "metadata": {
        "id": "pukGmCBaV-O-"
      },
      "outputs": [],
      "source": [
        "model_ft = model_ft.to(device)\n",
        "summary(model_ft, input_size=(3,32,32))"
      ]
    },
    {
      "cell_type": "markdown",
      "metadata": {
        "id": "pER-ti4jXEvf"
      },
      "source": [
        "Let's train the model"
      ]
    },
    {
      "cell_type": "code",
      "execution_count": null,
      "metadata": {
        "id": "UXc3lGOSUbd2"
      },
      "outputs": [],
      "source": [
        "device = torch.device(\"cuda:0\" if torch.cuda.is_available() else \"cpu\")\n",
        "\n",
        "## loss function\n",
        "criterion_ft = nn.CrossEntropyLoss()\n",
        "## optimization\n",
        "#optimizer_ft = optim.SGD(model_ft.parameters(), lr=1e-2, momentum=0.9)\n",
        "optimizer_ft = optim.Adam(model_ft.parameters(), lr=1e-4)\n",
        "\n",
        "model_ft = train_model(model_ft, criterion_ft, optimizer_ft, cifar_trainloader, device, num_epochs=5)"
      ]
    },
    {
      "cell_type": "markdown",
      "metadata": {
        "id": "cgDK27fGey8_"
      },
      "source": [
        "Test on the test dataset"
      ]
    },
    {
      "cell_type": "code",
      "execution_count": null,
      "metadata": {
        "id": "S9YAAKK4ep54"
      },
      "outputs": [],
      "source": [
        "test_stat = {'n_corr': 0, 'n': 0}\n",
        "for i, (images, labels) in enumerate(cifar_testloader, 0):\n",
        "    images = images.to(device)\n",
        "    labels = labels.to(device)\n",
        "    outputs = model_ft(images)\n",
        "    test_stat = compute_stat(outputs, labels, test_stat)\n",
        "        \n",
        "print('Test Accuracy: %.2f'%( test_stat['n_corr'] / test_stat['n'] * 100))"
      ]
    },
    {
      "cell_type": "markdown",
      "metadata": {
        "id": "OJnAuSOQZm69"
      },
      "source": [
        "Change 'conv1' and 'fc' to fit to MNIST dataset"
      ]
    },
    {
      "cell_type": "code",
      "execution_count": null,
      "metadata": {
        "id": "uEhzws5C1Ppq"
      },
      "outputs": [],
      "source": [
        "device = torch.device(\"cuda:0\" if torch.cuda.is_available() else \"cpu\")\n",
        "\n",
        "# load the existing model (Resnet18) \n",
        "# pretrained model: use weights from ImageNet dataset\n",
        "model_ft2 = models.resnet18(pretrained=True)\n",
        "model_ft2 = model_ft2.to(device)"
      ]
    },
    {
      "cell_type": "code",
      "execution_count": null,
      "metadata": {
        "id": "dFWH2BBu1ERO"
      },
      "outputs": [],
      "source": [
        "print(model_ft2.conv1)"
      ]
    },
    {
      "cell_type": "code",
      "execution_count": null,
      "metadata": {
        "id": "f14csnsNPdcA"
      },
      "outputs": [],
      "source": [
        "conv1_num_in_fts2 = model_ft2.conv1.in_channels\n",
        "conv1_num_out_fts2 = model_ft2.conv1.out_channels\n",
        "\n",
        "print('FIRST - conv1 : ', conv1_num_in_fts2, conv1_num_out_fts2)\n",
        "\n",
        "fc_num_in_fts2 = model_ft2.fc.in_features\n",
        "fc_num_out_fts2 = model_ft2.fc.out_features\n",
        "\n",
        "print('LAST - fc: ', fc_num_in_fts2, fc_num_out_fts2)"
      ]
    },
    {
      "cell_type": "code",
      "execution_count": null,
      "metadata": {
        "id": "a5dm5A9J1BtW"
      },
      "outputs": [],
      "source": [
        "model_ft2.conv1 = nn.Conv2d(in_channels=1, out_channels=64, kernel_size=7, stride=1, padding=3, bias=False)\n",
        "\n",
        "model_ft2.fc = nn.Linear(fc_num_in_fts2, 10)  # 10 classes"
      ]
    },
    {
      "cell_type": "code",
      "execution_count": null,
      "metadata": {
        "id": "iHOb6MhQ1cTa"
      },
      "outputs": [],
      "source": [
        "model_ft2 = model_ft2.to(device)\n",
        "summary(model_ft2, input_size=(1,28,28))"
      ]
    },
    {
      "cell_type": "code",
      "execution_count": null,
      "metadata": {
        "id": "c4T-TfSp1fF-"
      },
      "outputs": [],
      "source": [
        "## loss function\n",
        "criterion_ft2 = nn.CrossEntropyLoss()\n",
        "## optimization\n",
        "#optimizer_ft2 = optim.SGD(model_ft2.parameters(), lr=1e-2, momentum=0.9)\n",
        "optimizer_ft2 = optim.Adam(model_ft2.parameters(), lr=1e-3)\n",
        "\n",
        "model_ft2 = train_model(model_ft2, criterion_ft2, optimizer_ft2, mnist_trainloader, device, num_epochs=5)\n"
      ]
    },
    {
      "cell_type": "code",
      "execution_count": null,
      "metadata": {
        "id": "QUIcG8gA13r-"
      },
      "outputs": [],
      "source": [
        "test_stat = {'n_corr': 0, 'n': 0}\n",
        "for i, (images, labels) in enumerate(mnist_testloader, 0):\n",
        "    images = images.to(device)\n",
        "    labels = labels.to(device)\n",
        "    outputs = model_ft2(images)\n",
        "    test_stat = compute_stat(outputs, labels, test_stat)\n",
        "        \n",
        "print('Test Accuracy: %.2f'%( test_stat['n_corr'] / test_stat['n'] * 100))"
      ]
    }
  ],
  "metadata": {
    "accelerator": "GPU",
    "anaconda-cloud": {},
    "colab": {
      "collapsed_sections": [],
      "name": "ANN.ipynb",
      "provenance": []
    },
    "kernelspec": {
      "display_name": "Python 3",
      "language": "python",
      "name": "python3"
    },
    "language_info": {
      "codemirror_mode": {
        "name": "ipython",
        "version": 3
      },
      "file_extension": ".py",
      "mimetype": "text/x-python",
      "name": "python",
      "nbconvert_exporter": "python",
      "pygments_lexer": "ipython3",
      "version": "3.7.3"
    }
  },
  "nbformat": 4,
  "nbformat_minor": 0
}
