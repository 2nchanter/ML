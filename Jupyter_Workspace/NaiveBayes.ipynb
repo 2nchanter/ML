{
  "nbformat": 4,
  "nbformat_minor": 0,
  "metadata": {
    "colab": {
      "name": "NaiveBayes.ipynb",
      "provenance": [],
      "collapsed_sections": []
    },
    "kernelspec": {
      "name": "python3",
      "display_name": "Python 3"
    }
  },
  "cells": [
    {
      "cell_type": "markdown",
      "metadata": {
        "id": "_k-bRbF5wmjd"
      },
      "source": [
        "# **Gaussian Naive Bayes**"
      ]
    },
    {
      "cell_type": "markdown",
      "metadata": {
        "id": "3MIglx9_3Ltr"
      },
      "source": [
        "Import Libraries"
      ]
    },
    {
      "cell_type": "code",
      "metadata": {
        "id": "UZbZi3wc3RAi"
      },
      "source": [
        "from sklearn import datasets\n",
        "import matplotlib.pyplot as plt"
      ],
      "execution_count": 1,
      "outputs": []
    },
    {
      "cell_type": "markdown",
      "metadata": {
        "id": "5cfQ_gpT36uR"
      },
      "source": [
        "Generate some (random) data"
      ]
    },
    {
      "cell_type": "code",
      "metadata": {
        "id": "sisrHl7twnlF"
      },
      "source": [
        "X, Y = datasets.make_blobs(100, 2, centers=2, random_state=2, cluster_std=1.5)\n",
        "\n",
        "plt.scatter(X[:,0], X[:,1], c=Y, s=50, cmap='RdBu')\n",
        "plt.show()"
      ],
      "execution_count": null,
      "outputs": []
    },
    {
      "cell_type": "markdown",
      "metadata": {
        "id": "cULytnQXxNab"
      },
      "source": [
        "**Train a Naive Bayes Model**"
      ]
    },
    {
      "cell_type": "code",
      "metadata": {
        "id": "CDTrnCB7xQcs"
      },
      "source": [
        "from sklearn.naive_bayes import GaussianNB"
      ],
      "execution_count": null,
      "outputs": []
    },
    {
      "cell_type": "code",
      "metadata": {
        "id": "fIumMW_PxTun"
      },
      "source": [
        "model = GaussianNB()\n",
        "model.fit(X, Y)"
      ],
      "execution_count": null,
      "outputs": []
    },
    {
      "cell_type": "markdown",
      "metadata": {
        "id": "h-hnWfg5zYR7"
      },
      "source": [
        "Let's check out the distribution of the classes"
      ]
    },
    {
      "cell_type": "code",
      "metadata": {
        "id": "3BLAjf9GyVgq"
      },
      "source": [
        "model.theta_    # mean of each feature per class (n_classes, n_features)"
      ],
      "execution_count": null,
      "outputs": []
    },
    {
      "cell_type": "code",
      "metadata": {
        "id": "p2MIVEr1xJOD"
      },
      "source": [
        "model.sigma_    # variance of each feature per class (n_classes, n_features)"
      ],
      "execution_count": null,
      "outputs": []
    },
    {
      "cell_type": "code",
      "metadata": {
        "id": "XPGiELcvyxHZ"
      },
      "source": [
        "plt.scatter(X[:,0], X[:,1], c=Y, s=50, cmap='RdBu')\n",
        "plt.scatter(model.theta_[:,0], model.theta_[:,1], marker='d', c=['r', 'b'], s=200)\n",
        "plt.show()"
      ],
      "execution_count": null,
      "outputs": []
    },
    {
      "cell_type": "markdown",
      "metadata": {
        "id": "O2ejMI3px8XA"
      },
      "source": [
        "**Performance Evaluation**"
      ]
    },
    {
      "cell_type": "code",
      "metadata": {
        "id": "Upk_thRex_Lt"
      },
      "source": [
        "from sklearn import metrics"
      ],
      "execution_count": null,
      "outputs": []
    },
    {
      "cell_type": "code",
      "metadata": {
        "id": "FukVNmH3xbeK"
      },
      "source": [
        "pred = model.predict(X)\n",
        "print(pred[:10])\n",
        "print(Y[:10])\n",
        "\n",
        "score = model.predict_proba(X)\n",
        "print(score[:10,:])"
      ],
      "execution_count": null,
      "outputs": []
    },
    {
      "cell_type": "markdown",
      "metadata": {
        "id": "9w8syPGa1RlQ"
      },
      "source": [
        "Accuracy"
      ]
    },
    {
      "cell_type": "code",
      "metadata": {
        "id": "Je9XSGW51Pxw"
      },
      "source": [
        "acc = metrics.accuracy_score(Y, pred)\n",
        "print('Accuracy : ', acc)"
      ],
      "execution_count": null,
      "outputs": []
    },
    {
      "cell_type": "code",
      "metadata": {
        "id": "WaT8TcZ200Ug"
      },
      "source": [
        "X2, Y2 = datasets.make_blobs(100, 2, centers=2, random_state=2, cluster_std=2.5)\n",
        "\n",
        "pred2 = model.predict(X2)\n",
        "print(pred2[:10])\n",
        "print(Y2[:10])\n",
        "\n",
        "score2 = model.predict_proba(X2)\n",
        "print(score2[:10,:])"
      ],
      "execution_count": null,
      "outputs": []
    },
    {
      "cell_type": "markdown",
      "metadata": {
        "id": "p9XyItDuyIVa"
      },
      "source": [
        "Accuracy"
      ]
    },
    {
      "cell_type": "code",
      "metadata": {
        "id": "Vgi84qb5yGVT"
      },
      "source": [
        "acc2 = metrics.accuracy_score(Y2, pred2)\n",
        "print('Accuracy : ', acc2)"
      ],
      "execution_count": null,
      "outputs": []
    },
    {
      "cell_type": "markdown",
      "metadata": {
        "id": "cHAFIK0Cn3Q2"
      },
      "source": [
        "# **Breast Cancer Wisconsin (Diagnostic) Dataset**\n",
        "*   569 instances (212 Malignant, 357 Benign)\n",
        "*   30 numerical features (computed from a digitized image of a breast mass)\n",
        "*   2 classes (Malignant, Benign)\n"
      ]
    },
    {
      "cell_type": "markdown",
      "metadata": {
        "id": "BbN_bZpT4Zhv"
      },
      "source": [
        "Import Libraries"
      ]
    },
    {
      "cell_type": "code",
      "metadata": {
        "id": "9Afk-9gTn8kr"
      },
      "source": [
        "import numpy as np\n",
        "from sklearn import datasets"
      ],
      "execution_count": null,
      "outputs": []
    },
    {
      "cell_type": "markdown",
      "metadata": {
        "id": "qdt6lR1G4dPd"
      },
      "source": [
        "Load dataset"
      ]
    },
    {
      "cell_type": "code",
      "metadata": {
        "id": "FPo-_s9n4bXf"
      },
      "source": [
        "wisconsin = datasets.load_breast_cancer()"
      ],
      "execution_count": null,
      "outputs": []
    },
    {
      "cell_type": "code",
      "metadata": {
        "id": "pGrdTVK1om86"
      },
      "source": [
        "wisconsin.keys()"
      ],
      "execution_count": null,
      "outputs": []
    },
    {
      "cell_type": "code",
      "metadata": {
        "id": "euoiqEVqouF_"
      },
      "source": [
        "wisconsin.data"
      ],
      "execution_count": null,
      "outputs": []
    },
    {
      "cell_type": "code",
      "metadata": {
        "id": "NlKClmyE4iTB"
      },
      "source": [
        "wisconsin.data.shape"
      ],
      "execution_count": null,
      "outputs": []
    },
    {
      "cell_type": "code",
      "metadata": {
        "id": "Bm8N1exIoq5j"
      },
      "source": [
        "wisconsin.target_names"
      ],
      "execution_count": null,
      "outputs": []
    },
    {
      "cell_type": "markdown",
      "metadata": {
        "id": "Dfw1yYfkoyVM"
      },
      "source": [
        "**Prepare Data**"
      ]
    },
    {
      "cell_type": "code",
      "metadata": {
        "id": "F1tvLvAuoxU9"
      },
      "source": [
        "from sklearn.model_selection import train_test_split"
      ],
      "execution_count": null,
      "outputs": []
    },
    {
      "cell_type": "code",
      "metadata": {
        "id": "4i1qnWDAo1hV"
      },
      "source": [
        "TrainX, TestX, TrainY, TestY = train_test_split(wisconsin.data, wisconsin.target, test_size=0.3, random_state=0)"
      ],
      "execution_count": null,
      "outputs": []
    },
    {
      "cell_type": "code",
      "metadata": {
        "id": "BqPEbSHmo4Ic"
      },
      "source": [
        "print(TrainX.shape)\n",
        "print(TrainY.shape)\n",
        "print(TestX.shape)\n",
        "print(TestY.shape)"
      ],
      "execution_count": null,
      "outputs": []
    },
    {
      "cell_type": "markdown",
      "metadata": {
        "id": "s5FrakxRo6KC"
      },
      "source": [
        "**Train a Naive Bayes Model**"
      ]
    },
    {
      "cell_type": "code",
      "metadata": {
        "id": "-ifLOJYBo9KE"
      },
      "source": [
        "from sklearn.naive_bayes import GaussianNB"
      ],
      "execution_count": null,
      "outputs": []
    },
    {
      "cell_type": "code",
      "metadata": {
        "id": "nZbXbS6HpBag"
      },
      "source": [
        "model = GaussianNB()\n",
        "model.fit(TrainX, TrainY)"
      ],
      "execution_count": null,
      "outputs": []
    },
    {
      "cell_type": "code",
      "metadata": {
        "id": "IJ87c8t41kOP"
      },
      "source": [
        "model.theta_"
      ],
      "execution_count": null,
      "outputs": []
    },
    {
      "cell_type": "code",
      "metadata": {
        "id": "tmUZ-WvcpEJW"
      },
      "source": [
        "pred_train = model.predict(TrainX)\n",
        "print(pred_train[:20])\n",
        "print(TrainY[:20])\n",
        "\n",
        "score_train = model.predict_proba(TrainX)\n",
        "score_train[:10,:]"
      ],
      "execution_count": null,
      "outputs": []
    },
    {
      "cell_type": "code",
      "metadata": {
        "id": "5jtpVRUNpI8R"
      },
      "source": [
        "pred_test = model.predict(TestX)\n",
        "print(pred_test[:20])\n",
        "print(TestY[:20])\n",
        "\n",
        "score_test = model.predict_proba(TestX)\n",
        "score_test[:10,:]"
      ],
      "execution_count": null,
      "outputs": []
    },
    {
      "cell_type": "markdown",
      "metadata": {
        "id": "Tt4xP2EJpNJb"
      },
      "source": [
        "**Performance Evaluation**"
      ]
    },
    {
      "cell_type": "code",
      "metadata": {
        "id": "3iXZYHGjpNzx"
      },
      "source": [
        "from sklearn import metrics"
      ],
      "execution_count": null,
      "outputs": []
    },
    {
      "cell_type": "markdown",
      "metadata": {
        "id": "6BJtgZKmuXCs"
      },
      "source": [
        "Accuracy"
      ]
    },
    {
      "cell_type": "code",
      "metadata": {
        "id": "Ir5Uua7zpPSM"
      },
      "source": [
        "tr_acc = metrics.accuracy_score(TrainY, pred_train)\n",
        "print('Training Accuracy : ', tr_acc)\n",
        "\n",
        "ts_acc = metrics.accuracy_score(TestY, pred_test)\n",
        "print('Test Accuracy : ', ts_acc)"
      ],
      "execution_count": null,
      "outputs": []
    },
    {
      "cell_type": "markdown",
      "metadata": {
        "id": "9veYhl0yuYA3"
      },
      "source": [
        "ROC curve & AUC"
      ]
    },
    {
      "cell_type": "code",
      "metadata": {
        "id": "giWtPJbypUN7"
      },
      "source": [
        "tr_fpr, tr_tpr, tr_th = metrics.roc_curve(TrainY, score_train[:,1], pos_label=1)\n",
        "ts_fpr, ts_tpr, ts_th = metrics.roc_curve(TestY, score_test[:,1], pos_label=1)"
      ],
      "execution_count": null,
      "outputs": []
    },
    {
      "cell_type": "code",
      "metadata": {
        "id": "iC8IpffXpzOF"
      },
      "source": [
        "import matplotlib.pyplot as plt\n",
        "\n",
        "plt.plot(tr_fpr, tr_tpr, color='b', label='Train')\n",
        "plt.plot(ts_fpr, ts_tpr, color='r', label='Test')\n",
        "plt.xlim([0.0, 1.0])\n",
        "plt.ylim([0.0, 1.0])\n",
        "plt.legend(loc='best')\n",
        "plt.show()"
      ],
      "execution_count": null,
      "outputs": []
    },
    {
      "cell_type": "code",
      "metadata": {
        "id": "hGrsFkJ_ucRV"
      },
      "source": [
        "tr_auc = metrics.roc_auc_score(TrainY, score_train[:,1])\n",
        "print('Training AUC : ', tr_auc)\n",
        "\n",
        "ts_auc = metrics.roc_auc_score(TestY, score_test[:,1])\n",
        "print('Test AUC : ', ts_auc)"
      ],
      "execution_count": null,
      "outputs": []
    },
    {
      "cell_type": "markdown",
      "metadata": {
        "id": "phUAHm0bjrhI"
      },
      "source": [
        "# **Iris Plants Dataset**\n",
        "*   150 instances (50 per each class)\n",
        "*   4 numerical features (sepal length, sepal width, petal length, petal width)\n",
        "*   3 class (setosa, versicolor, virginica)\n",
        "\n"
      ]
    },
    {
      "cell_type": "code",
      "metadata": {
        "id": "gNXjSyqXe2UQ"
      },
      "source": [
        "import numpy as np\n",
        "from sklearn import datasets\n",
        "iris = datasets.load_iris()"
      ],
      "execution_count": null,
      "outputs": []
    },
    {
      "cell_type": "code",
      "metadata": {
        "id": "stgK2mu2fpex"
      },
      "source": [
        "iris.keys()"
      ],
      "execution_count": null,
      "outputs": []
    },
    {
      "cell_type": "code",
      "metadata": {
        "id": "5_-qpfn6jqsw"
      },
      "source": [
        "iris.target_names"
      ],
      "execution_count": null,
      "outputs": []
    },
    {
      "cell_type": "markdown",
      "metadata": {
        "id": "G5-dV3Hllbcq"
      },
      "source": [
        "**Prepare Data**"
      ]
    },
    {
      "cell_type": "code",
      "metadata": {
        "id": "lXRQ_-RNkplL"
      },
      "source": [
        "from sklearn.model_selection import train_test_split"
      ],
      "execution_count": null,
      "outputs": []
    },
    {
      "cell_type": "code",
      "metadata": {
        "id": "3cXSuCGMfWE2"
      },
      "source": [
        "TrainX, TestX, TrainY, TestY = train_test_split(iris.data, iris.target, test_size=0.3, random_state=0)"
      ],
      "execution_count": null,
      "outputs": []
    },
    {
      "cell_type": "code",
      "metadata": {
        "id": "lOYvZrZKlBKS"
      },
      "source": [
        "print(TrainX.shape)\n",
        "print(TrainY.shape)\n",
        "print(TestX.shape)\n",
        "print(TestY.shape)"
      ],
      "execution_count": null,
      "outputs": []
    },
    {
      "cell_type": "markdown",
      "metadata": {
        "id": "3d2Ds2bjlgIk"
      },
      "source": [
        "**Train a Naive Bayes Model**"
      ]
    },
    {
      "cell_type": "code",
      "metadata": {
        "id": "ZYT3k_DWllC6"
      },
      "source": [
        "from sklearn.naive_bayes import GaussianNB"
      ],
      "execution_count": null,
      "outputs": []
    },
    {
      "cell_type": "code",
      "metadata": {
        "id": "AischjVwlq6U"
      },
      "source": [
        "model = GaussianNB()\n",
        "model.fit(TrainX, TrainY)"
      ],
      "execution_count": null,
      "outputs": []
    },
    {
      "cell_type": "code",
      "metadata": {
        "id": "9cTBUjMG1azI"
      },
      "source": [
        "model.theta_"
      ],
      "execution_count": null,
      "outputs": []
    },
    {
      "cell_type": "code",
      "metadata": {
        "id": "9dz_AUdxlxcj"
      },
      "source": [
        "pred_train = model.predict(TrainX)\n",
        "print(pred_train)\n",
        "print(TrainY)"
      ],
      "execution_count": null,
      "outputs": []
    },
    {
      "cell_type": "code",
      "metadata": {
        "id": "CxEGFamQl729"
      },
      "source": [
        "pred_test = model.predict(TestX)\n",
        "print(pred_test)\n",
        "print(TestY)"
      ],
      "execution_count": null,
      "outputs": []
    },
    {
      "cell_type": "markdown",
      "metadata": {
        "id": "a2aloH_MmHUz"
      },
      "source": [
        "**Performance Evaluation**"
      ]
    },
    {
      "cell_type": "code",
      "metadata": {
        "id": "r5YmijvnmJVD"
      },
      "source": [
        "from sklearn import metrics"
      ],
      "execution_count": null,
      "outputs": []
    },
    {
      "cell_type": "markdown",
      "metadata": {
        "id": "09auvNyVuQi8"
      },
      "source": [
        "Accuracy"
      ]
    },
    {
      "cell_type": "code",
      "metadata": {
        "id": "qNESHmLDmLa_"
      },
      "source": [
        "tr_acc = metrics.accuracy_score(TrainY, pred_train)\n",
        "print('Training Accuracy : ', tr_acc)\n",
        "\n",
        "ts_acc = metrics.accuracy_score(TestY, pred_test)\n",
        "print('Test Accuracy : ', ts_acc)"
      ],
      "execution_count": null,
      "outputs": []
    },
    {
      "cell_type": "markdown",
      "metadata": {
        "id": "ROKpsWZeuSKq"
      },
      "source": [
        "Confusion Matrix"
      ]
    },
    {
      "cell_type": "code",
      "metadata": {
        "id": "Jhzs-iV9svz8"
      },
      "source": [
        "tr_cmat = metrics.confusion_matrix(TrainY, pred_train)\n",
        "print(tr_cmat)\n",
        "\n",
        "tr_cmat = metrics.confusion_matrix(TestY, pred_test)\n",
        "print(tr_cmat)"
      ],
      "execution_count": null,
      "outputs": []
    }
  ]
}