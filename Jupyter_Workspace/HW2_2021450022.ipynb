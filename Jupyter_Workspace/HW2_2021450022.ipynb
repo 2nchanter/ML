{
 "cells": [
  {
   "cell_type": "markdown",
   "metadata": {},
   "source": [
    "Problem 1. (2points)\n",
    "Open a new notebook in Google Colab and name the notebook as ‘HW2_your-student-id.ipynb’. (For\n",
    "instance, ‘HW2_00112233.ipynb’ if your student id is 00112233)"
   ]
  },
  {
   "cell_type": "markdown",
   "metadata": {},
   "source": [
    "Problem 2. (6points)\n",
    "Import the following libraries.\n",
    "1. numpy\n",
    "2. datasets, train_test_split, GaussianNB, metrics from sklearn\n",
    "3. pyplot from matplotlib"
   ]
  },
  {
   "cell_type": "code",
   "execution_count": 1,
   "metadata": {},
   "outputs": [],
   "source": [
    "import numpy as np\n",
    "from sklearn import datasets\n",
    "from sklearn.model_selection import train_test_split\n",
    "from sklearn.naive_bayes import GaussianNB\n",
    "from sklearn import metrics\n",
    "import matplotlib.pyplot as plt"
   ]
  },
  {
   "cell_type": "markdown",
   "metadata": {},
   "source": [
    "Problem 3. (4points)\n",
    "Load the dataset “digits” from “sklearn.datasets”. (Use “load_digits()”)"
   ]
  },
  {
   "cell_type": "code",
   "execution_count": 2,
   "metadata": {},
   "outputs": [],
   "source": [
    "digits = datasets.load_digits()"
   ]
  },
  {
   "cell_type": "markdown",
   "metadata": {},
   "source": [
    "Problem 4. (4points)\n",
    "Split the “digits” dataset (Use “digits.data” and “digits.target”) into training and test datasets using\n",
    "“train_test_split”.\n",
    "Must set the fraction of the test dataset to 10%."
   ]
  },
  {
   "cell_type": "code",
   "execution_count": 14,
   "metadata": {},
   "outputs": [
    {
     "name": "stdout",
     "output_type": "stream",
     "text": [
      "(1617, 64)\n",
      "(180, 64)\n"
     ]
    }
   ],
   "source": [
    "TrainX, TestX, TrainY, TestY = train_test_split(digits.data, digits.target, test_size=0.1, random_state=0)\n",
    "print(TrainX.shape)\n",
    "print(TestX.shape)"
   ]
  },
  {
   "cell_type": "markdown",
   "metadata": {},
   "source": [
    "Problem 5. (4points)\n",
    "Train a Naïve Bayes model on the training dataset."
   ]
  },
  {
   "cell_type": "code",
   "execution_count": 6,
   "metadata": {},
   "outputs": [
    {
     "data": {
      "text/plain": [
       "GaussianNB()"
      ]
     },
     "execution_count": 6,
     "metadata": {},
     "output_type": "execute_result"
    }
   ],
   "source": [
    "model = GaussianNB()\n",
    "model.fit(TrainX,TrainY)"
   ]
  },
  {
   "cell_type": "markdown",
   "metadata": {},
   "source": [
    "Problem 6. (4points)\n",
    "Use the trained model to conduct prediction on the training dataset and test dataset"
   ]
  },
  {
   "cell_type": "code",
   "execution_count": 13,
   "metadata": {},
   "outputs": [],
   "source": [
    "pred_train = model.predict(TrainX)\n",
    "pred_test = model.predict(TestX)"
   ]
  },
  {
   "cell_type": "markdown",
   "metadata": {},
   "source": [
    "Problem 7. (4points)\n",
    "Compute “accuracy” on the training dataset and test dataset. (Use “metrics”)"
   ]
  },
  {
   "cell_type": "code",
   "execution_count": 11,
   "metadata": {},
   "outputs": [
    {
     "name": "stdout",
     "output_type": "stream",
     "text": [
      "tr Acc :  0.8515769944341373\n",
      "ts Acc :  0.85\n"
     ]
    }
   ],
   "source": [
    "tr_acc = metrics.accuracy_score(TrainY, pred_train)\n",
    "ts_acc = metrics.accuracy_score(TestY, pred_test)\n",
    "print('tr Acc : ', tr_acc)\n",
    "print('ts Acc : ', ts_acc)"
   ]
  },
  {
   "cell_type": "markdown",
   "metadata": {},
   "source": [
    "Problem 8. (15points)\n",
    "* Repeat Problem 4 ~ 7 as setting the fraction of the test dataset to 30%.\n",
    "\n",
    "Problem 9. (15points)\n",
    "* Repeat Problem 4 ~ 7 as setting the fraction of the test dataset to 50%.\n",
    "\n",
    "Problem 10. (15points)\n",
    "* Repeat Problem 4 ~ 7 as setting the fraction of the test dataset to 70%.\n",
    "\n",
    "Problem 11. (15points)\n",
    "* Repeat Problem 4 ~ 7 as setting the fraction of the test dataset to 90%."
   ]
  },
  {
   "cell_type": "code",
   "execution_count": 49,
   "metadata": {},
   "outputs": [
    {
     "name": "stdout",
     "output_type": "stream",
     "text": [
      "(1257, 64)\n",
      "(540, 64)\n",
      "tr Acc :  0.8591885441527446\n",
      "ts Acc :  0.8240740740740741\n",
      "(898, 64)\n",
      "(899, 64)\n",
      "tr Acc :  0.8752783964365256\n",
      "ts Acc :  0.8342602892102335\n",
      "(539, 64)\n",
      "(1258, 64)\n",
      "tr Acc :  0.8682745825602969\n",
      "ts Acc :  0.8251192368839427\n",
      "(179, 64)\n",
      "(1618, 64)\n",
      "tr Acc :  0.9162011173184358\n",
      "ts Acc :  0.8108776266996292\n"
     ]
    }
   ],
   "source": [
    "def NB_test_size_diff(x):\n",
    "    TrainX, TestX, TrainY, TestY = train_test_split(digits.data, digits.target, test_size=x, random_state=0)\n",
    "    model = GaussianNB()\n",
    "    model.fit(TrainX,TrainY)\n",
    "    print(TrainX.shape)\n",
    "    print(TestX.shape)\n",
    "    pred_train = model.predict(TrainX)\n",
    "    pred_test = model.predict(TestX)\n",
    "    tr_acc = metrics.accuracy_score(TrainY, pred_train)\n",
    "    ts_acc = metrics.accuracy_score(TestY, pred_test)\n",
    "    print('tr Acc : ', tr_acc)\n",
    "    print('ts Acc : ', ts_acc)\n",
    "\n",
    "NB_test_size_diff(0.3)\n",
    "NB_test_size_diff(0.5)\n",
    "NB_test_size_diff(0.7)\n",
    "NB_test_size_diff(0.9)\n"
   ]
  },
  {
   "cell_type": "markdown",
   "metadata": {},
   "source": [
    "Problem 12. (10points)\n",
    "Plot (“plot” in pyplot) the training and test accuracy of the above experiments (i.e., results for the\n",
    "experiments with the ratio of the test dataset 10%, 30%, 50%, 70%, and 90%) in an ascending order of the\n",
    "fraction of the test dataset."
   ]
  },
  {
   "cell_type": "code",
   "execution_count": 53,
   "metadata": {},
   "outputs": [
    {
     "data": {
      "image/png": "[encoded data removed]",
      "text/plain": [
       "<Figure size 432x288 with 1 Axes>"
      ]
     },
     "metadata": {
      "needs_background": "light"
     },
     "output_type": "display_data"
    },
    {
     "data": {
      "image/png": "[encoded data removed]",
      "text/plain": [
       "<Figure size 432x288 with 1 Axes>"
      ]
     },
     "metadata": {
      "needs_background": "light"
     },
     "output_type": "display_data"
    },
    {
     "data": {
      "image/png": "[encoded data removed]",
      "text/plain": [
       "<Figure size 432x288 with 1 Axes>"
      ]
     },
     "metadata": {
      "needs_background": "light"
     },
     "output_type": "display_data"
    },
    {
     "data": {
      "image/png": "[encoded data removed]",
      "text/plain": [
       "<Figure size 432x288 with 1 Axes>"
      ]
     },
     "metadata": {
      "needs_background": "light"
     },
     "output_type": "display_data"
    },
    {
     "data": {
      "image/png": "[encoded data removed]",
      "text/plain": [
       "<Figure size 432x288 with 1 Axes>"
      ]
     },
     "metadata": {
      "needs_background": "light"
     },
     "output_type": "display_data"
    }
   ],
   "source": [
    "def plt_ROC(x):\n",
    "    TrainX, TestX, TrainY, TestY = train_test_split(digits.data, digits.target, test_size=x, random_state=0)\n",
    "    model = GaussianNB()\n",
    "    model.fit(TrainX,TrainY)\n",
    "    pred_train = model.predict(TrainX)\n",
    "    pred_test = model.predict(TestX)\n",
    "    tr_acc = metrics.accuracy_score(TrainY, pred_train)\n",
    "    ts_acc = metrics.accuracy_score(TestY, pred_test)\n",
    "\n",
    "    score_train = model.predict_proba(TrainX)\n",
    "    score_test = model.predict_proba(TestX)\n",
    "    tr_fpr, tr_tpr, tr_th = metrics.roc_curve(TrainY, score_train[:,1], pos_label=1)\n",
    "    ts_fpr, ts_tpr, ts_th = metrics.roc_curve(TestY, score_test[:,1], pos_label=1)\n",
    "\n",
    "    plt.plot(tr_fpr, tr_tpr, color='b', label='Train')\n",
    "    plt.plot(ts_fpr, ts_tpr, color='r', label='Test')\n",
    "    plt.xlim([0, 1])\n",
    "    plt.ylim([0, 1])\n",
    "    plt.legend(loc='best')\n",
    "    plt.show()\n",
    "\n",
    "plt_ROC(0.1)\n",
    "plt_ROC(0.3)\n",
    "plt_ROC(0.5)\n",
    "plt_ROC(0.7)\n",
    "plt_ROC(0.9)\n"
   ]
  },
  {
   "cell_type": "markdown",
   "metadata": {},
   "source": [
    "Problem 13. (2points)\n",
    "Submit your notebook file ‘HW2_your-student-id.ipynb’ to “Blackboard”."
   ]
  }
 ],
 "metadata": {
  "interpreter": {
   "hash": "53e118947077c4ac14cd9b5bd8ffefe9287941f870ede6c6d93932b2f5dedd6a"
  },
  "kernelspec": {
   "display_name": "Python 3.7.0 64-bit ('test1': conda)",
   "name": "python3"
  },
  "language_info": {
   "codemirror_mode": {
    "name": "ipython",
    "version": 3
   },
   "file_extension": ".py",
   "mimetype": "text/x-python",
   "name": "python",
   "nbconvert_exporter": "python",
   "pygments_lexer": "ipython3",
   "version": "3.7.0"
  },
  "orig_nbformat": 4
 },
 "nbformat": 4,
 "nbformat_minor": 2
}
