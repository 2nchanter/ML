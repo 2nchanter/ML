{
 "cells": [
  {
   "cell_type": "code",
   "execution_count": 3,
   "source": [
    "import numpy as np\n",
    "from sklearn import datasets\n",
    "wisconsin = datasets.load_breast_cancer()"
   ],
   "outputs": [],
   "metadata": {}
  },
  {
   "cell_type": "code",
   "execution_count": 24,
   "source": [
    "print(wisconsin.keys())\n",
    "print(wisconsin.data)\n",
    "print(wisconsin.data.shape)"
   ],
   "outputs": [
    {
     "output_type": "stream",
     "name": "stdout",
     "text": [
      "dict_keys(['data', 'target', 'frame', 'target_names', 'DESCR', 'feature_names', 'filename'])\n",
      "[[1.799e+01 1.038e+01 1.228e+02 ... 2.654e-01 4.601e-01 1.189e-01]\n",
      " [2.057e+01 1.777e+01 1.329e+02 ... 1.860e-01 2.750e-01 8.902e-02]\n",
      " [1.969e+01 2.125e+01 1.300e+02 ... 2.430e-01 3.613e-01 8.758e-02]\n",
      " ...\n",
      " [1.660e+01 2.808e+01 1.083e+02 ... 1.418e-01 2.218e-01 7.820e-02]\n",
      " [2.060e+01 2.933e+01 1.401e+02 ... 2.650e-01 4.087e-01 1.240e-01]\n",
      " [7.760e+00 2.454e+01 4.792e+01 ... 0.000e+00 2.871e-01 7.039e-02]]\n",
      "(569, 30)\n"
     ]
    }
   ],
   "metadata": {}
  },
  {
   "cell_type": "code",
   "execution_count": 21,
   "source": [
    "from sklearn.model_selection import train_test_split\n",
    "TrainX, TestX, TrainY, TestY = train_test_split(wisconsin.data, wisconsin.target, test_size=0.3, random_state=0)\n",
    "print(TrainX.shape)\n",
    "print(TrainY.shape)\n",
    "print(TestX.shape)\n",
    "print(TestY.shape)"
   ],
   "outputs": [
    {
     "output_type": "stream",
     "name": "stdout",
     "text": [
      "(398, 30)\n",
      "(398,)\n",
      "(171, 30)\n",
      "(171,)\n"
     ]
    }
   ],
   "metadata": {}
  },
  {
   "cell_type": "code",
   "execution_count": 31,
   "source": [
    "from sklearn.naive_bayes import GaussianNB\n",
    "model = GaussianNB()\n",
    "model.fit(TrainX,TrainY)\n",
    "print(model.theta_)"
   ],
   "outputs": [
    {
     "output_type": "stream",
     "name": "stdout",
     "text": [
      "[[1.75263087e+01 2.12936242e+01 1.15739530e+02 9.89914765e+02\n",
      "  1.03175839e-01 1.44903154e-01 1.60549128e-01 8.89431544e-02\n",
      "  1.92871812e-01 6.24804698e-02 6.20642282e-01 1.17787047e+00\n",
      "  4.35542282e+00 7.52542282e+01 6.69622819e-03 3.12345168e-02\n",
      "  3.97942282e-02 1.46321745e-02 2.02401275e-02 3.94693289e-03\n",
      "  2.12708054e+01 2.89844295e+01 1.42098054e+02 1.44953624e+03\n",
      "  1.45362349e-01 3.73629195e-01 4.41866309e-01 1.83275570e-01\n",
      "  3.24036913e-01 9.13052349e-02]\n",
      " [1.21863815e+01 1.79357430e+01 7.83306827e+01 4.65552610e+02\n",
      "  9.24651807e-02 7.96516867e-02 4.58566815e-02 2.58631888e-02\n",
      "  1.73413655e-01 6.27457831e-02 2.82508434e-01 1.22036827e+00\n",
      "  1.97572771e+00 2.11168554e+01 7.15546586e-03 2.14281406e-02\n",
      "  2.60984562e-02 9.91100000e-03 2.04994739e-02 3.60831044e-03\n",
      "  1.34207992e+01 2.34701205e+01 8.71740161e+01 5.61965462e+02\n",
      "  1.24849679e-01 1.81405904e-01 1.64807940e-01 7.44982369e-02\n",
      "  2.68332932e-01 7.91780723e-02]]\n"
     ]
    }
   ],
   "metadata": {}
  },
  {
   "cell_type": "code",
   "execution_count": 33,
   "source": [
    "pred_train = model.predict(TrainX)\n",
    "print(pred_train[:20])\n",
    "print(TrainY[:20])\n",
    "\n",
    "score_train = model.predict_proba(TrainX)\n",
    "score_train[:10,:]"
   ],
   "outputs": [
    {
     "output_type": "stream",
     "name": "stdout",
     "text": [
      "[1 1 1 0 1 1 1 1 1 0 1 1 1 1 1 1 1 0 1 1]\n",
      "[1 1 1 0 1 1 1 1 0 0 1 1 0 1 1 1 1 0 1 1]\n"
     ]
    },
    {
     "output_type": "execute_result",
     "data": {
      "text/plain": [
       "array([[3.01258495e-14, 1.00000000e+00],\n",
       "       [3.08800401e-15, 1.00000000e+00],\n",
       "       [8.01924517e-14, 1.00000000e+00],\n",
       "       [1.00000000e+00, 1.55557236e-17],\n",
       "       [1.76929961e-13, 1.00000000e+00],\n",
       "       [8.19450787e-17, 1.00000000e+00],\n",
       "       [1.31537275e-11, 1.00000000e+00],\n",
       "       [1.71165140e-17, 1.00000000e+00],\n",
       "       [6.92921401e-02, 9.30707860e-01],\n",
       "       [1.00000000e+00, 5.35089823e-76]])"
      ]
     },
     "metadata": {},
     "execution_count": 33
    }
   ],
   "metadata": {}
  },
  {
   "cell_type": "code",
   "execution_count": 39,
   "source": [
    "pred_test = model.predict(TestX)\n",
    "print(pred_test[:20])\n",
    "print(TestY[:20])\n",
    "\n",
    "score_test = model.predict_proba(TestX)\n",
    "score_test[:10,:]"
   ],
   "outputs": [
    {
     "output_type": "stream",
     "name": "stdout",
     "text": [
      "[0 1 1 1 1 1 1 1 1 1 0 1 1 0 0 0 1 0 0 0]\n",
      "[0 1 1 1 1 1 1 1 1 1 1 1 1 1 1 0 1 0 0 0]\n"
     ]
    },
    {
     "output_type": "execute_result",
     "data": {
      "text/plain": [
       "array([[9.99999623e-01, 3.77053186e-07],\n",
       "       [4.48249009e-13, 1.00000000e+00],\n",
       "       [3.80802767e-14, 1.00000000e+00],\n",
       "       [1.92053261e-11, 1.00000000e+00],\n",
       "       [2.78578114e-16, 1.00000000e+00],\n",
       "       [4.21504591e-14, 1.00000000e+00],\n",
       "       [9.54831838e-11, 1.00000000e+00],\n",
       "       [8.42593606e-15, 1.00000000e+00],\n",
       "       [1.80520999e-13, 1.00000000e+00],\n",
       "       [5.70735050e-17, 1.00000000e+00]])"
      ]
     },
     "metadata": {},
     "execution_count": 39
    }
   ],
   "metadata": {}
  },
  {
   "cell_type": "code",
   "execution_count": 46,
   "source": [
    "from sklearn import metrics\n",
    "tr_acc = metrics.accuracy_score(TrainY, pred_train)\n",
    "ts_acc = metrics.accuracy_score(TestY, pred_test)\n",
    "print('tr Acc : ', tr_acc)\n",
    "print('ts Acc : ', ts_acc)"
   ],
   "outputs": [
    {
     "output_type": "stream",
     "name": "stdout",
     "text": [
      "tr Acc :  0.9422110552763819\n",
      "ts Acc :  0.9239766081871345\n"
     ]
    }
   ],
   "metadata": {}
  },
  {
   "cell_type": "code",
   "execution_count": 48,
   "source": [
    "tr_fpr, tr_tpr, tr_th = metrics.roc_curve(TrainY, score_train[:, 1], pos_label=1)\n",
    "ts_fpr, ts_tpr, ts_th = metrics.roc_curve(TestY, score_test[:, 1], pos_label=1)"
   ],
   "outputs": [],
   "metadata": {}
  },
  {
   "cell_type": "code",
   "execution_count": 49,
   "source": [
    "import matplotlib.pyplot as plt\n",
    "\n",
    "plt.plot(tr_fpr, tr_tpr, color='b', label='Train')\n",
    "plt.plot(ts_fpr, ts_tpr, color='r', label='Test')\n",
    "plt.xlim([0, 1])\n",
    "plt.ylim([0, 1])\n",
    "plt.legend(loc='best')\n",
    "plt.show()"
   ],
   "outputs": [
    {
     "output_type": "display_data",
     "data": {
      "image/png": "[encoded data removed]",
      "text/plain": [
       "<Figure size 432x288 with 1 Axes>"
      ]
     },
     "metadata": {
      "needs_background": "light"
     }
    }
   ],
   "metadata": {}
  },
  {
   "cell_type": "code",
   "execution_count": 50,
   "source": [
    "tr_auc = metrics.roc_auc_score(TrainY, score_train[:,1])\n",
    "print('tr AUC : ', tr_auc)\n",
    "\n",
    "ts_auc = metrics.roc_auc_score(TestY, score_test[:,1])\n",
    "print('ts AUC : ', ts_auc)"
   ],
   "outputs": [
    {
     "output_type": "stream",
     "name": "stdout",
     "text": [
      "tr AUC :  0.9893803401525566\n",
      "ts AUC :  0.9854497354497355\n"
     ]
    }
   ],
   "metadata": {}
  }
 ],
 "metadata": {
  "orig_nbformat": 4,
  "language_info": {
   "name": "python",
   "version": "3.7.0",
   "mimetype": "text/x-python",
   "codemirror_mode": {
    "name": "ipython",
    "version": 3
   },
   "pygments_lexer": "ipython3",
   "nbconvert_exporter": "python",
   "file_extension": ".py"
  },
  "kernelspec": {
   "name": "python3",
   "display_name": "Python 3.7.0 64-bit ('test1': conda)"
  },
  "interpreter": {
   "hash": "3413d5e40aaf0330a7d35c67c9bffa15b2a6d83d537f6d946f2f0d14401ffbba"
  }
 },
 "nbformat": 4,
 "nbformat_minor": 2
}