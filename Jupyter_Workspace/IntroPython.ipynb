{
 "cells": [
  {
   "cell_type": "markdown",
   "source": [
    "# Basics"
   ],
   "metadata": {
    "id": "4rDn0LWYOcP_"
   }
  },
  {
   "cell_type": "markdown",
   "source": [
    "Numbers"
   ],
   "metadata": {
    "id": "3w4-JP4fO-dC"
   }
  },
  {
   "cell_type": "code",
   "execution_count": null,
   "source": [
    "1"
   ],
   "outputs": [],
   "metadata": {
    "id": "HGSbYzEjOhS-"
   }
  },
  {
   "cell_type": "code",
   "execution_count": null,
   "source": [
    "-1.2"
   ],
   "outputs": [],
   "metadata": {
    "id": "t_SWkgXdO_-B"
   }
  },
  {
   "cell_type": "markdown",
   "source": [
    "Strings"
   ],
   "metadata": {
    "id": "k93K3M4_O8_2"
   }
  },
  {
   "cell_type": "code",
   "execution_count": null,
   "source": [
    "'python'"
   ],
   "outputs": [],
   "metadata": {
    "id": "Vs4g71PPOr9y"
   }
  },
  {
   "cell_type": "code",
   "execution_count": null,
   "source": [
    "\"python\""
   ],
   "outputs": [],
   "metadata": {
    "id": "qhEsi7XPO7VY"
   }
  },
  {
   "cell_type": "markdown",
   "source": [
    "Arithmetic Operations"
   ],
   "metadata": {
    "id": "x-CBpb_pPQfa"
   }
  },
  {
   "cell_type": "code",
   "execution_count": 4,
   "source": [
    "a = 10\n",
    "b = 5\n",
    "\n",
    "print(a+b)\n",
    "print(a*b)\n",
    "print(a-b)"
   ],
   "outputs": [
    {
     "output_type": "stream",
     "name": "stdout",
     "text": [
      "15\n",
      "50\n",
      "5\n"
     ]
    }
   ],
   "metadata": {
    "id": "fsKqwwi0PTK5"
   }
  },
  {
   "cell_type": "markdown",
   "source": [
    "# List"
   ],
   "metadata": {
    "id": "mL_ismvtsH2M"
   }
  },
  {
   "cell_type": "markdown",
   "source": [
    "One of the most fundamental data structure in Python. A list is simply an ordered collections. (similar to array, but with some added functionality.) "
   ],
   "metadata": {
    "id": "6ZKSkqwIsH2O"
   }
  },
  {
   "cell_type": "code",
   "execution_count": null,
   "source": [
    "str_list = ['red', 'blue', 'green']\n",
    "integer_list = [1,2,3]\n",
    "heterogeneous_list = ['string', 0.1, True]\n",
    "list_of_lists = [str_list, integer_list, heterogeneous_list, []]\n",
    "\n",
    "print(list_of_lists)"
   ],
   "outputs": [],
   "metadata": {
    "id": "cqh7oHnfsH2Q"
   }
  },
  {
   "cell_type": "code",
   "execution_count": null,
   "source": [
    "list_length = len(integer_list)\n",
    "list_sum = sum(integer_list)\n",
    "\n",
    "print(list_length, list_sum)"
   ],
   "outputs": [],
   "metadata": {
    "id": "MIKb--9BsH2X"
   }
  },
  {
   "cell_type": "code",
   "execution_count": null,
   "source": [
    "x = range(0,10)\n",
    "zero = x[0]\n",
    "one = x[1]\n",
    "nine = x[-1]   # last element \n",
    "eight = x[-2]  # next to last element \n",
    "\n",
    "print(x)\n",
    "print(zero, one, nine, eight)"
   ],
   "outputs": [],
   "metadata": {
    "id": "po8gdSrzsH2e"
   }
  },
  {
   "cell_type": "markdown",
   "source": [
    "Use square brackets to slice lists "
   ],
   "metadata": {
    "id": "2bkNl9PvsH2l"
   }
  },
  {
   "cell_type": "code",
   "execution_count": null,
   "source": [
    "first_three = x[:3]\n",
    "three_to_end = x[3:]\n",
    "one_to_four = x[1:5]\n",
    "last_three = x[-3:]\n",
    "copy_of_x = x[:]\n",
    "\n",
    "print(first_three, three_to_end, one_to_four, last_three)"
   ],
   "outputs": [],
   "metadata": {
    "id": "lgacLp_isH2m"
   }
  },
  {
   "cell_type": "markdown",
   "source": [
    "It is easy to concatenate lists together:"
   ],
   "metadata": {
    "id": "xGnC0VQhsH2s"
   }
  },
  {
   "cell_type": "code",
   "execution_count": null,
   "source": [
    "x = [1,2,3]\n",
    "x.extend([4,5,6])\n",
    "\n",
    "print(x)"
   ],
   "outputs": [],
   "metadata": {
    "id": "WsOKctgdsH2u"
   }
  },
  {
   "cell_type": "code",
   "execution_count": null,
   "source": [
    "x = [1,2,3]\n",
    "y = x + [4,5,6]\n",
    "\n",
    "print(y)\n"
   ],
   "outputs": [],
   "metadata": {
    "id": "RcfdA1TUsH20"
   }
  },
  {
   "cell_type": "markdown",
   "source": [
    "append one item to list"
   ],
   "metadata": {
    "id": "mosyJsdVsH26"
   }
  },
  {
   "cell_type": "code",
   "execution_count": null,
   "source": [
    "x = [1,2,3]\n",
    "x.append(0)\n",
    "print(x)"
   ],
   "outputs": [],
   "metadata": {
    "id": "jkfA2ciLsH28"
   }
  },
  {
   "cell_type": "code",
   "execution_count": null,
   "source": [
    "list_of_lists = [[1,2,3],[4,5,6],[7,8,9]]\n",
    "\n",
    "easier_to_read_list_of_lists = [[1,2,3],\n",
    "                                [4,5,6],\n",
    "                                [7,8,9]]"
   ],
   "outputs": [],
   "metadata": {
    "id": "NI1KwszVsH1F"
   }
  },
  {
   "cell_type": "markdown",
   "source": [
    "# Tuples"
   ],
   "metadata": {
    "id": "kCUz2SlZsH3C"
   }
  },
  {
   "cell_type": "markdown",
   "source": [
    "Tuples are lists' immutable cousins. You specify a tuple by using parentheses. (or nothing)"
   ],
   "metadata": {
    "id": "aBblXHaKsH3E"
   }
  },
  {
   "cell_type": "code",
   "execution_count": null,
   "source": [
    "my_list = [1,2]\n",
    "my_tuple = (1,2)    # use this instead of other_tuple\n",
    "other_tuple = 3, 4   \n",
    "\n",
    "print(my_list)\n",
    "print(my_tuple)\n",
    "print(other_tuple)"
   ],
   "outputs": [],
   "metadata": {
    "id": "jpbnhHYX0-pX"
   }
  },
  {
   "cell_type": "markdown",
   "source": [
    "Try to change some values in list and tuple"
   ],
   "metadata": {
    "id": "UkvzBc4KsH3Q"
   }
  },
  {
   "cell_type": "code",
   "execution_count": null,
   "source": [
    "my_list[0] =2 \n",
    "print(my_list)"
   ],
   "outputs": [],
   "metadata": {
    "id": "ur-6k4XZ1B-k"
   }
  },
  {
   "cell_type": "code",
   "execution_count": null,
   "source": [
    "my_list[1] = 3 "
   ],
   "outputs": [],
   "metadata": {
    "id": "LgG-NFnn1DiT"
   }
  },
  {
   "cell_type": "code",
   "execution_count": null,
   "source": [
    "my_tupe[1] = 3"
   ],
   "outputs": [],
   "metadata": {
    "id": "44ON8vWmD2DI"
   }
  },
  {
   "cell_type": "markdown",
   "source": [
    "# Dictionaries"
   ],
   "metadata": {
    "id": "WJRdFyVwsH32"
   }
  },
  {
   "cell_type": "markdown",
   "source": [
    "Consists of keys and values. Allows you to quickly retrieve the value corresponding to a given key: "
   ],
   "metadata": {
    "id": "6tvik6PIsH34"
   }
  },
  {
   "cell_type": "code",
   "execution_count": null,
   "source": [
    "# list => []\n",
    "# tuple => ()\n",
    "# dictionary => {}"
   ],
   "outputs": [],
   "metadata": {
    "id": "6D8v9t1YsH35"
   }
  },
  {
   "cell_type": "code",
   "execution_count": null,
   "source": [
    "empty_dict = {}  # more pythonic \n",
    "empty_dict2 = dict()\n",
    "grades = {\"Joel\": 80, \"Tim\": 95}\n",
    "\n",
    "joels_grade = grades[\"Joel\"]\n",
    "print(joels_grade)"
   ],
   "outputs": [],
   "metadata": {
    "id": "3W1PlAUo1HYW"
   }
  },
  {
   "cell_type": "code",
   "execution_count": null,
   "source": [
    "\"Joel\" in grades"
   ],
   "outputs": [],
   "metadata": {
    "id": "gaX5odyT1I5M"
   }
  },
  {
   "cell_type": "code",
   "execution_count": null,
   "source": [
    "grades[\"Alice\"] = 40\n",
    "print(grades)"
   ],
   "outputs": [],
   "metadata": {
    "id": "VTNdetz51KOC"
   }
  },
  {
   "cell_type": "code",
   "execution_count": null,
   "source": [
    "grades.get(\"Joel\")\n",
    "# grades.get(\"John\",-100)\n",
    "\n",
    "# kates_grade = grades.get(\"Kate\",0)\n",
    "kates_grade"
   ],
   "outputs": [],
   "metadata": {
    "id": "CTlzQ2sk1Lzf"
   }
  },
  {
   "cell_type": "code",
   "execution_count": null,
   "source": [
    "grades[\"Tim\"] = 99   # replace\n",
    "print(grades)\n",
    "grades[\"Kate\"] = 100\n",
    "print(grades)\n",
    "num_students = len(grades)\n",
    "print(num_students)"
   ],
   "outputs": [],
   "metadata": {
    "id": "QnB031Vj1NST"
   }
  },
  {
   "cell_type": "markdown",
   "source": [
    "# If-else"
   ],
   "metadata": {
    "id": "oygjCxy2XBrs"
   }
  },
  {
   "cell_type": "code",
   "execution_count": null,
   "source": [
    "a = 100\n",
    "b = 100\n",
    "a == b\n",
    "# a is b\n",
    "# a is not b"
   ],
   "outputs": [],
   "metadata": {
    "id": "LWpYIHnwXTGr"
   }
  },
  {
   "cell_type": "code",
   "execution_count": null,
   "source": [
    "a == 100 and b == 50\n",
    "# not (a > 200)"
   ],
   "outputs": [],
   "metadata": {
    "id": "Zj12CGLIYE-_"
   }
  },
  {
   "cell_type": "code",
   "execution_count": null,
   "source": [
    "score = int(input(\"Enter score: \"))\n",
    "if score > 70:\n",
    "  grade = \"Pass\"\n",
    "else:\n",
    "  grade = \"Fail\"\n",
    "print(grade)"
   ],
   "outputs": [],
   "metadata": {
    "id": "qXCIEKgSYj_Z"
   }
  },
  {
   "cell_type": "markdown",
   "source": [
    "# For Loop"
   ],
   "metadata": {
    "id": "5L_yBtyosH0t"
   }
  },
  {
   "cell_type": "code",
   "execution_count": null,
   "source": [
    "for i in [1,2,3]:\n",
    "    print (i)\n",
    "    for j in [1,2,3]:\n",
    "        print (j, \":\", i+j)\n",
    "    print (i) \n",
    "print (\"done looping\")"
   ],
   "outputs": [],
   "metadata": {
    "id": "an93LDG0sH0z"
   }
  },
  {
   "cell_type": "code",
   "execution_count": null,
   "source": [
    "for i in range(3,6):\n",
    "  print(i)"
   ],
   "outputs": [],
   "metadata": {
    "id": "r_MA2G5e1QAL"
   }
  },
  {
   "cell_type": "markdown",
   "source": [
    "# Functions"
   ],
   "metadata": {
    "id": "KOdatZGTsH1U"
   }
  },
  {
   "cell_type": "code",
   "execution_count": null,
   "source": [
    "def make_double(x):\n",
    "    return x * 2"
   ],
   "outputs": [],
   "metadata": {
    "id": "PL_I6nf-1RxF"
   }
  },
  {
   "cell_type": "markdown",
   "source": [
    "In Python, functions are like any other objects like a list."
   ],
   "metadata": {
    "id": "PtFLH4lrsH1e"
   }
  },
  {
   "cell_type": "code",
   "execution_count": null,
   "source": [
    "def apply_to_one(f):\n",
    "    return f(1)\n"
   ],
   "outputs": [],
   "metadata": {
    "id": "vAIk1Yk21TAr"
   }
  },
  {
   "cell_type": "code",
   "execution_count": null,
   "source": [
    "my_double = make_double # refers to the previously defined function \n",
    "x = apply_to_one(my_double)\n",
    "\n",
    "print(x)"
   ],
   "outputs": [],
   "metadata": {
    "id": "UQgHt_sR1Uk-"
   }
  },
  {
   "cell_type": "markdown",
   "source": [
    "It is also easy to create short anonymous functions, or lambdas: "
   ],
   "metadata": {
    "id": "DLykhbVcsH1t"
   }
  },
  {
   "cell_type": "code",
   "execution_count": null,
   "source": [
    "y = apply_to_one(lambda x: x+4)\n",
    "print(y)"
   ],
   "outputs": [],
   "metadata": {
    "id": "LmF0hyxl1WEM"
   }
  },
  {
   "cell_type": "code",
   "execution_count": null,
   "source": [
    "def times_two(x):\n",
    "    return x*2\n",
    "\n",
    "times_two(3)"
   ],
   "outputs": [],
   "metadata": {
    "id": "O8-lVUuzjZkA"
   }
  },
  {
   "cell_type": "code",
   "execution_count": null,
   "source": [
    "lambda x: x*2"
   ],
   "outputs": [],
   "metadata": {
    "id": "PadYQ-0pjvE-"
   }
  },
  {
   "cell_type": "code",
   "execution_count": null,
   "source": [
    "times_two = lambda x: x*2\n",
    "\n",
    "times_two(4)"
   ],
   "outputs": [],
   "metadata": {
    "id": "-VSGzhC0j0VL"
   }
  },
  {
   "cell_type": "markdown",
   "source": [
    "Function parameters can also be given default arguments, which fonly need to be specified when you want a value other than the default: "
   ],
   "metadata": {
    "id": "45q-EPYDsH12"
   }
  },
  {
   "cell_type": "code",
   "execution_count": null,
   "source": [
    "def my_print(message=\"my default message\"):\n",
    "    print(message)\n",
    "    \n",
    "my_print(\"hello\")\n",
    "my_print()"
   ],
   "outputs": [],
   "metadata": {
    "id": "cx0XojB71YA7"
   }
  },
  {
   "cell_type": "code",
   "execution_count": null,
   "source": [
    "def subtract(a=0, b=0):\n",
    "    return a-b\n",
    "\n",
    "subtract(10,5)\n",
    "# subtract(0,5)\n",
    "# subtract(b=5)"
   ],
   "outputs": [],
   "metadata": {
    "id": "2sjJEbDF1Zgt"
   }
  },
  {
   "cell_type": "markdown",
   "source": [
    "Tuples are a convenient way to return multiple values from functions: "
   ],
   "metadata": {
    "id": "vs7ndAvR2S9b"
   }
  },
  {
   "cell_type": "code",
   "execution_count": null,
   "source": [
    "def sum_and_product(x,y):\n",
    "    return (x+y),(x*y)\n",
    "\n",
    "sp = sum_and_product(2,3)\n",
    "print(sp)\n",
    "\n",
    "a ,b = sum_and_product(2,3)\n",
    "print(a)\n",
    "print(b)\n",
    "\n",
    "_, b = sum_and_product(2,3)\n",
    "print(b)"
   ],
   "outputs": [],
   "metadata": {
    "id": "IKit1gTDsH3p"
   }
  },
  {
   "cell_type": "code",
   "execution_count": null,
   "source": [
    "def sum_subtract_product(x,y):\n",
    "    return (x+y),(x-y),(x*y)\n",
    "\n",
    "result = sum_subtract_product(4,5)\n",
    "print(result)"
   ],
   "outputs": [],
   "metadata": {
    "id": "tCd_55OFsH3w"
   }
  },
  {
   "cell_type": "markdown",
   "source": [
    "Let's consdier a case where you want to multiply each element in a list by 2"
   ],
   "metadata": {
    "id": "VFeFBXFbDLJz"
   }
  },
  {
   "cell_type": "code",
   "execution_count": null,
   "source": [
    "x = [1,2,3,4]\n",
    "y = 2*x\n",
    "print(y)"
   ],
   "outputs": [],
   "metadata": {
    "id": "zwbtsmsZDCpT"
   }
  },
  {
   "cell_type": "code",
   "execution_count": null,
   "source": [
    "def mul2(x):\n",
    "    return 2*x\n",
    "\n",
    "print(mul2(3))"
   ],
   "outputs": [],
   "metadata": {
    "id": "7YUbMdn-DQik"
   }
  },
  {
   "cell_type": "code",
   "execution_count": null,
   "source": [
    "x = [1,2,3,4]\n",
    "y = []\n",
    "for i in x:\n",
    "    y.append(mul2(i))\n",
    "print(y)"
   ],
   "outputs": [],
   "metadata": {
    "id": "veGqEJCcDVwD"
   }
  },
  {
   "cell_type": "markdown",
   "source": [
    "Can we come up with a better Pythonic code?"
   ],
   "metadata": {
    "id": "4dDrq_wDDgSk"
   }
  },
  {
   "cell_type": "code",
   "execution_count": null,
   "source": [
    "y = [mul2(i) for i in x]\n",
    "print(y)"
   ],
   "outputs": [],
   "metadata": {
    "id": "HU5QhsN-K8cp"
   }
  }
 ],
 "metadata": {
  "anaconda-cloud": {},
  "celltoolbar": "Slideshow",
  "colab": {
   "collapsed_sections": [],
   "name": "IntroPython.ipynb",
   "provenance": [
    {
     "file_id": "1e4STO2DOTOBPa9RZxknQCuQVo5o2MygB",
     "timestamp": 1584773435065
    }
   ]
  },
  "kernelspec": {
   "name": "python3",
   "display_name": "Python 3.7.0 64-bit ('test1': conda)"
  },
  "language_info": {
   "codemirror_mode": {
    "name": "ipython",
    "version": 3
   },
   "file_extension": ".py",
   "mimetype": "text/x-python",
   "name": "python",
   "nbconvert_exporter": "python",
   "pygments_lexer": "ipython3",
   "version": "3.7.0"
  },
  "interpreter": {
   "hash": "3413d5e40aaf0330a7d35c67c9bffa15b2a6d83d537f6d946f2f0d14401ffbba"
  }
 },
 "nbformat": 4,
 "nbformat_minor": 1
}