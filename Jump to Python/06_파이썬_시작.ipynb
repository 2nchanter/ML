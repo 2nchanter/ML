{
 "cells": [
  {
   "cell_type": "markdown",
   "metadata": {},
   "source": [
    "### 06장 파이썬 프로그래밍, 어떻게 시작해야 할까?"
   ]
  },
  {
   "cell_type": "code",
   "execution_count": 3,
   "metadata": {},
   "outputs": [
    {
     "name": "stdout",
     "output_type": "stream",
     "text": [
      "[2, 4, 6, 8, 10, 12, 14, 16, 18]\n"
     ]
    }
   ],
   "source": [
    "# 06-1 내가 프로그램을 만들 수 있을까?\n",
    "\n",
    "def GuGu(n):\n",
    "    result = []\n",
    "    i = 1\n",
    "    while i < 10:\n",
    "        result.append(n * i)\n",
    "        i = i + 1\n",
    "    return result\n",
    "\n",
    "print(GuGu(2))"
   ]
  },
  {
   "cell_type": "markdown",
   "metadata": {},
   "source": [
    "### 06-2 3과 5의 배수 합하기\n",
    "- 입력 받는 값은? 1부터 999까지(1000 미만의 자연수)\n",
    "- 출력하는 값은? 3의 배수와 5의 배수의 총합\n",
    "- 생각해 볼 것은? 3의 배수와 5의 배수는 어떻게 찾지? / 3의 배수와 5의 배수가 겹칠 때는 어떻게 하지?"
   ]
  },
  {
   "cell_type": "code",
   "execution_count": 16,
   "metadata": {},
   "outputs": [
    {
     "name": "stdout",
     "output_type": "stream",
     "text": [
      "233168\n"
     ]
    }
   ],
   "source": [
    "a = 0\n",
    "for n in range(1, 1000):\n",
    "    if n % 3 == 0 or n % 5 == 0:\n",
    "        a += n\n",
    "print(a)"
   ]
  },
  {
   "cell_type": "markdown",
   "metadata": {},
   "source": [
    "### 06-3 게시판 페이징하기\n",
    "- 게시물의 총 건수와 한 페이지에 보여 줄 게시물 수를 입력으로 주었을 때 총 페이지 수를 출력하는 프로그램\n",
    "- 총 건수 // 페이지 게시물 수 = 총 페이지 수 + 1"
   ]
  },
  {
   "cell_type": "code",
   "execution_count": 17,
   "metadata": {},
   "outputs": [
    {
     "name": "stdout",
     "output_type": "stream",
     "text": [
      "1\n",
      "2\n",
      "3\n",
      "3\n"
     ]
    }
   ],
   "source": [
    "def getTotalPage(m, n):\n",
    "    if m % n == 0:\n",
    "        return m // n\n",
    "    else:\n",
    "        return m // n + 1\n",
    "\n",
    "print(getTotalPage(5, 10))\n",
    "print(getTotalPage(15, 10))\n",
    "print(getTotalPage(25, 10))\n",
    "print(getTotalPage(30, 10))"
   ]
  },
  {
   "cell_type": "markdown",
   "metadata": {},
   "source": [
    "### 06-4 간단한 메모장 만들기\n",
    "- 원하는 메모를 파일에 저장하고 추가 및 조회가 가능한 간단한 메모장을 만들어 보자.\n",
    "- 필요한 기능은? 메모 추가하기, 메모 조회하기\n",
    "- 입력 받는 값은? 메모 내용, 프로그램 실행 옵션\n",
    "- 출력하는 값은? memo.txt"
   ]
  },
  {
   "cell_type": "code",
   "execution_count": null,
   "metadata": {},
   "outputs": [],
   "source": [
    "# memo.py\n",
    "import sys\n",
    "\n",
    "option = sys.argv[1] # arguments vector, 가변적인 개수의 문자열. 프로그램을 실행할 때 입력된 값을 읽어 들일 수 있는 파이썬 라이브러리.\n",
    "\n",
    "if option == \"-a\":\n",
    "    memo = sys.argv[2]\n",
    "    with open('memo.txt', 'a') as f:\n",
    "        f.write(memo)\n",
    "        f.write('\\n')\n",
    "elif option == \"-v\":\n",
    "    with open('memo.txt') as f:\n",
    "        memo = f.read()\n",
    "        print(memo)"
   ]
  },
  {
   "cell_type": "markdown",
   "metadata": {},
   "source": [
    "### 06-5 탭을 4개의 공백으로 바꾸기\n",
    "- 문서 파일을 읽어서 그 문서 파일 안에 있는 탭(tab)을 공백(space) 4개로 바꾸어 주는 스크립트를 작성\n",
    "- 필요한 기능은? 문서 파일 읽어 들이기, 문자열 변경하기\n",
    "- 입력 받는 값은? 탭을 포함한 문서 파일\n",
    "- 출력하는 값은? 탭이 공백으로 수정된 문서 파일"
   ]
  },
  {
   "cell_type": "code",
   "execution_count": null,
   "metadata": {},
   "outputs": [],
   "source": [
    "# tabto4.py\n",
    "import sys\n",
    "\n",
    "src = sys.argv[1]\n",
    "dst = sys.argv[2]\n",
    "\n",
    "with open(src) as f:\n",
    "    tab_content = f.read()\n",
    "\n",
    "space_content = tab_content.replace(\"\\t\", \" \"*4)\n",
    "\n",
    "with open(dst, 'w') as f:\n",
    "    f.write(space_content)"
   ]
  },
  {
   "cell_type": "markdown",
   "metadata": {},
   "source": [
    "### 06-6 하위 디렉터리 검색하기\n",
    "- 특정 디렉터리부터 시작해서 그 하위 모든 파일 중 파이썬 파일(*.py)만 출력해 주는 프로그램"
   ]
  },
  {
   "cell_type": "code",
   "execution_count": null,
   "metadata": {},
   "outputs": [],
   "source": [
    "# sub_dir_search.py\n",
    "import os\n",
    "\n",
    "def search(dirname):\n",
    "    try:\n",
    "        filesname = os.listdir(dirname) # 해당 디렉터리에 있는 파일들의 리스트를 구할 수 있다.\n",
    "        for filename in filesname:\n",
    "            full_filename = os.path.join(dirname, filename) # 인수에 전달된 2개의 문자열을 결합하여, 1개의 경로로 할 수 있다.\n",
    "            if os.path.isdir(full_filename):\n",
    "                search(full_filename)\n",
    "            else:\n",
    "                ext = os.path.splitext(full_filename)[-1]\n",
    "                if ext == '.py':\n",
    "                    print(full_filename)\n",
    "    except PermissionError: # os.listdir를 수행할 때 권한이 없는 디렉터리에 접근하더라도 프로그램이 오류로 종료되지 않고 그냥 수행되도록 하기 위해\n",
    "        pass   \n",
    "\n",
    "search(\"/Users/young/Shioame27/0_Coding/Machine_Learning/Jump to Python\")"
   ]
  },
  {
   "cell_type": "code",
   "execution_count": 26,
   "metadata": {},
   "outputs": [
    {
     "name": "stdout",
     "output_type": "stream",
     "text": [
      "['.DS_Store', 'a_1.txt']\n",
      "['b_1.txt']\n"
     ]
    }
   ],
   "source": [
    "# sub_dir_search.py - os.walk\n",
    "import os\n",
    "\n",
    "for (path, dir, files) in os.walk(\"/Users/young/Shioame27/0_Coding/Machine_Learning/Jump to Python/a\"):\n",
    "    # print(path)\n",
    "    # print(dir)\n",
    "    # print(files)\n",
    "    for filename in files:\n",
    "        ext = os.path.splitext(filename)[-1]\n",
    "        if ext == '.py':\n",
    "            print(\"%s/%s\" % (path, filename))\n",
    "        "
   ]
  },
  {
   "cell_type": "markdown",
   "metadata": {},
   "source": [
    "### 06-7 [파이보](https://pybo.kr)\n",
    "\"올라오는 질문들에 대한 모든 답변을 하려고 노력했습니다. 모르는 질문이 있으면 찾아보고 연구해서까지 답변을 달았습니다.\n",
    "\n",
    "그러다보니 어느순간 파이썬에 대해서는 모르는 것이 없을 정도가 되어 있었습니다.\""
   ]
  },
  {
   "cell_type": "markdown",
   "metadata": {},
   "source": [
    "### 06-8 [코딩도장](http://codingdojang.com)\n",
    "저는 작지만 유용한 프로그램들을 매일 작성할 것을 추천합니다.\n",
    "\n",
    "누군가가 똑같거나 혹은 더 나은 걸 이미 만들었다는 데에 절대 신경쓰지 마세요.\n",
    "\n",
    "유용성과 복잡성 간의 균형 감각을 얻기 위해서는 당신 자신이 만든 프로그램의 유용성을 직접 느껴봐야만 합니다."
   ]
  }
 ],
 "metadata": {
  "interpreter": {
   "hash": "53e118947077c4ac14cd9b5bd8ffefe9287941f870ede6c6d93932b2f5dedd6a"
  },
  "kernelspec": {
   "display_name": "Python 3.7.0 64-bit ('test1': conda)",
   "language": "python",
   "name": "python3"
  },
  "language_info": {
   "codemirror_mode": {
    "name": "ipython",
    "version": 3
   },
   "file_extension": ".py",
   "mimetype": "text/x-python",
   "name": "python",
   "nbconvert_exporter": "python",
   "pygments_lexer": "ipython3",
   "version": "3.7.0"
  },
  "orig_nbformat": 4
 },
 "nbformat": 4,
 "nbformat_minor": 2
}
