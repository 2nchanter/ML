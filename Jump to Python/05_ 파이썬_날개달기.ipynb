{
 "cells": [
  {
   "cell_type": "markdown",
   "metadata": {},
   "source": [
    "### 05-1 클래스\n",
    "- 과자 틀 → 클래스 (class), 똑같은 무엇인가를 계속해서 만들어 낼 수 있는 설계 도면\n",
    "- 과자 틀에 의해서 만들어진 과자 → 객체 (object), 클래스로 만든 피조물\n",
    "- 객체마다 고유한 성격을 가진다는 특징"
   ]
  },
  {
   "cell_type": "code",
   "execution_count": null,
   "metadata": {},
   "outputs": [],
   "source": [
    "class Cookie: # class\n",
    "    pass\n",
    "\n",
    "a = Cookie() # \"a는 class로 만든 객체\", \"a는 Cookie의 인스턴스\""
   ]
  },
  {
   "cell_type": "markdown",
   "metadata": {},
   "source": [
    "그런데 뭔가 좀 이상하지 않은가? setdata 메서드에는 self, first, second 총 3개의 매개변수가 필요한데 실제로는 a.setdata(4, 2)처럼 2개 값만 전달했다. 왜 그럴까? 그 이유는 a.setdata(4, 2)처럼 호출하면 setdata 메서드의 첫 번째 매개변수 self에는 setdata메서드를 호출한 객체 a가 자동으로 전달되기 때문이다. 다음 그림을 보면 객체를 호출할 때 입력한 값이 메서드에 어떻게 전달되는지 쉽게 이해할 수 있을 것이다.\n",
    "\n",
    "<img width=\"400\" src=\"https://wikidocs.net/images/page/12392/setdata.png\">"
   ]
  },
  {
   "cell_type": "code",
   "execution_count": 22,
   "metadata": {},
   "outputs": [],
   "source": [
    "# 사칙연산 클래스 만들기 : 미리 구상을 한 후에 생각한 것들을 하나씩 해결하면서 완성해 나가는 것이 좋다.\n",
    "class Fourcal():\n",
    "    # # AttributeError: 'Fourcal' object has no attribute 'first' : setdata 메서드를 수행해야 객체 a의 객체변수 first와 second가 생성되기 때문\n",
    "    # 이렇게 객체에 초깃값을 설정해야 할 필요가 있을 때는 setdata와 같은 메서드를 호출하여 초깃값을 설정하기보다는 생성자를 구현하는 것이 안전한 방법이다.\n",
    "    # 생성자(Constructor)란 객체가 생성될 때 자동으로 호출되는 메서드를 의미한다.\n",
    "    def __init__(self, first, second): # 메서드 이름을 __init__으로 했기 때문에 생성자로 인식되어 객체가 생성되는 시점에 자동으로 호출됨\n",
    "        self.first = first\n",
    "        self.second = second\n",
    "    \n",
    "    # # a 객체에 사칙연산을 할 때 사용할 2개의 숫자를 먼저 알려줄 \"Method\"생성\n",
    "    # def setdata(self, first, second): # Method의 매개변수\n",
    "    #     self.first = first # Method의 수행문, a 객체에 객체변수 first가 생성되고 값 4가 저장\n",
    "    #     self.second = second  # Method의 수행문\n",
    "    \n",
    "    def add(self): # add Method\n",
    "        result = self.first + self.second\n",
    "        return result\n",
    "    \n",
    "    def mul(self):\n",
    "        result = self.first * self.second\n",
    "        return result\n",
    "    \n",
    "    def sub(self):\n",
    "        result = self.first - self.second\n",
    "        return result\n",
    "    \n",
    "    def div(self):\n",
    "        result = self.first / self.second\n",
    "        return result"
   ]
  },
  {
   "cell_type": "code",
   "execution_count": 16,
   "metadata": {},
   "outputs": [],
   "source": [
    "# # Class, Method, 클래스, 객체\n",
    "# a = Fourcal()\n",
    "# b = Fourcal()\n",
    "# a.setdata(4, 2)\n",
    "# print(a.first, a.second)\n",
    "# print(id(a.first))\n",
    "# b.setdata(3, 7)\n",
    "# print(b.first, b.second)\n",
    "# print(id(b.first))\n",
    "# print(a.add())\n",
    "# print(a.mul())\n",
    "# print(a.sub())\n",
    "# print(a.div())"
   ]
  },
  {
   "cell_type": "code",
   "execution_count": 17,
   "metadata": {},
   "outputs": [
    {
     "name": "stdout",
     "output_type": "stream",
     "text": [
      "<__main__.Fourcal object at 0x7fe0589abc50> 4 2\n"
     ]
    },
    {
     "data": {
      "text/plain": [
       "6"
      ]
     },
     "execution_count": 17,
     "metadata": {},
     "output_type": "execute_result"
    }
   ],
   "source": [
    "# Constructor, 생성자\n",
    "a = Fourcal(4, 2)\n",
    "print(a, a.first, a.second)\n",
    "a.add()"
   ]
  },
  {
   "cell_type": "code",
   "execution_count": 18,
   "metadata": {},
   "outputs": [
    {
     "data": {
      "text/plain": [
       "16"
      ]
     },
     "execution_count": 18,
     "metadata": {},
     "output_type": "execute_result"
    }
   ],
   "source": [
    "### Inheritance, 상속\n",
    "# 기존 클래스가 라이브러리 형태로 제공되거나 수정이 허용되지 않는 상황이라면 상속을 사용해야 함\n",
    "# 또한 기존 클래스(FourCal)는 그대로 놔둔 채 클래스의 기능을 확장시킬 때 주로 사용함\n",
    "class MoreFourCal(Fourcal):\n",
    "    def pow(self):\n",
    "        result = self.first ** self.second\n",
    "        return result\n",
    "\n",
    "a = MoreFourCal(4, 2)\n",
    "a.pow()"
   ]
  },
  {
   "cell_type": "code",
   "execution_count": 28,
   "metadata": {},
   "outputs": [
    {
     "data": {
      "text/plain": [
       "0"
      ]
     },
     "execution_count": 28,
     "metadata": {},
     "output_type": "execute_result"
    }
   ],
   "source": [
    "### Method Overriding, 덮어쓰기\n",
    "# div 메서드를 동일한 이름으로 다시 작성. 이렇게 부모 클래스(상속한 클래스)에 있는 메서드를 동일한 이름으로 다시 만드는 것\n",
    "class SafeFourCal(Fourcal):\n",
    "    def div(self):\n",
    "        if self.second == 0:\n",
    "            return 0\n",
    "        else:\n",
    "            return self.first / self.second\n",
    "\n",
    "a = SafeFourCal(4, 0)\n",
    "a.div()"
   ]
  },
  {
   "cell_type": "code",
   "execution_count": 31,
   "metadata": {},
   "outputs": [
    {
     "name": "stdout",
     "output_type": "stream",
     "text": [
      "박\n",
      "박\n"
     ]
    }
   ],
   "source": [
    "# class 변수\n",
    "class Family:\n",
    "    lastname = \"박\" # 김 : 클래스 변수는 클래스로 만든 모든 객체에 공유된다\n",
    "\n",
    "print(Family.lastname)\n",
    "a = Family()\n",
    "print(a.lastname)"
   ]
  },
  {
   "cell_type": "markdown",
   "metadata": {},
   "source": [
    "### 05-2 모듈"
   ]
  },
  {
   "cell_type": "code",
   "execution_count": 6,
   "metadata": {},
   "outputs": [
    {
     "name": "stdout",
     "output_type": "stream",
     "text": [
      "7\n",
      "7\n"
     ]
    }
   ],
   "source": [
    "# Module : 함수나 변수 또는 클래스를 모아 놓은 파일\n",
    "\n",
    "# if __name__ == \"__main__\": 의 의미\n",
    "# C:\\doit>python mod1.py처럼 직접 이 파일을 실행했을 때는 __name__ == \"__main__\"이 참이 되어 if문 다음 문장이 수행된다.\n",
    "# 반대로 대화형 인터프리터나 다른 파일에서 이 모듈을 불러서 사용할 때는 __name__ == \"__main__\"이 거짓이 되어 if문 다음 문장이 수행되지 않는다.\n",
    "\n",
    "# mod1.py\n",
    "# def add(a, b):\n",
    "#     return a + b\n",
    "\n",
    "# def sub(a, b): \n",
    "#     return a - b\n",
    "\n",
    "# if __name__ == \"__main__\":\n",
    "#     print(add(1, 4))\n",
    "#     print(sub(4, 2))\n",
    "\n",
    "# 현재 디렉터리에 있는 파일이나 파이썬 라이브러리가 저장된 디렉터리에 있는 모듈만 불러올 수 있다.\n",
    "import mod1 # import 모듈이름\n",
    "print(mod1.add(3, 4))\n",
    "\n",
    "from mod1 import * # from 모듈이름 import 모듈함수 or *(정규표현식, 모든 것)\n",
    "print(add(3, 4))"
   ]
  },
  {
   "cell_type": "code",
   "execution_count": 9,
   "metadata": {},
   "outputs": [
    {
     "name": "stdout",
     "output_type": "stream",
     "text": [
      "3.141592\n",
      "12.566368\n",
      "7.5415920000000005\n"
     ]
    }
   ],
   "source": [
    "# 클래스나 변수 등을 포함한 모듈\n",
    "# mod2.py \n",
    "# PI = 3.141592\n",
    "\n",
    "# class Math: \n",
    "#     def solv(self, r): \n",
    "#         return PI * (r ** 2) \n",
    "\n",
    "# def add(a, b): \n",
    "#     return a+b\n",
    "\n",
    "import mod2\n",
    "print(mod2.PI)\n",
    "a = mod2.Math()\n",
    "print(a.solv(2))\n",
    "print(mod2.add(mod2.PI, 4.4))"
   ]
  },
  {
   "cell_type": "code",
   "execution_count": 11,
   "metadata": {},
   "outputs": [],
   "source": [
    "# 다른 파일에서 모듈 불러오기\n",
    "import modtest"
   ]
  },
  {
   "cell_type": "markdown",
   "metadata": {},
   "source": [
    "### 05-3 패키지"
   ]
  },
  {
   "cell_type": "code",
   "execution_count": 1,
   "metadata": {},
   "outputs": [],
   "source": [
    "# 패키지이름.모듈\n",
    "# game/ <- 루트 디렉터리\n",
    "#     __init__.py # 모듈\n",
    "#     sound/ <- 서브 디렉터리\n",
    "#         __init__.py\n",
    "#         echo.py\n",
    "#         wav.py\n",
    "#     graphic/\n",
    "#         __init__.py\n",
    "#         screen.py\n",
    "#         render.py\n",
    "#     play/\n",
    "#         __init__.py\n",
    "#         run.py\n",
    "#         test.py"
   ]
  },
  {
   "cell_type": "code",
   "execution_count": null,
   "metadata": {},
   "outputs": [],
   "source": [
    "# 패키지 만들기\n",
    "import sys\n",
    "sys.path.append(\"/Users/young/Shioame27/0_Coding/Machine_Learning/Jump to Python\")\n",
    "sys.path\n",
    "\n",
    "# 1 : echo Module을 import 하는 방법\n",
    "# import game.sound.echo\n",
    "# game.sound.echo.echo_test()\n",
    "\n",
    "# 2 : echo Module의 directory까지 import 하는 방법\n",
    "# from game.sound import echo\n",
    "# echo.echo_test()\n",
    "\n",
    "# 3 : echo Module의 echo_test()함수를 직접 import 하는 방법\n",
    "# from game.sound.echo import echo_test\n",
    "# echo_test()\n",
    "\n",
    "# 4 - import game을 수행하면 game 디렉터리의 모듈 and 디렉터리의 __init__.py에 정의한 것만 참조할 수 있다.\n",
    "import game\n",
    "game.sound.echo.echo_test()\n",
    "\n",
    "# 5 - import할 때 가장 마지막 항목인 c는 반드시 모듈 또는 패키지\n",
    "# import game.sound.echo.echo_test"
   ]
  },
  {
   "cell_type": "code",
   "execution_count": null,
   "metadata": {},
   "outputs": [],
   "source": [
    "# __init__.py 의 용도\n",
    "# 특정 디렉터리의 모듈을 *를 사용하여 import할 때에는 다음과 같이 해당 디렉터리의 __init__.py 파일에\n",
    "# __all__ 변수를 설정하고 import할 수 있는 모듈을 정의해 주어야 한다.\n",
    "\n",
    "# __all__이 의미 : sound 디렉터리에서 * 기호를 사용하여 import할 경우, 이곳에 정의된 echo 모듈만 import된다\n",
    "# __init__.py\n",
    "# __all__ = ['echo']\n",
    "\n",
    "from game.sound import *\n",
    "echo.echo_test()"
   ]
  },
  {
   "cell_type": "code",
   "execution_count": null,
   "metadata": {},
   "outputs": [],
   "source": [
    "# relative 패키지\n",
    "from game.graphic.render import render_test\n",
    "render_test()"
   ]
  },
  {
   "cell_type": "markdown",
   "metadata": {},
   "source": [
    "### 05-4 예외 처리"
   ]
  },
  {
   "cell_type": "code",
   "execution_count": null,
   "metadata": {},
   "outputs": [],
   "source": []
  }
 ],
 "metadata": {
  "interpreter": {
   "hash": "53e118947077c4ac14cd9b5bd8ffefe9287941f870ede6c6d93932b2f5dedd6a"
  },
  "kernelspec": {
   "display_name": "Python 3.7.0 64-bit ('test1': conda)",
   "language": "python",
   "name": "python3"
  },
  "language_info": {
   "codemirror_mode": {
    "name": "ipython",
    "version": 3
   },
   "file_extension": ".py",
   "mimetype": "text/x-python",
   "name": "python",
   "nbconvert_exporter": "python",
   "pygments_lexer": "ipython3",
   "version": "3.7.0"
  },
  "orig_nbformat": 4
 },
 "nbformat": 4,
 "nbformat_minor": 2
}
