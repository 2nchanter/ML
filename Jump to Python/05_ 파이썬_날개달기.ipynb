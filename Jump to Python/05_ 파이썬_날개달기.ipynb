{
 "cells": [
  {
   "cell_type": "markdown",
   "metadata": {},
   "source": [
    "### 05-1 클래스\n",
    "- 과자 틀 → 클래스 (class), 똑같은 무엇인가를 계속해서 만들어 낼 수 있는 설계 도면\n",
    "- 과자 틀에 의해서 만들어진 과자 → 객체 (object), 클래스로 만든 피조물\n",
    "- 객체마다 고유한 성격을 가진다는 특징"
   ]
  },
  {
   "cell_type": "code",
   "execution_count": null,
   "metadata": {},
   "outputs": [],
   "source": [
    "class Cookie: # class\n",
    "    pass\n",
    "\n",
    "a = Cookie() # \"a는 class로 만든 객체\", \"a는 Cookie의 인스턴스\""
   ]
  },
  {
   "cell_type": "markdown",
   "metadata": {},
   "source": [
    "그런데 뭔가 좀 이상하지 않은가? setdata 메서드에는 self, first, second 총 3개의 매개변수가 필요한데 실제로는 a.setdata(4, 2)처럼 2개 값만 전달했다. 왜 그럴까? 그 이유는 a.setdata(4, 2)처럼 호출하면 setdata 메서드의 첫 번째 매개변수 self에는 setdata메서드를 호출한 객체 a가 자동으로 전달되기 때문이다. 다음 그림을 보면 객체를 호출할 때 입력한 값이 메서드에 어떻게 전달되는지 쉽게 이해할 수 있을 것이다.\n",
    "\n",
    "<img width=\"400\" src=\"https://wikidocs.net/images/page/12392/setdata.png\">"
   ]
  },
  {
   "cell_type": "code",
   "execution_count": 22,
   "metadata": {},
   "outputs": [],
   "source": [
    "# 사칙연산 클래스 만들기 : 미리 구상을 한 후에 생각한 것들을 하나씩 해결하면서 완성해 나가는 것이 좋다.\n",
    "class Fourcal():\n",
    "    # # AttributeError: 'Fourcal' object has no attribute 'first' : setdata 메서드를 수행해야 객체 a의 객체변수 first와 second가 생성되기 때문\n",
    "    # 이렇게 객체에 초깃값을 설정해야 할 필요가 있을 때는 setdata와 같은 메서드를 호출하여 초깃값을 설정하기보다는 생성자를 구현하는 것이 안전한 방법이다.\n",
    "    # 생성자(Constructor)란 객체가 생성될 때 자동으로 호출되는 메서드를 의미한다.\n",
    "    def __init__(self, first, second): # 메서드 이름을 __init__으로 했기 때문에 생성자로 인식되어 객체가 생성되는 시점에 자동으로 호출됨\n",
    "        self.first = first\n",
    "        self.second = second\n",
    "    \n",
    "    # # a 객체에 사칙연산을 할 때 사용할 2개의 숫자를 먼저 알려줄 \"Method\"생성\n",
    "    # def setdata(self, first, second): # Method의 매개변수\n",
    "    #     self.first = first # Method의 수행문, a 객체에 객체변수 first가 생성되고 값 4가 저장\n",
    "    #     self.second = second  # Method의 수행문\n",
    "    \n",
    "    def add(self): # add Method\n",
    "        result = self.first + self.second\n",
    "        return result\n",
    "    \n",
    "    def mul(self):\n",
    "        result = self.first * self.second\n",
    "        return result\n",
    "    \n",
    "    def sub(self):\n",
    "        result = self.first - self.second\n",
    "        return result\n",
    "    \n",
    "    def div(self):\n",
    "        result = self.first / self.second\n",
    "        return result"
   ]
  },
  {
   "cell_type": "code",
   "execution_count": 16,
   "metadata": {},
   "outputs": [],
   "source": [
    "# # Class, Method, 클래스, 객체\n",
    "# a = Fourcal()\n",
    "# b = Fourcal()\n",
    "# a.setdata(4, 2)\n",
    "# print(a.first, a.second)\n",
    "# print(id(a.first))\n",
    "# b.setdata(3, 7)\n",
    "# print(b.first, b.second)\n",
    "# print(id(b.first))\n",
    "# print(a.add())\n",
    "# print(a.mul())\n",
    "# print(a.sub())\n",
    "# print(a.div())"
   ]
  },
  {
   "cell_type": "code",
   "execution_count": 17,
   "metadata": {},
   "outputs": [
    {
     "name": "stdout",
     "output_type": "stream",
     "text": [
      "<__main__.Fourcal object at 0x7fe0589abc50> 4 2\n"
     ]
    },
    {
     "data": {
      "text/plain": [
       "6"
      ]
     },
     "execution_count": 17,
     "metadata": {},
     "output_type": "execute_result"
    }
   ],
   "source": [
    "# Constructor, 생성자\n",
    "a = Fourcal(4, 2)\n",
    "print(a, a.first, a.second)\n",
    "a.add()"
   ]
  },
  {
   "cell_type": "code",
   "execution_count": 18,
   "metadata": {},
   "outputs": [
    {
     "data": {
      "text/plain": [
       "16"
      ]
     },
     "execution_count": 18,
     "metadata": {},
     "output_type": "execute_result"
    }
   ],
   "source": [
    "### Inheritance, 상속\n",
    "# 기존 클래스가 라이브러리 형태로 제공되거나 수정이 허용되지 않는 상황이라면 상속을 사용해야 함\n",
    "# 또한 기존 클래스(FourCal)는 그대로 놔둔 채 클래스의 기능을 확장시킬 때 주로 사용함\n",
    "class MoreFourCal(Fourcal):\n",
    "    def pow(self):\n",
    "        result = self.first ** self.second\n",
    "        return result\n",
    "\n",
    "a = MoreFourCal(4, 2)\n",
    "a.pow()"
   ]
  },
  {
   "cell_type": "code",
   "execution_count": 28,
   "metadata": {},
   "outputs": [
    {
     "data": {
      "text/plain": [
       "0"
      ]
     },
     "execution_count": 28,
     "metadata": {},
     "output_type": "execute_result"
    }
   ],
   "source": [
    "### Method Overriding, 덮어쓰기\n",
    "# div 메서드를 동일한 이름으로 다시 작성. 이렇게 부모 클래스(상속한 클래스)에 있는 메서드를 동일한 이름으로 다시 만드는 것\n",
    "class SafeFourCal(Fourcal):\n",
    "    def div(self):\n",
    "        if self.second == 0:\n",
    "            return 0\n",
    "        else:\n",
    "            return self.first / self.second\n",
    "\n",
    "a = SafeFourCal(4, 0)\n",
    "a.div()"
   ]
  },
  {
   "cell_type": "code",
   "execution_count": 31,
   "metadata": {},
   "outputs": [
    {
     "name": "stdout",
     "output_type": "stream",
     "text": [
      "박\n",
      "박\n"
     ]
    }
   ],
   "source": [
    "# class 변수\n",
    "class Family:\n",
    "    lastname = \"박\" # 김 : 클래스 변수는 클래스로 만든 모든 객체에 공유된다\n",
    "\n",
    "print(Family.lastname)\n",
    "a = Family()\n",
    "print(a.lastname)"
   ]
  },
  {
   "cell_type": "markdown",
   "metadata": {},
   "source": [
    "### 05-2 모듈"
   ]
  },
  {
   "cell_type": "code",
   "execution_count": 6,
   "metadata": {},
   "outputs": [
    {
     "name": "stdout",
     "output_type": "stream",
     "text": [
      "7\n",
      "7\n"
     ]
    }
   ],
   "source": [
    "# Module : 함수나 변수 또는 클래스를 모아 놓은 파일\n",
    "\n",
    "# if __name__ == \"__main__\": 의 의미\n",
    "# C:\\doit>python mod1.py처럼 직접 이 파일을 실행했을 때는 __name__ == \"__main__\"이 참이 되어 if문 다음 문장이 수행된다.\n",
    "# 반대로 대화형 인터프리터나 다른 파일에서 이 모듈을 불러서 사용할 때는 __name__ == \"__main__\"이 거짓이 되어 if문 다음 문장이 수행되지 않는다.\n",
    "\n",
    "# __name__ 변수란?\n",
    "# # 직접 .py 가 실행될 경우 .py의 __name__변수에는 __main__값이 저장된다.\n",
    "# 다른 shell이나 module에서 실행될 경우 .py의 __name__변수에는 파일이름이 저장된다.\n",
    "\n",
    "# mod1.py\n",
    "# def add(a, b):\n",
    "#     return a + b\n",
    "\n",
    "# def sub(a, b): \n",
    "#     return a - b\n",
    "\n",
    "# if __name__ == \"__main__\":\n",
    "#     print(add(1, 4))\n",
    "#     print(sub(4, 2))\n",
    "\n",
    "# 현재 디렉터리에 있는 파일이나 파이썬 라이브러리가 저장된 디렉터리에 있는 모듈만 불러올 수 있다.\n",
    "import mod1 # import 모듈이름\n",
    "print(mod1.add(3, 4))\n",
    "\n",
    "from mod1 import * # from 모듈이름 import 모듈함수 or *(정규표현식, 모든 것)\n",
    "print(add(3, 4))"
   ]
  },
  {
   "cell_type": "code",
   "execution_count": 9,
   "metadata": {},
   "outputs": [
    {
     "name": "stdout",
     "output_type": "stream",
     "text": [
      "3.141592\n",
      "12.566368\n",
      "7.5415920000000005\n"
     ]
    }
   ],
   "source": [
    "# 클래스나 변수 등을 포함한 모듈\n",
    "# mod2.py \n",
    "# PI = 3.141592\n",
    "\n",
    "# class Math: \n",
    "#     def solv(self, r): \n",
    "#         return PI * (r ** 2) \n",
    "\n",
    "# def add(a, b): \n",
    "#     return a+b\n",
    "\n",
    "import mod2\n",
    "print(mod2.PI)\n",
    "a = mod2.Math()\n",
    "print(a.solv(2))\n",
    "print(mod2.add(mod2.PI, 4.4))"
   ]
  },
  {
   "cell_type": "code",
   "execution_count": 11,
   "metadata": {},
   "outputs": [],
   "source": [
    "# 다른 파일에서 모듈 불러오기\n",
    "import modtest"
   ]
  },
  {
   "cell_type": "markdown",
   "metadata": {},
   "source": [
    "### 05-3 패키지"
   ]
  },
  {
   "cell_type": "code",
   "execution_count": 1,
   "metadata": {},
   "outputs": [],
   "source": [
    "# 패키지이름.모듈\n",
    "# game/ <- 루트 디렉터리\n",
    "#     __init__.py # 모듈\n",
    "#     sound/ <- 서브 디렉터리\n",
    "#         __init__.py\n",
    "#         echo.py\n",
    "#         wav.py\n",
    "#     graphic/\n",
    "#         __init__.py\n",
    "#         screen.py\n",
    "#         render.py\n",
    "#     play/\n",
    "#         __init__.py\n",
    "#         run.py\n",
    "#         test.py"
   ]
  },
  {
   "cell_type": "code",
   "execution_count": null,
   "metadata": {},
   "outputs": [],
   "source": [
    "# 패키지 만들기\n",
    "import sys\n",
    "sys.path.append(\"/Users/young/Shioame27/0_Coding/Machine_Learning/Jump to Python\")\n",
    "sys.path\n",
    "\n",
    "# 1 : echo Module을 import 하는 방법\n",
    "# import game.sound.echo\n",
    "# game.sound.echo.echo_test()\n",
    "\n",
    "# 2 : echo Module의 directory까지 import 하는 방법\n",
    "# from game.sound import echo\n",
    "# echo.echo_test()\n",
    "\n",
    "# 3 : echo Module의 echo_test()함수를 직접 import 하는 방법\n",
    "# from game.sound.echo import echo_test\n",
    "# echo_test()\n",
    "\n",
    "# 4 - import game을 수행하면 game 디렉터리의 모듈 and 디렉터리의 __init__.py에 정의한 것만 참조할 수 있다.\n",
    "import game\n",
    "game.sound.echo.echo_test()\n",
    "\n",
    "# 5 - import할 때 가장 마지막 항목인 c는 반드시 모듈 또는 패키지\n",
    "# import game.sound.echo.echo_test"
   ]
  },
  {
   "cell_type": "code",
   "execution_count": null,
   "metadata": {},
   "outputs": [],
   "source": [
    "# __init__.py 의 용도\n",
    "# 특정 디렉터리의 모듈을 *를 사용하여 import할 때에는 다음과 같이 해당 디렉터리의 __init__.py 파일에\n",
    "# __all__ 변수를 설정하고 import할 수 있는 모듈을 정의해 주어야 한다.\n",
    "\n",
    "# __all__이 의미 : sound 디렉터리에서 * 기호를 사용하여 import할 경우, 이곳에 정의된 echo 모듈만 import된다\n",
    "# __init__.py\n",
    "# __all__ = ['echo']\n",
    "\n",
    "from game.sound import *\n",
    "echo.echo_test()"
   ]
  },
  {
   "cell_type": "code",
   "execution_count": null,
   "metadata": {},
   "outputs": [],
   "source": [
    "# relative 패키지\n",
    "from game.graphic.render import render_test\n",
    "render_test()\n",
    "\n",
    "# render.py\n",
    "# from ..sound.echo import echo_test\n",
    "\n",
    "# def render_test():\n",
    "#     print(\"render\")\n",
    "#     echo_test()"
   ]
  },
  {
   "cell_type": "markdown",
   "metadata": {},
   "source": [
    "### 05-4 예외 처리"
   ]
  },
  {
   "cell_type": "code",
   "execution_count": 33,
   "metadata": {},
   "outputs": [
    {
     "name": "stdout",
     "output_type": "stream",
     "text": [
      "division by zero\n",
      "인덱싱 할 수 없습니다.\n",
      "list index out of range\n",
      "list index out of range\n"
     ]
    }
   ],
   "source": [
    "# 오류 예외 처리 기법\n",
    "\n",
    "# 1. try, except문\n",
    "# try:\n",
    "#     ...\n",
    "# except [발생 오류[as 오류 메시지 변수]]:\n",
    "#     ...\n",
    "\n",
    "try:\n",
    "    4 / 0\n",
    "except ZeroDivisionError as e:\n",
    "    print(e)\n",
    "\n",
    "# 2. try, finally : finally절은 try문 수행 도중 예외 발생 여부에 상관없이 항상 수행\n",
    "# try:\n",
    "#     # 무언가를 수행한다.\n",
    "# finally:\n",
    "#     f.close()\n",
    "\n",
    "# 3. 여러개의 오류처리하기\n",
    "try:\n",
    "    a = [1,2]\n",
    "    print(a[3])\n",
    "    4/0\n",
    "except ZeroDivisionError:\n",
    "    print(\"0으로 나눌 수 없습니다.\")\n",
    "except IndexError:\n",
    "    print(\"인덱싱 할 수 없습니다.\")\n",
    "\n",
    "try:\n",
    "    a = [1,2]\n",
    "    print(a[3])\n",
    "    4/0\n",
    "except ZeroDivisionError as e:\n",
    "    print(e)\n",
    "except IndexError as e:\n",
    "    print(e)\n",
    "\n",
    "try:\n",
    "    a = [1,2]\n",
    "    print(a[3])\n",
    "    4/0\n",
    "except (ZeroDivisionError, IndexError) as e:\n",
    "    print(e)"
   ]
  },
  {
   "cell_type": "code",
   "execution_count": 35,
   "metadata": {},
   "outputs": [
    {
     "name": "stdout",
     "output_type": "stream",
     "text": [
      "미성년자는 출입금지입니다.\n"
     ]
    }
   ],
   "source": [
    "# try문 수행중 오류가 발생하면 except절이 수행되고 오류가 없으면 else절이 수행된다.\n",
    "try:\n",
    "    age=int(input('나이를 입력하세요: '))\n",
    "except:\n",
    "    print('입력이 정확하지 않습니다.')\n",
    "else:\n",
    "    if age <= 18:\n",
    "        print('미성년자는 출입금지입니다.')\n",
    "    else:\n",
    "        print('환영합니다.')"
   ]
  },
  {
   "cell_type": "code",
   "execution_count": 36,
   "metadata": {},
   "outputs": [],
   "source": [
    "# 오류 회피하기\n",
    "try:\n",
    "    f = open(\"나없는파일\", 'r')\n",
    "except FileNotFoundError:\n",
    "    pass"
   ]
  },
  {
   "cell_type": "code",
   "execution_count": 37,
   "metadata": {},
   "outputs": [],
   "source": [
    "# 오류 일부러 발생시키기\n",
    "class Bird:\n",
    "    def fly(self):\n",
    "        raise NotImplementedError"
   ]
  },
  {
   "cell_type": "code",
   "execution_count": 39,
   "metadata": {},
   "outputs": [
    {
     "ename": "NotImplementedError",
     "evalue": "",
     "output_type": "error",
     "traceback": [
      "\u001b[0;31m---------------------------------------------------------------------------\u001b[0m",
      "\u001b[0;31mNotImplementedError\u001b[0m                       Traceback (most recent call last)",
      "\u001b[0;32m/var/folders/w1/x7lctzpd6kgdfm11n9g8sg580000gn/T/ipykernel_54274/379566879.py\u001b[0m in \u001b[0;36m<module>\u001b[0;34m\u001b[0m\n\u001b[1;32m      4\u001b[0m \u001b[0;34m\u001b[0m\u001b[0m\n\u001b[1;32m      5\u001b[0m \u001b[0meagle\u001b[0m \u001b[0;34m=\u001b[0m \u001b[0mEagle\u001b[0m\u001b[0;34m(\u001b[0m\u001b[0;34m)\u001b[0m\u001b[0;34m\u001b[0m\u001b[0m\n\u001b[0;32m----> 6\u001b[0;31m \u001b[0meagle\u001b[0m\u001b[0;34m.\u001b[0m\u001b[0mfly\u001b[0m\u001b[0;34m(\u001b[0m\u001b[0;34m)\u001b[0m\u001b[0;34m\u001b[0m\u001b[0m\n\u001b[0m",
      "\u001b[0;32m/var/folders/w1/x7lctzpd6kgdfm11n9g8sg580000gn/T/ipykernel_54274/3666093112.py\u001b[0m in \u001b[0;36mfly\u001b[0;34m(self)\u001b[0m\n\u001b[1;32m      2\u001b[0m \u001b[0;32mclass\u001b[0m \u001b[0mBird\u001b[0m\u001b[0;34m:\u001b[0m\u001b[0;34m\u001b[0m\u001b[0m\n\u001b[1;32m      3\u001b[0m     \u001b[0;32mdef\u001b[0m \u001b[0mfly\u001b[0m\u001b[0;34m(\u001b[0m\u001b[0mself\u001b[0m\u001b[0;34m)\u001b[0m\u001b[0;34m:\u001b[0m\u001b[0;34m\u001b[0m\u001b[0m\n\u001b[0;32m----> 4\u001b[0;31m         \u001b[0;32mraise\u001b[0m \u001b[0mNotImplementedError\u001b[0m\u001b[0;34m\u001b[0m\u001b[0m\n\u001b[0m",
      "\u001b[0;31mNotImplementedError\u001b[0m: "
     ]
    }
   ],
   "source": [
    "class Eagle(Bird):\n",
    "    pass\n",
    "    # print(\"very fast\")\n",
    "\n",
    "eagle = Eagle()\n",
    "eagle.fly()"
   ]
  },
  {
   "cell_type": "code",
   "execution_count": 49,
   "metadata": {},
   "outputs": [
    {
     "name": "stdout",
     "output_type": "stream",
     "text": [
      "천사\n",
      "허용되지 않는 별명입니다.\n"
     ]
    }
   ],
   "source": [
    "# 예외 만들기 : 예외는 다음과 같이 파이썬 내장 클래스인 Exception 클래스를 상속하여 만들 수 있다.\n",
    "class MyError(Exception):\n",
    "    # pass\n",
    "    def __str__(self):\n",
    "         return \"허용되지 않는 별명입니다.\"\n",
    "\n",
    "def say_nick(nick):\n",
    "    if nick == '바보':\n",
    "        raise MyError()\n",
    "    print(nick)\n",
    "\n",
    "try:\n",
    "    say_nick(\"천사\")\n",
    "    say_nick(\"바보\")\n",
    "# except MyError:\n",
    "#     print(\"허용되지 않는 별명입니다.\")\n",
    "except MyError as e:\n",
    "    print(e)"
   ]
  },
  {
   "cell_type": "markdown",
   "metadata": {},
   "source": [
    "### 05-5 내장 함수"
   ]
  },
  {
   "cell_type": "code",
   "execution_count": 51,
   "metadata": {},
   "outputs": [
    {
     "data": {
      "text/plain": [
       "3"
      ]
     },
     "execution_count": 51,
     "metadata": {},
     "output_type": "execute_result"
    }
   ],
   "source": [
    "abs(-3) # abs() / absolute, 절대값"
   ]
  },
  {
   "cell_type": "code",
   "execution_count": 56,
   "metadata": {},
   "outputs": [
    {
     "data": {
      "text/plain": [
       "False"
      ]
     },
     "execution_count": 56,
     "metadata": {},
     "output_type": "execute_result"
    }
   ],
   "source": [
    "all([0, 1, 2, 3]) # 요소 0은 거짓이므로 False를 돌려준다.\n",
    "# 반복 가능한(iterable, for문으로 그 값을 출력할 수 있는 것) 자료형 x를 입력 인수로 받으며\n",
    "# 이 x의 요소가 모두 참이면 True, 거짓이 하나라도 있으면 False를 돌려준다."
   ]
  },
  {
   "cell_type": "code",
   "execution_count": 57,
   "metadata": {},
   "outputs": [
    {
     "data": {
      "text/plain": [
       "True"
      ]
     },
     "execution_count": 57,
     "metadata": {},
     "output_type": "execute_result"
    }
   ],
   "source": [
    "any([0, 1, 2, 3]) # 요소 0하나만 거짓이므로 True를 돌려준다.\n",
    "# 반복 가능한(iterable, for문으로 그 값을 출력할 수 있는 것) 자료형 x를 입력 인수로 받으며\n",
    "# 이 x의 요소중 하나라도 참이 있으면 True를 돌려주고, x가 모두 거짓일 때에만 False를 돌려준다."
   ]
  },
  {
   "cell_type": "code",
   "execution_count": 59,
   "metadata": {},
   "outputs": [
    {
     "data": {
      "text/plain": [
       "'가'"
      ]
     },
     "execution_count": 59,
     "metadata": {},
     "output_type": "execute_result"
    }
   ],
   "source": [
    "chr(44032) # chr(i)는 Unicode 값을 입력받아 그 코드에 해당하는 문자를 출력하는 함수, character"
   ]
  },
  {
   "cell_type": "code",
   "execution_count": 60,
   "metadata": {},
   "outputs": [
    {
     "data": {
      "text/plain": [
       "['__add__',\n",
       " '__class__',\n",
       " '__contains__',\n",
       " '__delattr__',\n",
       " '__delitem__',\n",
       " '__dir__',\n",
       " '__doc__',\n",
       " '__eq__',\n",
       " '__format__',\n",
       " '__ge__',\n",
       " '__getattribute__',\n",
       " '__getitem__',\n",
       " '__gt__',\n",
       " '__hash__',\n",
       " '__iadd__',\n",
       " '__imul__',\n",
       " '__init__',\n",
       " '__init_subclass__',\n",
       " '__iter__',\n",
       " '__le__',\n",
       " '__len__',\n",
       " '__lt__',\n",
       " '__mul__',\n",
       " '__ne__',\n",
       " '__new__',\n",
       " '__reduce__',\n",
       " '__reduce_ex__',\n",
       " '__repr__',\n",
       " '__reversed__',\n",
       " '__rmul__',\n",
       " '__setattr__',\n",
       " '__setitem__',\n",
       " '__sizeof__',\n",
       " '__str__',\n",
       " '__subclasshook__',\n",
       " 'append',\n",
       " 'clear',\n",
       " 'copy',\n",
       " 'count',\n",
       " 'extend',\n",
       " 'index',\n",
       " 'insert',\n",
       " 'pop',\n",
       " 'remove',\n",
       " 'reverse',\n",
       " 'sort']"
      ]
     },
     "execution_count": 60,
     "metadata": {},
     "output_type": "execute_result"
    }
   ],
   "source": [
    "dir([1, 2, 3]) # dir은 객체가 자체적으로 가지고 있는 변수나 함수를 보여 준다. "
   ]
  },
  {
   "cell_type": "code",
   "execution_count": 61,
   "metadata": {},
   "outputs": [
    {
     "data": {
      "text/plain": [
       "(2, 1)"
      ]
     },
     "execution_count": 61,
     "metadata": {},
     "output_type": "execute_result"
    }
   ],
   "source": [
    "divmod(7, 3) # 몫, 나머지"
   ]
  },
  {
   "cell_type": "code",
   "execution_count": 62,
   "metadata": {},
   "outputs": [
    {
     "name": "stdout",
     "output_type": "stream",
     "text": [
      "0 body\n",
      "1 foo\n",
      "2 bar\n"
     ]
    }
   ],
   "source": [
    "# enumerate는 \"열거하다\"라는 뜻이다.\n",
    "# 이 함수는 순서가 있는 자료형(리스트, 튜플, 문자열)을 입력으로 받아 인덱스 값을 포함하는 enumerate 객체를 돌려준다.\n",
    "for i, name in enumerate(['body', 'foo', 'bar']):\n",
    "    print(i, name)\n",
    "# for문처럼 반복되는 구간에서 객체가 현재 어느 위치에 있는지 알려 주는 인덱스 값이 필요할때 enumerate 함수를 사용하면 매우 유용하다."
   ]
  },
  {
   "cell_type": "code",
   "execution_count": 63,
   "metadata": {},
   "outputs": [
    {
     "data": {
      "text/plain": [
       "(1, 1)"
      ]
     },
     "execution_count": 63,
     "metadata": {},
     "output_type": "execute_result"
    }
   ],
   "source": [
    "# 입력 : 실행 가능한 문자열(1+2, 'hi' + 'a' 같은 것)\n",
    "# 출력 : 문자열을 실행한 결괏값을 돌려주는 함수\n",
    "eval('divmod(4, 3)')"
   ]
  },
  {
   "cell_type": "code",
   "execution_count": 3,
   "metadata": {},
   "outputs": [
    {
     "name": "stdout",
     "output_type": "stream",
     "text": [
      "[1, 2, 6]\n"
     ]
    },
    {
     "data": {
      "text/plain": [
       "[1, 2, 6]"
      ]
     },
     "execution_count": 3,
     "metadata": {},
     "output_type": "execute_result"
    }
   ],
   "source": [
    "# filter 함수는 첫 번째 인수로 함수 이름을, 두 번째 인수로 그 함수에 차례로 들어갈 반복 가능한 자료형을 받는다.\n",
    "# 그리고 두 번째 인수인 반복 가능한 자료형 요소가 첫 번째 인수인 함수에 입력되었을 때 반환 값이 참인 것만 묶어서(걸러 내서) 돌려준다.\n",
    "\n",
    "# def positive(l): \n",
    "#     result = [] \n",
    "#     for i in l: \n",
    "#         if i > 0: \n",
    "#             result.append(i) \n",
    "#     return result\n",
    "\n",
    "# print(positive([1,-3,2,0,-5,6]))\n",
    "\n",
    "def positive(x):\n",
    "    return x > 0\n",
    "\n",
    "print(list(filter(positive, [1, -3, 2, 0, -5, 6])))\n",
    "\n",
    "list(filter(lambda x: x>0, [1,-3,2,0,-5,6]))"
   ]
  },
  {
   "cell_type": "code",
   "execution_count": 68,
   "metadata": {},
   "outputs": [
    {
     "data": {
      "text/plain": [
       "'0x3'"
      ]
     },
     "execution_count": 68,
     "metadata": {},
     "output_type": "execute_result"
    }
   ],
   "source": [
    "hex(3) # 정수 값을 입력받아 16진수(hexadecimal)로 변환하여 돌려주는 함수이다."
   ]
  },
  {
   "cell_type": "code",
   "execution_count": 69,
   "metadata": {},
   "outputs": [
    {
     "data": {
      "text/plain": [
       "4307506304"
      ]
     },
     "execution_count": 69,
     "metadata": {},
     "output_type": "execute_result"
    }
   ],
   "source": [
    "a = 3 # 객체를 입력받아 객체의 고유 주소 값(레퍼런스)을 돌려주는 함수이다.\n",
    "id(a)"
   ]
  },
  {
   "cell_type": "code",
   "execution_count": 73,
   "metadata": {},
   "outputs": [
    {
     "data": {
      "text/plain": [
       "'Hi'"
      ]
     },
     "execution_count": 73,
     "metadata": {},
     "output_type": "execute_result"
    }
   ],
   "source": [
    "a = input(\"Word : \") # 사용자 입력을 받는 함수\n",
    "a"
   ]
  },
  {
   "cell_type": "code",
   "execution_count": 84,
   "metadata": {},
   "outputs": [
    {
     "data": {
      "text/plain": [
       "3"
      ]
     },
     "execution_count": 84,
     "metadata": {},
     "output_type": "execute_result"
    }
   ],
   "source": [
    "int('3') # 문자열 형태의 숫자나 소수점이 있는 숫자 등을 정수 형태로 돌려주는 함수\n",
    "int(3.8)\n",
    "\n",
    "int('11', 2) # int(x, radix) : radix 진수로 표현된 문자열 x를 10진수로 변환하여 돌려준다."
   ]
  },
  {
   "cell_type": "code",
   "execution_count": 85,
   "metadata": {},
   "outputs": [
    {
     "data": {
      "text/plain": [
       "True"
      ]
     },
     "execution_count": 85,
     "metadata": {},
     "output_type": "execute_result"
    }
   ],
   "source": [
    "class Person:\n",
    "    pass\n",
    "\n",
    "a = Person()\n",
    "isinstance(a, Person)"
   ]
  },
  {
   "cell_type": "code",
   "execution_count": 86,
   "metadata": {},
   "outputs": [
    {
     "data": {
      "text/plain": [
       "6"
      ]
     },
     "execution_count": 86,
     "metadata": {},
     "output_type": "execute_result"
    }
   ],
   "source": [
    "len(\"python\") # 입력값 s의 길이(요소의 전체 개수)"
   ]
  },
  {
   "cell_type": "code",
   "execution_count": 88,
   "metadata": {},
   "outputs": [
    {
     "data": {
      "text/plain": [
       "[1, 2, 3]"
      ]
     },
     "execution_count": 88,
     "metadata": {},
     "output_type": "execute_result"
    }
   ],
   "source": [
    "list(\"python\") # 반복 가능한 자료형 s를 입력받아 리스트로 만들어 줌\n",
    "list((1,2,3))"
   ]
  },
  {
   "cell_type": "code",
   "execution_count": 133,
   "metadata": {},
   "outputs": [
    {
     "data": {
      "text/plain": [
       "[2, 4, 6, 8]"
      ]
     },
     "execution_count": 133,
     "metadata": {},
     "output_type": "execute_result"
    }
   ],
   "source": [
    "# def two_times(numberList):\n",
    "#     result = [ ]\n",
    "#     for number in numberList:\n",
    "#         result.append(number*2)\n",
    "#     return result\n",
    "\n",
    "# result = two_times([1, 2, 3, 4])\n",
    "# print(result)\n",
    "\n",
    "def two_times(x):\n",
    "    return x*2\n",
    "\n",
    "list(map(two_times, [1, 2, 3, 4]))\n",
    "\n",
    "list(map(lambda x: x*2, [1, 2, 3, 4]))\n",
    "# 함수(f)와 반복 가능한(iterable) 자료형을 입력으로 받는다.\n",
    "# map은 입력받은 자료형의 각 요소를 함수 f가 수행한 결과를 묶어서 돌려주는 함수이다."
   ]
  },
  {
   "cell_type": "code",
   "execution_count": 93,
   "metadata": {},
   "outputs": [
    {
     "data": {
      "text/plain": [
       "'y'"
      ]
     },
     "execution_count": 93,
     "metadata": {},
     "output_type": "execute_result"
    }
   ],
   "source": [
    "max([1, 2, 3]) # 최댓값\n",
    "max(\"python\")"
   ]
  },
  {
   "cell_type": "code",
   "execution_count": 94,
   "metadata": {},
   "outputs": [
    {
     "data": {
      "text/plain": [
       "'h'"
      ]
     },
     "execution_count": 94,
     "metadata": {},
     "output_type": "execute_result"
    }
   ],
   "source": [
    "min([1, 2, 3]) # 최솟값\n",
    "min(\"python\")"
   ]
  },
  {
   "cell_type": "code",
   "execution_count": 95,
   "metadata": {},
   "outputs": [
    {
     "data": {
      "text/plain": [
       "'0o42'"
      ]
     },
     "execution_count": 95,
     "metadata": {},
     "output_type": "execute_result"
    }
   ],
   "source": [
    "oct(34) # 정수 형태의 숫자를 8진수 문자열로 바꿈"
   ]
  },
  {
   "cell_type": "code",
   "execution_count": null,
   "metadata": {},
   "outputs": [],
   "source": [
    "# \"파일 이름\"과 \"읽기 방법\"을 입력받아 파일 객체를 돌려주는 함수\n",
    "f = open(\"binary_file\", \"rb\") # 바이너리 읽기 모드\n",
    " \n",
    "fread = open(\"read_mode.txt\", 'r')\n",
    "fread2 = open(\"read_mode.txt\") # 모드 부분을 생략하면 기본값으로 읽기 모드 r를 갖게 된다."
   ]
  },
  {
   "cell_type": "code",
   "execution_count": 97,
   "metadata": {},
   "outputs": [
    {
     "data": {
      "text/plain": [
       "44032"
      ]
     },
     "execution_count": 97,
     "metadata": {},
     "output_type": "execute_result"
    }
   ],
   "source": [
    "ord('가') # 문자의 유니코드 값을 돌려주는 함수, ordinary value"
   ]
  },
  {
   "cell_type": "code",
   "execution_count": 98,
   "metadata": {},
   "outputs": [
    {
     "data": {
      "text/plain": [
       "16"
      ]
     },
     "execution_count": 98,
     "metadata": {},
     "output_type": "execute_result"
    }
   ],
   "source": [
    "pow(2, 4) # x의 y 제곱한 결괏값"
   ]
  },
  {
   "cell_type": "code",
   "execution_count": 119,
   "metadata": {},
   "outputs": [
    {
     "name": "stdout",
     "output_type": "stream",
     "text": [
      "[1, 3, 5, 7, 9]\n",
      "[0, -1, -2, -3, -4, -5, -6, -7, -8, -9]\n"
     ]
    }
   ],
   "source": [
    "# range([start,] stop [,step])\n",
    "# 입력받은 숫자에 해당하는 범위 값을 반복 가능한 객체로 만들어 돌려준다.\n",
    "list(range(5, 10))\n",
    "print(list(range(1, 10, 2)))\n",
    "print(list(range(0, -10, -1)))"
   ]
  },
  {
   "cell_type": "code",
   "execution_count": 124,
   "metadata": {},
   "outputs": [
    {
     "data": {
      "text/plain": [
       "5.68"
      ]
     },
     "execution_count": 124,
     "metadata": {},
     "output_type": "execute_result"
    }
   ],
   "source": [
    "# round(number,[ndigits]) 함수는 숫자를 입력받아 반올림\n",
    "round(4.6)\n",
    "round(5.678, 2)"
   ]
  },
  {
   "cell_type": "code",
   "execution_count": 125,
   "metadata": {},
   "outputs": [
    {
     "data": {
      "text/plain": [
       "['e', 'o', 'r', 'z']"
      ]
     },
     "execution_count": 125,
     "metadata": {},
     "output_type": "execute_result"
    }
   ],
   "source": [
    "# sorted(iterable) 함수는 입력값을 정렬한 후 그 결과를 리스트로 돌려주는 함수\n",
    "sorted([3, 1, 2])\n",
    "sorted(['a', 'c', 'b'])\n",
    "sorted(\"zero\")"
   ]
  },
  {
   "cell_type": "code",
   "execution_count": 126,
   "metadata": {},
   "outputs": [
    {
     "data": {
      "text/plain": [
       "'3'"
      ]
     },
     "execution_count": 126,
     "metadata": {},
     "output_type": "execute_result"
    }
   ],
   "source": [
    "str(3) # str(object)은 문자열 형태로 객체를 변환하여 돌려주는 함수"
   ]
  },
  {
   "cell_type": "code",
   "execution_count": 127,
   "metadata": {},
   "outputs": [
    {
     "data": {
      "text/plain": [
       "6"
      ]
     },
     "execution_count": 127,
     "metadata": {},
     "output_type": "execute_result"
    }
   ],
   "source": [
    "sum([1,2,3]) # sum(iterable) 은 입력받은 리스트나 튜플의 모든 요소의 합을 돌려주는 함수"
   ]
  },
  {
   "cell_type": "code",
   "execution_count": 128,
   "metadata": {},
   "outputs": [
    {
     "data": {
      "text/plain": [
       "(1, 2, 3)"
      ]
     },
     "execution_count": 128,
     "metadata": {},
     "output_type": "execute_result"
    }
   ],
   "source": [
    "tuple(\"abc\") # 튜플 형태로 바꾸어 돌려주는 함수\n",
    "tuple([1, 2, 3])"
   ]
  },
  {
   "cell_type": "code",
   "execution_count": 129,
   "metadata": {},
   "outputs": [
    {
     "name": "stdout",
     "output_type": "stream",
     "text": [
      "<class 'str'>\n",
      "<class 'list'>\n",
      "<class '_io.TextIOWrapper'>\n"
     ]
    }
   ],
   "source": [
    "print(type(\"abc\")) # 입력값의 자료형이 무엇인지 알려 주는 함수\n",
    "print(type([ ]))\n",
    "print(type(open(\"test\", 'w')))"
   ]
  },
  {
   "cell_type": "code",
   "execution_count": 130,
   "metadata": {},
   "outputs": [
    {
     "name": "stdout",
     "output_type": "stream",
     "text": [
      "[(1, 4, 7), (2, 5, 8), (3, 6, 9)]\n",
      "[('a', 'd'), ('b', 'e'), ('c', 'f')]\n"
     ]
    }
   ],
   "source": [
    "# 동일한 개수로 이루어진 자료형을 묶어 주는 역할을 하는 함수\n",
    "print(list(zip([1, 2, 3], [4, 5, 6], [7, 8, 9])))\n",
    "print(list(zip(\"abc\", \"def\")))"
   ]
  },
  {
   "cell_type": "markdown",
   "metadata": {},
   "source": [
    "### 05-6 라이브러리\n",
    "- 어떤 일을 할 때 어떤 라이브러리를 사용해야 한다는 정도만"
   ]
  },
  {
   "cell_type": "code",
   "execution_count": null,
   "metadata": {},
   "outputs": [],
   "source": [
    "# sys : 파이썬 인터프리터가 제공하는 변수와 함수를 직접 제어할 수 있게 해주는 모듈\n",
    "\n",
    "# 명령 행에서 인수 전달하기\n",
    "# python argv_test.py you need python -> ['argv_test.py', 'you', 'need', 'python']\n",
    "\n",
    "# 강제로 스크립트 종료하기 - sys.exit()\n",
    "\n",
    "# 자신이 만든 모듈 불러와 사용하기 - sys.path\n",
    "# sys.path는 파이썬 모듈들이 저장되어 있는 위치를 나타내며, 이 위치에 있는 파이썬 모듈은 경로에 상관없이 어디에서나 불러올 수 있다."
   ]
  },
  {
   "cell_type": "code",
   "execution_count": 6,
   "metadata": {},
   "outputs": [
    {
     "name": "stdout",
     "output_type": "stream",
     "text": [
      "{1: 'python', 2: 'you need'}\n"
     ]
    }
   ],
   "source": [
    "# pickle : 객체의 형태를 그대로 유지하면서 파일에 저장하고 불러올 수 있게 하는 모듈\n",
    "\n",
    "import pickle # dump 함수를 사용하여 딕셔너리 객체인 data를 그대로 파일에 저장하는 방법\n",
    "f = open(\"test2.txt\", 'wb')\n",
    "data = {1: 'python', 2: 'you need'}\n",
    "pickle.dump(data, f)\n",
    "f.close()\n",
    "\n",
    "import pickle\n",
    "f = open(\"test2.txt\", 'rb')\n",
    "data = pickle.load(f)\n",
    "print(data)"
   ]
  },
  {
   "cell_type": "code",
   "execution_count": null,
   "metadata": {},
   "outputs": [],
   "source": [
    "# OS : 환경 변수나 디렉터리, 파일 등의 OS 자원을 제어할 수 있게 해주는 모듈\n",
    "\n",
    "# 내 시스템의 환경 변수값을 알고 싶을 때 - os.environ\n",
    "import os\n",
    "os.environ # 내 시스템 정보를 Dic 객체로 돌려준다.\n",
    "os.environ['PATH']\n",
    "\n",
    "os.chdir(\"C:\\WINDOWS\") # 디렉터리 위치 변경하기\n",
    "\n",
    "os.getcwd() # 디렉터리 위치 돌려받기 # 'C:\\WINDOWS'\n",
    "\n",
    "os.system(\"dir\") # 시스템 명령어 호출하기\n",
    "\n",
    "f = os.popen(\"dir\") # 실행한 시스템 명령어의 결괏값 돌려받기\n",
    "print(f.read())"
   ]
  },
  {
   "cell_type": "code",
   "execution_count": 11,
   "metadata": {},
   "outputs": [
    {
     "data": {
      "text/plain": [
       "'test_copy.py'"
      ]
     },
     "execution_count": 11,
     "metadata": {},
     "output_type": "execute_result"
    }
   ],
   "source": [
    "# shutil : 파일을 복사해 주는 파이썬 모듈\n",
    "import shutil # shell utility\n",
    "shutil.copy(\"test.py\", \"test_copy.py\")"
   ]
  },
  {
   "cell_type": "code",
   "execution_count": 16,
   "metadata": {},
   "outputs": [
    {
     "name": "stdout",
     "output_type": "stream",
     "text": [
      "['/Users/young/Shioame27/0_Coding/Machine_Learning/Jump to Python']\n"
     ]
    }
   ],
   "source": [
    "# glob : 특정 디렉터리에 있는 파일 이름 모두를 알아야 할 때 사용하는 모듈\n",
    "\n",
    "# 디렉터리에 있는 파일들을 리스트로 만들기\n",
    "import glob\n",
    "print(glob.glob(\"/Users/young/Shioame27/0_Coding/Machine_Learning/Jump to Python*\"))"
   ]
  },
  {
   "cell_type": "code",
   "execution_count": 18,
   "metadata": {},
   "outputs": [
    {
     "data": {
      "text/plain": [
       "<function BufferedRandom.close>"
      ]
     },
     "execution_count": 18,
     "metadata": {},
     "output_type": "execute_result"
    }
   ],
   "source": [
    "# tempfile : 파일을 임시로 만들어서 사용할 때 유용한 모듈\n",
    "import tempfile\n",
    "filename = tempfile.mkstemp()\n",
    "filename\n",
    "\n",
    "f = tempfile.TemporaryFile() # 임시 저장 공간으로 사용할 파일 객체를 돌려준다.\n",
    "f.close"
   ]
  },
  {
   "cell_type": "code",
   "execution_count": 27,
   "metadata": {},
   "outputs": [
    {
     "name": "stdout",
     "output_type": "stream",
     "text": [
      "1639697525.261368\n",
      "time.struct_time(tm_year=2021, tm_mon=12, tm_mday=17, tm_hour=8, tm_min=32, tm_sec=5, tm_wday=4, tm_yday=351, tm_isdst=0)\n",
      "Fri Dec 17 08:32:05 2021\n",
      "Fri Dec 17 08:32:05 2021\n",
      "50\n",
      "0\n",
      "1\n",
      "2\n",
      "3\n",
      "4\n",
      "5\n",
      "6\n",
      "7\n",
      "8\n",
      "9\n"
     ]
    }
   ],
   "source": [
    "# time : 시간과 관련된 time 모듈\n",
    "\n",
    "\n",
    "import time\n",
    "print(time.time()) # time.time : UTC를 사용하여 현재 시간을 실수 형태로 돌려주는 함수, 1970년 1월 1일 0시 0분 0초를 기준으로 지난 시간을 초 단위로 돌려준다.\n",
    "print(time.localtime(time.time())) # time.time()이 돌려준 실수 값을 사용해서 연도, 월, 일, 시, 분, 초, ... 의 형태로 바꾸어 주는 함수\n",
    "print(time.asctime(time.localtime(time.time()))) # 위 time.localtime에 의해서 반환된 튜플 형태의 값을 인수로 받아서 날짜와 시간을 알아보기 쉬운 형태로 돌려주는 함수\n",
    "print(time.ctime()) # 현재 시간\n",
    "print(time.strftime('%W', time.localtime(time.time())))\n",
    "\n",
    "for i in range(10):\n",
    "    print(i)\n",
    "    time.sleep(1) # 1초간 정지"
   ]
  },
  {
   "cell_type": "code",
   "execution_count": 43,
   "metadata": {},
   "outputs": [
    {
     "name": "stdout",
     "output_type": "stream",
     "text": [
      "   December 2021\n",
      "Mo Tu We Th Fr Sa Su\n",
      "       1  2  3  4  5\n",
      " 6  7  8  9 10 11 12\n",
      "13 14 15 16 17 18 19\n",
      "20 21 22 23 24 25 26\n",
      "27 28 29 30 31\n"
     ]
    },
    {
     "data": {
      "text/plain": [
       "(2, 31)"
      ]
     },
     "execution_count": 43,
     "metadata": {},
     "output_type": "execute_result"
    }
   ],
   "source": [
    "# calendar : 파이썬에서 달력을 볼 수 있게 해주는 모듈\n",
    "import calendar\n",
    "calendar.calendar(2021) # calendar.prcal(2021) (per)\n",
    "calendar.prmonth(2021, 12)\n",
    "calendar.weekday(2021, 12, 17) # 금요일이니까 4\n",
    "calendar.monthrange(2021, 12) # 화요일, 31일까지."
   ]
  },
  {
   "cell_type": "code",
   "execution_count": 179,
   "metadata": {},
   "outputs": [
    {
     "name": "stdout",
     "output_type": "stream",
     "text": [
      "3\n",
      "2\n",
      "4\n",
      "5\n",
      "1\n"
     ]
    }
   ],
   "source": [
    "# random : 난수(규칙이 없는 임의의 수)를 발생시키는 모듈\n",
    "import random\n",
    "random.random() # 0.0에서 1.0 사이의 실수 중에서 난수 값을 돌려준다\n",
    "random.randint(1, 10) # 1에서 10 사이의 정수 중에서 난수 값을 돌려준다\n",
    "\n",
    "import random\n",
    "# def random_pop(data):\n",
    "#     number = random.randint(0, len(data)-1)\n",
    "#     return data.pop(number)\n",
    "\n",
    "def random_pop(data):\n",
    "    number = random.choice(data) # 입력으로 받은 리스트에서 무작위로 하나를 선택하여 돌려준다.\n",
    "    data.remove(number)\n",
    "    return number\n",
    "\n",
    "if __name__ == \"__main__\":\n",
    "    data = [1, 2, 3, 4, 5]\n",
    "    while data: \n",
    "        print(random_pop(data))"
   ]
  },
  {
   "cell_type": "code",
   "execution_count": 189,
   "metadata": {},
   "outputs": [
    {
     "name": "stdout",
     "output_type": "stream",
     "text": [
      "[5, 0, 4, 3, 1, 2]\n"
     ]
    }
   ],
   "source": [
    "import random\n",
    "data = list(range(6))\n",
    "random.shuffle(data)\n",
    "print(data)"
   ]
  },
  {
   "cell_type": "code",
   "execution_count": 191,
   "metadata": {},
   "outputs": [
    {
     "data": {
      "text/plain": [
       "True"
      ]
     },
     "execution_count": 191,
     "metadata": {},
     "output_type": "execute_result"
    }
   ],
   "source": [
    "# webbrowser\n",
    "\n",
    "import webbrowser\n",
    "webbrowser.open(\"http://google.com\")\n",
    "webbrowser.open_new(\"http://google.com\")"
   ]
  },
  {
   "cell_type": "code",
   "execution_count": null,
   "metadata": {},
   "outputs": [],
   "source": [
    "# 스레드를 다루는 threading 모듈\n",
    "import time\n",
    "import threading\n",
    "\n",
    "def long_task():  # 5초의 시간이 걸리는 함수\n",
    "    for i in range(5):\n",
    "        time.sleep(1)  # 1초간 대기한다.\n",
    "        print(\"working:%s\\n\" % i)\n",
    "\n",
    "print(\"Start\")\n",
    "\n",
    "# for i in range(5):  # long_task를 5회 수행한다.\n",
    "#     long_task()\n",
    "\n",
    "threads = []\n",
    "for i in range(5):\n",
    "    t = threading.Thread(target=long_task)  # 스레드를 생성한다.\n",
    "    threads.append(t) \n",
    "\n",
    "for t in threads:\n",
    "    t.start()  # 스레드를 실행한다.\n",
    "\n",
    "for t in threads:\n",
    "    t.join()  # join으로 스레드가 종료될때까지 기다린다.\n",
    "\n",
    "print(\"End\")"
   ]
  },
  {
   "cell_type": "markdown",
   "metadata": {},
   "source": [
    "### 05장 연습문제"
   ]
  },
  {
   "cell_type": "code",
   "execution_count": null,
   "metadata": {},
   "outputs": [
    {
     "name": "stdout",
     "output_type": "stream",
     "text": [
      "3\n"
     ]
    }
   ],
   "source": [
    "# Q1\n",
    "class Calculator:\n",
    "    def __init__(self):\n",
    "        self.value = 0\n",
    "\n",
    "    def add(self, val):\n",
    "        self.value += val\n",
    "\n",
    "class UpgradeCalculator(Calculator):\n",
    "    def minus(self, val):\n",
    "        self.value -= val\n",
    "\n",
    "cal = UpgradeCalculator()\n",
    "cal.add(10)\n",
    "cal.minus(7)\n",
    "\n",
    "print(cal.value) # 10에서 7을 뺀 3을 출력"
   ]
  },
  {
   "cell_type": "code",
   "execution_count": null,
   "metadata": {},
   "outputs": [
    {
     "name": "stdout",
     "output_type": "stream",
     "text": [
      "100\n"
     ]
    }
   ],
   "source": [
    "# Q2\n",
    "class Calculator:\n",
    "    def __init__(self):\n",
    "        self.value = 0\n",
    "\n",
    "    def add(self, val):\n",
    "        self.value += val\n",
    "\n",
    "class MaxLimitCalculator(Calculator):\n",
    "        def add(self, val):\n",
    "            self.value += val\n",
    "            if self.value >= 100:\n",
    "                self.value = 100\n",
    "\n",
    "cal = MaxLimitCalculator()\n",
    "cal.add(50) # 50 더하기\n",
    "cal.add(60) # 60 더하기\n",
    "\n",
    "print(cal.value) # 100 출력\n"
   ]
  },
  {
   "cell_type": "code",
   "execution_count": null,
   "metadata": {},
   "outputs": [
    {
     "name": "stdout",
     "output_type": "stream",
     "text": [
      "False\n",
      "True\n"
     ]
    }
   ],
   "source": [
    "# Q3\n",
    "print(all([1, 2, abs(-3)-3]))\n",
    "# False (절대값으로 3-3 = 0이어서 전제 True가 아니므로)\n",
    "\n",
    "print(chr(ord('a')) == 'a')\n",
    "# True (유니코드값으로 변환 후 문자로 재전환 == 그대로)"
   ]
  },
  {
   "cell_type": "code",
   "execution_count": null,
   "metadata": {},
   "outputs": [
    {
     "name": "stdout",
     "output_type": "stream",
     "text": [
      "[1, 3, 8]\n"
     ]
    }
   ],
   "source": [
    "\n",
    "# Q4\n",
    "print(list(filter(lambda a: a>0, [1, -2, 3, -5, 8, -3])))"
   ]
  },
  {
   "cell_type": "code",
   "execution_count": null,
   "metadata": {},
   "outputs": [
    {
     "data": {
      "text/plain": [
       "234"
      ]
     },
     "execution_count": 102,
     "metadata": {},
     "output_type": "execute_result"
    }
   ],
   "source": [
    "# Q5\n",
    "int(hex(234), 16)"
   ]
  },
  {
   "cell_type": "code",
   "execution_count": null,
   "metadata": {},
   "outputs": [
    {
     "name": "stdout",
     "output_type": "stream",
     "text": [
      "[3, 6, 9, 12]\n"
     ]
    }
   ],
   "source": [
    "# Q6\n",
    "print(list(map(lambda a: a*3, [1, 2, 3, 4])))"
   ]
  },
  {
   "cell_type": "code",
   "execution_count": null,
   "metadata": {},
   "outputs": [
    {
     "name": "stdout",
     "output_type": "stream",
     "text": [
      "-1\n"
     ]
    }
   ],
   "source": [
    "# Q7\n",
    "a = [-8, 2, 7, 5, -3, 5, 0, 1]\n",
    "print(max(a) + min(a))"
   ]
  },
  {
   "cell_type": "code",
   "execution_count": null,
   "metadata": {},
   "outputs": [
    {
     "data": {
      "text/plain": [
       "5.6667"
      ]
     },
     "execution_count": 19,
     "metadata": {},
     "output_type": "execute_result"
    }
   ],
   "source": [
    "# Q8\n",
    "round(17/3, 4)"
   ]
  },
  {
   "cell_type": "code",
   "execution_count": null,
   "metadata": {},
   "outputs": [],
   "source": [
    "# Q9\n"
   ]
  },
  {
   "cell_type": "code",
   "execution_count": null,
   "metadata": {},
   "outputs": [
    {
     "name": "stdout",
     "output_type": "stream",
     "text": [
      "\n"
     ]
    },
    {
     "name": "stderr",
     "output_type": "stream",
     "text": [
      "/bin/sh: dir: command not found\n"
     ]
    }
   ],
   "source": [
    "# Q10\n",
    "import os\n",
    "os.chdir(\"/Users/young/Shioame27/0_Coding/Machine_Learning/Jump to Python\")\n",
    "result = os.popen(\"dir\")\n",
    "print(result.read())"
   ]
  },
  {
   "cell_type": "code",
   "execution_count": null,
   "metadata": {},
   "outputs": [],
   "source": [
    "# Q11\n",
    "import glob\n",
    "glob.glob(\"/Users/young/Shioame27/0_Coding/Machine_Learning/Jump to Python/*.py\")"
   ]
  },
  {
   "cell_type": "code",
   "execution_count": null,
   "metadata": {},
   "outputs": [
    {
     "data": {
      "text/plain": [
       "'2021/12/23 12:07:51'"
      ]
     },
     "execution_count": 29,
     "metadata": {},
     "output_type": "execute_result"
    }
   ],
   "source": [
    "# Q12\n",
    "import time\n",
    "time.strftime(\"%Y/%m/%d %H:%M:%S\")"
   ]
  },
  {
   "cell_type": "code",
   "execution_count": null,
   "metadata": {},
   "outputs": [
    {
     "name": "stdout",
     "output_type": "stream",
     "text": [
      "[5, 14, 24, 25, 27, 43]\r"
     ]
    }
   ],
   "source": [
    "# Q13 : random 모듈을 사용하여 로또 번호(1~45 사이의 숫자 6개)를 생성해 보자\n",
    "import random\n",
    "import time\n",
    "\n",
    "lotto = []\n",
    "while len(lotto) < 6:\n",
    "    time.sleep(1)\n",
    "    a = random.randint(1, 46)\n",
    "    if a in lotto:\n",
    "        continue\n",
    "    lotto.append(a)\n",
    "    print(lotto, end='\\r')\n"
   ]
  },
  {
   "cell_type": "code",
   "execution_count": null,
   "metadata": {},
   "outputs": [],
   "source": [
    "# Q13\n",
    "import random\n",
    "import time\n",
    "\n",
    "def lotto():\n",
    "    group = list(range(1, 46))\n",
    "    i = 0\n",
    "    while i < 6:\n",
    "        i += 1\n",
    "        n = random.choice(group)\n",
    "        group.remove(n)\n",
    "        print(n, end=' ')\n",
    "        time.sleep(1)\n",
    "\n",
    "lotto()"
   ]
  }
 ],
 "metadata": {
  "interpreter": {
   "hash": "53e118947077c4ac14cd9b5bd8ffefe9287941f870ede6c6d93932b2f5dedd6a"
  },
  "kernelspec": {
   "display_name": "Python 3.7.0 64-bit ('test1': conda)",
   "language": "python",
   "name": "python3"
  },
  "language_info": {
   "codemirror_mode": {
    "name": "ipython",
    "version": 3
   },
   "file_extension": ".py",
   "mimetype": "text/x-python",
   "name": "python",
   "nbconvert_exporter": "python",
   "pygments_lexer": "ipython3",
   "version": "3.7.0"
  },
  "orig_nbformat": 4
 },
 "nbformat": 4,
 "nbformat_minor": 2
}
