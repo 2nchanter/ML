{
 "cells": [
  {
   "cell_type": "markdown",
   "metadata": {},
   "source": [
    "# 02-1 숫자형\n",
    "## 숫자형이란?\n",
    "- 숫자형(Number)이란 숫자 형태로 이루어진 자료형"
   ]
  },
  {
   "cell_type": "code",
   "execution_count": null,
   "metadata": {},
   "outputs": [],
   "source": [
    "# 숫자형은 어떻게 만들고 사용할까?\n",
    "\n",
    "# 정수형\n",
    "a = 123\n",
    "a = -178\n",
    "a = 0\n",
    "\n",
    "# 실수형\n",
    "a = 1.2\n",
    "a = -3.45\n",
    "a = 4.24E10 # ^10\n",
    "a = 4.24e-10 # ^-10\n",
    "\n",
    "# 8진수와 16진수\n",
    "a = 0o177\n",
    "\n",
    "a = 0x8ff\n",
    "b = 0xABC"
   ]
  },
  {
   "cell_type": "code",
   "execution_count": null,
   "metadata": {},
   "outputs": [],
   "source": [
    "# 숫자형을 활용하기 위한 연산자\n",
    "\n",
    "# 사칙연산\n",
    "a = 3\n",
    "b = 4\n",
    "print(a+b)\n",
    "print(a*b)\n",
    "print(a/b)\n",
    "\n",
    "print(a**b) # a^b\n",
    "print(a%b) # 3/7의 나머지 = 3\n",
    "print(b%a)\n",
    "print(a//b) # 3/7의 몫 = 0\n",
    "print(b//a)"
   ]
  },
  {
   "cell_type": "markdown",
   "metadata": {},
   "source": [
    "## 02-2 문자열 자료형\n",
    "- 문자열(String)이란 문자, 단어 등으로 구성된 문자들의 집합"
   ]
  },
  {
   "cell_type": "code",
   "execution_count": null,
   "metadata": {},
   "outputs": [],
   "source": [
    "# 문자열은 어떻게 만들고 사용할까?\n",
    "\"Hello World\"\n",
    "'Hello World'\n",
    "\"\"\"Hello World\"\"\"\n",
    "'''Hello World'''\n",
    "\n",
    "a = 'Python\\'s favorite food is perl' # 백슬래시(\\)를 사용해서 작은따옴표(')와 큰따옴표(\")를 문자열에 포함시키기\n",
    "print(a)\n",
    "\n",
    "a = 'Python\\'s favorite food is\\nperl' # 줄을 바꾸기 위한 이스케이프 코드 \\n\n",
    "print(a)\n",
    "\n",
    "multiline = '''\n",
    "Life is too short\n",
    "You need python\n",
    "'''\n",
    "print(multiline)\n"
   ]
  },
  {
   "cell_type": "code",
   "execution_count": null,
   "metadata": {},
   "outputs": [],
   "source": [
    "# 문자열 연산하기\n",
    "head = \"Python\"\n",
    "tail = \" is fun!\"\n",
    "print(head + tail) # 문자열 더하기\n",
    "print(head * 2) # 문자열 곱하기\n",
    "print(\"=\"*40) # 여기까지!\n",
    "\n",
    "len(head) # 문자열 길이 구하기"
   ]
  },
  {
   "cell_type": "code",
   "execution_count": null,
   "metadata": {},
   "outputs": [],
   "source": [
    "# 문자열 indexing(가리키다)과 slicing(잘라내다)\n",
    "a = \"Life is too short, You need Python\"\n",
    "#    0         1         2         3 \n",
    "#    0123456789012345678901234567890123\n",
    "\n",
    "print(a[3]) # 파이썬은 0부터 숫자를 센다\n",
    "print(a[-1]) # 뒤에서 첫번째. -0이 아닌 이유는? -0 = 0 = L이기 때문.\n",
    "\n",
    "print(a[0:3]) # 0 <= a < 3으로, 끝 번호는 미포함. print(a[0]+a[1]+a[2]). \n",
    "print(a[28:]) # 28 <= a < END\n",
    "\n",
    "print(a[-22:17])\n",
    "\n",
    "b = \"20211128Sunny\"\n",
    "year = b[:4]\n",
    "day = b[4:8]\n",
    "weather = b[8:]\n",
    "print(year, day, weather)"
   ]
  },
  {
   "cell_type": "code",
   "execution_count": null,
   "metadata": {},
   "outputs": [],
   "source": [
    "# 문자열 formatting\n",
    "number = 10 # %d : inteager, 정수\n",
    "day = \"three\" # %s : string, 문자열\n",
    "print(\"I ate %d apples. so I was sick for %s days.\" %(number, day))\n",
    "\n",
    "print(\"%10s\" %\"hi\") # 전체 길이가 10개인 문자열 공간에서 대입되는 값을 오른쪽으로 정렬하고 그 앞의 나머지는 공백으로 남겨 두라는 의미\n",
    "print(\"%-10sjane\" %\"hi\")\n",
    "print(\"%0.4f\" %3.12345678) # 소숫점 뒤 4자리까지 반올림\n",
    "\n",
    "# 함수 사용\n",
    "print(\"I eat {0} apples\".format(3))\n",
    "\n",
    "number = 5\n",
    "print(\"I eat {0} apples\".format(number))\n",
    "\n",
    "number = 10\n",
    "day = \"three\"\n",
    "print(\"I ate {0} apples. so I was sick for {1} days.\".format(number, day))\n",
    "print(\"I ate {0} apples. so I was sick fot {day} days.\".format(10, day=3)) # index와 name을 혼용해서 넣기\n",
    "\n",
    "print(\"{0:10}\".format(\"hi\"))\n",
    "print(\"{0:<10}\".format(\"hi\"))\n",
    "print(\"{0:>10}\".format(\"hi\"))\n",
    "print(\"{0:^10}\".format(\"hi\"))\n",
    "print(\"{0:=^10}\".format(\"hi\")) # 채워 넣을 문자 값은 정렬 문자 <, >, ^ 바로 앞에 넣어야 한다.\n",
    "\n",
    "print(\"{0:0.4f}\".format(3.123412))\n",
    "print(\"{0:=>10.4f}\".format(3.123412))"
   ]
  },
  {
   "cell_type": "code",
   "execution_count": null,
   "metadata": {},
   "outputs": [],
   "source": [
    "# f 문자열 포매팅\n",
    "number = 10\n",
    "day = \"three\"\n",
    "print(f\"I ate {number} apples. so I was sick for {day} days.\")\n",
    "\n",
    "number = 10\n",
    "print(f\"I ate {number+1} apples.\") # 표현식도 지원\n",
    "\n",
    "d = {'number' : 10, 'day' : 'three'} # 딕셔너리 넣기\n",
    "print(f'I ate {d[\"number\"]} apples. so I was sick for {d[\"day\"]} days.')\n",
    "\n",
    "print(\"{0:=^10}\".format(\"hi\"))\n",
    "print(f'{\"hi\":=^10}')"
   ]
  },
  {
   "cell_type": "code",
   "execution_count": null,
   "metadata": {},
   "outputs": [],
   "source": [
    "# 문자열 관련 함수들\n",
    "a = \"apple\"\n",
    "print(a.count('p'))\n",
    "\n",
    "print(a.find('p')) # 처음으로 나온 위치를 반환\n",
    "print(a.find('b')) # 존재하지 않으면 -1 반환\n",
    "\n",
    "print(a.index('l'))\n",
    "# print(a.index('b')) # 존재하지 않으면 Error 띄움\n",
    "\n",
    "print(\",\".join('abcd'))\n",
    "print(\".\".join(['a','b','c','d']))\n",
    "\n",
    "a = a.upper()\n",
    "print(a)\n",
    "\n",
    "a = a.lower()\n",
    "print(a)\n",
    "\n",
    "a = \" hi \"\n",
    "print(a.lstrip())\n",
    "print(a.rstrip())\n",
    "print(a.strip())\n",
    "\n",
    "print(a.replace(\"hi\", \"hey\"))\n",
    "\n",
    "a = \"Life is too short\"\n",
    "print(a.split())\n",
    "a = \"Lifee,iss,tooo,shortt\"\n",
    "print(a.split(','))"
   ]
  },
  {
   "cell_type": "markdown",
   "metadata": {},
   "source": [
    "## 02-3 리스트 자료형\n",
    "- 예를 들어 1부터 10까지의 숫자 중 홀수 모음인 1, 3, 5, 7, 9의 집합\n",
    "- 어떠한 자료형도 포함시킬 수 있음\n",
    "- 대괄호([ ])로 감싸 주고 각 요솟값은 쉼표(,)로 구분해 준다."
   ]
  },
  {
   "cell_type": "code",
   "execution_count": null,
   "metadata": {},
   "outputs": [],
   "source": [
    "# 리스트는 어떻게 만들고 사용할까?\n",
    "odd = [1, 3, 5, 7, 9] # 리스트명 = [요소1, 요소2, 요소3, ...]\n",
    "e = [1, 2, ['Life', 'is']] # 리스트 자체를 요소값으로 가질수도 있다."
   ]
  },
  {
   "cell_type": "code",
   "execution_count": null,
   "metadata": {},
   "outputs": [],
   "source": [
    "# List Indexing\n",
    "a = [1, 2, 3]\n",
    "a[0]\n",
    "a[0] + a[2] # 1+3\n",
    "a[-1]\n",
    "\n",
    "a = [1, 2, 3,['a', 'b', 'c']]\n",
    "a[0]\n",
    "a[-1]\n",
    "a[3][1]\n",
    "\n",
    "# List Slicing\n",
    "a[0:2] # 0<= a <2\n",
    "a[3][:2]"
   ]
  },
  {
   "cell_type": "code",
   "execution_count": null,
   "metadata": {},
   "outputs": [],
   "source": [
    "# List 연산하기\n",
    "a = [1, 2, 3]\n",
    "b = [4, 5, 6]\n",
    "a + b # list 합치기\n",
    "a * 3 # list 반복하기\n",
    "\n",
    "c = a * 3\n",
    "len(c) # List 길이구하기\n",
    "\n",
    "str(a[-1]) + \"Hi\" # 응용"
   ]
  },
  {
   "cell_type": "code",
   "execution_count": null,
   "metadata": {},
   "outputs": [],
   "source": [
    "# List의 수정과 삭제\n",
    "a = [1 ,2, 3]\n",
    "a[2] = 4 # 3을 4로 바꾸었다 !\n",
    "\n",
    "del a[1] # 2를 삭제했다 !\n",
    "\n",
    "a = [1, 2, 3, 4, 5]\n",
    "del a[2:] # 2번째부터 모두 삭제했다 !\n",
    "a"
   ]
  },
  {
   "cell_type": "code",
   "execution_count": null,
   "metadata": {},
   "outputs": [],
   "source": [
    "# List 관련 함수들\n",
    "a = [1, 2, 3]\n",
    "a.append(4) # 4를 맨 마지막에 추가했다 !\n",
    "a.append([5, 6]) # list도 추가가 가능하다.\n",
    "\n",
    "a = [1, 4, 3, 2]\n",
    "a.sort() # list가 오름차순으로 정리되었다 !\n",
    "\n",
    "a = ['a', 'c', 'b']\n",
    "a.sort() # 문자도 정리가 된다.\n",
    "\n",
    "a.reverse() # 순서가 뒤집혔다 !\n",
    "\n",
    "a.index('a') # a의 위치를 알려준다 ! (참고로 find는 없음)\n",
    "\n",
    "a.insert(1, 'd') # 1위치에 d가 삽입되었다 !\n",
    "\n",
    "a = [1, 2, 3, 1, 2, 3]\n",
    "a.remove(3) # 첫번째 찾은 3만 제거되었다 !\n",
    "\n",
    "a.pop() # 맨 뒤 요소를 내보냈다 !\n",
    "a.pop(2) # 2위치에 있는 요소를 내보냈다 !\n",
    "\n",
    "a = [1, 2, 3, 1, 2, 3]\n",
    "a.count(1) # 1의 갯수를 셌다 !\n",
    "\n",
    "a.extend([4, 5]) # extend는 list만 올 수 있다 !\n",
    "\n",
    "b = [6, 7]\n",
    "a.extend(b) # list 변수도 가능하다 !\n",
    "a"
   ]
  },
  {
   "cell_type": "markdown",
   "metadata": {},
   "source": [
    "## 02-4 튜플 자료형\n",
    "- 튜플(tuple)은 몇 가지 점을 제외하곤 리스트와 거의 비슷하며 리스트와 다른 점은 다음과 같다.\n",
    "- 리스트는 [ ]으로 둘러싸지만 튜플은 ( )으로 둘러싼다.\n",
    "- 리스트는 그 값의 생성, 삭제, 수정이 가능하지만 튜플은 그 값을 바꿀 수 없다."
   ]
  },
  {
   "cell_type": "code",
   "execution_count": 134,
   "metadata": {},
   "outputs": [],
   "source": [
    "# tuple은 어떻게 만들까?\n",
    "t1 = ()\n",
    "t2 = (1,)\n",
    "t3 = (1, 2, 3)\n",
    "t4 = 1, 2, 3\n",
    "t5 = ('a', 'b', ('ab', 'cd'))\n",
    "\n",
    "t1 = (1, 2, 'a', 'b')\n",
    "del t1[0] # 요소 삭제 불가\n",
    "t1[0] = 'c' # 요소 변경 불가"
   ]
  },
  {
   "cell_type": "code",
   "execution_count": 142,
   "metadata": {},
   "outputs": [
    {
     "data": {
      "text/plain": [
       "2"
      ]
     },
     "execution_count": 142,
     "metadata": {},
     "output_type": "execute_result"
    }
   ],
   "source": [
    "# tuple 다루기\n",
    "t1 = (1, 2, 'a', 'b')\n",
    "t1[3]\n",
    "t1[2:]\n",
    "\n",
    "t2 = (3, 4)\n",
    "t1 + t2\n",
    "t2 * 3\n",
    "len(t2)\n"
   ]
  },
  {
   "cell_type": "markdown",
   "metadata": {},
   "source": [
    "## 02-5 딕셔너리 자료형\n",
    "- Dict는 Key와 Value를 한 쌍으로 갖는 자료형\n",
    "- 연관 배열(Associative array) 또는 해시(Hash)라고 한다.\n",
    "- ex) 사람은 누구든지 \"이름\" = \"홍길동\", \"생일\" = \"몇 월 며칠\" 등으로 구별할 수 있다."
   ]
  },
  {
   "cell_type": "code",
   "execution_count": null,
   "metadata": {},
   "outputs": [],
   "source": [
    "# Dictionary는 어떻게 만들까?\n",
    "# {Key1:Value1, Key2:Value2, Key3:Value3, ...}\n",
    "dic = {'name':'pey', 'phone':'0119993323', 'birth':'1118'}\n",
    "a = {1:'hi'} # 정수에 문자열 배치\n",
    "a = {'a':[1, 2, 3]} # 문자에 list 배치"
   ]
  },
  {
   "cell_type": "code",
   "execution_count": 147,
   "metadata": {},
   "outputs": [
    {
     "data": {
      "text/plain": [
       "{2: 'b', 'name': 'pey', 3: [1, 2, 3]}"
      ]
     },
     "execution_count": 147,
     "metadata": {},
     "output_type": "execute_result"
    }
   ],
   "source": [
    "# Dictionary 쌍 추가, 삭제\n",
    "a = {1:'a'}\n",
    "a[2] = 'b' # dict 쌍 추가\n",
    "a['name'] = 'pey'\n",
    "a[3] = [1, 2, 3]\n",
    "\n",
    "del a[1] # dict 쌍 삭제\n",
    "a"
   ]
  },
  {
   "cell_type": "code",
   "execution_count": null,
   "metadata": {},
   "outputs": [],
   "source": [
    "# Dictionary를 사용하는 방법\n"
   ]
  }
 ],
 "metadata": {
  "interpreter": {
   "hash": "53e118947077c4ac14cd9b5bd8ffefe9287941f870ede6c6d93932b2f5dedd6a"
  },
  "kernelspec": {
   "display_name": "Python 3.7.0 64-bit ('test1': conda)",
   "language": "python",
   "name": "python3"
  },
  "language_info": {
   "codemirror_mode": {
    "name": "ipython",
    "version": 3
   },
   "file_extension": ".py",
   "mimetype": "text/x-python",
   "name": "python",
   "nbconvert_exporter": "python",
   "pygments_lexer": "ipython3",
   "version": "3.7.0"
  },
  "orig_nbformat": 4
 },
 "nbformat": 4,
 "nbformat_minor": 2
}
