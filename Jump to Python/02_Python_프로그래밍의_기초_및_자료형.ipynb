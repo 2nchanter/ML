{
 "cells": [
  {
   "cell_type": "markdown",
   "metadata": {},
   "source": [
    "# 02-1 숫자형\n",
    "## 숫자형이란?\n",
    "- 숫자형(Number)이란 숫자 형태로 이루어진 자료형"
   ]
  },
  {
   "cell_type": "code",
   "execution_count": 177,
   "metadata": {},
   "outputs": [],
   "source": [
    "# 숫자형은 어떻게 만들고 사용할까?\n",
    "\n",
    "# 정수형\n",
    "a = 123\n",
    "a = -178\n",
    "a = 0\n",
    "\n",
    "# 실수형\n",
    "a = 1.2\n",
    "a = -3.45\n",
    "a = 4.24E10 # ^10\n",
    "a = 4.24e-10 # ^-10\n",
    "\n",
    "# 8진수와 16진수\n",
    "a = 0o177\n",
    "\n",
    "a = 0x8ff\n",
    "b = 0xABC"
   ]
  },
  {
   "cell_type": "code",
   "execution_count": 178,
   "metadata": {},
   "outputs": [
    {
     "name": "stdout",
     "output_type": "stream",
     "text": [
      "7\n",
      "12\n",
      "0.75\n",
      "81\n",
      "3\n",
      "1\n",
      "0\n",
      "1\n"
     ]
    }
   ],
   "source": [
    "# 숫자형을 활용하기 위한 연산자\n",
    "\n",
    "# 사칙연산\n",
    "a = 3\n",
    "b = 4\n",
    "print(a+b)\n",
    "print(a*b)\n",
    "print(a/b)\n",
    "\n",
    "print(a**b) # a^b\n",
    "print(a%b) # 3/7의 나머지 = 3\n",
    "print(b%a)\n",
    "print(a//b) # 3/7의 몫 = 0\n",
    "print(b//a)"
   ]
  },
  {
   "cell_type": "markdown",
   "metadata": {},
   "source": [
    "## 02-2 문자열 자료형\n",
    "- 문자열(String)이란 문자, 단어 등으로 구성된 문자들의 집합"
   ]
  },
  {
   "cell_type": "code",
   "execution_count": 179,
   "metadata": {},
   "outputs": [
    {
     "name": "stdout",
     "output_type": "stream",
     "text": [
      "Python's favorite food is perl\n",
      "Python's favorite food is\n",
      "perl\n",
      "\n",
      "Life is too short\n",
      "You need python\n",
      "\n"
     ]
    }
   ],
   "source": [
    "# 문자열은 어떻게 만들고 사용할까?\n",
    "\"Hello World\"\n",
    "'Hello World'\n",
    "\"\"\"Hello World\"\"\"\n",
    "'''Hello World'''\n",
    "\n",
    "a = 'Python\\'s favorite food is perl' # 백슬래시(\\)를 사용해서 작은따옴표(')와 큰따옴표(\")를 문자열에 포함시키기\n",
    "print(a)\n",
    "\n",
    "a = 'Python\\'s favorite food is\\nperl' # 줄을 바꾸기 위한 이스케이프 코드 \\n\n",
    "print(a)\n",
    "\n",
    "multiline = '''\n",
    "Life is too short\n",
    "You need python\n",
    "'''\n",
    "print(multiline)\n"
   ]
  },
  {
   "cell_type": "code",
   "execution_count": 180,
   "metadata": {},
   "outputs": [
    {
     "name": "stdout",
     "output_type": "stream",
     "text": [
      "Python is fun!\n",
      "PythonPython\n",
      "========================================\n"
     ]
    },
    {
     "data": {
      "text/plain": [
       "6"
      ]
     },
     "execution_count": 180,
     "metadata": {},
     "output_type": "execute_result"
    }
   ],
   "source": [
    "# 문자열 연산하기\n",
    "head = \"Python\"\n",
    "tail = \" is fun!\"\n",
    "print(head + tail) # 문자열 더하기\n",
    "print(head * 2) # 문자열 곱하기\n",
    "print(\"=\"*40) # 여기까지!\n",
    "\n",
    "len(head) # 문자열 길이 구하기"
   ]
  },
  {
   "cell_type": "code",
   "execution_count": 181,
   "metadata": {},
   "outputs": [
    {
     "name": "stdout",
     "output_type": "stream",
     "text": [
      "e\n",
      "n\n",
      "Lif\n",
      "Python\n",
      "short\n",
      "2021 1128 Sunny\n"
     ]
    }
   ],
   "source": [
    "# 문자열 indexing(가리키다)과 slicing(잘라내다)\n",
    "a = \"Life is too short, You need Python\"\n",
    "#    0         1         2         3 \n",
    "#    0123456789012345678901234567890123\n",
    "\n",
    "print(a[3]) # 파이썬은 0부터 숫자를 센다\n",
    "print(a[-1]) # 뒤에서 첫번째. -0이 아닌 이유는? -0 = 0 = L이기 때문.\n",
    "\n",
    "print(a[0:3]) # 0 <= a < 3으로, 끝 번호는 미포함. print(a[0]+a[1]+a[2]). \n",
    "print(a[28:]) # 28 <= a < END\n",
    "\n",
    "print(a[-22:17])\n",
    "\n",
    "b = \"20211128Sunny\"\n",
    "year = b[:4]\n",
    "day = b[4:8]\n",
    "weather = b[8:]\n",
    "print(year, day, weather)"
   ]
  },
  {
   "cell_type": "code",
   "execution_count": 182,
   "metadata": {},
   "outputs": [
    {
     "name": "stdout",
     "output_type": "stream",
     "text": [
      "I ate 10 apples. so I was sick for three days.\n",
      "        hi\n",
      "hi        jane\n",
      "3.1235\n",
      "I eat 3 apples\n",
      "I eat 5 apples\n",
      "I ate 10 apples. so I was sick for three days.\n",
      "I ate 10 apples. so I was sick fot 3 days.\n",
      "hi        \n",
      "hi        \n",
      "        hi\n",
      "    hi    \n",
      "====hi====\n",
      "3.1234\n",
      "====3.1234\n"
     ]
    }
   ],
   "source": [
    "# 문자열 formatting\n",
    "number = 10 # %d : inteager, 정수\n",
    "day = \"three\" # %s : string, 문자열\n",
    "print(\"I ate %d apples. so I was sick for %s days.\" %(number, day))\n",
    "\n",
    "print(\"%10s\" %\"hi\") # 전체 길이가 10개인 문자열 공간에서 대입되는 값을 오른쪽으로 정렬하고 그 앞의 나머지는 공백으로 남겨 두라는 의미\n",
    "print(\"%-10sjane\" %\"hi\")\n",
    "print(\"%0.4f\" %3.12345678) # 소숫점 뒤 4자리까지 반올림\n",
    "\n",
    "# 함수 사용\n",
    "print(\"I eat {0} apples\".format(3))\n",
    "\n",
    "number = 5\n",
    "print(\"I eat {0} apples\".format(number))\n",
    "\n",
    "number = 10\n",
    "day = \"three\"\n",
    "print(\"I ate {0} apples. so I was sick for {1} days.\".format(number, day))\n",
    "print(\"I ate {0} apples. so I was sick fot {day} days.\".format(10, day=3)) # index와 name을 혼용해서 넣기\n",
    "\n",
    "print(\"{0:10}\".format(\"hi\"))\n",
    "print(\"{0:<10}\".format(\"hi\"))\n",
    "print(\"{0:>10}\".format(\"hi\"))\n",
    "print(\"{0:^10}\".format(\"hi\"))\n",
    "print(\"{0:=^10}\".format(\"hi\")) # 채워 넣을 문자 값은 정렬 문자 <, >, ^ 바로 앞에 넣어야 한다.\n",
    "\n",
    "print(\"{0:0.4f}\".format(3.123412))\n",
    "print(\"{0:=>10.4f}\".format(3.123412))"
   ]
  },
  {
   "cell_type": "code",
   "execution_count": 183,
   "metadata": {},
   "outputs": [
    {
     "name": "stdout",
     "output_type": "stream",
     "text": [
      "I ate 10 apples. so I was sick for three days.\n",
      "I ate 11 apples.\n",
      "I ate 10 apples. so I was sick for three days.\n",
      "====hi====\n",
      "====hi====\n"
     ]
    }
   ],
   "source": [
    "# f 문자열 포매팅\n",
    "number = 10\n",
    "day = \"three\"\n",
    "print(f\"I ate {number} apples. so I was sick for {day} days.\")\n",
    "\n",
    "number = 10\n",
    "print(f\"I ate {number+1} apples.\") # 표현식도 지원\n",
    "\n",
    "d = {'number' : 10, 'day' : 'three'} # 딕셔너리 넣기\n",
    "print(f'I ate {d[\"number\"]} apples. so I was sick for {d[\"day\"]} days.')\n",
    "\n",
    "print(\"{0:=^10}\".format(\"hi\"))\n",
    "print(f'{\"hi\":=^10}')"
   ]
  }
 ],
 "metadata": {
  "interpreter": {
   "hash": "53e118947077c4ac14cd9b5bd8ffefe9287941f870ede6c6d93932b2f5dedd6a"
  },
  "kernelspec": {
   "display_name": "Python 3.7.0 64-bit ('test1': conda)",
   "language": "python",
   "name": "python3"
  },
  "language_info": {
   "codemirror_mode": {
    "name": "ipython",
    "version": 3
   },
   "file_extension": ".py",
   "mimetype": "text/x-python",
   "name": "python",
   "nbconvert_exporter": "python",
   "pygments_lexer": "ipython3",
   "version": "3.7.0"
  },
  "orig_nbformat": 4
 },
 "nbformat": 4,
 "nbformat_minor": 2
}
