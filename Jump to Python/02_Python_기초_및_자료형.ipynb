{
 "cells": [
  {
   "cell_type": "markdown",
   "metadata": {},
   "source": [
    "### 02-1 숫자형\n",
    "- 숫자형(Number)이란 숫자 형태로 이루어진 자료형"
   ]
  },
  {
   "cell_type": "code",
   "execution_count": null,
   "metadata": {},
   "outputs": [],
   "source": [
    "a = 123 # 정수형\n",
    "a = 4.24e-10 # 실수형\n",
    "a = 0o177 # 8진수\n",
    "a = 0x8ff # 16진수\n",
    "\n",
    "a = 3\n",
    "b = 4\n",
    "a+b # 7\n",
    "a*b # 12\n",
    "a/b # 0\n",
    "a**b # 81\n",
    "a%b # 3/7의 나머지 = 3\n",
    "a//b # 3/7의 몫 = 0"
   ]
  },
  {
   "cell_type": "markdown",
   "metadata": {},
   "source": [
    "### 02-2 문자열 자료형\n",
    "- 문자열(String)이란 문자, 단어 등으로 구성된 문자들의 집합"
   ]
  },
  {
   "cell_type": "code",
   "execution_count": null,
   "metadata": {},
   "outputs": [],
   "source": [
    "a = \"apple\"\n",
    "a = \"ap\\nple\" # ap(줄바꿔서)ple\n",
    "len(a) # 5\n",
    "a[0:3] # app\n",
    "\n",
    "\"%d, %s\" %(10, \"one\") # 10, one\n",
    "\"%10s\" %(\"Hi\") # '        Hi' 10칸\n",
    "\"%.3f\" %(0.4) # 0.400\n",
    "\n",
    "\"{0},{1}\".format(10, \"one\") # 10, one\n",
    "\"{0:10}\".format(\"Hi\") # 'Hi        ' 10칸\n",
    "\"{0:=^10}\".format(\"Hi\") # ====Hi====\n",
    "\n",
    "a = 10\n",
    "b = \"one\"\n",
    "f\"{a}, {b}\" # 10, one\n",
    "f\"{a+1}\" # 11\n",
    "\n",
    "d = {'a':10, 'b':'one'}\n",
    "f\"{d['a']}, {d['b']}\" # 10, one\n",
    "\n",
    "\"{0:=^10}\".format(\"Hi\") # ====Hi====\n",
    "f\"{'Hi':=^10}\" # ====Hi====\n",
    "\n",
    "a = \"apple\"\n",
    "a.count('p') # 2\n",
    "a.find('p') # 1, 값이 없다면 -1\n",
    "a.index('l') # 3, 값이 없다면 Error\n",
    "\".\".join(a) # a.p.p.l.e\n",
    "a.upper() # APPLE\n",
    "a.lower() # apple\n",
    "\n",
    "a = \" Hi \"\n",
    "a.lstrip() # 'Hi '\n",
    "a.rstrip() # ' Hi'\n",
    "a.replace('Hi', 'Hey') # ' Hey '\n",
    "a.split('i') # ' H', ' '"
   ]
  },
  {
   "cell_type": "markdown",
   "metadata": {},
   "source": [
    "### 02-3 리스트 자료형\n",
    "- 예를 들어 1부터 10까지의 숫자 중 홀수 모음인 1, 3, 5, 7, 9의 집합\n",
    "- 어떠한 자료형도 포함시킬 수 있음\n",
    "- 대괄호([ ])로 감싸 주고 각 요솟값은 쉼표(,)로 구분해 준다."
   ]
  },
  {
   "cell_type": "code",
   "execution_count": null,
   "metadata": {},
   "outputs": [],
   "source": [
    "a = [1 ,2, 3, 4, 5]\n",
    "a[3] = 6 # [1, 2, 3, 6, 5]\n",
    "del a[2] # [1, 2, 6, 5]\n",
    "del a[2:] # [1, 2]\n",
    "len(a) # 2\n",
    "\n",
    "a = [1, 3, 2]\n",
    "a.append(4) # [1, 3, 2, 4]\n",
    "a.sort() # [1, 2, 3] (문자도 가능)\n",
    "a.reverse() # [2, 3, 1]\n",
    "a.index(1) # 0\n",
    "a.insert(1, 'a') # [1, 'a', 3, 2]\n",
    "a.remove(3) # [1, 2] (첫번째 찾은 3만)\n",
    "a.pop() # [1, 3] (위치 지정 가능)\n",
    "a.count(1) # 1\n",
    "a.extend([4]) # [1, 3, 2, 4] (extend는 list 및 변수 형식만 가능)\n",
    "\n",
    "# append : 맨 뒤에\n",
    "# insert : 지정된 자리에\n",
    "# extend : list 형태를 맨 뒤에"
   ]
  },
  {
   "cell_type": "markdown",
   "metadata": {},
   "source": [
    "### 02-4 튜플 자료형\n",
    "- 튜플(tuple)은 몇 가지 점을 제외하곤 리스트와 거의 비슷하며 리스트와 다른 점은 다음과 같다.\n",
    "- 리스트는 [ ]으로 둘러싸지만 튜플은 ( )으로 둘러싼다.\n",
    "- 리스트는 그 값의 생성, 삭제, 수정이 가능하지만 튜플은 그 값을 바꿀 수 없다."
   ]
  },
  {
   "cell_type": "code",
   "execution_count": null,
   "metadata": {},
   "outputs": [],
   "source": [
    "t1 = (1, 2, 'a', 'b')\n",
    "# del t1[0] # Error. 요소 삭제 불가\n",
    "# t1[0] = 'c' # Error. 요소 변경 불가\n",
    "\n",
    "t2 = (3, 4)\n",
    "t1 + t2 # (1, 2, 'a', 'b', 3, 4)\n",
    "\n",
    "t3 = t2 * 3\n",
    "len(t3) # 6"
   ]
  },
  {
   "cell_type": "markdown",
   "metadata": {},
   "source": [
    "### 02-5 딕셔너리 자료형\n",
    "- Dict는 Key와 Value를 한 쌍으로 갖는 자료형 - {Key1:Value1, Key2:Value2, Key3:Value3, ...}\n",
    "- 연관 배열(Associative array) 또는 해시(Hash)라고 한다."
   ]
  },
  {
   "cell_type": "code",
   "execution_count": null,
   "metadata": {},
   "outputs": [],
   "source": [
    "a = {1: 'a', 2: 'b'}\n",
    "a['name'] = 'pey' # {1: 'a', 2: 'b', 'name': 'pey'}\n",
    "# a[[3] = 'c' # Key에 가변성 자료형 불가\n",
    "del a[1] # {2: 'b'}\n",
    "\n",
    "a = {1: 'a', 2: 'b', 'name': 'pey'}\n",
    "a.keys() # dict_keys([1, 2, 'name'])\n",
    "a.values() # dict_values(['a', 'b', 'pey'])\n",
    "a.items() # dict_items([(1, 'a'), (2, 'b'), ('name', 'pey')])\n",
    "# a.clear() # a = {}\n",
    "a.get('happy', 'none data') # 'none data' (key가 없을 때 error를 띄우기 때문에 default 값을 갖고옴)\n",
    "1 in a # True"
   ]
  },
  {
   "cell_type": "markdown",
   "metadata": {},
   "source": [
    "### 02-6 집합 자료형\n",
    "- 집합 자료형은 set 키워드를 사용해 만들 수 있다.\n",
    "- 특징 : 중복을 허용하지 않는다. 순서가 없다(Unordered).\n",
    "- 리스트나 튜플은 순서가 있기(ordered) 때문에 인덱싱을 통해 자료형의 값을 얻을 수 있지만 set은 순서가 없기(unordered) 때문에 인덱싱으로 값을 얻을 수 없다. 딕셔너리 역시 순서가 없는 자료형이라 인덱싱을 지원하지 않는다."
   ]
  },
  {
   "cell_type": "code",
   "execution_count": null,
   "metadata": {},
   "outputs": [],
   "source": [
    "s1 = set('Hello')\n",
    "s1 # {'H', 'e', 'l', 'o'} (중복 X)\n",
    "# s1[0] # Error : 'set' object does not support indexing\n",
    "sL = list(s1) # ['l', 'H', 'o', 'e']\n",
    "sT = tuple(s1) # ('l', 'H', 'o', 'e')\n",
    "\n",
    "s1 = set([1, 2, 3, 4, 5, 6])\n",
    "s2 = set([4, 5, 6, 7, 8, 9])\n",
    "s1 & s2 # {4, 5, 6}\n",
    "s1.intersection(s2) # {4, 5, 6}\n",
    "s1 | s2 # {1, 2, 3, 4, 5, 6, 7, 8, 9}\n",
    "s1.union(s2) # {1, 2, 3, 4, 5, 6, 7, 8, 9}\n",
    "s1 - s2 # {1, 2, 3}\n",
    "s1.difference(s2) # {1, 2, 3}\n",
    "\n",
    "s1 = set([1, 2, 3])\n",
    "s1.add(4) # {1, 2, 3, 4} (하나)\n",
    "s1.update([4, 5, 6]) # {1, 2, 3, 4, 5, 6} (여러개)\n",
    "s1.remove(2) # {1, 3, 4, 5, 6} (특정값 제거)"
   ]
  },
  {
   "cell_type": "markdown",
   "metadata": {},
   "source": [
    "## 02-7 불 자료형\n",
    "- 불(bool) 자료형이란 참(True)과 거짓(False)을 나타내는 자료형\n",
    "- bool 자료형은 다음 2가지 값만을 가질 수 있다. True, False.\n",
    "- 문자열, 리스트, 튜플, 딕셔너리 등의 값이 비어 있으면(\" \", [ ], ( ), { }) 거짓이 된다. 비어있지 않으면 참."
   ]
  },
  {
   "cell_type": "code",
   "execution_count": null,
   "metadata": {},
   "outputs": [],
   "source": [
    "a = True\n",
    "b = False\n",
    "type(a) # bool (자료형 확인)\n",
    "\n",
    "1 == 1 # True (\"1과 1이 같은가?\"를 묻는 조건문)\n",
    "2 > 1 # True\n",
    "\n",
    "if []: # 거짓\n",
    "    print(\"참\")\n",
    "else : \n",
    "    print(\"거짓\")\n",
    "\n",
    "a = [1, 2, 3, 4]\n",
    "while a:\n",
    "    print(a.pop()) # 4 3 2 1\n",
    "a # []\n",
    "\n",
    "bool('python') # True\n",
    "bool('') # False"
   ]
  },
  {
   "cell_type": "markdown",
   "metadata": {},
   "source": [
    "### 02-8 자료형의 값을 저장하는 공간, 변수\n",
    "- 다른 프로그래밍 언어인 C나 JAVA에서는 변수를 만들 때 자료형을 직접 지정해야 한다.\n",
    "- 하지만 파이썬은 변수에 저장된 값을 스스로 판단하여 자료형을 지정하기 때문에 더 편리하다.\n",
    "\n"
   ]
  },
  {
   "cell_type": "code",
   "execution_count": null,
   "metadata": {},
   "outputs": [],
   "source": [
    "a = [1, 2, 3] # list 자료형(객체)이 자동으로 메모리에 생성됨\n",
    "id(a) # a 변수가 가리키는 메모리의 주소\n",
    "\n",
    "a = [1, 2, 3]\n",
    "b = a # id(a) = id(b) (같은 id를 사용하므로, b의 변경에 a도 변경된다.)\n",
    "\n",
    "b = a[:] # id(a) =/ id(b) (다른 id)\n",
    "\n",
    "from copy import copy\n",
    "b = copy(a)"
   ]
  },
  {
   "cell_type": "markdown",
   "metadata": {},
   "source": [
    "## 02장 연습문제"
   ]
  },
  {
   "cell_type": "code",
   "execution_count": null,
   "metadata": {},
   "outputs": [],
   "source": [
    "# Q1\n",
    "grade = {'국어':80, '영어':75, '수학':55}\n",
    "GM = sum(grade.values())/len(grade.keys())\n",
    "print(GM)"
   ]
  },
  {
   "cell_type": "code",
   "execution_count": null,
   "metadata": {},
   "outputs": [],
   "source": [
    "# Q2\n",
    "if 13 % 2 == 1 :\n",
    "    print('odd')\n",
    "elif 13 % 2 == 2:\n",
    "    print('even')\n",
    "else :\n",
    "    print('Err')"
   ]
  },
  {
   "cell_type": "code",
   "execution_count": null,
   "metadata": {},
   "outputs": [],
   "source": [
    "# Q3\n",
    "num = \"881120-1068234\"\n",
    "ns = num.split(\"-\")\n",
    "print(ns[0], ns[1])"
   ]
  },
  {
   "cell_type": "code",
   "execution_count": null,
   "metadata": {},
   "outputs": [],
   "source": [
    "# Q4\n",
    "pin = \"881120-1068234\"\n",
    "\n",
    "if pin[7] is \"1\" :\n",
    "    print(\"Male\")\n",
    "elif pin[7] is \"2\" :\n",
    "    print(\"Female\")\n",
    "else :\n",
    "    print(\"Wrong pin\")"
   ]
  },
  {
   "cell_type": "code",
   "execution_count": null,
   "metadata": {},
   "outputs": [],
   "source": [
    "# Q5\n",
    "a = \"a:b:c:d\"\n",
    "print(a.replace(':', '#'))"
   ]
  },
  {
   "cell_type": "code",
   "execution_count": null,
   "metadata": {},
   "outputs": [],
   "source": [
    "# Q6\n",
    "a = [1, 3, 5, 4, 2]\n",
    "a.sort()\n",
    "a.reverse()\n",
    "print(a)\n",
    "\n"
   ]
  },
  {
   "cell_type": "code",
   "execution_count": null,
   "metadata": {},
   "outputs": [],
   "source": [
    "# Q7\n",
    "a = ['Life', 'is', 'too', 'short']\n",
    "print(\" \".join(a))"
   ]
  },
  {
   "cell_type": "code",
   "execution_count": null,
   "metadata": {},
   "outputs": [],
   "source": [
    "# Q8\n",
    "a = (1, 2, 3)\n",
    "b = (4,)\n",
    "print(a + b)\n"
   ]
  },
  {
   "cell_type": "code",
   "execution_count": null,
   "metadata": {},
   "outputs": [],
   "source": [
    "# Q9\n",
    "a = dict()\n",
    "a[[1]] = 'python' # key에 수정가능한 값은 들어갈 수 없다.\n",
    "a"
   ]
  },
  {
   "cell_type": "code",
   "execution_count": null,
   "metadata": {},
   "outputs": [],
   "source": [
    "# Q10\n",
    "a = {'A':90, 'B':80, 'C':70}\n",
    "a.pop('B')\n",
    "a"
   ]
  },
  {
   "cell_type": "code",
   "execution_count": null,
   "metadata": {},
   "outputs": [],
   "source": [
    "# Q11\n",
    "a = [1, 1, 1, 2, 2, 3, 3, 3, 4, 4, 5]\n",
    "b = set(a)\n",
    "print(list(b))"
   ]
  },
  {
   "cell_type": "code",
   "execution_count": null,
   "metadata": {},
   "outputs": [],
   "source": [
    "# Q12\n",
    "a = b = [1, 2, 3]\n",
    "a[1] = 4\n",
    "print(b)\n",
    "\n",
    "print(id(a))\n",
    "print(id(b))"
   ]
  }
 ],
 "metadata": {
  "interpreter": {
   "hash": "53e118947077c4ac14cd9b5bd8ffefe9287941f870ede6c6d93932b2f5dedd6a"
  },
  "kernelspec": {
   "display_name": "Python 3.7.0 64-bit ('test1': conda)",
   "language": "python",
   "name": "python3"
  },
  "language_info": {
   "codemirror_mode": {
    "name": "ipython",
    "version": 3
   },
   "file_extension": ".py",
   "mimetype": "text/x-python",
   "name": "python",
   "nbconvert_exporter": "python",
   "pygments_lexer": "ipython3",
   "version": "3.7.0"
  },
  "orig_nbformat": 4
 },
 "nbformat": 4,
 "nbformat_minor": 2
}
