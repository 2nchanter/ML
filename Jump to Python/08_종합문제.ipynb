{
 "cells": [
  {
   "cell_type": "code",
   "execution_count": 7,
   "metadata": {},
   "outputs": [
    {
     "data": {
      "text/plain": [
       "'a#b#c#d'"
      ]
     },
     "execution_count": 7,
     "metadata": {},
     "output_type": "execute_result"
    }
   ],
   "source": [
    "# Q1.\n",
    "a = 'a:b:c:d'\n",
    "b = a.split(':')\n",
    "c = '#'.join(b)\n",
    "c"
   ]
  },
  {
   "cell_type": "code",
   "execution_count": 11,
   "metadata": {},
   "outputs": [
    {
     "data": {
      "text/plain": [
       "70"
      ]
     },
     "execution_count": 11,
     "metadata": {},
     "output_type": "execute_result"
    }
   ],
   "source": [
    "# Q2.\n",
    "a = {'A':90, 'B':80}\n",
    "a.get('C', 70)"
   ]
  },
  {
   "cell_type": "code",
   "execution_count": 24,
   "metadata": {},
   "outputs": [
    {
     "name": "stdout",
     "output_type": "stream",
     "text": [
      "140328272475912\n",
      "140328803936712\n"
     ]
    }
   ],
   "source": [
    "# Q3.\n",
    "a = [1, 2, 3]\n",
    "print(id(a))\n",
    "a = a + [4,5]\n",
    "print(id(a))"
   ]
  },
  {
   "cell_type": "code",
   "execution_count": 25,
   "metadata": {},
   "outputs": [
    {
     "name": "stdout",
     "output_type": "stream",
     "text": [
      "140328803727176\n",
      "4312778648\n"
     ]
    }
   ],
   "source": [
    "a = [1, 2, 3]\n",
    "print(id(a))\n",
    "a = a.extend([4,5])\n",
    "print(id(a))"
   ]
  },
  {
   "cell_type": "code",
   "execution_count": 29,
   "metadata": {},
   "outputs": [
    {
     "name": "stdout",
     "output_type": "stream",
     "text": [
      "481\n"
     ]
    }
   ],
   "source": [
    "# Q4\n",
    "A = [20, 55, 67, 82, 45, 33, 90, 87, 100, 25]\n",
    "result = 0\n",
    "for grade in A:\n",
    "    if grade >= 50:\n",
    "        result += grade\n",
    "print(result)\n"
   ]
  },
  {
   "cell_type": "code",
   "execution_count": 30,
   "metadata": {},
   "outputs": [
    {
     "name": "stdout",
     "output_type": "stream",
     "text": [
      "481\n"
     ]
    }
   ],
   "source": [
    "A = [20, 55, 67, 82, 45, 33, 90, 87, 100, 25]\n",
    "result = 0\n",
    "while A:\n",
    "    mark = A.pop()\n",
    "    if mark >= 50:\n",
    "        result += mark\n",
    "print(result)"
   ]
  },
  {
   "cell_type": "code",
   "execution_count": 141,
   "metadata": {},
   "outputs": [
    {
     "name": "stdout",
     "output_type": "stream",
     "text": [
      "0 [0]\n",
      "1 [0, 1, 1]\n",
      "2 [0, 1, 1, 2]\n",
      "3 [0, 1, 1, 2, 3]\n",
      "4 [0, 1, 1, 2, 3]\n",
      "5 [0, 1, 1, 2, 3, 5]\n",
      "6 [0, 1, 1, 2, 3, 5]\n",
      "7 [0, 1, 1, 2, 3, 5]\n",
      "8 [0, 1, 1, 2, 3, 5, 8]\n",
      "9 [0, 1, 1, 2, 3, 5, 8]\n"
     ]
    }
   ],
   "source": [
    "# Q5 : 입력을 정수 n으로 받았을 때, n 이하까지의 피보나치 수열을 출력하는 함수를 작성해 보자.\n",
    "\n",
    "# n = int(input('정수 n :'))\n",
    "for n in range(10):\n",
    "    data = [0, 1]\n",
    "    i = 2\n",
    "    while n >= data[i-1]:\n",
    "        data.append(data[i-2] + data[i-1]) # data[2]\n",
    "        i += 1\n",
    "    print(n, data[:i-1])"
   ]
  },
  {
   "cell_type": "code",
   "execution_count": 158,
   "metadata": {},
   "outputs": [
    {
     "name": "stdout",
     "output_type": "stream",
     "text": [
      "10\n"
     ]
    }
   ],
   "source": [
    "# Q6\n",
    "a = input('숫자를 입력하세요 : ') # '65,45,2,3,45,8'\n",
    "b = a.split(',')\n",
    "result = 0\n",
    "for c in b:\n",
    "    result += int(c)\n",
    "print(result)"
   ]
  },
  {
   "cell_type": "code",
   "execution_count": 165,
   "metadata": {},
   "outputs": [
    {
     "name": "stdout",
     "output_type": "stream",
     "text": [
      "3 6 9 12 15 18 21 24 27 "
     ]
    }
   ],
   "source": [
    "# Q7\n",
    "a = input('구구단을 출력할 숫자를 입력하세요(2~9): ')\n",
    "\n",
    "for i in range(1, 10):\n",
    "    print(int(a)*i, end=' ')\n",
    "    "
   ]
  },
  {
   "cell_type": "code",
   "execution_count": 187,
   "metadata": {},
   "outputs": [],
   "source": [
    "# Q8\n",
    "with open('abc.txt', 'r') as f:\n",
    "    lines = f.readlines()\n",
    "    lines.reverse()\n",
    "with open('abc.txt','w') as f:\n",
    "    for line in lines:\n",
    "        line = line.strip()\n",
    "        f.write(line)\n",
    "        f.write('\\n')"
   ]
  },
  {
   "cell_type": "code",
   "execution_count": 192,
   "metadata": {},
   "outputs": [
    {
     "name": "stdout",
     "output_type": "stream",
     "text": [
      "['70\\n', '60\\n', '55\\n', '75\\n', '95\\n', '90\\n', '80\\n', '80\\n', '85\\n', '100']\n"
     ]
    }
   ],
   "source": [
    "# Q9\n",
    "with open('sample.txt','r') as f:\n",
    "    lines = f.readlines()\n",
    "    print(lines)\n",
    "with open('sample.txt', 'a') as f:\n",
    "    for line in lines:\n",
    "        result += int(line)\n",
    "    avg = result/len(lines)\n",
    "    f.write('\\n'+str(result))\n",
    "    f.write('\\n'+str(avg))\n"
   ]
  },
  {
   "cell_type": "code",
   "execution_count": 3,
   "metadata": {},
   "outputs": [
    {
     "data": {
      "text/plain": [
       "6"
      ]
     },
     "execution_count": 3,
     "metadata": {},
     "output_type": "execute_result"
    }
   ],
   "source": [
    "# Q10\n",
    "class Calculator():\n",
    "    def __init__(self, numberList):\n",
    "        self.numberList = numberList\n",
    "    \n",
    "    def sum(self):\n",
    "        result = 0\n",
    "        for num in self.numberList:\n",
    "            result += num\n",
    "        return result\n",
    "    \n",
    "    def avg(self):\n",
    "        total = self.sum()\n",
    "        return total / len(self.numberList)\n",
    "    \n",
    "cal1 = Calculator([1, 2, 3])\n",
    "cal1.sum()\n",
    "        "
   ]
  },
  {
   "cell_type": "code",
   "execution_count": null,
   "metadata": {},
   "outputs": [],
   "source": [
    "# Q11\n",
    "import sys\n"
   ]
  },
  {
   "cell_type": "code",
   "execution_count": null,
   "metadata": {},
   "outputs": [],
   "source": [
    "# Q20\n"
   ]
  },
  {
   "cell_type": "code",
   "execution_count": 2,
   "metadata": {},
   "outputs": [
    {
     "name": "stdout",
     "output_type": "stream",
     "text": [
      "a#b#c#d\n"
     ]
    }
   ],
   "source": [
    "# Q1\n",
    "a = 'a:b:c:d'\n",
    "b = a.replace(':', '#')\n",
    "print(b)\n"
   ]
  },
  {
   "cell_type": "code",
   "execution_count": 7,
   "metadata": {},
   "outputs": [
    {
     "name": "stdout",
     "output_type": "stream",
     "text": [
      "70\n"
     ]
    }
   ],
   "source": [
    "# Q2\n",
    "a = {'A':90, 'B':80}\n",
    "# print(a['C'], 70) \n",
    "print(a.get('C', 70))\n"
   ]
  },
  {
   "cell_type": "code",
   "execution_count": null,
   "metadata": {},
   "outputs": [],
   "source": [
    "# Q3"
   ]
  },
  {
   "cell_type": "code",
   "execution_count": 8,
   "metadata": {},
   "outputs": [
    {
     "name": "stdout",
     "output_type": "stream",
     "text": [
      "481\n"
     ]
    }
   ],
   "source": [
    "# Q4\n",
    "A = [20, 55, 67, 82, 45, 33, 90, 87, 100, 25]\n",
    "print(sum(list(filter(lambda x: x>=50, A))))"
   ]
  },
  {
   "cell_type": "code",
   "execution_count": 24,
   "metadata": {},
   "outputs": [
    {
     "name": "stdout",
     "output_type": "stream",
     "text": [
      "[0]\n",
      "[0, 1, 1]\n",
      "[0, 1, 1, 2]\n",
      "[0, 1, 1, 2, 3]\n",
      "[0, 1, 1, 2, 3]\n",
      "[0, 1, 1, 2, 3, 5]\n",
      "[0, 1, 1, 2, 3, 5]\n",
      "[0, 1, 1, 2, 3, 5]\n",
      "[0, 1, 1, 2, 3, 5, 8]\n",
      "[0, 1, 1, 2, 3, 5, 8]\n"
     ]
    }
   ],
   "source": [
    "# Q5\n",
    "# n = int(input('n :'))\n",
    "p = [0, 1]\n",
    "i = 1\n",
    "for n in range(10):\n",
    "    while p[i] <= n:\n",
    "        i += 1\n",
    "        a = p[i-2] + p[i-1]\n",
    "        p.append(a)\n",
    "    print(p[:-1])"
   ]
  },
  {
   "cell_type": "code",
   "execution_count": 4,
   "metadata": {},
   "outputs": [
    {
     "name": "stdout",
     "output_type": "stream",
     "text": [
      "6\n"
     ]
    }
   ],
   "source": [
    "# Q6\n",
    "num = input('num : ').split(',')\n",
    "S = 0\n",
    "for i in num:\n",
    "    S += int(i)\n",
    "print(S)"
   ]
  },
  {
   "cell_type": "code",
   "execution_count": 15,
   "metadata": {},
   "outputs": [
    {
     "name": "stdout",
     "output_type": "stream",
     "text": [
      "re\n",
      "2 4 6 8 10 12 14 16 18 "
     ]
    }
   ],
   "source": [
    "# Q7\n",
    "while True:\n",
    "    num = int(input('구구단을 출력할 숫자를 입력하세요(2~9): '))\n",
    "    if num in range(2, 10):\n",
    "        for i in range(1, 10): \n",
    "            print(num*i, end=' ')\n",
    "        break\n",
    "    else:\n",
    "        print('re')\n",
    "        continue"
   ]
  }
 ],
 "metadata": {
  "interpreter": {
   "hash": "53e118947077c4ac14cd9b5bd8ffefe9287941f870ede6c6d93932b2f5dedd6a"
  },
  "kernelspec": {
   "display_name": "Python 3.7.0 64-bit ('test1': conda)",
   "language": "python",
   "name": "python3"
  },
  "language_info": {
   "codemirror_mode": {
    "name": "ipython",
    "version": 3
   },
   "file_extension": ".py",
   "mimetype": "text/x-python",
   "name": "python",
   "nbconvert_exporter": "python",
   "pygments_lexer": "ipython3",
   "version": "3.7.0"
  },
  "orig_nbformat": 4
 },
 "nbformat": 4,
 "nbformat_minor": 2
}
