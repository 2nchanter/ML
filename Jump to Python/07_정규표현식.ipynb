{
 "cells": [
  {
   "cell_type": "markdown",
   "metadata": {},
   "source": [
    "### 07-1 정규 표현식 살펴보기"
   ]
  },
  {
   "cell_type": "code",
   "execution_count": 18,
   "metadata": {},
   "outputs": [
    {
     "name": "stdout",
     "output_type": "stream",
     "text": [
      "\n",
      "park 800905-******\n",
      "kim  700905-******\n",
      "\n"
     ]
    }
   ],
   "source": [
    "# 정규 표현식은 왜 필요한가?\n",
    "# Regular Expressions, 복잡한 문자열을 처리할 때 사용하는 기법\n",
    "data = \"\"\"\n",
    "park 800905-1049118\n",
    "kim  700905-1059119\n",
    "\"\"\"\n",
    "\n",
    "result = []\n",
    "for line in data.split(\"\\n\"):\n",
    "    word_result = []\n",
    "    for word in line.split(\" \"):\n",
    "        if len(word) == 14 and word[:6].isdigit and word[7:].isdigit():\n",
    "            word = word[:6] + \"-\" + \"*\"*6\n",
    "        word_result.append(word)\n",
    "    result.append(\" \".join(word_result))\n",
    "print(\"\\n\".join(result))"
   ]
  },
  {
   "cell_type": "code",
   "execution_count": 51,
   "metadata": {},
   "outputs": [
    {
     "name": "stdout",
     "output_type": "stream",
     "text": [
      "\n",
      "park 800905-*******\n",
      "kim  700905-*******\n",
      "\n"
     ]
    }
   ],
   "source": [
    "import re \n",
    "\n",
    "data = \"\"\"\n",
    "park 800905-1049118\n",
    "kim  700905-1059119\n",
    "\"\"\"\n",
    "\n",
    "pat = re.compile(\"(\\d{6})[-]\\d{7}\")\n",
    "print(pat.sub(\"\\g<1>-*******\", data))"
   ]
  },
  {
   "cell_type": "markdown",
   "metadata": {},
   "source": [
    "### 07-2 정규 표현식 시작하기"
   ]
  },
  {
   "cell_type": "code",
   "execution_count": null,
   "metadata": {},
   "outputs": [],
   "source": [
    "정규 표현식의 기초, 메타 문자(meta characters)"
   ]
  },
  {
   "cell_type": "code",
   "execution_count": null,
   "metadata": {},
   "outputs": [],
   "source": [
    "\n",
    "[ ], 문자 클래스(character class)\n",
    "\n",
    "[abc] <-> \"a\", \"before\", \"dude\"\n",
    "\"a\"는 정규식과 일치하는 문자인 \"a\"가 있으므로 매치\n",
    "\"before\"는 정규식과 일치하는 문자인 \"b\"가 있으므로 매치\n",
    "\"dude\"는 정규식과 일치하는 문자인 a, b, c 중 어느 하나도 포함하고 있지 않으므로 매치되지 않음\n",
    "\n",
    "[from-to]\n",
    "[a-zA-Z] : 알파벳 모두, [0-5] : [012345]\n",
    "\n",
    "^ : not\n",
    "[^abc] : abc 이외의 모든 것과 매치\n",
    "\n",
    "\\d - 숫자와 매치, [0-9]와 동일한 표현식이다.\n",
    "\\D - 숫자가 아닌 것과 매치, [^0-9]와 동일한 표현식이다.\n",
    "\\s - whitespace 문자와 매치, [ \\t\\n\\r\\f\\v]와 동일한 표현식이다. 맨 앞의 빈 칸은 공백문자(space)를 의미한다.\n",
    "\\S - whitespace 문자가 아닌 것과 매치, [^ \\t\\n\\r\\f\\v]와 동일한 표현식이다.\n",
    "\\w - 문자+숫자(alphanumeric)와 매치, [a-zA-Z0-9_]와 동일한 표현식이다.\n",
    "\\W - 문자+숫자(alphanumeric)가 아닌 문자와 매치, [^a-zA-Z0-9_]와 동일한 표현식이다.\n",
    "대문자로 사용된 것은 소문자의 반대임을 추측할 수 있다."
   ]
  },
  {
   "cell_type": "code",
   "execution_count": null,
   "metadata": {},
   "outputs": [],
   "source": [
    ". , Dot : 줄바꿈 문자인 \\n을 제외한 모든 문자와 매치\n",
    "\n",
    "a.b -> a + 모든문자 + b\n",
    "\n",
    "a.b <-> \"aab\", \"a0b\", \"abc\"\n",
    "\"aab\"는 가운데 문자 \"a\"가 모든 문자를 의미하는 .과 일치하므로 정규식과 매치된다.\n",
    "\"a0b\"는 가운데 문자 \"0\"가 모든 문자를 의미하는 .과 일치하므로 정규식과 매치된다.\n",
    "\"abc\"는 \"a\"문자와 \"b\"문자 사이에 어떤 문자라도 하나는있어야 하는 이 정규식과 일치하지 않으므로 매치되지 않는다.\n",
    "\n",
    "a[.]b -> a + Dot(.)문자 + b\n",
    "\"a.b\" 문자열과 매치, \"a0b\" 문자열과는 매치되지 않는다."
   ]
  },
  {
   "cell_type": "code",
   "execution_count": null,
   "metadata": {},
   "outputs": [],
   "source": [
    "반복 (*) : * 바로 앞에 있는 것이 0부터 무한대로 반복될 수 있다는 의미\n",
    "ca*t -> ct, cat, caaat (0번, 1번, 3번 반복되어서 매치)\n",
    "\n",
    "반복 (+) : * 바로 앞에 있는 것이 1부터 무한대로 반복될 수 있다는 의미\n",
    "ca+t -> ct(x), cat, caaat (0번은 매치 안됨, 1번, 3번 반복되어서 매치)"
   ]
  },
  {
   "cell_type": "code",
   "execution_count": null,
   "metadata": {},
   "outputs": [],
   "source": [
    "반복 ({m,n}, ?) : 반복 횟수 제한\n",
    "\n",
    "{3,} -> 반복 횟수 3 이상\n",
    "{,3} -> 반복 횟수 3 이하\n",
    "\n",
    "{1,} -> +\n",
    "{0,} -> *\n",
    "\n",
    "1. {m}\n",
    "ca{2}t = c + a(반드시 2번 반복) + t -> caat\n",
    "\n",
    "2. {m, n}\n",
    "ca{2,5}t = c + a(2~5회 반복) + t -> caat ~ caaaaat\n",
    "\n",
    "3. ? = {0, 1}\n",
    "ca?t = c + a(0~1회 반복) + t -> ct, cat"
   ]
  },
  {
   "cell_type": "code",
   "execution_count": null,
   "metadata": {},
   "outputs": [],
   "source": [
    "파이썬에서 정규 표현식을 지원하는 re 모듈"
   ]
  },
  {
   "cell_type": "code",
   "execution_count": null,
   "metadata": {},
   "outputs": [],
   "source": [
    "- 파이썬은 정규 표현식을 지원하기 위해 re(regular expression의 약어) 모듈을 제공한다.\n",
    "\n",
    "import re\n",
    "p = re.compile('ab*')\n",
    "\n",
    "re.compile을 사용하여 정규 표현식(위 예에서는 ab*)을 컴파일한다.\n",
    "re.compile의 결과로 돌려주는 객체 p(컴파일된 패턴 객체)를 사용하여 그 이후의 작업을 수행할 것이다."
   ]
  },
  {
   "cell_type": "code",
   "execution_count": null,
   "metadata": {},
   "outputs": [],
   "source": [
    "정규식을 이용한 문자열 검색\n",
    "\n",
    "이제 컴파일된 패턴 객체를 사용하여 문자열 검색을 수행해 보자. 컴파일된 패턴 객체는 다음과 같은 4가지 메서드를 제공한다.\n",
    "\n",
    "match()\t: 문자열의 처음부터 정규식과 매치되는지 조사한다.\n",
    "search() : 문자열 전체를 검색하여 정규식과 매치되는지 조사한다.\n",
    "findall() : 정규식과 매치되는 모든 문자열(substring)을 리스트로 돌려준다.\n",
    "finditer() : 정규식과 매치되는 모든 문자열(substring)을 반복 가능한 객체로 돌려준다."
   ]
  },
  {
   "cell_type": "code",
   "execution_count": 33,
   "metadata": {},
   "outputs": [
    {
     "name": "stdout",
     "output_type": "stream",
     "text": [
      "<re.Match object; span=(0, 6), match='python'>\n",
      "None\n"
     ]
    }
   ],
   "source": [
    "# match() : 문자열의 처음부터 정규식과 매치되는지 조사한다.\n",
    "import re\n",
    "p = re.compile('[a-z]+')\n",
    "m = p.match(\"python\")\n",
    "print(m)\n",
    "m = p.match(\"3 python\")\n",
    "print(m)"
   ]
  },
  {
   "cell_type": "code",
   "execution_count": null,
   "metadata": {},
   "outputs": [],
   "source": [
    "- match의 결과로 match 객체 또는 None을 돌려주기 때문에 파이썬 정규식 프로그램은 보통 다음과 같은 흐름으로 작성한다.\n",
    "\n",
    "p = re.compile(정규표현식)\n",
    "m = p.match( 'string goes here' )\n",
    "if m: # match의 결괏값이 있을 때만 그다음 작업을 수행하겠다는 것\n",
    "    print('Match found: ', m.group())\n",
    "else:\n",
    "    print('No match')"
   ]
  },
  {
   "cell_type": "code",
   "execution_count": 4,
   "metadata": {},
   "outputs": [
    {
     "name": "stdout",
     "output_type": "stream",
     "text": [
      "<re.Match object; span=(0, 6), match='python'>\n",
      "<re.Match object; span=(2, 8), match='python'>\n"
     ]
    }
   ],
   "source": [
    "# search() : 문자열 전체를 검색하여 정규식과 매치되는지 조사한다.\n",
    "import re\n",
    "p = re.compile('[a-z]+')\n",
    "m = p.search(\"python\")\n",
    "print(m)\n",
    "m = p.search(\"3 python\")\n",
    "print(m) # 전체를 검색하기 때문에 Match와 결과가 다르다."
   ]
  },
  {
   "cell_type": "code",
   "execution_count": 36,
   "metadata": {},
   "outputs": [
    {
     "name": "stdout",
     "output_type": "stream",
     "text": [
      "['life', 'is', 'too', 'short']\n"
     ]
    }
   ],
   "source": [
    "# findall() : 정규식과 매치되는 모든 문자열(substring)을 리스트로 돌려준다.\n",
    "import re\n",
    "p = re.compile('[a-z]+')\n",
    "result = p.findall(\"life is too short\")\n",
    "print(result)"
   ]
  },
  {
   "cell_type": "code",
   "execution_count": 38,
   "metadata": {},
   "outputs": [
    {
     "name": "stdout",
     "output_type": "stream",
     "text": [
      "<callable_iterator object at 0x7fa338ee1ac8>\n",
      "<re.Match object; span=(0, 4), match='life'>\n",
      "<re.Match object; span=(5, 7), match='is'>\n",
      "<re.Match object; span=(8, 11), match='too'>\n",
      "<re.Match object; span=(12, 17), match='short'>\n"
     ]
    }
   ],
   "source": [
    "# finditer() : 정규식과 매치되는 모든 문자열(substring)을 반복 가능한 객체로 돌려준다.\n",
    "import re\n",
    "p = re.compile('[a-z]+')\n",
    "result = p.finditer(\"life is too short\")\n",
    "print(result) # findall과 동일하지만 그 결과로 반복 가능한 match 객체(iterator object)를 돌려준다.\n",
    "for r in result:\n",
    "    print(r)"
   ]
  },
  {
   "cell_type": "code",
   "execution_count": null,
   "metadata": {},
   "outputs": [],
   "source": [
    "match 객체의 메서드\n",
    "\n",
    "- 어떤 문자열이 매치되었는가?\n",
    "- 매치된 문자열의 인덱스는 어디서부터 어디까지인가?\n",
    "\n",
    "group() : 매치된 문자열을 돌려준다.\n",
    "start() : 매치된 문자열의 시작 위치를 돌려준다.\n",
    "end() : 매치된 문자열의 끝 위치를 돌려준다.\n",
    "span() : 매치된 문자열의 (시작, 끝)에 해당하는 튜플을 돌려준다."
   ]
  },
  {
   "cell_type": "code",
   "execution_count": 40,
   "metadata": {},
   "outputs": [
    {
     "name": "stdout",
     "output_type": "stream",
     "text": [
      "python\n",
      "0\n",
      "6\n",
      "(0, 6)\n"
     ]
    }
   ],
   "source": [
    "import re\n",
    "# p = re.compile('[a-z]+')\n",
    "# m = p.match(\"python\")\n",
    "m = re.match('[a-z]+', \"python\") # 모듈 단위로 수행하기\n",
    "print(m.group())\n",
    "print(m.start()) # match 객체의 start()의 결괏값은 항상 0일 수밖에 없다.\n",
    "print(m.end())\n",
    "print(m.span())"
   ]
  },
  {
   "cell_type": "code",
   "execution_count": null,
   "metadata": {},
   "outputs": [],
   "source": [
    "컴파일 옵션\n",
    "\n",
    "정규식을 컴파일할 때 다음 옵션을 사용할 수 있다.\n",
    "\n",
    "DOTALL(S) : . 이 줄바꿈 문자를 포함하여 모든 문자와 매치할 수 있도록 한다.\n",
    "IGNORECASE(I) : 대소문자에 관계없이 매치할 수 있도록 한다.\n",
    "MULTILINE(M) : 여러줄과 매치할 수 있도록 한다. (^, $ 메타문자의 사용과 관계가 있는 옵션이다)\n",
    "VERBOSE(X) : verbose 모드를 사용할 수 있도록 한다. (정규식을 보기 편하게 만들수 있고 주석등을 사용할 수 있게된다.)"
   ]
  },
  {
   "cell_type": "code",
   "execution_count": 43,
   "metadata": {},
   "outputs": [
    {
     "name": "stdout",
     "output_type": "stream",
     "text": [
      "<re.Match object; span=(0, 3), match='a\\nb'>\n"
     ]
    }
   ],
   "source": [
    "# DOTALL, S : 여러 줄로 이루어진 문자열에서 \\n에 상관없이 검색할 때 많이 사용한다.\n",
    "\n",
    "import re\n",
    "# p = re.compile('a.b') # None\n",
    "p = re.compile('a.b', re.DOTALL)\n",
    "m = p.match('a\\nb')\n",
    "print(m)"
   ]
  },
  {
   "cell_type": "code",
   "execution_count": 46,
   "metadata": {},
   "outputs": [
    {
     "name": "stdout",
     "output_type": "stream",
     "text": [
      "<re.Match object; span=(0, 1), match='P'>\n",
      "<re.Match object; span=(0, 1), match='p'>\n"
     ]
    }
   ],
   "source": [
    "# IGNORECASE, I : [a-z] 정규식은 소문자만을 의미하지만 re.I 옵션으로 대소문자 구별 없이 매치된다.\n",
    "\n",
    "import re\n",
    "p = re.compile('[a-z]', re.I)\n",
    "print(p.match('Python'))\n",
    "print(p.match('python'))"
   ]
  },
  {
   "cell_type": "code",
   "execution_count": 81,
   "metadata": {},
   "outputs": [
    {
     "name": "stdout",
     "output_type": "stream",
     "text": [
      "['python one', 'python two', 'python three']\n"
     ]
    }
   ],
   "source": [
    "# MULTILINE, M : re.MULTILINE 옵션으로 인해 ^ 메타 문자가 문자열 전체가 아닌 각 줄의 처음이라는 의미를 갖게 되었다.\n",
    "# ^는 문자열의 처음을 의미하고, $는 문자열의 마지막을 의미\n",
    "\n",
    "import re\n",
    "# p = re.compile(\"^python\\s\\w+\") # python이라는 문자열로 시작하고 그 뒤에 whitespace, 그 뒤에 단어가 와야 한다는 의미\n",
    "p = re.compile(\"^python\\s\\w+\", re.MULTILINE) # ^ 메타 문자를 문자열 전체의 처음이 아니라 각 라인의 처음으로 인식시키고 싶은 경우\n",
    "\n",
    "data = \"\"\"python one\n",
    "life is too short\n",
    "python two\n",
    "you need python\n",
    "python three\"\"\"\n",
    "\n",
    "print(p.findall(data)) # ^ 메타 문자에 의해 python이라는 문자열을 사용한 첫 번째 줄만 매치된 것이다."
   ]
  },
  {
   "cell_type": "code",
   "execution_count": null,
   "metadata": {},
   "outputs": [],
   "source": [
    "# VERBOSE, X : 정규식을 주석 또는 줄 단위로 구분\n",
    "\n",
    "# charref = re.compile(r'&[#](0[0-7]+|[0-9]+|x[0-9a-fA-F]+);')\n",
    "\n",
    "charref = re.compile(r\"\"\"\n",
    " &[#]                # Start of a numeric entity reference\n",
    " (\n",
    "     0[0-7]+         # Octal form\n",
    "   | [0-9]+          # Decimal form\n",
    "   | x[0-9a-fA-F]+   # Hexadecimal form\n",
    " )\n",
    " ;                   # Trailing semicolon\n",
    "\"\"\", re.VERBOSE)"
   ]
  },
  {
   "cell_type": "code",
   "execution_count": null,
   "metadata": {},
   "outputs": [],
   "source": [
    "백슬래시 문제\n",
    "- 정규 표현식을 파이썬에서 사용할 때 혼란을 주는 요소\n",
    "\n",
    "\n",
    "\\section : 어떤 파일 안에 있는 \"\\section\" 문자열을 찾기 위한 정규식. 하지만 이 정규식은 \\s 문자가 whitespace로 해석되어 의도한 대로 매치가 이루어지지 않는다. = [ \\t\\n\\r\\f\\v]ection\n",
    "\\\\section -> p = re.compile('\\\\section') : 위처럼 정규식을 만들어서 컴파일하면 실제 파이썬 정규식 엔진에는 파이썬 문자열 리터럴 규칙에 따라 \\\\이 \\로 변경되어 \\section이 전달된다.\n",
    "=> p = re.compile('\\\\\\\\section')\n",
    "=> p = re.compile(r'\\\\section') : 위와 같이 정규식 문자열 앞에 r 문자를 삽입하면 이 정규식은 Raw String 규칙에 의하여 백슬래시 2개 대신 1개만 써도 2개를 쓴 것과 동일한 의미를 갖게 된다."
   ]
  },
  {
   "cell_type": "markdown",
   "metadata": {},
   "source": [
    "### 07-3 강력한 정규 표현식의 세계로"
   ]
  },
  {
   "cell_type": "code",
   "execution_count": 95,
   "metadata": {},
   "outputs": [
    {
     "name": "stdout",
     "output_type": "stream",
     "text": [
      "<re.Match object; span=(0, 4), match='Crow'>\n",
      "<re.Match object; span=(0, 4), match='Life'>\n",
      "None\n",
      "<re.Match object; span=(12, 17), match='short'>\n",
      "None\n",
      "<re.Match object; span=(3, 8), match='class'>\n",
      "None\n",
      "None\n",
      "None\n",
      "<re.Match object; span=(6, 11), match='class'>\n",
      "None\n"
     ]
    }
   ],
   "source": [
    "# 1. 메타문자\n",
    "\n",
    "# | : or\n",
    "p = re.compile('Crow|Servo')\n",
    "m = p.match('CrowHello')\n",
    "print(m) # 'Crow'\n",
    "\n",
    "# ^ : 문자열의 맨 처음과 매치\n",
    "print(re.search('^Life', 'Life is too short'))\n",
    "print(re.search('^Life', 'My Life'))\n",
    "\n",
    "# $ : 문자열의 끝과 매치함을 의미\n",
    "print(re.search('short$', 'Life is too short'))\n",
    "print(re.search('short$', 'Life is too short, you need python'))\n",
    "\n",
    "# \\A : 문자열의 맨 처음과 매치\n",
    "# re.MULTILINE 사용시, ^는 문장의 처음, \\A는 전체 문자열의 처음\n",
    "\n",
    "# \\Z : 문자열의 끝과 매치함을 의미\n",
    "# re.MULTILINE 사용시, $는 문장의 끝, \\A는 전체 문자열의 끝\n",
    "\n",
    "# \\b : word boundary, 보통 단어는 white space에 의해 구분된다.\n",
    "p = re.compile(r'\\bclass\\b') # \\bclass\\b 정규식은 앞뒤가 whitespace로 구분된 class라는 단어와 매치됨을 의미\n",
    "print(p.search('no class at all'))\n",
    "print(p.search('the declassified algorithm'))\n",
    "print(p.search('one subclass is'))\n",
    "\n",
    "# \\B : NOT word boundary, white space로 구분된 단어가 아닌 경우에만 매치\n",
    "p = re.compile(r'\\Bclass\\B')\n",
    "print(p.search('no class at all'))\n",
    "print(p.search('the declassified algorithm'))\n",
    "print(p.search('one subclass is'))\n"
   ]
  },
  {
   "cell_type": "code",
   "execution_count": 128,
   "metadata": {},
   "outputs": [
    {
     "name": "stdout",
     "output_type": "stream",
     "text": [
      "<re.Match object; span=(0, 9), match='ABCABCABC'>\n",
      "ABCABCABC\n",
      "010-1234-1234\n",
      "010\n",
      "park\n"
     ]
    },
    {
     "data": {
      "text/plain": [
       "'the the'"
      ]
     },
     "execution_count": 128,
     "metadata": {},
     "output_type": "execute_result"
    }
   ],
   "source": [
    "# 2. 그룹핑\n",
    "p = re.compile('(ABC)+')\n",
    "m = p.search('ABCABCABC OK?')\n",
    "print(m)\n",
    "print(m.group())\n",
    "\n",
    "p = re.compile(r\"(\\w+)\\s+((\\d+)[-]\\d+[-]\\d+)\")\n",
    "m = p.search(\"park 010-1234-1234\")\n",
    "print(m.group(2))\n",
    "print(m.group(3))\n",
    "\n",
    "# 재참조, Backreferences\n",
    "p = re.compile(r'(\\b\\w+)\\s+\\1') # \\1은 정규식의 그룹 중 첫 번째 그룹을 가리킨다.\n",
    "p.search('Paris in the the spring').group()\n",
    "\n",
    "# 그루핑된 문자열에 이름 붙이기 : (?P<그룹명>...)\n",
    "p = re.compile(r'(?P<name>\\w+)\\s+((\\d+)[-]\\d+[-]\\d)')\n",
    "m = p.search(\"park 010-1234-1234\")\n",
    "print(m.group(\"name\"))\n",
    "\n",
    "p = re.compile(r'(?P<word>\\b\\w+)\\s+(?P=word)')\n",
    "p.search('Paris in the the spring').group()"
   ]
  },
  {
   "cell_type": "code",
   "execution_count": 130,
   "metadata": {},
   "outputs": [
    {
     "name": "stdout",
     "output_type": "stream",
     "text": [
      "http:\n",
      "http\n"
     ]
    }
   ],
   "source": [
    "# 전방 탐색, Lookahead Assertions\n",
    "p = re.compile(\".+:\")\n",
    "m = p.search(\"http://google.com\")\n",
    "print(m.group())\n",
    "\n",
    "# 긍정형 전방 탐색((?=...)) - ... 에 해당되는 정규식과 매치되어야 하며 조건이 통과되어도 문자열이 소비되지 않는다. (검색에는 포함되지만 검색 결과에는 제외됨)\n",
    "p = re.compile(\".+(?=:)\")\n",
    "m = p.search(\"http://google.com\")\n",
    "print(m.group())\n",
    "\n",
    ".*[.].*$ # 파일 이름 + . + 확장자\n",
    ".*[.][^b].*$\n",
    ".*[.]([^b]..|.[^a].|..[^t])$\n",
    "\n",
    "# 부정형 전방 탐색((?!...)) - ...에 해당되는 정규식과 매치되지 않아야 하며 조건이 통과되어도 문자열이 소비되지 않는다.\n",
    ".*[.](?!bat$).*$ # 확장자가 bat가 아닌 경우에만 통과된다는 의미\n"
   ]
  },
  {
   "cell_type": "code",
   "execution_count": 138,
   "metadata": {},
   "outputs": [
    {
     "name": "stdout",
     "output_type": "stream",
     "text": [
      "010-1234-1234 park\n"
     ]
    }
   ],
   "source": [
    "# 문자열 바꾸기\n",
    "p = re.compile('(blue|white|red)')\n",
    "p.sub('colour', 'blue socks and red shoes') # 바꿀 문자열(replacement), 대상 문자열\n",
    "\n",
    "p = re.compile(r\"(?P<name>\\w+)\\s+(?P<phone>(\\d+)[-]\\d+[-]\\d+)\")\n",
    "print(p.sub(\"\\g<phone> \\g<name>\", \"park 010-1234-1234\"))"
   ]
  },
  {
   "cell_type": "code",
   "execution_count": null,
   "metadata": {},
   "outputs": [],
   "source": [
    "# Greedy vs Non-Greedy"
   ]
  }
 ],
 "metadata": {
  "interpreter": {
   "hash": "53e118947077c4ac14cd9b5bd8ffefe9287941f870ede6c6d93932b2f5dedd6a"
  },
  "kernelspec": {
   "display_name": "Python 3.7.0 64-bit ('test1': conda)",
   "language": "python",
   "name": "python3"
  },
  "language_info": {
   "codemirror_mode": {
    "name": "ipython",
    "version": 3
   },
   "file_extension": ".py",
   "mimetype": "text/x-python",
   "name": "python",
   "nbconvert_exporter": "python",
   "pygments_lexer": "ipython3",
   "version": "3.7.0"
  },
  "orig_nbformat": 4
 },
 "nbformat": 4,
 "nbformat_minor": 2
}
