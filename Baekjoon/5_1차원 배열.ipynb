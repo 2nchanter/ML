{
 "cells": [
  {
   "cell_type": "markdown",
   "metadata": {},
   "source": [
    "10818"
   ]
  },
  {
   "cell_type": "code",
   "execution_count": 4,
   "metadata": {},
   "outputs": [
    {
     "name": "stdout",
     "output_type": "stream",
     "text": [
      "7 35\n"
     ]
    }
   ],
   "source": [
    "l = input()\n",
    "a = list(map(int, input().split()))\n",
    "print(min(a), max(a))"
   ]
  },
  {
   "cell_type": "markdown",
   "metadata": {},
   "source": [
    "2562"
   ]
  },
  {
   "cell_type": "code",
   "execution_count": null,
   "metadata": {},
   "outputs": [],
   "source": [
    "a = list(map(int, input().split()))\n",
    "print(max(a), a.index(max(a))+1, sep='\\n')"
   ]
  },
  {
   "cell_type": "code",
   "execution_count": 23,
   "metadata": {},
   "outputs": [
    {
     "name": "stdout",
     "output_type": "stream",
     "text": [
      "85\n",
      "8\n"
     ]
    }
   ],
   "source": [
    "# A1\n",
    "num_list = []\n",
    "for _ in range(9):\n",
    "    num_list.append(int(input()))\n",
    "print(max(num_list))\n",
    "print(num_list.index(max(num_list))+1)"
   ]
  },
  {
   "cell_type": "code",
   "execution_count": null,
   "metadata": {},
   "outputs": [],
   "source": [
    "# A2\n",
    "x = [int(input()) for _ in range(9)]\n",
    "print(max(x), x.index(max(x))+1)"
   ]
  },
  {
   "cell_type": "markdown",
   "metadata": {},
   "source": [
    "2577"
   ]
  },
  {
   "cell_type": "code",
   "execution_count": 45,
   "metadata": {},
   "outputs": [
    {
     "name": "stdout",
     "output_type": "stream",
     "text": [
      "3\n",
      "1\n",
      "0\n",
      "2\n",
      "0\n",
      "0\n",
      "0\n",
      "2\n",
      "0\n",
      "0\n"
     ]
    }
   ],
   "source": [
    "A, B, C = (int(input()) for _ in range(3))\n",
    "mul = A*B*C\n",
    "for i in range(10):\n",
    "    print(str(mul).count(str(i)))"
   ]
  },
  {
   "cell_type": "code",
   "execution_count": 52,
   "metadata": {},
   "outputs": [
    {
     "name": "stdout",
     "output_type": "stream",
     "text": [
      "3\n",
      "1\n",
      "0\n",
      "2\n",
      "0\n",
      "0\n",
      "0\n",
      "2\n",
      "0\n",
      "0\n"
     ]
    }
   ],
   "source": [
    "# A1\n",
    "mul = str(eval('int(input())*'*3+'1'))\n",
    "for i in range(10):\n",
    "    print(mul.count(str(i)))"
   ]
  },
  {
   "cell_type": "markdown",
   "metadata": {},
   "source": [
    "3052"
   ]
  },
  {
   "cell_type": "code",
   "execution_count": 65,
   "metadata": {},
   "outputs": [
    {
     "name": "stdout",
     "output_type": "stream",
     "text": [
      "6\n"
     ]
    }
   ],
   "source": [
    "print(len(list(set([int(input())%42 for _ in range(10)]))))"
   ]
  },
  {
   "cell_type": "code",
   "execution_count": null,
   "metadata": {},
   "outputs": [],
   "source": [
    "# A1\n",
    "print(len(set(eval(\"int(input())%42,\"*10))))"
   ]
  },
  {
   "cell_type": "markdown",
   "metadata": {},
   "source": [
    "1546"
   ]
  },
  {
   "cell_type": "code",
   "execution_count": 89,
   "metadata": {},
   "outputs": [
    {
     "name": "stdout",
     "output_type": "stream",
     "text": [
      "75.0\n"
     ]
    }
   ],
   "source": [
    "n = int(input())\n",
    "# nl = [int(input()) for _ in range(n)]\n",
    "nl = list(map(int, input().split()))\n",
    "print(100*(sum(nl))/max(nl)/n)"
   ]
  },
  {
   "cell_type": "markdown",
   "metadata": {},
   "source": [
    "8958"
   ]
  },
  {
   "cell_type": "code",
   "execution_count": 14,
   "metadata": {},
   "outputs": [
    {
     "name": "stdout",
     "output_type": "stream",
     "text": [
      "10.0\n",
      "9.0\n",
      "7.0\n",
      "55.0\n",
      "30.0\n"
     ]
    }
   ],
   "source": [
    "n = int(input())\n",
    "for _ in range(n):\n",
    "    ox_l = input().split('X')\n",
    "    r = 0\n",
    "    for a in ox_l:\n",
    "        r += len(a)*(len(a)+1)/2\n",
    "    print(int(r))"
   ]
  },
  {
   "cell_type": "markdown",
   "metadata": {},
   "source": [
    "4344"
   ]
  },
  {
   "cell_type": "code",
   "execution_count": 62,
   "metadata": {},
   "outputs": [
    {
     "name": "stdout",
     "output_type": "stream",
     "text": [
      "40.000%\n",
      "57.143%\n",
      "33.333%\n",
      "66.667%\n",
      "55.556%\n"
     ]
    }
   ],
   "source": [
    "cases = int(input())\n",
    "for _ in range(cases):\n",
    "    case = list(map(int, input().split()))\n",
    "    AVG = sum(case[1:])/case[0]\n",
    "    over = list(filter(lambda x: x>AVG, case))\n",
    "    print(\"%.3f%%\" %(len(over)*100/len(case[1:])))"
   ]
  },
  {
   "cell_type": "code",
   "execution_count": 64,
   "metadata": {},
   "outputs": [
    {
     "name": "stdout",
     "output_type": "stream",
     "text": [
      "40.000%\n",
      "57.143%\n"
     ]
    }
   ],
   "source": [
    "# A1\n",
    "cases = int(input())\n",
    "for _ in range(cases):\n",
    "    case = list(map(int, input().split()))\n",
    "    AVG = sum(case[1:])/case[0]\n",
    "    cnt = 0\n",
    "    for a in case[1:]:\n",
    "        if a>AVG:\n",
    "            cnt += 1\n",
    "    rate = cnt/case[0]*100\n",
    "    print(f'{rate:.3f}%')\n",
    "    "
   ]
  }
 ],
 "metadata": {
  "interpreter": {
   "hash": "53e118947077c4ac14cd9b5bd8ffefe9287941f870ede6c6d93932b2f5dedd6a"
  },
  "kernelspec": {
   "display_name": "Python 3.7.0 64-bit ('test1': conda)",
   "language": "python",
   "name": "python3"
  },
  "language_info": {
   "codemirror_mode": {
    "name": "ipython",
    "version": 3
   },
   "file_extension": ".py",
   "mimetype": "text/x-python",
   "name": "python",
   "nbconvert_exporter": "python",
   "pygments_lexer": "ipython3",
   "version": "3.7.0"
  },
  "orig_nbformat": 4
 },
 "nbformat": 4,
 "nbformat_minor": 2
}
