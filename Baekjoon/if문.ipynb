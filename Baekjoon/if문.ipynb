{
 "cells": [
  {
   "cell_type": "markdown",
   "metadata": {},
   "source": [
    "1330"
   ]
  },
  {
   "cell_type": "code",
   "execution_count": 17,
   "metadata": {},
   "outputs": [
    {
     "name": "stdout",
     "output_type": "stream",
     "text": [
      "==\n"
     ]
    }
   ],
   "source": [
    "A, B = input().split()\n",
    "if int(A) > int(B):\n",
    "    print('>')\n",
    "elif int(A) == int(B):\n",
    "    print('==')\n",
    "else:\n",
    "    print('<')"
   ]
  },
  {
   "cell_type": "markdown",
   "metadata": {},
   "source": [
    "9498"
   ]
  },
  {
   "cell_type": "code",
   "execution_count": 2,
   "metadata": {},
   "outputs": [
    {
     "name": "stdout",
     "output_type": "stream",
     "text": [
      "A\n"
     ]
    }
   ],
   "source": [
    "grade = int(input())\n",
    "if grade >= 90 and grade <= 100:\n",
    "    print('A')\n",
    "elif grade >= 80 and grade <= 89:\n",
    "    print('B')\n",
    "elif grade >= 70 and grade <= 79:\n",
    "    print('C')\n",
    "elif grade >= 60 and grade <= 69:\n",
    "    print('D')\n",
    "elif grade >= 0 and grade <= 59:\n",
    "    print('F')\n",
    "else:\n",
    "    print('N/A')"
   ]
  },
  {
   "cell_type": "code",
   "execution_count": 17,
   "metadata": {},
   "outputs": [
    {
     "name": "stdout",
     "output_type": "stream",
     "text": [
      "re\n"
     ]
    }
   ],
   "source": [
    "# re\n",
    "grade = int(input())\n",
    "if grade > 100 or grade < 0:\n",
    "    print('re')\n",
    "elif grade >= 90:\n",
    "    print('A')\n",
    "elif grade >= 80:\n",
    "    print('B')\n",
    "elif grade >= 70:\n",
    "    print('C')\n",
    "elif grade >= 60:\n",
    "    print('D')\n",
    "else:\n",
    "    print('F')\n"
   ]
  },
  {
   "cell_type": "code",
   "execution_count": 4,
   "metadata": {},
   "outputs": [
    {
     "name": "stdout",
     "output_type": "stream",
     "text": [
      "D\n"
     ]
    }
   ],
   "source": [
    "# A1\n",
    "print('FFFFFFDCBAA'[int(input())//10])"
   ]
  },
  {
   "cell_type": "code",
   "execution_count": 10,
   "metadata": {},
   "outputs": [
    {
     "name": "stdout",
     "output_type": "stream",
     "text": [
      "A\n"
     ]
    }
   ],
   "source": [
    "# A2\n",
    "grade = int(input())\n",
    "print('re' if grade>100 or grade<0 else'A' if grade>=90 else'B' if grade>=80 else'C' if grade>=70 else'D' if grade>=60 else 'F')"
   ]
  },
  {
   "cell_type": "markdown",
   "metadata": {},
   "source": [
    "2753"
   ]
  },
  {
   "cell_type": "code",
   "execution_count": 40,
   "metadata": {},
   "outputs": [
    {
     "name": "stdout",
     "output_type": "stream",
     "text": [
      "1\n"
     ]
    }
   ],
   "source": [
    "year = int(input())\n",
    "if year % 4 == 0 and year % 100 != 0 or year % 400 == 0:\n",
    "    print(1)\n",
    "else:\n",
    "    print(0)"
   ]
  },
  {
   "cell_type": "code",
   "execution_count": 41,
   "metadata": {},
   "outputs": [
    {
     "name": "stdout",
     "output_type": "stream",
     "text": [
      "1\n"
     ]
    }
   ],
   "source": [
    "# A1\n",
    "a=int(input())\n",
    "print((a%4==0)*(a%100!=0 or a%400==0))"
   ]
  },
  {
   "cell_type": "markdown",
   "metadata": {},
   "source": [
    "14681"
   ]
  },
  {
   "cell_type": "code",
   "execution_count": 46,
   "metadata": {},
   "outputs": [
    {
     "name": "stdout",
     "output_type": "stream",
     "text": [
      "2\n"
     ]
    }
   ],
   "source": [
    "x, y = int(input()), int(input())\n",
    "if x > 0:\n",
    "    if y > 0:\n",
    "        print(1)\n",
    "    elif y < 0:\n",
    "        print(4)\n",
    "    else:\n",
    "        print('re')\n",
    "elif x < 0:\n",
    "    if y > 0:\n",
    "        print(2)\n",
    "    elif y < 0:\n",
    "        print(3)\n",
    "    else:\n",
    "        print('re')\n",
    "else:\n",
    "    print('re')"
   ]
  },
  {
   "cell_type": "code",
   "execution_count": null,
   "metadata": {},
   "outputs": [],
   "source": [
    "# A1\n",
    "print(\"3214\"[2*(int(input())>0)+(int(input())>0)])"
   ]
  },
  {
   "cell_type": "markdown",
   "metadata": {},
   "source": [
    "2884"
   ]
  },
  {
   "cell_type": "code",
   "execution_count": 82,
   "metadata": {},
   "outputs": [],
   "source": [
    "H, M = map(int,input().split())\n",
    "if M - 45 >= 0:\n",
    "    print(H, M - 45)\n",
    "elif M - 45 < 0:\n",
    "    if H - 1 < 0:\n",
    "        print(H + 24 - 1, M + 60 - 45)\n",
    "    else:\n",
    "        print(H - 1, M + 60 - 45)"
   ]
  },
  {
   "cell_type": "code",
   "execution_count": 87,
   "metadata": {},
   "outputs": [
    {
     "name": "stdout",
     "output_type": "stream",
     "text": [
      "23 20\n"
     ]
    }
   ],
   "source": [
    "\n",
    "# A1\n",
    "H, M = map(int,input().split())\n",
    "print((H-(M<45))%24, (M-45)%60)"
   ]
  }
 ],
 "metadata": {
  "interpreter": {
   "hash": "53e118947077c4ac14cd9b5bd8ffefe9287941f870ede6c6d93932b2f5dedd6a"
  },
  "kernelspec": {
   "display_name": "Python 3.7.0 64-bit ('test1': conda)",
   "language": "python",
   "name": "python3"
  },
  "language_info": {
   "codemirror_mode": {
    "name": "ipython",
    "version": 3
   },
   "file_extension": ".py",
   "mimetype": "text/x-python",
   "name": "python",
   "nbconvert_exporter": "python",
   "pygments_lexer": "ipython3",
   "version": "3.7.0"
  },
  "orig_nbformat": 4
 },
 "nbformat": 4,
 "nbformat_minor": 2
}
